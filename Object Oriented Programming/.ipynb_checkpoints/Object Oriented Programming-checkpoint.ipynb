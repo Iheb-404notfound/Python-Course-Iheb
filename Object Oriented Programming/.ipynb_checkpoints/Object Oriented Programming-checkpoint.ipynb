{
 "cells": [
  {
   "cell_type": "markdown",
   "id": "05857b34",
   "metadata": {},
   "source": [
    "<h3>Declaration</h3>"
   ]
  },
  {
   "cell_type": "code",
   "execution_count": 1,
   "id": "cf5af7b5",
   "metadata": {},
   "outputs": [],
   "source": [
    "class Creature:\n",
    "    pass"
   ]
  },
  {
   "cell_type": "markdown",
   "id": "32d489a0",
   "metadata": {},
   "source": [
    "<h3>Instance</h3>"
   ]
  },
  {
   "cell_type": "code",
   "execution_count": 2,
   "id": "7f0fc80b",
   "metadata": {
    "scrolled": true
   },
   "outputs": [
    {
     "name": "stdout",
     "output_type": "stream",
     "text": [
      "2000000\n"
     ]
    }
   ],
   "source": [
    "class Creature:\n",
    "    age=2_000_000\n",
    "\n",
    "human=Creature()\n",
    "print(human.age)"
   ]
  },
  {
   "cell_type": "markdown",
   "id": "cafc7338",
   "metadata": {},
   "source": [
    "<h3>object</h3>"
   ]
  },
  {
   "cell_type": "code",
   "execution_count": 3,
   "id": "55741795",
   "metadata": {
    "scrolled": true
   },
   "outputs": [
    {
     "name": "stdout",
     "output_type": "stream",
     "text": [
      "<object object at 0x000001B6E9A47AF0>\n"
     ]
    }
   ],
   "source": [
    "o = object()\n",
    "print(o)"
   ]
  },
  {
   "cell_type": "markdown",
   "id": "34400a58",
   "metadata": {},
   "source": [
    "<h3>self</h3>"
   ]
  },
  {
   "cell_type": "code",
   "execution_count": 4,
   "id": "c1b8aed5",
   "metadata": {
    "scrolled": false
   },
   "outputs": [
    {
     "name": "stdout",
     "output_type": "stream",
     "text": [
      "2000000\n"
     ]
    }
   ],
   "source": [
    "class Creature:\n",
    "    age=0\n",
    "    def print_age(self):\n",
    "        print(self.age)\n",
    "\n",
    "human = Creature()\n",
    "human.age=2_000_000\n",
    "human.print_age()"
   ]
  },
  {
   "cell_type": "markdown",
   "id": "68cec7b7",
   "metadata": {},
   "source": [
    "<h3>@property</h3>"
   ]
  },
  {
   "cell_type": "code",
   "execution_count": 5,
   "id": "b1f9edfe",
   "metadata": {
    "scrolled": true
   },
   "outputs": [
    {
     "name": "stdout",
     "output_type": "stream",
     "text": [
      "accessing age\n",
      "2000000\n"
     ]
    }
   ],
   "source": [
    "class Creature:\n",
    "    mage=2_000_000\n",
    "    \n",
    "    @property\n",
    "    def age(self):\n",
    "        print(\"accessing age\")\n",
    "        return self.mage\n",
    "\n",
    "human = Creature()\n",
    "print(human.age)"
   ]
  },
  {
   "cell_type": "markdown",
   "id": "6ea66830",
   "metadata": {},
   "source": [
    "<h3>@prop.setter</h3>"
   ]
  },
  {
   "cell_type": "code",
   "execution_count": 6,
   "id": "afad3b3c",
   "metadata": {
    "scrolled": false
   },
   "outputs": [
    {
     "name": "stdout",
     "output_type": "stream",
     "text": [
      "Renaming:\n",
      "accessing name\n",
      "Marceline\n"
     ]
    }
   ],
   "source": [
    "class Creature:\n",
    "    mname = str\n",
    "    \n",
    "    @property\n",
    "    def name(self):\n",
    "        print(\"accessing name\")\n",
    "        return self.mname\n",
    "    \n",
    "    @name.setter\n",
    "    def name(self,newName):\n",
    "        print(\"Renaming:\")\n",
    "        self.mname=newName\n",
    "    \n",
    "human = Creature()\n",
    "human.name = \"Marceline\"\n",
    "print(human.name)"
   ]
  },
  {
   "cell_type": "markdown",
   "id": "d330a6d9",
   "metadata": {},
   "source": [
    "<h3>@prop.getter</h3>"
   ]
  },
  {
   "cell_type": "code",
   "execution_count": 7,
   "id": "f20a079c",
   "metadata": {
    "scrolled": false
   },
   "outputs": [
    {
     "name": "stdout",
     "output_type": "stream",
     "text": [
      "accessing name:\n",
      "Marceline\n"
     ]
    }
   ],
   "source": [
    "class Creature:\n",
    "    mname = \"Marceline\"\n",
    "    \n",
    "    @property\n",
    "    def name(self):\n",
    "        return self.mname\n",
    "    \n",
    "    @name.getter\n",
    "    def name(self):\n",
    "        print(\"accessing name:\")\n",
    "        return self.mname\n",
    "    \n",
    "human = Creature()\n",
    "print(human.name)"
   ]
  },
  {
   "cell_type": "markdown",
   "id": "a04befd7",
   "metadata": {},
   "source": [
    "<h3>@prop.deleter</h3>"
   ]
  },
  {
   "cell_type": "code",
   "execution_count": 8,
   "id": "0e4aaecf",
   "metadata": {
    "scrolled": true
   },
   "outputs": [
    {
     "name": "stdout",
     "output_type": "stream",
     "text": [
      "Marceline\n",
      "deleting name:\n",
      "None\n"
     ]
    }
   ],
   "source": [
    "class Creature:\n",
    "    mname = \"Marceline\"\n",
    "    @property\n",
    "    def name(self):\n",
    "        return self.mname\n",
    "    \n",
    "    @name.deleter\n",
    "    def name(self):\n",
    "        print(\"deleting name:\")\n",
    "        self.mname = None\n",
    "    \n",
    "human = Creature()\n",
    "print(human.name)\n",
    "del human.name\n",
    "print(human.name)"
   ]
  },
  {
   "cell_type": "markdown",
   "id": "19e84e78",
   "metadata": {},
   "source": [
    "<h3>property</h3>"
   ]
  },
  {
   "cell_type": "code",
   "execution_count": 9,
   "id": "828ffee4",
   "metadata": {
    "scrolled": false
   },
   "outputs": [
    {
     "name": "stdout",
     "output_type": "stream",
     "text": [
      "setting name:\n",
      "getting name:\n",
      "Marceline\n",
      "deleting name:\n",
      "getting name:\n",
      "None\n"
     ]
    }
   ],
   "source": [
    "class Creature:\n",
    "    mname=\"\"\n",
    "    def get_name(self):\n",
    "        print(\"getting name:\")\n",
    "        return self.mname\n",
    "    \n",
    "    def set_name(self,other):\n",
    "        print(\"setting name:\")\n",
    "        self.mname = other\n",
    "    \n",
    "    def del_name(self):\n",
    "        print(\"deleting name:\")\n",
    "        self.mname = None\n",
    "    name = property(get_name,set_name,del_name)\n",
    "        \n",
    "    \n",
    "human = Creature()\n",
    "human.name = \"Marceline\"\n",
    "print(human.name)\n",
    "del human.name\n",
    "print(human.name)"
   ]
  },
  {
   "cell_type": "markdown",
   "id": "c808b461",
   "metadata": {},
   "source": [
    "<h3>Inheritance</h3>"
   ]
  },
  {
   "cell_type": "code",
   "execution_count": 10,
   "id": "fdffe5d8",
   "metadata": {
    "scrolled": false
   },
   "outputs": [
    {
     "name": "stdout",
     "output_type": "stream",
     "text": [
      "Mr Stieve White is 32 years old\n"
     ]
    }
   ],
   "source": [
    "class Creature:\n",
    "    age = 0\n",
    "class Human(Creature):\n",
    "    lastname = \"\"\n",
    "\n",
    "Stieve = Human()\n",
    "Stieve.age=32\n",
    "Stieve.lastname = \"White\"\n",
    "print(f\"Mr Stieve {Stieve.lastname} is {Stieve.age} years old\")"
   ]
  },
  {
   "cell_type": "markdown",
   "id": "b6eea21b",
   "metadata": {},
   "source": [
    "<h3>override</h3>"
   ]
  },
  {
   "cell_type": "code",
   "execution_count": 11,
   "id": "93c61b39",
   "metadata": {
    "scrolled": false
   },
   "outputs": [
    {
     "name": "stdout",
     "output_type": "stream",
     "text": [
      "This is a human\n"
     ]
    }
   ],
   "source": [
    "class Creature:\n",
    "    age = 0\n",
    "    def print_type(self):\n",
    "        print(\"This is generally a creature\")\n",
    "class Human(Creature):\n",
    "    lastname = \"\"\n",
    "\n",
    "    def print_type(self):\n",
    "        print(\"This is a human\")\n",
    "\n",
    "Stieve = Human()\n",
    "Stieve.print_type()"
   ]
  },
  {
   "cell_type": "markdown",
   "id": "6e33d941",
   "metadata": {},
   "source": [
    "<h3>super</h3>"
   ]
  },
  {
   "cell_type": "code",
   "execution_count": 12,
   "id": "76c27343",
   "metadata": {
    "scrolled": false
   },
   "outputs": [
    {
     "name": "stdout",
     "output_type": "stream",
     "text": [
      "This is generally a creature\n"
     ]
    }
   ],
   "source": [
    "class Creature:\n",
    "    age = 0\n",
    "    def print_type(self):\n",
    "        print(\"This is generally a creature\")\n",
    "class Human(Creature):\n",
    "    lastname = \"\"\n",
    "\n",
    "    def print_type(self):\n",
    "        super().print_type()\n",
    "\n",
    "\n",
    "Stieve = Human()\n",
    "Stieve.print_type()"
   ]
  },
  {
   "cell_type": "markdown",
   "id": "1c01693f",
   "metadata": {},
   "source": [
    "<h3>@staticmethod</h3>"
   ]
  },
  {
   "cell_type": "code",
   "execution_count": 13,
   "id": "1da34644",
   "metadata": {
    "scrolled": false
   },
   "outputs": [
    {
     "name": "stdout",
     "output_type": "stream",
     "text": [
      "This is generally a creature\n"
     ]
    }
   ],
   "source": [
    "class Creature:\n",
    "    age = 0\n",
    "    @staticmethod\n",
    "    def print_type():\n",
    "        print(\"This is generally a creature\")\n",
    "\n",
    "Creature.print_type()"
   ]
  },
  {
   "cell_type": "markdown",
   "id": "5993ddb0",
   "metadata": {},
   "source": [
    "<h3>setattr</h3>"
   ]
  },
  {
   "cell_type": "code",
   "execution_count": 14,
   "id": "a8d8032e",
   "metadata": {},
   "outputs": [
    {
     "name": "stdout",
     "output_type": "stream",
     "text": [
      "Mr Stieve White is 32 years old\n"
     ]
    }
   ],
   "source": [
    "class Human(Creature):\n",
    "    age = 0\n",
    "\n",
    "Stieve = Human()\n",
    "Stieve.age=32\n",
    "setattr(Stieve,\"lastname\",\"White\")\n",
    "Stieve.lastname = \"White\"\n",
    "print(f\"Mr Stieve {Stieve.lastname} is {Stieve.age} years old\")"
   ]
  },
  {
   "cell_type": "markdown",
   "id": "9ec6814a",
   "metadata": {},
   "source": [
    "<h3>__init__</h3>"
   ]
  },
  {
   "cell_type": "code",
   "execution_count": 15,
   "id": "f282a808",
   "metadata": {
    "scrolled": false
   },
   "outputs": [
    {
     "name": "stdout",
     "output_type": "stream",
     "text": [
      "2,000,000\n"
     ]
    }
   ],
   "source": [
    "class Creature:\n",
    "    age = 0\n",
    "    def __init__(self, age):\n",
    "        self.age=age\n",
    "        print(f\"{self.age:,}\")\n",
    "\n",
    "human = Creature(2_000_000)"
   ]
  },
  {
   "cell_type": "markdown",
   "id": "024d6a02",
   "metadata": {},
   "source": [
    "<h3>__gt__  &  __lt__</h3>"
   ]
  },
  {
   "cell_type": "markdown",
   "id": "6a2ba595",
   "metadata": {},
   "source": [
    "<p>a < b:&nbsp&nbsp__gt__<br>\n",
    "a <= b:&nbsp&nbsp __ge__<br>\n",
    "a > b:&nbsp&nbsp __lt__<br>\n",
    "a >= b:&nbsp&nbsp __le__</p>"
   ]
  },
  {
   "cell_type": "code",
   "execution_count": 16,
   "id": "32c8b156",
   "metadata": {
    "scrolled": true
   },
   "outputs": [
    {
     "name": "stdout",
     "output_type": "stream",
     "text": [
      "the oldest is 201,000,000 years old\n",
      "\n",
      "the youngest is 2,000,000 years old\n"
     ]
    }
   ],
   "source": [
    "class Creature:\n",
    "    age = 0\n",
    "    \n",
    "    def __init__(self, age):\n",
    "        self.age = age\n",
    "    \n",
    "    def __gt__(self,other):\n",
    "        return self.age>other.age\n",
    "    \n",
    "    def __lt__(self,other):\n",
    "        return self.age<other.age\n",
    "\n",
    "human , dinosaur = Creature(2_000_000), Creature(201_000_000)\n",
    "\n",
    "creatures = [human, dinosaur]\n",
    "\n",
    "#__gt__ (Greater than)\n",
    "oldest = max(creatures)\n",
    "print(f\"the oldest is {oldest.age:,} years old\\n\")\n",
    "\n",
    "#__lt__ (Less than)\n",
    "youngest = min(creatures)\n",
    "print(f\"the youngest is {youngest.age:,} years old\")"
   ]
  },
  {
   "cell_type": "markdown",
   "id": "e488c5aa",
   "metadata": {},
   "source": [
    "<h3>__len__</h3>"
   ]
  },
  {
   "cell_type": "code",
   "execution_count": 17,
   "id": "9d93342e",
   "metadata": {},
   "outputs": [
    {
     "name": "stdout",
     "output_type": "stream",
     "text": [
      "Selena is 49\n"
     ]
    }
   ],
   "source": [
    "class Human:\n",
    "    name = str\n",
    "    lastname = str\n",
    "    age = int\n",
    "    \n",
    "    def __init__(self,name,lastname,age):\n",
    "        self.name = name\n",
    "        self.lastname = lastname\n",
    "        self.age = age\n",
    "    \n",
    "    def __len__(self):\n",
    "        return self.age\n",
    "\n",
    "person = Human(\"Selena\",\"Soldatova\",49)\n",
    "print(f'Selena is {len(person)}')"
   ]
  },
  {
   "cell_type": "markdown",
   "id": "f8295fe1",
   "metadata": {},
   "source": [
    "<h3>__str__</h3>"
   ]
  },
  {
   "cell_type": "code",
   "execution_count": 18,
   "id": "b19bc3ab",
   "metadata": {
    "scrolled": true
   },
   "outputs": [
    {
     "name": "stdout",
     "output_type": "stream",
     "text": [
      "Selena Soldatova is 49 years old\n"
     ]
    }
   ],
   "source": [
    "class Human:\n",
    "    name = str\n",
    "    lastname = str\n",
    "    age = int\n",
    "    \n",
    "    def __init__(self,name,lastname,age):\n",
    "        self.name = name\n",
    "        self.lastname = lastname\n",
    "        self.age = age\n",
    "    \n",
    "    def __str__(self):\n",
    "        return f\"{self.name} {self.lastname} is {self.age} years old\"\n",
    "\n",
    "person = Human(\"Selena\",\"Soldatova\",49)\n",
    "print(str(person))"
   ]
  },
  {
   "cell_type": "markdown",
   "id": "dd27544e",
   "metadata": {},
   "source": [
    "<h3>__int__</h3>"
   ]
  },
  {
   "cell_type": "code",
   "execution_count": 19,
   "id": "52f7bafb",
   "metadata": {
    "scrolled": true
   },
   "outputs": [
    {
     "name": "stdout",
     "output_type": "stream",
     "text": [
      "Selena is 49\n"
     ]
    }
   ],
   "source": [
    "class Human:\n",
    "    name = str\n",
    "    lastname = str\n",
    "    age = int\n",
    "    def __init__(self,name,lastname,age):\n",
    "        self.name = name\n",
    "        self.lastname = lastname\n",
    "        self.age = age\n",
    "    \n",
    "    def __int__(self):\n",
    "        return self.age\n",
    "\n",
    "person = Human(\"Selena\",\"Soldatova\",49)\n",
    "print(f'Selena is {int(person)}')"
   ]
  },
  {
   "cell_type": "markdown",
   "id": "d7944a6c",
   "metadata": {},
   "source": [
    "<h3>__add__</h3>"
   ]
  },
  {
   "cell_type": "markdown",
   "id": "3db57e32",
   "metadata": {},
   "source": [
    "<p>\n",
    "    a + b:&nbsp&nbsp__add__ <br>\n",
    "    a - b:&nbsp&nbsp __sub__<br>\n",
    "    a * b:&nbsp&nbsp __mul__<br>\n",
    "    a / b:&nbsp&nbsp __truediv__<br>\n",
    "    a ** b:&nbsp&nbsp __pow__<br>\n",
    "    a // b:&nbsp&nbsp __floordiv__<br>\n",
    "    a % b:&nbsp&nbsp __mod__<br>\n",
    "</p>"
   ]
  },
  {
   "cell_type": "code",
   "execution_count": 20,
   "id": "0216925d",
   "metadata": {
    "scrolled": false
   },
   "outputs": [
    {
     "name": "stdout",
     "output_type": "stream",
     "text": [
      "HCl has 18 protons\n"
     ]
    }
   ],
   "source": [
    "class Chemical:\n",
    "    symbol = \"\"\n",
    "    protons = 0\n",
    "    \n",
    "    def __init__(self,symbol,protons):\n",
    "        self.symbol = symbol\n",
    "        self.protons = protons\n",
    "    \n",
    "    def __add__(self,other):\n",
    "        return Chemical(self.symbol + other.symbol, self.protons + other.protons)\n",
    "    \n",
    "    def __str__(self):\n",
    "        return f\"{self.symbol} has {self.protons} protons\"\n",
    "\n",
    "Hydrogen = Chemical(\"H\",1)\n",
    "Chlorine = Chemical(\"Cl\",17)\n",
    "\n",
    "HydrochloricAcid = Hydrogen + Chlorine\n",
    "\n",
    "print(str(HydrochloricAcid))"
   ]
  },
  {
   "cell_type": "markdown",
   "id": "7cfb2d35",
   "metadata": {},
   "source": [
    "<h3>repr</h3>"
   ]
  },
  {
   "cell_type": "code",
   "execution_count": 21,
   "id": "6851bcc7",
   "metadata": {},
   "outputs": [
    {
     "data": {
      "text/plain": [
       "'<__main__.Chemical object at 0x000001B6EAD9E5F0>'"
      ]
     },
     "execution_count": 21,
     "metadata": {},
     "output_type": "execute_result"
    }
   ],
   "source": [
    "repr(HydrochloricAcid)"
   ]
  },
  {
   "cell_type": "markdown",
   "id": "6932fcfe",
   "metadata": {},
   "source": [
    "<h3>__repr__</h3>"
   ]
  },
  {
   "cell_type": "code",
   "execution_count": 22,
   "id": "ab1b4bb6",
   "metadata": {},
   "outputs": [
    {
     "name": "stdout",
     "output_type": "stream",
     "text": [
      "H has 1 protons allocated to 0x1b6ead9feb0\n"
     ]
    }
   ],
   "source": [
    "class Chemical:\n",
    "    symbol = \"\"\n",
    "    protons = 0\n",
    "    \n",
    "    def __init__(self,symbol,protons):\n",
    "        self.symbol = symbol\n",
    "        self.protons = protons\n",
    "    \n",
    "    def __repr__(self):\n",
    "        return f\"{self.symbol} has {self.protons} protons allocated to {hex(id(self))}\"\n",
    "\n",
    "Hydrogen = Chemical(\"H\",1)\n",
    "print(repr(Hydrogen))"
   ]
  }
 ],
 "metadata": {
  "kernelspec": {
   "display_name": "Python 3 (ipykernel)",
   "language": "python",
   "name": "python3"
  },
  "language_info": {
   "codemirror_mode": {
    "name": "ipython",
    "version": 3
   },
   "file_extension": ".py",
   "mimetype": "text/x-python",
   "name": "python",
   "nbconvert_exporter": "python",
   "pygments_lexer": "ipython3",
   "version": "3.10.0"
  }
 },
 "nbformat": 4,
 "nbformat_minor": 5
}
