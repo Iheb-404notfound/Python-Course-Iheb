{
 "cells": [
  {
   "cell_type": "markdown",
   "id": "d33757a1",
   "metadata": {},
   "source": [
    "<center><h3>time"
   ]
  },
  {
   "cell_type": "code",
   "execution_count": 12,
   "id": "5f6c0b4f",
   "metadata": {
    "scrolled": true
   },
   "outputs": [],
   "source": [
    "import time"
   ]
  },
  {
   "cell_type": "markdown",
   "id": "052d0bb2",
   "metadata": {},
   "source": [
    "<h3>timezone"
   ]
  },
  {
   "cell_type": "code",
   "execution_count": 13,
   "id": "159f049c",
   "metadata": {
    "scrolled": true
   },
   "outputs": [
    {
     "name": "stdout",
     "output_type": "stream",
     "text": [
      "-3600\n"
     ]
    }
   ],
   "source": [
    "print(time.timezone)"
   ]
  },
  {
   "cell_type": "markdown",
   "id": "35668edd",
   "metadata": {},
   "source": [
    "<h3>tzname"
   ]
  },
  {
   "cell_type": "code",
   "execution_count": 53,
   "id": "5024e0c2",
   "metadata": {
    "scrolled": true
   },
   "outputs": [
    {
     "name": "stdout",
     "output_type": "stream",
     "text": [
      "('W. Central Africa Standard Time', 'W. Central Africa Summer Time')\n"
     ]
    }
   ],
   "source": [
    "print(time.tzname)"
   ]
  },
  {
   "cell_type": "markdown",
   "id": "b7364034",
   "metadata": {},
   "source": [
    "<h3>ctime"
   ]
  },
  {
   "cell_type": "code",
   "execution_count": 9,
   "id": "b578ed8b",
   "metadata": {
    "scrolled": false
   },
   "outputs": [
    {
     "name": "stdout",
     "output_type": "stream",
     "text": [
      "Wed Dec  8 19:00:39 2021\n"
     ]
    }
   ],
   "source": [
    "import time\n",
    "print(time.ctime())"
   ]
  },
  {
   "cell_type": "markdown",
   "id": "3db91d10",
   "metadata": {},
   "source": [
    "<h3>daylight"
   ]
  },
  {
   "cell_type": "code",
   "execution_count": 11,
   "id": "138dcf91",
   "metadata": {
    "scrolled": true
   },
   "outputs": [
    {
     "name": "stdout",
     "output_type": "stream",
     "text": [
      "0\n"
     ]
    }
   ],
   "source": [
    "print(time.daylight)"
   ]
  },
  {
   "cell_type": "markdown",
   "id": "2ca223a5",
   "metadata": {},
   "source": [
    "<h3>struct_time"
   ]
  },
  {
   "cell_type": "code",
   "execution_count": 36,
   "id": "5b6117b6",
   "metadata": {
    "scrolled": true
   },
   "outputs": [
    {
     "name": "stdout",
     "output_type": "stream",
     "text": [
      "Albert Einstein was born the 14th of the 3rd month of 1879\n"
     ]
    }
   ],
   "source": [
    "struct = time.struct_time((1879,3,14)+3*(0,0))\n",
    "print(f\"Albert Einstein was born the {struct.tm_mday}th of the {struct.tm_mon}rd month of {struct.tm_year}\")"
   ]
  },
  {
   "cell_type": "markdown",
   "id": "ec25984e",
   "metadata": {},
   "source": [
    "<h3>time"
   ]
  },
  {
   "cell_type": "code",
   "execution_count": 47,
   "id": "b47cb9ba",
   "metadata": {
    "scrolled": false
   },
   "outputs": [
    {
     "name": "stdout",
     "output_type": "stream",
     "text": [
      "1638988732.8535247\n"
     ]
    }
   ],
   "source": [
    "print(time.time())"
   ]
  },
  {
   "cell_type": "markdown",
   "id": "03890886",
   "metadata": {},
   "source": [
    "<h3>sleep"
   ]
  },
  {
   "cell_type": "code",
   "execution_count": 52,
   "id": "315b4a18",
   "metadata": {
    "scrolled": true
   },
   "outputs": [
    {
     "name": "stdout",
     "output_type": "stream",
     "text": [
      "Python slept for 1.0149705410003662 seconds\n"
     ]
    }
   ],
   "source": [
    "before = time.time()\n",
    "time.sleep(1)\n",
    "after = time.time()\n",
    "duration = after - before\n",
    "print(f\"Python slept for {duration} seconds\")"
   ]
  },
  {
   "cell_type": "markdown",
   "id": "d3bbefe4",
   "metadata": {},
   "source": [
    "<h3>Let's make it random"
   ]
  },
  {
   "cell_type": "code",
   "execution_count": 115,
   "id": "d594c12b",
   "metadata": {},
   "outputs": [
    {
     "name": "stdout",
     "output_type": "stream",
     "text": [
      "5\n"
     ]
    }
   ],
   "source": [
    "from math import sin\n",
    "\n",
    "def regulate(f):\n",
    "    def regulated(x,y):\n",
    "        return f(x,y) if (x<y) else f(y,x)\n",
    "    return regulated\n",
    "\n",
    "@regulate\n",
    "def randint(minimum, maximum,equality=1):\n",
    "    t = time.time()\n",
    "    result = abs( (maximum-minimum)*sin(t/equality) ) + minimum\n",
    "    return int(result)\n",
    "print(randint(7,5))"
   ]
  },
  {
   "cell_type": "markdown",
   "id": "02e26bbd",
   "metadata": {},
   "source": [
    "<center><h3>datetime"
   ]
  },
  {
   "cell_type": "code",
   "execution_count": 1,
   "id": "9c1d4ce3",
   "metadata": {},
   "outputs": [],
   "source": [
    "import datetime"
   ]
  },
  {
   "cell_type": "markdown",
   "id": "db6d9efe",
   "metadata": {},
   "source": [
    "<h3>date"
   ]
  },
  {
   "cell_type": "code",
   "execution_count": 36,
   "id": "4feced3e",
   "metadata": {},
   "outputs": [],
   "source": [
    "Stephen_Hawking = datetime.date(1942,1,8)"
   ]
  },
  {
   "cell_type": "markdown",
   "id": "0471bb29",
   "metadata": {},
   "source": [
    "<h3>date.today()"
   ]
  },
  {
   "cell_type": "code",
   "execution_count": 17,
   "id": "65a86e47",
   "metadata": {},
   "outputs": [
    {
     "data": {
      "text/plain": [
       "datetime.date(2021, 12, 9)"
      ]
     },
     "execution_count": 17,
     "metadata": {},
     "output_type": "execute_result"
    }
   ],
   "source": [
    "datetime.date.today()"
   ]
  },
  {
   "cell_type": "markdown",
   "id": "897187c9",
   "metadata": {},
   "source": [
    "<h3>datetime"
   ]
  },
  {
   "cell_type": "code",
   "execution_count": 34,
   "id": "8d4fe572",
   "metadata": {},
   "outputs": [
    {
     "data": {
      "text/plain": [
       "datetime.datetime(1896, 3, 1, 0, 0)"
      ]
     },
     "execution_count": 34,
     "metadata": {},
     "output_type": "execute_result"
    }
   ],
   "source": [
    "radioactive_discovery = datetime.datetime(1896,3,1)"
   ]
  },
  {
   "cell_type": "markdown",
   "id": "c72188ea",
   "metadata": {},
   "source": [
    "<h3>datetime.now()"
   ]
  },
  {
   "cell_type": "code",
   "execution_count": 19,
   "id": "558593d5",
   "metadata": {
    "scrolled": true
   },
   "outputs": [
    {
     "data": {
      "text/plain": [
       "datetime.datetime(2021, 12, 9, 14, 16, 46, 583840)"
      ]
     },
     "execution_count": 19,
     "metadata": {},
     "output_type": "execute_result"
    }
   ],
   "source": [
    "datetime.datetime.now()"
   ]
  },
  {
   "cell_type": "markdown",
   "id": "8b03f637",
   "metadata": {},
   "source": [
    "<h3>datetime.utcnow()"
   ]
  },
  {
   "cell_type": "code",
   "execution_count": 20,
   "id": "f6850bb6",
   "metadata": {},
   "outputs": [
    {
     "data": {
      "text/plain": [
       "datetime.datetime(2021, 12, 9, 13, 20, 19, 86279)"
      ]
     },
     "execution_count": 20,
     "metadata": {},
     "output_type": "execute_result"
    }
   ],
   "source": [
    "datetime.datetime.utcnow()"
   ]
  },
  {
   "cell_type": "code",
   "execution_count": null,
   "id": "1941b003",
   "metadata": {},
   "outputs": [],
   "source": []
  }
 ],
 "metadata": {
  "kernelspec": {
   "display_name": "Python 3 (ipykernel)",
   "language": "python",
   "name": "python3"
  },
  "language_info": {
   "codemirror_mode": {
    "name": "ipython",
    "version": 3
   },
   "file_extension": ".py",
   "mimetype": "text/x-python",
   "name": "python",
   "nbconvert_exporter": "python",
   "pygments_lexer": "ipython3",
   "version": "3.10.0"
  }
 },
 "nbformat": 4,
 "nbformat_minor": 5
}
