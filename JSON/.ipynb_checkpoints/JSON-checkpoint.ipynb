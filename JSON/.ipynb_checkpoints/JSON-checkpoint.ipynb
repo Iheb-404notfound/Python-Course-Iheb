{
 "cells": [
  {
   "cell_type": "markdown",
   "id": "967cf0c1",
   "metadata": {},
   "source": [
    "<h3>json"
   ]
  },
  {
   "cell_type": "code",
   "execution_count": 1,
   "id": "40e2ecfc",
   "metadata": {},
   "outputs": [],
   "source": [
    "import json"
   ]
  },
  {
   "cell_type": "markdown",
   "id": "f1be67b2",
   "metadata": {},
   "source": [
    "<h3>dumps"
   ]
  },
  {
   "cell_type": "code",
   "execution_count": 14,
   "id": "92f7d6d2",
   "metadata": {
    "scrolled": true
   },
   "outputs": [
    {
     "data": {
      "text/plain": [
       "'{\"name\": \"Iheb\", \"age\": 18, \"interests\": [\"physics in general\", \"nuclear physics\", \"quantum physics\", \"maths\", \"data science\", \"generally every science\"]}'"
      ]
     },
     "execution_count": 14,
     "metadata": {},
     "output_type": "execute_result"
    }
   ],
   "source": [
    "obj = dict(name=\"Iheb\",age=18,interests=[\"physics in general\",\"nuclear physics\",\"quantum physics\",\"maths\",\"data science\",\n",
    "                                         \"generally every science\"])\n",
    "json.dumps(obj)"
   ]
  },
  {
   "cell_type": "markdown",
   "id": "c3fc57e8",
   "metadata": {},
   "source": [
    "<h3>loads"
   ]
  },
  {
   "cell_type": "code",
   "execution_count": 13,
   "id": "fff327ff",
   "metadata": {
    "scrolled": false
   },
   "outputs": [
    {
     "name": "stdout",
     "output_type": "stream",
     "text": [
      "Alex\n"
     ]
    }
   ],
   "source": [
    "s = '{\"name\":\"Alex\",\"age\":42}'\n",
    "obj = json.loads(s)\n",
    "print(obj[\"name\"])"
   ]
  },
  {
   "cell_type": "markdown",
   "id": "be79bf28",
   "metadata": {},
   "source": [
    "<h3>dump"
   ]
  },
  {
   "cell_type": "code",
   "execution_count": 15,
   "id": "d7afd132",
   "metadata": {
    "scrolled": true
   },
   "outputs": [],
   "source": [
    "obj = dict(name=\"Iheb\",age=18,interests=[\"physics in general\",\"nuclear physics\",\"quantum physics\",\"maths\",\"data science\",\n",
    "                                         \"generally every science\"])\n",
    "with open(\"introduction.json\",\"w\") as f:\n",
    "    json.dump(obj,f)"
   ]
  },
  {
   "cell_type": "markdown",
   "id": "ad861b1b",
   "metadata": {},
   "source": [
    "<h3>load"
   ]
  },
  {
   "cell_type": "code",
   "execution_count": 56,
   "id": "b3580a95",
   "metadata": {
    "scrolled": false
   },
   "outputs": [
    {
     "name": "stdout",
     "output_type": "stream",
     "text": [
      "It started with Hominin ancestor to Chimpanzee and to a branch to Ardepithecus ramidus and to Paranthropus aethiopicus to Paranthropus robustus and to Paranthropus aethiopicus to Paranthropus boisei and to a branch to Australopithecus garhi and to a branch to Homo habilis and to a branch to Homo erectus and to a branch to Homo neanderthalensis and to a branch to Homo sapiens \n"
     ]
    }
   ],
   "source": [
    "p = \"\"\n",
    "def analyse(obj):\n",
    "    global p\n",
    "    if len(obj[\"children\"])!=0:\n",
    "        for c in obj[\"children\"]:\n",
    "            k = analyse(c)\n",
    "            if k is not None:\n",
    "                p+=\"to \"+obj[\"name\"]+\" to \"+k+(\" and \" if len(obj[\"children\"])>1 else \" \")\n",
    "    else:\n",
    "        return obj[\"name\"]\n",
    "    \n",
    "with open(\"evolution_tree.json\",\"r\") as f:\n",
    "    obj = json.load(f)\n",
    "    analyse(obj)\n",
    "    print(\"It started with\",p[3:-4])"
   ]
  }
 ],
 "metadata": {
  "kernelspec": {
   "display_name": "Python 3 (ipykernel)",
   "language": "python",
   "name": "python3"
  },
  "language_info": {
   "codemirror_mode": {
    "name": "ipython",
    "version": 3
   },
   "file_extension": ".py",
   "mimetype": "text/x-python",
   "name": "python",
   "nbconvert_exporter": "python",
   "pygments_lexer": "ipython3",
   "version": "3.10.0"
  }
 },
 "nbformat": 4,
 "nbformat_minor": 5
}
