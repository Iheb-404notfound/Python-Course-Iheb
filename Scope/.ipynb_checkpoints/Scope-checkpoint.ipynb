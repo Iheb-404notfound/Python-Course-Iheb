{
 "cells": [
  {
   "cell_type": "markdown",
   "id": "9e7a6d49",
   "metadata": {},
   "source": [
    "<h3>dir"
   ]
  },
  {
   "cell_type": "code",
   "execution_count": 1,
   "id": "c78e1615",
   "metadata": {
    "scrolled": true
   },
   "outputs": [
    {
     "name": "stdout",
     "output_type": "stream",
     "text": [
      "['In', 'Out', '_', '__', '___', '__builtin__', '__builtins__', '__doc__', '__loader__', '__name__', '__package__', '__spec__', '_dh', '_i', '_i1', '_ih', '_ii', '_iii', '_oh', 'exit', 'get_ipython', 'quit']\n"
     ]
    }
   ],
   "source": [
    "variables = dir()\n",
    "print(variables)"
   ]
  },
  {
   "cell_type": "code",
   "execution_count": 2,
   "id": "337bad6a",
   "metadata": {},
   "outputs": [
    {
     "name": "stdout",
     "output_type": "stream",
     "text": [
      "['x', 'y']\n"
     ]
    }
   ],
   "source": [
    "x = 1\n",
    "y = 2\n",
    "print(dir()[-2:])"
   ]
  },
  {
   "cell_type": "code",
   "execution_count": 3,
   "id": "5195211f",
   "metadata": {
    "scrolled": true
   },
   "outputs": [
    {
     "name": "stdout",
     "output_type": "stream",
     "text": [
      "['x', 'y']\n"
     ]
    }
   ],
   "source": [
    "x = 2\n",
    "def _(x):\n",
    "    y = x\n",
    "print(dir()[-2:])"
   ]
  },
  {
   "cell_type": "markdown",
   "id": "583c0df3",
   "metadata": {},
   "source": [
    "<h3>del"
   ]
  },
  {
   "cell_type": "code",
   "execution_count": 4,
   "id": "987a23ce",
   "metadata": {},
   "outputs": [
    {
     "name": "stdout",
     "output_type": "stream",
     "text": [
      "['In', 'Out', '_', '__', '___', '__builtin__', '__builtins__', '__doc__', '__loader__', '__name__', '__package__', '__spec__', '_dh', '_i', '_i1', '_i2', '_i3', '_i4', '_ih', '_ii', '_iii', '_oh', 'exit', 'get_ipython', 'k', 'quit', 'variables', 'x', 'y'] \n",
      "\n",
      "['In', 'Out', '_', '__', '___', '__builtin__', '__builtins__', '__doc__', '__loader__', '__name__', '__package__', '__spec__', '_dh', '_i', '_i1', '_i2', '_i3', '_i4', '_ih', '_ii', '_iii', '_oh', 'exit', 'get_ipython', 'quit', 'variables', 'x', 'y']\n"
     ]
    }
   ],
   "source": [
    "k = 19\n",
    "print(dir(),\"\\n\")\n",
    "del k\n",
    "print(dir())"
   ]
  },
  {
   "cell_type": "markdown",
   "id": "e3065cfc",
   "metadata": {},
   "source": [
    "<h3>vars"
   ]
  },
  {
   "cell_type": "code",
   "execution_count": 5,
   "id": "0dc77b36",
   "metadata": {
    "scrolled": false
   },
   "outputs": [
    {
     "name": "stdout",
     "output_type": "stream",
     "text": [
      "{'__name__': '__main__', '__doc__': 'Automatically created module for IPython interactive environment', '__package__': None, '__loader__': None, '__spec__': None, '__builtin__': <module 'builtins' (built-in)>, '__builtins__': <module 'builtins' (built-in)>, '_ih': ['', 'variables = dir()\\nprint(variables)', 'x = 1\\ny = 2\\nprint(dir()[-2:])', 'x = 2\\ndef _(x):\\n    y = x\\nprint(dir()[-2:])', 'k = 19\\nprint(dir(),\"\\\\n\")\\ndel k\\nprint(dir())', 'print(vars())'], '_oh': {}, '_dh': ['C:\\\\Users\\\\iheb4\\\\Desktop\\\\Python course\\\\Scope'], 'In': ['', 'variables = dir()\\nprint(variables)', 'x = 1\\ny = 2\\nprint(dir()[-2:])', 'x = 2\\ndef _(x):\\n    y = x\\nprint(dir()[-2:])', 'k = 19\\nprint(dir(),\"\\\\n\")\\ndel k\\nprint(dir())', 'print(vars())'], 'Out': {}, 'get_ipython': <bound method InteractiveShell.get_ipython of <ipykernel.zmqshell.ZMQInteractiveShell object at 0x00000164482A55A0>>, 'exit': <IPython.core.autocall.ZMQExitAutocall object at 0x00000164482A5E10>, 'quit': <IPython.core.autocall.ZMQExitAutocall object at 0x00000164482A5E10>, '_': <function _ at 0x0000016448281AB0>, '__': '', '___': '', '_i': 'k = 19\\nprint(dir(),\"\\\\n\")\\ndel k\\nprint(dir())', '_ii': 'x = 2\\ndef _(x):\\n    y = x\\nprint(dir()[-2:])', '_iii': 'x = 1\\ny = 2\\nprint(dir()[-2:])', '_i1': 'variables = dir()\\nprint(variables)', 'variables': ['In', 'Out', '_', '__', '___', '__builtin__', '__builtins__', '__doc__', '__loader__', '__name__', '__package__', '__spec__', '_dh', '_i', '_i1', '_ih', '_ii', '_iii', '_oh', 'exit', 'get_ipython', 'quit'], '_i2': 'x = 1\\ny = 2\\nprint(dir()[-2:])', 'x': 2, 'y': 2, '_i3': 'x = 2\\ndef _(x):\\n    y = x\\nprint(dir()[-2:])', '_i4': 'k = 19\\nprint(dir(),\"\\\\n\")\\ndel k\\nprint(dir())', '_i5': 'print(vars())'}\n"
     ]
    }
   ],
   "source": [
    "print(vars())"
   ]
  },
  {
   "cell_type": "markdown",
   "id": "964ea47e",
   "metadata": {},
   "source": [
    "<h3>global"
   ]
  },
  {
   "cell_type": "code",
   "execution_count": 6,
   "id": "5ca0cf21",
   "metadata": {
    "scrolled": false
   },
   "outputs": [
    {
     "name": "stdout",
     "output_type": "stream",
     "text": [
      "he was called Antionio Gramsci\n"
     ]
    }
   ],
   "source": [
    "x = \"Gramsci\"\n",
    "def Italiano():\n",
    "    global x\n",
    "    print(f\"he was called Antionio {x}\")\n",
    "\n",
    "Italiano()"
   ]
  },
  {
   "cell_type": "markdown",
   "id": "d9d16413",
   "metadata": {},
   "source": [
    "<h3>nonlocal"
   ]
  },
  {
   "cell_type": "code",
   "execution_count": 7,
   "id": "a370398b",
   "metadata": {
    "scrolled": false
   },
   "outputs": [
    {
     "name": "stdout",
     "output_type": "stream",
     "text": [
      "he was called Antionio Gramsci\n"
     ]
    }
   ],
   "source": [
    "def intro():\n",
    "    x = \"Gramsci\"\n",
    "    def say():\n",
    "        nonlocal x\n",
    "        print(f\"he was called Antionio {x}\")\n",
    "        \n",
    "    return say\n",
    "\n",
    "intro()()"
   ]
  },
  {
   "cell_type": "markdown",
   "id": "8d1a01fa",
   "metadata": {},
   "source": [
    "<h3>locals"
   ]
  },
  {
   "cell_type": "code",
   "execution_count": 8,
   "id": "b351b710",
   "metadata": {},
   "outputs": [
    {
     "name": "stdout",
     "output_type": "stream",
     "text": [
      "{'x': 1, 'z': 2}\n"
     ]
    }
   ],
   "source": [
    "y = 3\n",
    "def intro():\n",
    "    x = 1\n",
    "    z = 2\n",
    "    print(locals())\n",
    "intro()"
   ]
  },
  {
   "cell_type": "markdown",
   "id": "3eef06f9",
   "metadata": {},
   "source": [
    "<h3>globals"
   ]
  },
  {
   "cell_type": "code",
   "execution_count": 9,
   "id": "06764f8c",
   "metadata": {},
   "outputs": [
    {
     "name": "stdout",
     "output_type": "stream",
     "text": [
      "{'__name__': '__main__', '__doc__': 'Automatically created module for IPython interactive environment', '__package__': None, '__loader__': None, '__spec__': None, '__builtin__': <module 'builtins' (built-in)>, '__builtins__': <module 'builtins' (built-in)>, '_ih': ['', 'variables = dir()\\nprint(variables)', 'x = 1\\ny = 2\\nprint(dir()[-2:])', 'x = 2\\ndef _(x):\\n    y = x\\nprint(dir()[-2:])', 'k = 19\\nprint(dir(),\"\\\\n\")\\ndel k\\nprint(dir())', 'print(vars())', 'x = \"Gramsci\"\\ndef Italiano():\\n    global x\\n    print(f\"he was called Antionio {x}\")\\n\\nItaliano()', 'def intro():\\n    x = \"Gramsci\"\\n    def say():\\n        nonlocal x\\n        print(f\"he was called Antionio {x}\")\\n        \\n    return say\\n\\nintro()()', 'y = 3\\ndef intro():\\n    x = 1\\n    z = 2\\n    print(locals())\\nintro()', 'y = 3\\ndef intro():\\n    x = 1\\n    z = 2\\n    print(globals())\\nintro()'], '_oh': {}, '_dh': ['C:\\\\Users\\\\iheb4\\\\Desktop\\\\Python course\\\\Scope'], 'In': ['', 'variables = dir()\\nprint(variables)', 'x = 1\\ny = 2\\nprint(dir()[-2:])', 'x = 2\\ndef _(x):\\n    y = x\\nprint(dir()[-2:])', 'k = 19\\nprint(dir(),\"\\\\n\")\\ndel k\\nprint(dir())', 'print(vars())', 'x = \"Gramsci\"\\ndef Italiano():\\n    global x\\n    print(f\"he was called Antionio {x}\")\\n\\nItaliano()', 'def intro():\\n    x = \"Gramsci\"\\n    def say():\\n        nonlocal x\\n        print(f\"he was called Antionio {x}\")\\n        \\n    return say\\n\\nintro()()', 'y = 3\\ndef intro():\\n    x = 1\\n    z = 2\\n    print(locals())\\nintro()', 'y = 3\\ndef intro():\\n    x = 1\\n    z = 2\\n    print(globals())\\nintro()'], 'Out': {}, 'get_ipython': <bound method InteractiveShell.get_ipython of <ipykernel.zmqshell.ZMQInteractiveShell object at 0x00000164482A55A0>>, 'exit': <IPython.core.autocall.ZMQExitAutocall object at 0x00000164482A5E10>, 'quit': <IPython.core.autocall.ZMQExitAutocall object at 0x00000164482A5E10>, '_': <function _ at 0x0000016448281AB0>, '__': '', '___': '', '_i': 'y = 3\\ndef intro():\\n    x = 1\\n    z = 2\\n    print(locals())\\nintro()', '_ii': 'def intro():\\n    x = \"Gramsci\"\\n    def say():\\n        nonlocal x\\n        print(f\"he was called Antionio {x}\")\\n        \\n    return say\\n\\nintro()()', '_iii': 'x = \"Gramsci\"\\ndef Italiano():\\n    global x\\n    print(f\"he was called Antionio {x}\")\\n\\nItaliano()', '_i1': 'variables = dir()\\nprint(variables)', 'variables': ['In', 'Out', '_', '__', '___', '__builtin__', '__builtins__', '__doc__', '__loader__', '__name__', '__package__', '__spec__', '_dh', '_i', '_i1', '_ih', '_ii', '_iii', '_oh', 'exit', 'get_ipython', 'quit'], '_i2': 'x = 1\\ny = 2\\nprint(dir()[-2:])', 'x': 'Gramsci', 'y': 3, '_i3': 'x = 2\\ndef _(x):\\n    y = x\\nprint(dir()[-2:])', '_i4': 'k = 19\\nprint(dir(),\"\\\\n\")\\ndel k\\nprint(dir())', '_i5': 'print(vars())', '_i6': 'x = \"Gramsci\"\\ndef Italiano():\\n    global x\\n    print(f\"he was called Antionio {x}\")\\n\\nItaliano()', 'Italiano': <function Italiano at 0x0000016448370820>, '_i7': 'def intro():\\n    x = \"Gramsci\"\\n    def say():\\n        nonlocal x\\n        print(f\"he was called Antionio {x}\")\\n        \\n    return say\\n\\nintro()()', 'intro': <function intro at 0x0000016448371360>, '_i8': 'y = 3\\ndef intro():\\n    x = 1\\n    z = 2\\n    print(locals())\\nintro()', '_i9': 'y = 3\\ndef intro():\\n    x = 1\\n    z = 2\\n    print(globals())\\nintro()'}\n"
     ]
    }
   ],
   "source": [
    "y = 3\n",
    "def intro():\n",
    "    x = 1\n",
    "    z = 2\n",
    "    print(globals())\n",
    "intro()"
   ]
  },
  {
   "cell_type": "markdown",
   "id": "94891968",
   "metadata": {},
   "source": [
    "<h3>eval"
   ]
  },
  {
   "cell_type": "code",
   "execution_count": 10,
   "id": "d25b0f1f",
   "metadata": {
    "scrolled": false
   },
   "outputs": [
    {
     "data": {
      "text/plain": [
       "'Antionio Gramsci'"
      ]
     },
     "execution_count": 10,
     "metadata": {},
     "output_type": "execute_result"
    }
   ],
   "source": [
    "name = \"Antionio Gramsci\"\n",
    "intro = \"name\"\n",
    "eval(intro)"
   ]
  }
 ],
 "metadata": {
  "kernelspec": {
   "display_name": "Python 3 (ipykernel)",
   "language": "python",
   "name": "python3"
  },
  "language_info": {
   "codemirror_mode": {
    "name": "ipython",
    "version": 3
   },
   "file_extension": ".py",
   "mimetype": "text/x-python",
   "name": "python",
   "nbconvert_exporter": "python",
   "pygments_lexer": "ipython3",
   "version": "3.10.0"
  }
 },
 "nbformat": 4,
 "nbformat_minor": 5
}
