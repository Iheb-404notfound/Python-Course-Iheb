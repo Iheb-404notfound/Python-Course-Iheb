{
 "cells": [
  {
   "cell_type": "markdown",
   "id": "9e7a6d49",
   "metadata": {},
   "source": [
    "<h3>dir"
   ]
  },
  {
   "cell_type": "code",
   "execution_count": 1,
   "id": "c78e1615",
   "metadata": {
    "scrolled": true
   },
   "outputs": [
    {
     "name": "stdout",
     "output_type": "stream",
     "text": [
      "['In', 'Out', '_', '__', '___', '__builtin__', '__builtins__', '__doc__', '__loader__', '__name__', '__package__', '__spec__', '_dh', '_i', '_i1', '_ih', '_ii', '_iii', '_oh', 'exit', 'get_ipython', 'quit']\n"
     ]
    }
   ],
   "source": [
    "variables = dir()\n",
    "print(variables)"
   ]
  },
  {
   "cell_type": "markdown",
   "id": "e3065cfc",
   "metadata": {},
   "source": [
    "<h3>vars"
   ]
  },
  {
   "cell_type": "code",
   "execution_count": 2,
   "id": "0dc77b36",
   "metadata": {
    "scrolled": false
   },
   "outputs": [
    {
     "name": "stdout",
     "output_type": "stream",
     "text": [
      "{'__name__': '__main__', '__doc__': 'Automatically created module for IPython interactive environment', '__package__': None, '__loader__': None, '__spec__': None, '__builtin__': <module 'builtins' (built-in)>, '__builtins__': <module 'builtins' (built-in)>, '_ih': ['', 'variables = dir()\\nprint(variables)', 'print(vars())'], '_oh': {}, '_dh': ['C:\\\\Users\\\\iheb4\\\\Desktop\\\\Python course\\\\Scope'], 'In': ['', 'variables = dir()\\nprint(variables)', 'print(vars())'], 'Out': {}, 'get_ipython': <bound method InteractiveShell.get_ipython of <ipykernel.zmqshell.ZMQInteractiveShell object at 0x000001D976B45450>>, 'exit': <IPython.core.autocall.ZMQExitAutocall object at 0x000001D976B45CF0>, 'quit': <IPython.core.autocall.ZMQExitAutocall object at 0x000001D976B45CF0>, '_': '', '__': '', '___': '', '_i': 'variables = dir()\\nprint(variables)', '_ii': '', '_iii': '', '_i1': 'variables = dir()\\nprint(variables)', 'variables': ['In', 'Out', '_', '__', '___', '__builtin__', '__builtins__', '__doc__', '__loader__', '__name__', '__package__', '__spec__', '_dh', '_i', '_i1', '_ih', '_ii', '_iii', '_oh', 'exit', 'get_ipython', 'quit'], '_i2': 'print(vars())'}\n"
     ]
    }
   ],
   "source": [
    "print(vars())"
   ]
  },
  {
   "cell_type": "code",
   "execution_count": 3,
   "id": "337bad6a",
   "metadata": {},
   "outputs": [
    {
     "name": "stdout",
     "output_type": "stream",
     "text": [
      "['x', 'y']\n"
     ]
    }
   ],
   "source": [
    "x = 1\n",
    "y = 2\n",
    "print(dir()[-2:])"
   ]
  },
  {
   "cell_type": "code",
   "execution_count": 4,
   "id": "5195211f",
   "metadata": {
    "scrolled": true
   },
   "outputs": [
    {
     "name": "stdout",
     "output_type": "stream",
     "text": [
      "['x', 'y']\n"
     ]
    }
   ],
   "source": [
    "x = 2\n",
    "def _(x):\n",
    "    y = x\n",
    "print(dir()[-2:])"
   ]
  },
  {
   "cell_type": "markdown",
   "id": "964ea47e",
   "metadata": {},
   "source": [
    "<h3>global"
   ]
  },
  {
   "cell_type": "code",
   "execution_count": 6,
   "id": "5ca0cf21",
   "metadata": {
    "scrolled": false
   },
   "outputs": [
    {
     "name": "stdout",
     "output_type": "stream",
     "text": [
      "he was called Antionio Gramschi\n"
     ]
    }
   ],
   "source": [
    "x = \"Gramschi\"\n",
    "def Italiano():\n",
    "    global x\n",
    "    print(f\"he was called Antionio {x}\")\n",
    "\n",
    "Italiano()"
   ]
  },
  {
   "cell_type": "markdown",
   "id": "d9d16413",
   "metadata": {},
   "source": [
    "<h3>nonlocal"
   ]
  },
  {
   "cell_type": "code",
   "execution_count": 12,
   "id": "a370398b",
   "metadata": {
    "scrolled": false
   },
   "outputs": [
    {
     "name": "stdout",
     "output_type": "stream",
     "text": [
      "he was called Antionio Gramschi\n"
     ]
    }
   ],
   "source": [
    "def intro():\n",
    "    x = \"Gramschi\"\n",
    "    def say():\n",
    "        nonlocal x\n",
    "        print(f\"he was called Antionio {x}\")\n",
    "        \n",
    "    return say\n",
    "\n",
    "intro()()"
   ]
  },
  {
   "cell_type": "code",
   "execution_count": null,
   "id": "4344032e",
   "metadata": {},
   "outputs": [],
   "source": []
  }
 ],
 "metadata": {
  "kernelspec": {
   "display_name": "Python 3 (ipykernel)",
   "language": "python",
   "name": "python3"
  },
  "language_info": {
   "codemirror_mode": {
    "name": "ipython",
    "version": 3
   },
   "file_extension": ".py",
   "mimetype": "text/x-python",
   "name": "python",
   "nbconvert_exporter": "python",
   "pygments_lexer": "ipython3",
   "version": "3.10.0"
  }
 },
 "nbformat": 4,
 "nbformat_minor": 5
}
