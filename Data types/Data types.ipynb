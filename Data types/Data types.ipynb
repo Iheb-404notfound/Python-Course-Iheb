{
 "cells": [
  {
   "cell_type": "markdown",
   "id": "47320c84",
   "metadata": {},
   "source": [
    "<h3>Write your first code!</h3>"
   ]
  },
  {
   "cell_type": "code",
   "execution_count": 19,
   "id": "bb3fe339",
   "metadata": {
    "scrolled": true
   },
   "outputs": [
    {
     "name": "stdout",
     "output_type": "stream",
     "text": [
      "hello world!\n"
     ]
    }
   ],
   "source": [
    "print(\"hello world!\")"
   ]
  },
  {
   "cell_type": "code",
   "execution_count": 23,
   "id": "45cf1475",
   "metadata": {
    "scrolled": false
   },
   "outputs": [
    {
     "name": "stdout",
     "output_type": "stream",
     "text": [
      "hello world!\n"
     ]
    }
   ],
   "source": [
    "print(\"hello\",\"world!\")"
   ]
  },
  {
   "cell_type": "markdown",
   "id": "92755234",
   "metadata": {},
   "source": [
    "<h3>str</h3>"
   ]
  },
  {
   "cell_type": "code",
   "execution_count": 27,
   "id": "fd4dc3ca",
   "metadata": {},
   "outputs": [
    {
     "name": "stdout",
     "output_type": "stream",
     "text": [
      "this is a string\n"
     ]
    }
   ],
   "source": [
    "string = \"this is a string\"\n",
    "print(string)"
   ]
  },
  {
   "cell_type": "markdown",
   "id": "367ad773",
   "metadata": {},
   "source": [
    "<h3>f str</h3>"
   ]
  },
  {
   "cell_type": "code",
   "execution_count": 4,
   "id": "d49bba31",
   "metadata": {
    "scrolled": false
   },
   "outputs": [
    {
     "name": "stdout",
     "output_type": "stream",
     "text": [
      "this is an f string \n",
      " new line\n"
     ]
    }
   ],
   "source": [
    "fstring = f\"this is an f string \\n new line\"\n",
    "print(fstring)"
   ]
  },
  {
   "cell_type": "markdown",
   "id": "6748a03d",
   "metadata": {},
   "source": [
    "<h3>r str</h3>"
   ]
  },
  {
   "cell_type": "code",
   "execution_count": 6,
   "id": "a3ec3942",
   "metadata": {
    "scrolled": false
   },
   "outputs": [
    {
     "name": "stdout",
     "output_type": "stream",
     "text": [
      "this is an r string \\n not new line\n"
     ]
    }
   ],
   "source": [
    "rstring = r\"this is an r string \\n not new line\"\n",
    "print(rstring)"
   ]
  },
  {
   "cell_type": "markdown",
   "id": "7a9602ad",
   "metadata": {},
   "source": [
    "<h3>byte</h3>"
   ]
  },
  {
   "cell_type": "code",
   "execution_count": 44,
   "id": "54694ed9",
   "metadata": {
    "scrolled": true
   },
   "outputs": [
    {
     "name": "stdout",
     "output_type": "stream",
     "text": [
      "b'A'\n"
     ]
    }
   ],
   "source": [
    "byte = b\"\\x41\"\n",
    "print(byte)"
   ]
  },
  {
   "cell_type": "markdown",
   "id": "11cd82ab",
   "metadata": {},
   "source": [
    "<h3>int</h3>"
   ]
  },
  {
   "cell_type": "code",
   "execution_count": 14,
   "id": "d438d68a",
   "metadata": {
    "scrolled": false
   },
   "outputs": [
    {
     "name": "stdout",
     "output_type": "stream",
     "text": [
      "1\n"
     ]
    }
   ],
   "source": [
    "n = 1\n",
    "print(n)"
   ]
  },
  {
   "cell_type": "markdown",
   "id": "b90f3349",
   "metadata": {},
   "source": [
    "<h3>float</h3>"
   ]
  },
  {
   "cell_type": "code",
   "execution_count": 31,
   "id": "6130f9e8",
   "metadata": {
    "scrolled": true
   },
   "outputs": [
    {
     "name": "stdout",
     "output_type": "stream",
     "text": [
      "1.61803399\n"
     ]
    }
   ],
   "source": [
    "x = 1.61803399\n",
    "print(x)"
   ]
  },
  {
   "cell_type": "markdown",
   "id": "9f981ca4",
   "metadata": {},
   "source": [
    "<h3>complex</h3>"
   ]
  },
  {
   "cell_type": "code",
   "execution_count": 3,
   "id": "50266966",
   "metadata": {
    "scrolled": false
   },
   "outputs": [
    {
     "name": "stdout",
     "output_type": "stream",
     "text": [
      "(1-2j)\n",
      "(1+2j)\n",
      "1.0\n",
      "-2.0\n"
     ]
    }
   ],
   "source": [
    "z = 1-2j\n",
    "print(z)\n",
    "print(z.conjugate())\n",
    "\n",
    "print(z.real)\n",
    "print(z.imag)"
   ]
  },
  {
   "cell_type": "markdown",
   "id": "cd868cf1",
   "metadata": {},
   "source": [
    "<h2>Operations</h2>"
   ]
  },
  {
   "cell_type": "markdown",
   "id": "fdd6cbba",
   "metadata": {},
   "source": [
    "<h3>+</h3>"
   ]
  },
  {
   "cell_type": "code",
   "execution_count": 57,
   "id": "defb0606",
   "metadata": {
    "scrolled": false
   },
   "outputs": [
    {
     "name": "stdout",
     "output_type": "stream",
     "text": [
      "29\n"
     ]
    }
   ],
   "source": [
    "x = 22\n",
    "y = 7\n",
    "\n",
    "add = x + y\n",
    "print(add)"
   ]
  },
  {
   "cell_type": "markdown",
   "id": "9a6407c2",
   "metadata": {},
   "source": [
    "<h3>-</h3>"
   ]
  },
  {
   "cell_type": "code",
   "execution_count": 58,
   "id": "b4fdee55",
   "metadata": {
    "scrolled": false
   },
   "outputs": [
    {
     "name": "stdout",
     "output_type": "stream",
     "text": [
      "15\n"
     ]
    }
   ],
   "source": [
    "x = 22\n",
    "y = 7\n",
    "\n",
    "sub = x - y\n",
    "print(sub)"
   ]
  },
  {
   "cell_type": "markdown",
   "id": "e6815412",
   "metadata": {},
   "source": [
    "<h3>*</h3>"
   ]
  },
  {
   "cell_type": "code",
   "execution_count": 59,
   "id": "6a0c47ff",
   "metadata": {
    "scrolled": false
   },
   "outputs": [
    {
     "name": "stdout",
     "output_type": "stream",
     "text": [
      "154\n"
     ]
    }
   ],
   "source": [
    "x = 22\n",
    "y = 7\n",
    "\n",
    "mul = x * y\n",
    "print(mul)"
   ]
  },
  {
   "cell_type": "markdown",
   "id": "63982f27",
   "metadata": {},
   "source": [
    "<h3>/</h3>"
   ]
  },
  {
   "cell_type": "code",
   "execution_count": 60,
   "id": "f56a3298",
   "metadata": {
    "scrolled": false
   },
   "outputs": [
    {
     "name": "stdout",
     "output_type": "stream",
     "text": [
      "3.142857142857143\n"
     ]
    }
   ],
   "source": [
    "x = 22\n",
    "y = 7\n",
    "\n",
    "div = x / y\n",
    "print(div)"
   ]
  },
  {
   "cell_type": "markdown",
   "id": "6cf6b536",
   "metadata": {},
   "source": [
    "<h3>**</h3>"
   ]
  },
  {
   "cell_type": "code",
   "execution_count": 61,
   "id": "c73642c1",
   "metadata": {
    "scrolled": false
   },
   "outputs": [
    {
     "name": "stdout",
     "output_type": "stream",
     "text": [
      "2494357888\n"
     ]
    }
   ],
   "source": [
    "x = 22\n",
    "y = 7\n",
    "\n",
    "exp = x ** y\n",
    "print(exp)"
   ]
  },
  {
   "cell_type": "markdown",
   "id": "bbacd608",
   "metadata": {},
   "source": [
    "<h3>%</h3>"
   ]
  },
  {
   "cell_type": "code",
   "execution_count": 62,
   "id": "d7789b9e",
   "metadata": {
    "scrolled": false
   },
   "outputs": [
    {
     "name": "stdout",
     "output_type": "stream",
     "text": [
      "1\n"
     ]
    }
   ],
   "source": [
    "x = 22\n",
    "y = 7\n",
    "\n",
    "mod = x % y\n",
    "print(mod)"
   ]
  },
  {
   "cell_type": "markdown",
   "id": "f30a2718",
   "metadata": {},
   "source": [
    "<h3>//</h3>"
   ]
  },
  {
   "cell_type": "code",
   "execution_count": 63,
   "id": "8a1a50f0",
   "metadata": {
    "scrolled": false
   },
   "outputs": [
    {
     "name": "stdout",
     "output_type": "stream",
     "text": [
      "3\n"
     ]
    }
   ],
   "source": [
    "x = 22\n",
    "y = 7\n",
    "\n",
    "floordiv = x // y\n",
    "print(floordiv)"
   ]
  },
  {
   "cell_type": "markdown",
   "id": "c78b754b",
   "metadata": {},
   "source": [
    "<h2>Conversion</h2>"
   ]
  },
  {
   "cell_type": "markdown",
   "id": "9ce025e9",
   "metadata": {},
   "source": [
    "<h3>int() float() complex() str()</h3>"
   ]
  },
  {
   "cell_type": "code",
   "execution_count": 45,
   "id": "9e252c07",
   "metadata": {},
   "outputs": [
    {
     "name": "stdout",
     "output_type": "stream",
     "text": [
      "3.3+5j\n",
      "(3.3+5j)\n",
      "3.2\n",
      "3\n"
     ]
    }
   ],
   "source": [
    "\n",
    "s = \"3.3+5j\"\n",
    "print(s)\n",
    "\n",
    "z = complex(s)\n",
    "print(z)\n",
    "\n",
    "s = \"3.2\"\n",
    "x = float(s)\n",
    "print(x)\n",
    "\n",
    "n = int(x)\n",
    "print(n)"
   ]
  },
  {
   "cell_type": "markdown",
   "id": "91ab6051",
   "metadata": {},
   "source": [
    "<h2>Properties of ints"
   ]
  },
  {
   "cell_type": "markdown",
   "id": "b56d99b5",
   "metadata": {},
   "source": [
    "<h3>hex"
   ]
  },
  {
   "cell_type": "code",
   "execution_count": 27,
   "id": "06191991",
   "metadata": {},
   "outputs": [
    {
     "data": {
      "text/plain": [
       "'0xfe'"
      ]
     },
     "execution_count": 27,
     "metadata": {},
     "output_type": "execute_result"
    }
   ],
   "source": [
    "hex(254)"
   ]
  },
  {
   "cell_type": "markdown",
   "id": "024f3b2f",
   "metadata": {},
   "source": [
    "<h3>bin"
   ]
  },
  {
   "cell_type": "code",
   "execution_count": 31,
   "id": "b083ab2f",
   "metadata": {},
   "outputs": [
    {
     "data": {
      "text/plain": [
       "'0b11111110'"
      ]
     },
     "execution_count": 31,
     "metadata": {},
     "output_type": "execute_result"
    }
   ],
   "source": [
    "bin(254)"
   ]
  },
  {
   "cell_type": "markdown",
   "id": "0c7be789",
   "metadata": {},
   "source": [
    "<h3>bases"
   ]
  },
  {
   "cell_type": "code",
   "execution_count": 40,
   "id": "fb3dd3de",
   "metadata": {
    "scrolled": true
   },
   "outputs": [
    {
     "name": "stdout",
     "output_type": "stream",
     "text": [
      "x = 255\n",
      "y = 21\n",
      "z = 9634\n",
      "w = 1101101\n",
      "w2 = 109\n",
      "alpha_base = 8337503854730415241050377135811259267835\n"
     ]
    }
   ],
   "source": [
    "x = 0xff\n",
    "print(f\"x =\",x)\n",
    "\n",
    "y = 0b10101\n",
    "print(f\"y =\",y)\n",
    "\n",
    "z = int(\"25A2\",base=16)\n",
    "print(f\"z =\",z)\n",
    "\n",
    "w = int(\"1101101\",base=10)\n",
    "print(f\"w =\",w)\n",
    "\n",
    "w2 = int(\"1101101\",base=2)\n",
    "print(f\"w2 =\",w2)\n",
    "\n",
    "alpha_base = int(\"abcdefghijklmnopqrstuvwxyz\",base=36)\n",
    "print(f\"alpha_base =\",alpha_base)"
   ]
  },
  {
   "cell_type": "markdown",
   "id": "fa55e820",
   "metadata": {},
   "source": [
    "<h2>Pointers</h2>"
   ]
  },
  {
   "cell_type": "markdown",
   "id": "89303a8f",
   "metadata": {},
   "source": [
    "<h3>id</h3>"
   ]
  },
  {
   "cell_type": "code",
   "execution_count": 1,
   "id": "6179741e",
   "metadata": {
    "scrolled": false
   },
   "outputs": [
    {
     "name": "stdout",
     "output_type": "stream",
     "text": [
      "2999142940720\n",
      "0x2ba4ad98030\n"
     ]
    }
   ],
   "source": [
    "var = str()\n",
    "address = id(var)\n",
    "print(address)\n",
    "\n",
    "print(hex(address))"
   ]
  },
  {
   "cell_type": "markdown",
   "id": "9a8501be",
   "metadata": {},
   "source": [
    "<h2>Properties of chars"
   ]
  },
  {
   "cell_type": "markdown",
   "id": "57eff5ee",
   "metadata": {},
   "source": [
    "<h3>ord</h3>"
   ]
  },
  {
   "cell_type": "code",
   "execution_count": 55,
   "id": "f350e19f",
   "metadata": {},
   "outputs": [
    {
     "data": {
      "text/plain": [
       "65"
      ]
     },
     "execution_count": 55,
     "metadata": {},
     "output_type": "execute_result"
    }
   ],
   "source": [
    "ord(\"A\")"
   ]
  },
  {
   "cell_type": "markdown",
   "id": "112066c8",
   "metadata": {},
   "source": [
    "<h3>chr</h3>"
   ]
  },
  {
   "cell_type": "code",
   "execution_count": 56,
   "id": "0af66614",
   "metadata": {},
   "outputs": [
    {
     "data": {
      "text/plain": [
       "'A'"
      ]
     },
     "execution_count": 56,
     "metadata": {},
     "output_type": "execute_result"
    }
   ],
   "source": [
    "chr(65)"
   ]
  },
  {
   "cell_type": "markdown",
   "id": "70dbd417",
   "metadata": {},
   "source": [
    "<h3>ascii</h3>"
   ]
  },
  {
   "cell_type": "code",
   "execution_count": 52,
   "id": "8c228f40",
   "metadata": {},
   "outputs": [
    {
     "data": {
      "text/plain": [
       "\"'\\\\u03a9'\""
      ]
     },
     "execution_count": 52,
     "metadata": {},
     "output_type": "execute_result"
    }
   ],
   "source": [
    "ascii(\"Ω\")"
   ]
  },
  {
   "cell_type": "markdown",
   "id": "8daa86d7",
   "metadata": {},
   "source": [
    "<h3>isascii</h3>"
   ]
  },
  {
   "cell_type": "code",
   "execution_count": 60,
   "id": "770c5f30",
   "metadata": {},
   "outputs": [
    {
     "data": {
      "text/plain": [
       "False"
      ]
     },
     "execution_count": 60,
     "metadata": {},
     "output_type": "execute_result"
    }
   ],
   "source": [
    "\"Ω\".isascii()"
   ]
  }
 ],
 "metadata": {
  "kernelspec": {
   "display_name": "Python 3 (ipykernel)",
   "language": "python",
   "name": "python3"
  },
  "language_info": {
   "codemirror_mode": {
    "name": "ipython",
    "version": 3
   },
   "file_extension": ".py",
   "mimetype": "text/x-python",
   "name": "python",
   "nbconvert_exporter": "python",
   "pygments_lexer": "ipython3",
   "version": "3.10.0"
  }
 },
 "nbformat": 4,
 "nbformat_minor": 5
}
