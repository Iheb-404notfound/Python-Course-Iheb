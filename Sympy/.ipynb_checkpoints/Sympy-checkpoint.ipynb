{
 "cells": [
  {
   "cell_type": "markdown",
   "id": "1a126331",
   "metadata": {},
   "source": [
    "<center><h1>Sympy"
   ]
  },
  {
   "cell_type": "code",
   "execution_count": 1,
   "id": "240576af",
   "metadata": {},
   "outputs": [],
   "source": [
    "import sympy as sp"
   ]
  },
  {
   "cell_type": "markdown",
   "id": "166ffacb",
   "metadata": {},
   "source": [
    "import numpy for some constants or operations that can be hand done"
   ]
  },
  {
   "cell_type": "code",
   "execution_count": 2,
   "id": "64594c84",
   "metadata": {},
   "outputs": [],
   "source": [
    "import numpy as np"
   ]
  },
  {
   "cell_type": "markdown",
   "id": "4fe0fbb2",
   "metadata": {},
   "source": [
    "<h2>Display"
   ]
  },
  {
   "cell_type": "markdown",
   "id": "3f1fc3ba",
   "metadata": {},
   "source": [
    "<h3>symbols display"
   ]
  },
  {
   "cell_type": "code",
   "execution_count": 3,
   "id": "6e3127f2",
   "metadata": {
    "scrolled": true
   },
   "outputs": [
    {
     "data": {
      "text/latex": [
       "$\\displaystyle x$"
      ],
      "text/plain": [
       "x"
      ]
     },
     "metadata": {},
     "output_type": "display_data"
    },
    {
     "data": {
      "text/latex": [
       "$\\displaystyle y$"
      ],
      "text/plain": [
       "y"
      ]
     },
     "metadata": {},
     "output_type": "display_data"
    }
   ],
   "source": [
    "x,y = sp.symbols(\"x y\")\n",
    "\n",
    "display(x,y)"
   ]
  },
  {
   "cell_type": "markdown",
   "id": "0e84f142",
   "metadata": {},
   "source": [
    "<h3>addition"
   ]
  },
  {
   "cell_type": "code",
   "execution_count": 4,
   "id": "df893290",
   "metadata": {},
   "outputs": [
    {
     "data": {
      "text/latex": [
       "$\\displaystyle x + y$"
      ],
      "text/plain": [
       "x + y"
      ]
     },
     "metadata": {},
     "output_type": "display_data"
    },
    {
     "data": {
      "text/latex": [
       "$\\displaystyle x + y$"
      ],
      "text/plain": [
       "x + y"
      ]
     },
     "metadata": {},
     "output_type": "display_data"
    },
    {
     "data": {
      "text/latex": [
       "$\\displaystyle x + 2$"
      ],
      "text/plain": [
       "x + 2"
      ]
     },
     "metadata": {},
     "output_type": "display_data"
    }
   ],
   "source": [
    "x,y = sp.symbols(\"x y\")\n",
    "display(x+y)\n",
    "\n",
    "addition = sp.Add(x,y)\n",
    "display(addition)\n",
    "\n",
    "display(x+2)"
   ]
  },
  {
   "cell_type": "markdown",
   "id": "0955ce96",
   "metadata": {},
   "source": [
    "<h3>subtraction"
   ]
  },
  {
   "cell_type": "code",
   "execution_count": 5,
   "id": "7ec729f5",
   "metadata": {},
   "outputs": [
    {
     "data": {
      "text/latex": [
       "$\\displaystyle x - y$"
      ],
      "text/plain": [
       "x - y"
      ]
     },
     "metadata": {},
     "output_type": "display_data"
    },
    {
     "data": {
      "text/latex": [
       "$\\displaystyle x - 7$"
      ],
      "text/plain": [
       "x - 7"
      ]
     },
     "metadata": {},
     "output_type": "display_data"
    }
   ],
   "source": [
    "x,y = sp.symbols(\"x y\")\n",
    "display(x-y)\n",
    "\n",
    "display(x-7)"
   ]
  },
  {
   "cell_type": "markdown",
   "id": "d0edbe7d",
   "metadata": {},
   "source": [
    "<h3>multiplication"
   ]
  },
  {
   "cell_type": "code",
   "execution_count": 6,
   "id": "dbf6b8f0",
   "metadata": {},
   "outputs": [
    {
     "data": {
      "text/latex": [
       "$\\displaystyle x y$"
      ],
      "text/plain": [
       "x*y"
      ]
     },
     "metadata": {},
     "output_type": "display_data"
    },
    {
     "data": {
      "text/latex": [
       "$\\displaystyle 3 x$"
      ],
      "text/plain": [
       "3*x"
      ]
     },
     "metadata": {},
     "output_type": "display_data"
    }
   ],
   "source": [
    "x,y = sp.symbols(\"x y\")\n",
    "display(x*y)\n",
    "\n",
    "display(x*3)"
   ]
  },
  {
   "cell_type": "markdown",
   "id": "38338897",
   "metadata": {},
   "source": [
    "<h3>division"
   ]
  },
  {
   "cell_type": "code",
   "execution_count": 26,
   "id": "99aa6b62",
   "metadata": {},
   "outputs": [
    {
     "data": {
      "text/latex": [
       "$\\displaystyle \\frac{x}{y}$"
      ],
      "text/plain": [
       "x/y"
      ]
     },
     "metadata": {},
     "output_type": "display_data"
    },
    {
     "data": {
      "text/latex": [
       "$\\displaystyle 2.0 x$"
      ],
      "text/plain": [
       "2.0*x"
      ]
     },
     "metadata": {},
     "output_type": "display_data"
    },
    {
     "data": {
      "text/latex": [
       "$\\displaystyle 2 x$"
      ],
      "text/plain": [
       "2*x"
      ]
     },
     "metadata": {},
     "output_type": "display_data"
    },
    {
     "data": {
      "text/latex": [
       "$\\displaystyle \\frac{x}{2}$"
      ],
      "text/plain": [
       "x/2"
      ]
     },
     "metadata": {},
     "output_type": "display_data"
    }
   ],
   "source": [
    "x,y = sp.symbols(\"x y\")\n",
    "display(x/y)\n",
    "\n",
    "display(x/(1/2))\n",
    "\n",
    "display(x/sp.Rational(1/2))\n",
    "\n",
    "display(x/1/2)"
   ]
  },
  {
   "cell_type": "markdown",
   "id": "5eacd5df",
   "metadata": {},
   "source": [
    "<h3>power"
   ]
  },
  {
   "cell_type": "code",
   "execution_count": 8,
   "id": "da060c50",
   "metadata": {},
   "outputs": [
    {
     "data": {
      "text/latex": [
       "$\\displaystyle x^{y}$"
      ],
      "text/plain": [
       "x**y"
      ]
     },
     "metadata": {},
     "output_type": "display_data"
    },
    {
     "data": {
      "text/latex": [
       "$\\displaystyle e^{x}$"
      ],
      "text/plain": [
       "e**x"
      ]
     },
     "metadata": {},
     "output_type": "display_data"
    },
    {
     "data": {
      "text/latex": [
       "$\\displaystyle e^{x}$"
      ],
      "text/plain": [
       "exp(x)"
      ]
     },
     "metadata": {},
     "output_type": "display_data"
    }
   ],
   "source": [
    "x,y,e = sp.symbols(\"x y e\")\n",
    "display(x**y)\n",
    "\n",
    "display(e**x)\n",
    "\n",
    "exp = sp.exp(x)\n",
    "display(exp)"
   ]
  },
  {
   "cell_type": "markdown",
   "id": "d4d6318e",
   "metadata": {},
   "source": [
    "<h3>factorial"
   ]
  },
  {
   "cell_type": "code",
   "execution_count": 9,
   "id": "2d2961f8",
   "metadata": {
    "scrolled": false
   },
   "outputs": [
    {
     "data": {
      "text/latex": [
       "$\\displaystyle x!$"
      ],
      "text/plain": [
       "factorial(x)"
      ]
     },
     "metadata": {},
     "output_type": "display_data"
    }
   ],
   "source": [
    "x = sp.symbols(\"x\")\n",
    "fact = sp.factorial(x)\n",
    "display(fact)"
   ]
  },
  {
   "cell_type": "markdown",
   "id": "b67ee763",
   "metadata": {},
   "source": [
    "<h3>expressions"
   ]
  },
  {
   "cell_type": "code",
   "execution_count": 24,
   "id": "c362d88c",
   "metadata": {
    "scrolled": false
   },
   "outputs": [
    {
     "data": {
      "text/latex": [
       "$\\displaystyle - 0.5 i \\left(1.0 i e x + e^{1.0 i x}\\right)$"
      ],
      "text/plain": [
       "-0.5*I*(1.0*I*e*x + e**(1.0*I*x))"
      ]
     },
     "metadata": {},
     "output_type": "display_data"
    },
    {
     "data": {
      "text/latex": [
       "$\\displaystyle \\frac{e^{i x} - e^{- i x}}{2 i}$"
      ],
      "text/plain": [
       "(e**(i*x) - 1/e**(i*x))/(2*i)"
      ]
     },
     "metadata": {},
     "output_type": "display_data"
    }
   ],
   "source": [
    "x,e,i = sp.symbols(\"x e i\")\n",
    "func = (e**(x*1j)-e*(-x*1j))/2j\n",
    "display(func)\n",
    "\n",
    "func = (e**(i*x)-e**(-i*x))/(2*i)\n",
    "display(func)"
   ]
  },
  {
   "cell_type": "markdown",
   "id": "abcd2d37",
   "metadata": {},
   "source": [
    "<h3>subs"
   ]
  },
  {
   "cell_type": "code",
   "execution_count": 48,
   "id": "c3f729d6",
   "metadata": {
    "scrolled": false
   },
   "outputs": [
    {
     "data": {
      "text/latex": [
       "$\\displaystyle e^{i \\theta}$"
      ],
      "text/plain": [
       "e**(i*theta)"
      ]
     },
     "metadata": {},
     "output_type": "display_data"
    },
    {
     "data": {
      "text/latex": [
       "$\\displaystyle e^{i \\pi}$"
      ],
      "text/plain": [
       "e**(i*pi)"
      ]
     },
     "metadata": {},
     "output_type": "display_data"
    }
   ],
   "source": [
    "theta,e,pi,i = sp.symbols(\"theta e pi i\")\n",
    "expr = e**(theta*i)\n",
    "display(expr)\n",
    "\n",
    "real = expr.subs(theta,pi)\n",
    "display(real)"
   ]
  },
  {
   "cell_type": "markdown",
   "id": "e76ea170",
   "metadata": {},
   "source": [
    "<h3>sympify"
   ]
  },
  {
   "cell_type": "code",
   "execution_count": 41,
   "id": "cad904ed",
   "metadata": {
    "scrolled": false
   },
   "outputs": [
    {
     "data": {
      "text/latex": [
       "$\\displaystyle x^{2} + 2 x + 1$"
      ],
      "text/plain": [
       "x**2 + 2*x + 1"
      ]
     },
     "metadata": {},
     "output_type": "display_data"
    }
   ],
   "source": [
    "expression = sp.sympify(\"x**2 + 2*x + 1\")\n",
    "\n",
    "display(expression)"
   ]
  },
  {
   "cell_type": "markdown",
   "id": "5ea5a8a5",
   "metadata": {},
   "source": [
    "<h3>Eq"
   ]
  },
  {
   "cell_type": "code",
   "execution_count": 49,
   "id": "85902f61",
   "metadata": {
    "scrolled": true
   },
   "outputs": [
    {
     "name": "stdout",
     "output_type": "stream",
     "text": [
      "as n goes to infinity\n"
     ]
    },
    {
     "data": {
      "text/latex": [
       "$\\displaystyle e = \\left(1 + \\frac{1}{n}\\right)^{n}$"
      ],
      "text/plain": [
       "Eq(e, (1 + 1/n)**n)"
      ]
     },
     "metadata": {},
     "output_type": "display_data"
    }
   ],
   "source": [
    "e,n = sp.symbols(\"e n\")\n",
    "equality = sp.Eq(e,(1+1/n)**n)\n",
    "\n",
    "print(\"as n goes to infinity\")\n",
    "display(equality)"
   ]
  },
  {
   "cell_type": "markdown",
   "id": "987bbc2c",
   "metadata": {},
   "source": [
    "<h3>Equivalent"
   ]
  },
  {
   "cell_type": "code",
   "execution_count": 32,
   "id": "7ff75fcd",
   "metadata": {
    "scrolled": false
   },
   "outputs": [
    {
     "name": "stdout",
     "output_type": "stream",
     "text": [
      "as n goes to infinity\n"
     ]
    },
    {
     "data": {
      "text/latex": [
       "$\\displaystyle e = \\left(1 + \\frac{1}{n}\\right)^{n}$"
      ],
      "text/plain": [
       "Eq(e, (1 + 1/n)**n)"
      ]
     },
     "metadata": {},
     "output_type": "display_data"
    },
    {
     "data": {
      "text/latex": [
       "$\\displaystyle e \\Leftrightarrow n$"
      ],
      "text/plain": [
       "Equivalent(e, n)"
      ]
     },
     "metadata": {},
     "output_type": "display_data"
    }
   ],
   "source": [
    "e,n = sp.symbols(\"e n\")\n",
    "equality = sp.Eq(e,(1+1/n)**n)\n",
    "print(\"as n goes to infinity\")\n",
    "display(equality)\n",
    "\n",
    "equality = sp.Equivalent(e,n)\n",
    "display(equality)"
   ]
  },
  {
   "cell_type": "markdown",
   "id": "4b363ebc",
   "metadata": {},
   "source": [
    "<h3>Function"
   ]
  },
  {
   "cell_type": "code",
   "execution_count": 56,
   "id": "ffd43b26",
   "metadata": {
    "scrolled": false
   },
   "outputs": [
    {
     "data": {
      "text/latex": [
       "$\\displaystyle \\sigma{\\left(x \\right)}$"
      ],
      "text/plain": [
       "sigma(x)"
      ]
     },
     "metadata": {},
     "output_type": "display_data"
    }
   ],
   "source": [
    "x = sp.symbols(\"x\")\n",
    "sigma = sp.Function(\"sigma\")\n",
    "\n",
    "display(sigma(x))"
   ]
  },
  {
   "cell_type": "markdown",
   "id": "eb61ba62",
   "metadata": {},
   "source": [
    "<h3>sin cos tan csc sec cot"
   ]
  },
  {
   "cell_type": "code",
   "execution_count": 66,
   "id": "fb3ea245",
   "metadata": {
    "scrolled": false
   },
   "outputs": [
    {
     "data": {
      "text/latex": [
       "$\\displaystyle \\sin{\\left(x \\right)}$"
      ],
      "text/plain": [
       "sin(x)"
      ]
     },
     "metadata": {},
     "output_type": "display_data"
    },
    {
     "data": {
      "text/latex": [
       "$\\displaystyle \\cos{\\left(x \\right)}$"
      ],
      "text/plain": [
       "cos(x)"
      ]
     },
     "metadata": {},
     "output_type": "display_data"
    },
    {
     "data": {
      "text/latex": [
       "$\\displaystyle \\tan{\\left(x \\right)}$"
      ],
      "text/plain": [
       "tan(x)"
      ]
     },
     "metadata": {},
     "output_type": "display_data"
    },
    {
     "data": {
      "text/latex": [
       "$\\displaystyle \\csc{\\left(x \\right)}$"
      ],
      "text/plain": [
       "csc(x)"
      ]
     },
     "metadata": {},
     "output_type": "display_data"
    },
    {
     "data": {
      "text/latex": [
       "$\\displaystyle \\sec{\\left(x \\right)}$"
      ],
      "text/plain": [
       "sec(x)"
      ]
     },
     "metadata": {},
     "output_type": "display_data"
    },
    {
     "data": {
      "text/latex": [
       "$\\displaystyle \\cot{\\left(x \\right)}$"
      ],
      "text/plain": [
       "cot(x)"
      ]
     },
     "metadata": {},
     "output_type": "display_data"
    }
   ],
   "source": [
    "x,e,i = sp.symbols(\"x e i\")\n",
    "func = sp.sin(x)\n",
    "display(func)\n",
    "\n",
    "func = sp.cos(x)\n",
    "display(func)\n",
    "\n",
    "func = sp.tan(x)\n",
    "display(func)\n",
    "\n",
    "func = sp.csc(x)\n",
    "display(func)\n",
    "\n",
    "func = sp.sec(x)\n",
    "display(func)\n",
    "\n",
    "func = sp.cot(x)\n",
    "display(func)"
   ]
  },
  {
   "cell_type": "markdown",
   "id": "de77fe06",
   "metadata": {},
   "source": [
    "<h3>$\\sin^{-1} \\cos^{-1} \\tan^{-1} \\csc^{-1} \\sec^{-1} \\cot^{-1}$"
   ]
  },
  {
   "cell_type": "code",
   "execution_count": 67,
   "id": "ddd0e1e7",
   "metadata": {
    "scrolled": true
   },
   "outputs": [
    {
     "data": {
      "text/latex": [
       "$\\displaystyle \\operatorname{asin}{\\left(x \\right)}$"
      ],
      "text/plain": [
       "asin(x)"
      ]
     },
     "metadata": {},
     "output_type": "display_data"
    },
    {
     "data": {
      "text/latex": [
       "$\\displaystyle \\operatorname{acos}{\\left(x \\right)}$"
      ],
      "text/plain": [
       "acos(x)"
      ]
     },
     "metadata": {},
     "output_type": "display_data"
    },
    {
     "data": {
      "text/latex": [
       "$\\displaystyle \\operatorname{atan}{\\left(x \\right)}$"
      ],
      "text/plain": [
       "atan(x)"
      ]
     },
     "metadata": {},
     "output_type": "display_data"
    },
    {
     "data": {
      "text/latex": [
       "$\\displaystyle \\operatorname{acsc}{\\left(x \\right)}$"
      ],
      "text/plain": [
       "acsc(x)"
      ]
     },
     "metadata": {},
     "output_type": "display_data"
    },
    {
     "data": {
      "text/latex": [
       "$\\displaystyle \\operatorname{asec}{\\left(x \\right)}$"
      ],
      "text/plain": [
       "asec(x)"
      ]
     },
     "metadata": {},
     "output_type": "display_data"
    },
    {
     "data": {
      "text/latex": [
       "$\\displaystyle \\operatorname{acot}{\\left(x \\right)}$"
      ],
      "text/plain": [
       "acot(x)"
      ]
     },
     "metadata": {},
     "output_type": "display_data"
    }
   ],
   "source": [
    "x,e,i = sp.symbols(\"x e i\")\n",
    "func = sp.asin(x)\n",
    "display(func)\n",
    "\n",
    "func = sp.acos(x)\n",
    "display(func)\n",
    "\n",
    "func = sp.atan(x)\n",
    "display(func)\n",
    "\n",
    "func = sp.acsc(x)\n",
    "display(func)\n",
    "\n",
    "func = sp.asec(x)\n",
    "display(func)\n",
    "\n",
    "func = sp.acot(x)\n",
    "display(func)"
   ]
  },
  {
   "cell_type": "markdown",
   "id": "52b89f0c",
   "metadata": {},
   "source": [
    "<h3>sinh cosh tanh csch sech coth"
   ]
  },
  {
   "cell_type": "code",
   "execution_count": 68,
   "id": "376bc286",
   "metadata": {
    "scrolled": false
   },
   "outputs": [
    {
     "data": {
      "text/latex": [
       "$\\displaystyle \\sinh{\\left(x \\right)}$"
      ],
      "text/plain": [
       "sinh(x)"
      ]
     },
     "metadata": {},
     "output_type": "display_data"
    },
    {
     "data": {
      "text/latex": [
       "$\\displaystyle \\cosh{\\left(x \\right)}$"
      ],
      "text/plain": [
       "cosh(x)"
      ]
     },
     "metadata": {},
     "output_type": "display_data"
    },
    {
     "data": {
      "text/latex": [
       "$\\displaystyle \\tanh{\\left(x \\right)}$"
      ],
      "text/plain": [
       "tanh(x)"
      ]
     },
     "metadata": {},
     "output_type": "display_data"
    },
    {
     "data": {
      "text/latex": [
       "$\\displaystyle \\operatorname{csch}{\\left(x \\right)}$"
      ],
      "text/plain": [
       "csch(x)"
      ]
     },
     "metadata": {},
     "output_type": "display_data"
    },
    {
     "data": {
      "text/latex": [
       "$\\displaystyle \\operatorname{sech}{\\left(x \\right)}$"
      ],
      "text/plain": [
       "sech(x)"
      ]
     },
     "metadata": {},
     "output_type": "display_data"
    },
    {
     "data": {
      "text/latex": [
       "$\\displaystyle \\coth{\\left(x \\right)}$"
      ],
      "text/plain": [
       "coth(x)"
      ]
     },
     "metadata": {},
     "output_type": "display_data"
    }
   ],
   "source": [
    "x,e,i = sp.symbols(\"x e i\")\n",
    "func = sp.sinh(x)\n",
    "display(func)\n",
    "\n",
    "func = sp.cosh(x)\n",
    "display(func)\n",
    "\n",
    "func = sp.tanh(x)\n",
    "display(func)\n",
    "\n",
    "func = sp.csch(x)\n",
    "display(func)\n",
    "\n",
    "func = sp.sech(x)\n",
    "display(func)\n",
    "\n",
    "func = sp.coth(x)\n",
    "display(func)"
   ]
  },
  {
   "cell_type": "markdown",
   "id": "3f1cdba4",
   "metadata": {},
   "source": [
    "<h3>$\\sinh^{-1} \\cosh^{-1} \\tanh^{-1} csch^{-1} sech^{-1} \\coth^{-1}$"
   ]
  },
  {
   "cell_type": "code",
   "execution_count": 69,
   "id": "98af63e7",
   "metadata": {
    "scrolled": true
   },
   "outputs": [
    {
     "data": {
      "text/latex": [
       "$\\displaystyle \\operatorname{asinh}{\\left(x \\right)}$"
      ],
      "text/plain": [
       "asinh(x)"
      ]
     },
     "metadata": {},
     "output_type": "display_data"
    },
    {
     "data": {
      "text/latex": [
       "$\\displaystyle \\operatorname{acosh}{\\left(x \\right)}$"
      ],
      "text/plain": [
       "acosh(x)"
      ]
     },
     "metadata": {},
     "output_type": "display_data"
    },
    {
     "data": {
      "text/latex": [
       "$\\displaystyle \\operatorname{atanh}{\\left(x \\right)}$"
      ],
      "text/plain": [
       "atanh(x)"
      ]
     },
     "metadata": {},
     "output_type": "display_data"
    },
    {
     "data": {
      "text/latex": [
       "$\\displaystyle \\operatorname{acsch}{\\left(x \\right)}$"
      ],
      "text/plain": [
       "acsch(x)"
      ]
     },
     "metadata": {},
     "output_type": "display_data"
    },
    {
     "data": {
      "text/latex": [
       "$\\displaystyle \\operatorname{asech}{\\left(x \\right)}$"
      ],
      "text/plain": [
       "asech(x)"
      ]
     },
     "metadata": {},
     "output_type": "display_data"
    },
    {
     "data": {
      "text/latex": [
       "$\\displaystyle \\operatorname{acoth}{\\left(x \\right)}$"
      ],
      "text/plain": [
       "acoth(x)"
      ]
     },
     "metadata": {},
     "output_type": "display_data"
    }
   ],
   "source": [
    "x,e,i = sp.symbols(\"x e i\")\n",
    "func = sp.asinh(x)\n",
    "display(func)\n",
    "\n",
    "func = sp.acosh(x)\n",
    "display(func)\n",
    "\n",
    "func = sp.atanh(x)\n",
    "display(func)\n",
    "\n",
    "func = sp.acsch(x)\n",
    "display(func)\n",
    "\n",
    "func = sp.asech(x)\n",
    "display(func)\n",
    "\n",
    "func = sp.acoth(x)\n",
    "display(func)"
   ]
  },
  {
   "cell_type": "markdown",
   "id": "0e9a3a6b",
   "metadata": {},
   "source": [
    "<h3>Limit"
   ]
  },
  {
   "cell_type": "code",
   "execution_count": 11,
   "id": "2c15a7e4",
   "metadata": {},
   "outputs": [
    {
     "data": {
      "text/latex": [
       "$\\displaystyle 0.463647609000806$"
      ],
      "text/plain": [
       "0.463647609000806"
      ]
     },
     "execution_count": 11,
     "metadata": {},
     "output_type": "execute_result"
    }
   ],
   "source": [
    "x = sp.symbols(\"x\")\n",
    "expr = sp.limit()"
   ]
  },
  {
   "cell_type": "code",
   "execution_count": null,
   "id": "aa3c4e57",
   "metadata": {},
   "outputs": [],
   "source": [
    "sp."
   ]
  }
 ],
 "metadata": {
  "kernelspec": {
   "display_name": "Python 3 (ipykernel)",
   "language": "python",
   "name": "python3"
  },
  "language_info": {
   "codemirror_mode": {
    "name": "ipython",
    "version": 3
   },
   "file_extension": ".py",
   "mimetype": "text/x-python",
   "name": "python",
   "nbconvert_exporter": "python",
   "pygments_lexer": "ipython3",
   "version": "3.10.0"
  }
 },
 "nbformat": 4,
 "nbformat_minor": 5
}
