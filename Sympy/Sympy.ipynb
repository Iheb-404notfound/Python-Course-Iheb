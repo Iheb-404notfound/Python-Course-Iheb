{
 "cells": [
  {
   "cell_type": "markdown",
   "id": "80c6c3ab",
   "metadata": {},
   "source": [
    "<center><h1>Sympy"
   ]
  },
  {
   "cell_type": "code",
   "execution_count": 1,
   "id": "240576af",
   "metadata": {},
   "outputs": [],
   "source": [
    "import sympy as sp"
   ]
  },
  {
   "cell_type": "markdown",
   "id": "f5c7ad9e",
   "metadata": {},
   "source": [
    "import numpy for some constants or operations that can be hand done"
   ]
  },
  {
   "cell_type": "code",
   "execution_count": 2,
   "id": "25667b1d",
   "metadata": {},
   "outputs": [],
   "source": [
    "import numpy as np"
   ]
  },
  {
   "cell_type": "markdown",
   "id": "37b779b9",
   "metadata": {},
   "source": [
    "<h2>Display"
   ]
  },
  {
   "cell_type": "markdown",
   "id": "63b7bbe3",
   "metadata": {},
   "source": [
    "<h3>symbols display"
   ]
  },
  {
   "cell_type": "code",
   "execution_count": 3,
   "id": "6e3127f2",
   "metadata": {
    "scrolled": true
   },
   "outputs": [
    {
     "data": {
      "text/latex": [
       "$\\displaystyle x$"
      ],
      "text/plain": [
       "x"
      ]
     },
     "metadata": {},
     "output_type": "display_data"
    },
    {
     "data": {
      "text/latex": [
       "$\\displaystyle y$"
      ],
      "text/plain": [
       "y"
      ]
     },
     "metadata": {},
     "output_type": "display_data"
    }
   ],
   "source": [
    "x,y = sp.symbols(\"x y\")\n",
    "\n",
    "display(x,y)"
   ]
  },
  {
   "cell_type": "markdown",
   "id": "a8c19cf0",
   "metadata": {},
   "source": [
    "<h3>addition"
   ]
  },
  {
   "cell_type": "code",
   "execution_count": 4,
   "id": "df893290",
   "metadata": {},
   "outputs": [
    {
     "data": {
      "text/latex": [
       "$\\displaystyle x + y$"
      ],
      "text/plain": [
       "x + y"
      ]
     },
     "metadata": {},
     "output_type": "display_data"
    },
    {
     "data": {
      "text/latex": [
       "$\\displaystyle x + y$"
      ],
      "text/plain": [
       "x + y"
      ]
     },
     "metadata": {},
     "output_type": "display_data"
    },
    {
     "data": {
      "text/latex": [
       "$\\displaystyle x + 2$"
      ],
      "text/plain": [
       "x + 2"
      ]
     },
     "metadata": {},
     "output_type": "display_data"
    }
   ],
   "source": [
    "x,y = sp.symbols(\"x y\")\n",
    "display(x+y)\n",
    "\n",
    "addition = sp.Add(x,y)\n",
    "display(addition)\n",
    "\n",
    "display(x+2)"
   ]
  },
  {
   "cell_type": "markdown",
   "id": "5d7dbee7",
   "metadata": {},
   "source": [
    "<h3>subtraction"
   ]
  },
  {
   "cell_type": "code",
   "execution_count": 5,
   "id": "6abb08a5",
   "metadata": {},
   "outputs": [
    {
     "data": {
      "text/latex": [
       "$\\displaystyle x - y$"
      ],
      "text/plain": [
       "x - y"
      ]
     },
     "metadata": {},
     "output_type": "display_data"
    },
    {
     "data": {
      "text/latex": [
       "$\\displaystyle x - 7$"
      ],
      "text/plain": [
       "x - 7"
      ]
     },
     "metadata": {},
     "output_type": "display_data"
    }
   ],
   "source": [
    "x,y = sp.symbols(\"x y\")\n",
    "display(x-y)\n",
    "\n",
    "display(x-7)"
   ]
  },
  {
   "cell_type": "markdown",
   "id": "36002db3",
   "metadata": {},
   "source": [
    "<h3>multiplication"
   ]
  },
  {
   "cell_type": "code",
   "execution_count": 6,
   "id": "8330c6d5",
   "metadata": {},
   "outputs": [
    {
     "data": {
      "text/latex": [
       "$\\displaystyle x y$"
      ],
      "text/plain": [
       "x*y"
      ]
     },
     "metadata": {},
     "output_type": "display_data"
    },
    {
     "data": {
      "text/latex": [
       "$\\displaystyle 3 x$"
      ],
      "text/plain": [
       "3*x"
      ]
     },
     "metadata": {},
     "output_type": "display_data"
    }
   ],
   "source": [
    "x,y = sp.symbols(\"x y\")\n",
    "display(x*y)\n",
    "\n",
    "display(x*3)"
   ]
  },
  {
   "cell_type": "markdown",
   "id": "27b4faa1",
   "metadata": {},
   "source": [
    "<h3>division"
   ]
  },
  {
   "cell_type": "code",
   "execution_count": 26,
   "id": "7bb99163",
   "metadata": {},
   "outputs": [
    {
     "data": {
      "text/latex": [
       "$\\displaystyle \\frac{x}{y}$"
      ],
      "text/plain": [
       "x/y"
      ]
     },
     "metadata": {},
     "output_type": "display_data"
    },
    {
     "data": {
      "text/latex": [
       "$\\displaystyle 2.0 x$"
      ],
      "text/plain": [
       "2.0*x"
      ]
     },
     "metadata": {},
     "output_type": "display_data"
    },
    {
     "data": {
      "text/latex": [
       "$\\displaystyle 2 x$"
      ],
      "text/plain": [
       "2*x"
      ]
     },
     "metadata": {},
     "output_type": "display_data"
    },
    {
     "data": {
      "text/latex": [
       "$\\displaystyle \\frac{x}{2}$"
      ],
      "text/plain": [
       "x/2"
      ]
     },
     "metadata": {},
     "output_type": "display_data"
    }
   ],
   "source": [
    "x,y = sp.symbols(\"x y\")\n",
    "display(x/y)\n",
    "\n",
    "display(x/(1/2))\n",
    "\n",
    "display(x/sp.Rational(1/2))\n",
    "\n",
    "display(x/1/2)"
   ]
  },
  {
   "cell_type": "markdown",
   "id": "e4ef57de",
   "metadata": {},
   "source": [
    "<h3>power"
   ]
  },
  {
   "cell_type": "code",
   "execution_count": 8,
   "id": "85359745",
   "metadata": {},
   "outputs": [
    {
     "data": {
      "text/latex": [
       "$\\displaystyle x^{y}$"
      ],
      "text/plain": [
       "x**y"
      ]
     },
     "metadata": {},
     "output_type": "display_data"
    },
    {
     "data": {
      "text/latex": [
       "$\\displaystyle e^{x}$"
      ],
      "text/plain": [
       "e**x"
      ]
     },
     "metadata": {},
     "output_type": "display_data"
    },
    {
     "data": {
      "text/latex": [
       "$\\displaystyle e^{x}$"
      ],
      "text/plain": [
       "exp(x)"
      ]
     },
     "metadata": {},
     "output_type": "display_data"
    }
   ],
   "source": [
    "x,y,e = sp.symbols(\"x y e\")\n",
    "display(x**y)\n",
    "\n",
    "display(e**x)\n",
    "\n",
    "exp = sp.exp(x)\n",
    "display(exp)"
   ]
  },
  {
   "cell_type": "markdown",
   "id": "0b3c5ffb",
   "metadata": {},
   "source": [
    "<h3>sqrt"
   ]
  },
  {
   "cell_type": "code",
   "execution_count": 99,
   "id": "145143c2",
   "metadata": {},
   "outputs": [
    {
     "data": {
      "text/latex": [
       "$\\displaystyle \\sqrt{1 - x^{2}}$"
      ],
      "text/plain": [
       "sqrt(1 - x**2)"
      ]
     },
     "metadata": {},
     "output_type": "display_data"
    }
   ],
   "source": [
    "x= sp.symbols(\"x\")\n",
    "\n",
    "sqrt = sp.sqrt(1-x**2)\n",
    "display(sqrt)\n"
   ]
  },
  {
   "cell_type": "markdown",
   "id": "f449ae79",
   "metadata": {},
   "source": [
    "<h3>root"
   ]
  },
  {
   "cell_type": "code",
   "execution_count": 100,
   "id": "76e0349d",
   "metadata": {},
   "outputs": [
    {
     "data": {
      "text/latex": [
       "$\\displaystyle \\sqrt{1 - x^{2}}$"
      ],
      "text/plain": [
       "sqrt(1 - x**2)"
      ]
     },
     "metadata": {},
     "output_type": "display_data"
    }
   ],
   "source": [
    "x = sp.symbols(\"x\")\n",
    "\n",
    "root = sp.root(x+2,5)\n",
    "display(sqrt)"
   ]
  },
  {
   "cell_type": "markdown",
   "id": "c2d70be3",
   "metadata": {},
   "source": [
    "<h3>ln"
   ]
  },
  {
   "cell_type": "code",
   "execution_count": 101,
   "id": "84bac2b1",
   "metadata": {},
   "outputs": [
    {
     "data": {
      "text/latex": [
       "$\\displaystyle \\log{\\left(x + 6 \\right)}$"
      ],
      "text/plain": [
       "log(x + 6)"
      ]
     },
     "metadata": {},
     "output_type": "display_data"
    }
   ],
   "source": [
    "x= sp.symbols(\"x\")\n",
    "\n",
    "ln = sp.ln(x+6)\n",
    "display(ln)"
   ]
  },
  {
   "cell_type": "markdown",
   "id": "be48c6e5",
   "metadata": {},
   "source": [
    "<h3>log"
   ]
  },
  {
   "cell_type": "code",
   "execution_count": 106,
   "id": "34038cc7",
   "metadata": {},
   "outputs": [
    {
     "data": {
      "text/latex": [
       "$\\displaystyle \\frac{\\log{\\left(x^{2} + 1 \\right)}}{\\log{\\left(5 \\right)}}$"
      ],
      "text/plain": [
       "log(x**2 + 1)/log(5)"
      ]
     },
     "metadata": {},
     "output_type": "display_data"
    }
   ],
   "source": [
    "x = sp.symbols(\"x\")\n",
    "\n",
    "log = sp.log(x**2+1,5)\n",
    "display(log)"
   ]
  },
  {
   "cell_type": "markdown",
   "id": "82bc5818",
   "metadata": {},
   "source": [
    "<h3>factorial"
   ]
  },
  {
   "cell_type": "code",
   "execution_count": 9,
   "id": "33bc58fa",
   "metadata": {
    "scrolled": false
   },
   "outputs": [
    {
     "data": {
      "text/latex": [
       "$\\displaystyle x!$"
      ],
      "text/plain": [
       "factorial(x)"
      ]
     },
     "metadata": {},
     "output_type": "display_data"
    }
   ],
   "source": [
    "x = sp.symbols(\"x\")\n",
    "fact = sp.factorial(x)\n",
    "display(fact)"
   ]
  },
  {
   "cell_type": "markdown",
   "id": "8adfe0b5",
   "metadata": {},
   "source": [
    "<h3>expressions"
   ]
  },
  {
   "cell_type": "code",
   "execution_count": 24,
   "id": "af4f9900",
   "metadata": {
    "scrolled": false
   },
   "outputs": [
    {
     "data": {
      "text/latex": [
       "$\\displaystyle - 0.5 i \\left(1.0 i e x + e^{1.0 i x}\\right)$"
      ],
      "text/plain": [
       "-0.5*I*(1.0*I*e*x + e**(1.0*I*x))"
      ]
     },
     "metadata": {},
     "output_type": "display_data"
    },
    {
     "data": {
      "text/latex": [
       "$\\displaystyle \\frac{e^{i x} - e^{- i x}}{2 i}$"
      ],
      "text/plain": [
       "(e**(i*x) - 1/e**(i*x))/(2*i)"
      ]
     },
     "metadata": {},
     "output_type": "display_data"
    }
   ],
   "source": [
    "x,e,i = sp.symbols(\"x e i\")\n",
    "func = (e**(x*1j)-e*(-x*1j))/2j\n",
    "display(func)\n",
    "\n",
    "func = (e**(i*x)-e**(-i*x))/(2*i)\n",
    "display(func)"
   ]
  },
  {
   "cell_type": "markdown",
   "id": "a399bcd5",
   "metadata": {},
   "source": [
    "<h3>subs"
   ]
  },
  {
   "cell_type": "code",
   "execution_count": 48,
   "id": "f33f84ba",
   "metadata": {
    "scrolled": false
   },
   "outputs": [
    {
     "data": {
      "text/latex": [
       "$\\displaystyle e^{i \\theta}$"
      ],
      "text/plain": [
       "e**(i*theta)"
      ]
     },
     "metadata": {},
     "output_type": "display_data"
    },
    {
     "data": {
      "text/latex": [
       "$\\displaystyle e^{i \\pi}$"
      ],
      "text/plain": [
       "e**(i*pi)"
      ]
     },
     "metadata": {},
     "output_type": "display_data"
    }
   ],
   "source": [
    "theta,e,pi,i = sp.symbols(\"theta e pi i\")\n",
    "expr = e**(theta*i)\n",
    "display(expr)\n",
    "\n",
    "real = expr.subs(theta,pi)\n",
    "display(real)"
   ]
  },
  {
   "cell_type": "markdown",
   "id": "a52f6284",
   "metadata": {},
   "source": [
    "<h3>sympify"
   ]
  },
  {
   "cell_type": "code",
   "execution_count": 41,
   "id": "227abe6f",
   "metadata": {
    "scrolled": false
   },
   "outputs": [
    {
     "data": {
      "text/latex": [
       "$\\displaystyle x^{2} + 2 x + 1$"
      ],
      "text/plain": [
       "x**2 + 2*x + 1"
      ]
     },
     "metadata": {},
     "output_type": "display_data"
    }
   ],
   "source": [
    "expression = sp.sympify(\"x**2 + 2*x + 1\")\n",
    "\n",
    "display(expression)"
   ]
  },
  {
   "cell_type": "markdown",
   "id": "f2760333",
   "metadata": {},
   "source": [
    "<h3>Eq"
   ]
  },
  {
   "cell_type": "code",
   "execution_count": 49,
   "id": "dba50aa5",
   "metadata": {
    "scrolled": true
   },
   "outputs": [
    {
     "name": "stdout",
     "output_type": "stream",
     "text": [
      "as n goes to infinity\n"
     ]
    },
    {
     "data": {
      "text/latex": [
       "$\\displaystyle e = \\left(1 + \\frac{1}{n}\\right)^{n}$"
      ],
      "text/plain": [
       "Eq(e, (1 + 1/n)**n)"
      ]
     },
     "metadata": {},
     "output_type": "display_data"
    }
   ],
   "source": [
    "e,n = sp.symbols(\"e n\")\n",
    "equality = sp.Eq(e,(1+1/n)**n)\n",
    "\n",
    "print(\"as n goes to infinity\")\n",
    "display(equality)"
   ]
  },
  {
   "cell_type": "markdown",
   "id": "45fe876f",
   "metadata": {},
   "source": [
    "<h3>Equivalent"
   ]
  },
  {
   "cell_type": "code",
   "execution_count": 32,
   "id": "5eff80a6",
   "metadata": {
    "scrolled": false
   },
   "outputs": [
    {
     "name": "stdout",
     "output_type": "stream",
     "text": [
      "as n goes to infinity\n"
     ]
    },
    {
     "data": {
      "text/latex": [
       "$\\displaystyle e = \\left(1 + \\frac{1}{n}\\right)^{n}$"
      ],
      "text/plain": [
       "Eq(e, (1 + 1/n)**n)"
      ]
     },
     "metadata": {},
     "output_type": "display_data"
    },
    {
     "data": {
      "text/latex": [
       "$\\displaystyle e \\Leftrightarrow n$"
      ],
      "text/plain": [
       "Equivalent(e, n)"
      ]
     },
     "metadata": {},
     "output_type": "display_data"
    }
   ],
   "source": [
    "e,n = sp.symbols(\"e n\")\n",
    "equality = sp.Eq(e,(1+1/n)**n)\n",
    "print(\"as n goes to infinity\")\n",
    "display(equality)\n",
    "\n",
    "equality = sp.Equivalent(e,n)\n",
    "display(equality)"
   ]
  },
  {
   "cell_type": "markdown",
   "id": "e00ea6ff",
   "metadata": {},
   "source": [
    "<h3>Function"
   ]
  },
  {
   "cell_type": "code",
   "execution_count": 56,
   "id": "a0a3a57f",
   "metadata": {
    "scrolled": false
   },
   "outputs": [
    {
     "data": {
      "text/latex": [
       "$\\displaystyle \\sigma{\\left(x \\right)}$"
      ],
      "text/plain": [
       "sigma(x)"
      ]
     },
     "metadata": {},
     "output_type": "display_data"
    }
   ],
   "source": [
    "x = sp.symbols(\"x\")\n",
    "sigma = sp.Function(\"sigma\")\n",
    "\n",
    "display(sigma(x))"
   ]
  },
  {
   "cell_type": "markdown",
   "id": "01a8c88d",
   "metadata": {},
   "source": [
    "<h3>sin cos tan csc sec cot"
   ]
  },
  {
   "cell_type": "code",
   "execution_count": 66,
   "id": "76582c23",
   "metadata": {
    "scrolled": false
   },
   "outputs": [
    {
     "data": {
      "text/latex": [
       "$\\displaystyle \\sin{\\left(x \\right)}$"
      ],
      "text/plain": [
       "sin(x)"
      ]
     },
     "metadata": {},
     "output_type": "display_data"
    },
    {
     "data": {
      "text/latex": [
       "$\\displaystyle \\cos{\\left(x \\right)}$"
      ],
      "text/plain": [
       "cos(x)"
      ]
     },
     "metadata": {},
     "output_type": "display_data"
    },
    {
     "data": {
      "text/latex": [
       "$\\displaystyle \\tan{\\left(x \\right)}$"
      ],
      "text/plain": [
       "tan(x)"
      ]
     },
     "metadata": {},
     "output_type": "display_data"
    },
    {
     "data": {
      "text/latex": [
       "$\\displaystyle \\csc{\\left(x \\right)}$"
      ],
      "text/plain": [
       "csc(x)"
      ]
     },
     "metadata": {},
     "output_type": "display_data"
    },
    {
     "data": {
      "text/latex": [
       "$\\displaystyle \\sec{\\left(x \\right)}$"
      ],
      "text/plain": [
       "sec(x)"
      ]
     },
     "metadata": {},
     "output_type": "display_data"
    },
    {
     "data": {
      "text/latex": [
       "$\\displaystyle \\cot{\\left(x \\right)}$"
      ],
      "text/plain": [
       "cot(x)"
      ]
     },
     "metadata": {},
     "output_type": "display_data"
    }
   ],
   "source": [
    "x,e,i = sp.symbols(\"x e i\")\n",
    "func = sp.sin(x)\n",
    "display(func)\n",
    "\n",
    "func = sp.cos(x)\n",
    "display(func)\n",
    "\n",
    "func = sp.tan(x)\n",
    "display(func)\n",
    "\n",
    "func = sp.csc(x)\n",
    "display(func)\n",
    "\n",
    "func = sp.sec(x)\n",
    "display(func)\n",
    "\n",
    "func = sp.cot(x)\n",
    "display(func)"
   ]
  },
  {
   "cell_type": "markdown",
   "id": "78fb445b",
   "metadata": {},
   "source": [
    "<h3>$\\sin^{-1} \\cos^{-1} \\tan^{-1} \\csc^{-1} \\sec^{-1} \\cot^{-1}$"
   ]
  },
  {
   "cell_type": "code",
   "execution_count": 67,
   "id": "b36d974e",
   "metadata": {
    "scrolled": true
   },
   "outputs": [
    {
     "data": {
      "text/latex": [
       "$\\displaystyle \\operatorname{asin}{\\left(x \\right)}$"
      ],
      "text/plain": [
       "asin(x)"
      ]
     },
     "metadata": {},
     "output_type": "display_data"
    },
    {
     "data": {
      "text/latex": [
       "$\\displaystyle \\operatorname{acos}{\\left(x \\right)}$"
      ],
      "text/plain": [
       "acos(x)"
      ]
     },
     "metadata": {},
     "output_type": "display_data"
    },
    {
     "data": {
      "text/latex": [
       "$\\displaystyle \\operatorname{atan}{\\left(x \\right)}$"
      ],
      "text/plain": [
       "atan(x)"
      ]
     },
     "metadata": {},
     "output_type": "display_data"
    },
    {
     "data": {
      "text/latex": [
       "$\\displaystyle \\operatorname{acsc}{\\left(x \\right)}$"
      ],
      "text/plain": [
       "acsc(x)"
      ]
     },
     "metadata": {},
     "output_type": "display_data"
    },
    {
     "data": {
      "text/latex": [
       "$\\displaystyle \\operatorname{asec}{\\left(x \\right)}$"
      ],
      "text/plain": [
       "asec(x)"
      ]
     },
     "metadata": {},
     "output_type": "display_data"
    },
    {
     "data": {
      "text/latex": [
       "$\\displaystyle \\operatorname{acot}{\\left(x \\right)}$"
      ],
      "text/plain": [
       "acot(x)"
      ]
     },
     "metadata": {},
     "output_type": "display_data"
    }
   ],
   "source": [
    "x,e,i = sp.symbols(\"x e i\")\n",
    "func = sp.asin(x)\n",
    "display(func)\n",
    "\n",
    "func = sp.acos(x)\n",
    "display(func)\n",
    "\n",
    "func = sp.atan(x)\n",
    "display(func)\n",
    "\n",
    "func = sp.acsc(x)\n",
    "display(func)\n",
    "\n",
    "func = sp.asec(x)\n",
    "display(func)\n",
    "\n",
    "func = sp.acot(x)\n",
    "display(func)"
   ]
  },
  {
   "cell_type": "markdown",
   "id": "09a64e0a",
   "metadata": {},
   "source": [
    "<h3>sinh cosh tanh csch sech coth"
   ]
  },
  {
   "cell_type": "code",
   "execution_count": 71,
   "id": "1056aea7",
   "metadata": {
    "scrolled": false
   },
   "outputs": [
    {
     "data": {
      "text/latex": [
       "$\\displaystyle \\sinh{\\left(x \\right)}$"
      ],
      "text/plain": [
       "sinh(x)"
      ]
     },
     "metadata": {},
     "output_type": "display_data"
    },
    {
     "data": {
      "text/latex": [
       "$\\displaystyle \\cosh{\\left(x \\right)}$"
      ],
      "text/plain": [
       "cosh(x)"
      ]
     },
     "metadata": {},
     "output_type": "display_data"
    },
    {
     "data": {
      "text/latex": [
       "$\\displaystyle \\tanh{\\left(x \\right)}$"
      ],
      "text/plain": [
       "tanh(x)"
      ]
     },
     "metadata": {},
     "output_type": "display_data"
    },
    {
     "data": {
      "text/latex": [
       "$\\displaystyle \\operatorname{csch}{\\left(x \\right)}$"
      ],
      "text/plain": [
       "csch(x)"
      ]
     },
     "metadata": {},
     "output_type": "display_data"
    },
    {
     "data": {
      "text/latex": [
       "$\\displaystyle \\operatorname{sech}{\\left(x \\right)}$"
      ],
      "text/plain": [
       "sech(x)"
      ]
     },
     "metadata": {},
     "output_type": "display_data"
    },
    {
     "data": {
      "text/latex": [
       "$\\displaystyle \\coth{\\left(x \\right)}$"
      ],
      "text/plain": [
       "coth(x)"
      ]
     },
     "metadata": {},
     "output_type": "display_data"
    }
   ],
   "source": [
    "x = sp.symbols(\"x\")\n",
    "func = sp.sinh(x)\n",
    "display(func)\n",
    "\n",
    "func = sp.cosh(x)\n",
    "display(func)\n",
    "\n",
    "func = sp.tanh(x)\n",
    "display(func)\n",
    "\n",
    "func = sp.csch(x)\n",
    "display(func)\n",
    "\n",
    "func = sp.sech(x)\n",
    "display(func)\n",
    "\n",
    "func = sp.coth(x)\n",
    "display(func)"
   ]
  },
  {
   "cell_type": "markdown",
   "id": "d4323229",
   "metadata": {},
   "source": [
    "<h3>$\\sinh^{-1} \\cosh^{-1} \\tanh^{-1} csch^{-1} sech^{-1} \\coth^{-1}$"
   ]
  },
  {
   "cell_type": "code",
   "execution_count": 70,
   "id": "b910094a",
   "metadata": {
    "scrolled": true
   },
   "outputs": [
    {
     "data": {
      "text/latex": [
       "$\\displaystyle \\operatorname{asinh}{\\left(x \\right)}$"
      ],
      "text/plain": [
       "asinh(x)"
      ]
     },
     "metadata": {},
     "output_type": "display_data"
    },
    {
     "data": {
      "text/latex": [
       "$\\displaystyle \\operatorname{acosh}{\\left(x \\right)}$"
      ],
      "text/plain": [
       "acosh(x)"
      ]
     },
     "metadata": {},
     "output_type": "display_data"
    },
    {
     "data": {
      "text/latex": [
       "$\\displaystyle \\operatorname{atanh}{\\left(x \\right)}$"
      ],
      "text/plain": [
       "atanh(x)"
      ]
     },
     "metadata": {},
     "output_type": "display_data"
    },
    {
     "data": {
      "text/latex": [
       "$\\displaystyle \\operatorname{acsch}{\\left(x \\right)}$"
      ],
      "text/plain": [
       "acsch(x)"
      ]
     },
     "metadata": {},
     "output_type": "display_data"
    },
    {
     "data": {
      "text/latex": [
       "$\\displaystyle \\operatorname{asech}{\\left(x \\right)}$"
      ],
      "text/plain": [
       "asech(x)"
      ]
     },
     "metadata": {},
     "output_type": "display_data"
    },
    {
     "data": {
      "text/latex": [
       "$\\displaystyle \\operatorname{acoth}{\\left(x \\right)}$"
      ],
      "text/plain": [
       "acoth(x)"
      ]
     },
     "metadata": {},
     "output_type": "display_data"
    }
   ],
   "source": [
    "x = sp.symbols(\"x\")\n",
    "func = sp.asinh(x)\n",
    "display(func)\n",
    "\n",
    "func = sp.acosh(x)\n",
    "display(func)\n",
    "\n",
    "func = sp.atanh(x)\n",
    "display(func)\n",
    "\n",
    "func = sp.acsch(x)\n",
    "display(func)\n",
    "\n",
    "func = sp.asech(x)\n",
    "display(func)\n",
    "\n",
    "func = sp.acoth(x)\n",
    "display(func)"
   ]
  },
  {
   "cell_type": "markdown",
   "id": "2360a2d7",
   "metadata": {},
   "source": [
    "<h3>Limit"
   ]
  },
  {
   "cell_type": "code",
   "execution_count": 77,
   "id": "defd3fdf",
   "metadata": {
    "scrolled": true
   },
   "outputs": [
    {
     "data": {
      "text/latex": [
       "$\\displaystyle \\lim_{n \\to \\infty} \\left(1 + \\frac{1}{n}\\right)^{n}$"
      ],
      "text/plain": [
       "Limit((1 + 1/n)**n, n, oo, dir='-')"
      ]
     },
     "metadata": {},
     "output_type": "display_data"
    }
   ],
   "source": [
    "n = sp.symbols(\"n\")\n",
    "e = (1+1/n)**n\n",
    "limit = sp.Limit(e,n,sp.oo)\n",
    "display(limit)"
   ]
  },
  {
   "cell_type": "markdown",
   "id": "e40b09b7",
   "metadata": {},
   "source": [
    "<h3>diff"
   ]
  },
  {
   "cell_type": "code",
   "execution_count": 85,
   "id": "9fc15a25",
   "metadata": {},
   "outputs": [
    {
     "data": {
      "text/latex": [
       "$\\displaystyle \\frac{d}{d x} f{\\left(x \\right)}$"
      ],
      "text/plain": [
       "Derivative(f(x), x)"
      ]
     },
     "metadata": {},
     "output_type": "display_data"
    }
   ],
   "source": [
    "x = sp.symbols(\"x\")\n",
    "f = sp.Function(\"f\")\n",
    "\n",
    "derivative = sp.diff(f(x),x)\n",
    "\n",
    "display(derivative)"
   ]
  },
  {
   "cell_type": "markdown",
   "id": "e53f5f08",
   "metadata": {},
   "source": [
    "<h3>Derivative"
   ]
  },
  {
   "cell_type": "code",
   "execution_count": 86,
   "id": "da8fe46b",
   "metadata": {},
   "outputs": [
    {
     "data": {
      "text/latex": [
       "$\\displaystyle \\frac{\\partial^{2}}{\\partial y\\partial x} e^{x}$"
      ],
      "text/plain": [
       "Derivative(e**x, x, y)"
      ]
     },
     "metadata": {},
     "output_type": "display_data"
    }
   ],
   "source": [
    "e,x,y = sp.symbols(\"e x y\")\n",
    "\n",
    "derivative = sp.Derivative(e**x,x,y)\n",
    "\n",
    "display(derivative)"
   ]
  },
  {
   "cell_type": "markdown",
   "id": "a6a25d6a",
   "metadata": {},
   "source": [
    "<h3>Integral"
   ]
  },
  {
   "cell_type": "code",
   "execution_count": 118,
   "id": "4af5b816",
   "metadata": {
    "scrolled": true
   },
   "outputs": [
    {
     "data": {
      "text/latex": [
       "$\\displaystyle \\int \\sin{\\left(x \\right)}\\, dx$"
      ],
      "text/plain": [
       "Integral(sin(x), x)"
      ]
     },
     "metadata": {},
     "output_type": "display_data"
    },
    {
     "data": {
      "text/latex": [
       "$\\displaystyle \\int\\limits_{0}^{\\frac{\\pi}{2}} \\sin{\\left(x \\right)}\\, dx$"
      ],
      "text/plain": [
       "Integral(sin(x), (x, 0, pi/2))"
      ]
     },
     "metadata": {},
     "output_type": "display_data"
    },
    {
     "data": {
      "text/latex": [
       "$\\displaystyle \\iint \\sin{\\left(x \\right)} \\cos^{2}{\\left(y \\right)}\\, dx\\, dy$"
      ],
      "text/plain": [
       "Integral(sin(x)*cos(y)**2, x, y)"
      ]
     },
     "metadata": {},
     "output_type": "display_data"
    },
    {
     "data": {
      "text/latex": [
       "$\\displaystyle \\int\\limits_{\\frac{\\pi}{4}}^{\\frac{3 \\pi}{4}}\\int\\limits_{0}^{\\frac{\\pi}{2}} \\sin{\\left(x \\right)} \\cos^{2}{\\left(y \\right)}\\, dx\\, dy$"
      ],
      "text/plain": [
       "Integral(sin(x)*cos(y)**2, (x, 0, pi/2), (y, pi/4, 3*pi/4))"
      ]
     },
     "metadata": {},
     "output_type": "display_data"
    }
   ],
   "source": [
    "x,y,pi = sp.symbols(\"x y pi\")\n",
    "\n",
    "indefinite = sp.Integral(sp.sin(x),x)\n",
    "display(indefinite)\n",
    "\n",
    "definite = sp.Integral(sp.sin(x),(x,0,pi/2))\n",
    "display(definite)\n",
    "\n",
    "double_indefinite = sp.Integral(sp.sin(x)*sp.cos(y)**2,x,y)\n",
    "display(double_indefinite)\n",
    "\n",
    "double_definite = sp.Integral(sp.sin(x)*sp.cos(y)**2,(x,0,pi/2),(y,pi/4,3*pi/4))\n",
    "display(double_definite)"
   ]
  },
  {
   "cell_type": "markdown",
   "id": "3bf20491",
   "metadata": {},
   "source": [
    "<h3>Matrix"
   ]
  },
  {
   "cell_type": "code",
   "execution_count": 120,
   "id": "ca9f3491",
   "metadata": {
    "scrolled": true
   },
   "outputs": [
    {
     "data": {
      "text/latex": [
       "$\\displaystyle \\left[\\begin{matrix}1 & 0 & 0\\\\0 & 1 & 0\\\\0 & 0 & 1\\end{matrix}\\right]$"
      ],
      "text/plain": [
       "Matrix([\n",
       "[1, 0, 0],\n",
       "[0, 1, 0],\n",
       "[0, 0, 1]])"
      ]
     },
     "metadata": {},
     "output_type": "display_data"
    }
   ],
   "source": [
    "matrix = sp.Matrix([[1,0,0],[0,1,0],[0,0,1]])\n",
    "display(matrix)"
   ]
  }
 ],
 "metadata": {
  "kernelspec": {
   "display_name": "Python 3 (ipykernel)",
   "language": "python",
   "name": "python3"
  },
  "language_info": {
   "codemirror_mode": {
    "name": "ipython",
    "version": 3
   },
   "file_extension": ".py",
   "mimetype": "text/x-python",
   "name": "python",
   "nbconvert_exporter": "python",
   "pygments_lexer": "ipython3",
   "version": "3.10.0"
  }
 },
 "nbformat": 4,
 "nbformat_minor": 5
}
