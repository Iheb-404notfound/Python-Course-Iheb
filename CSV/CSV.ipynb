{
 "cells": [
  {
   "cell_type": "markdown",
   "id": "5f1afbeb",
   "metadata": {},
   "source": [
    "<center><h1>CSV"
   ]
  },
  {
   "cell_type": "code",
   "execution_count": 1,
   "id": "ed131828",
   "metadata": {},
   "outputs": [],
   "source": [
    "import csv"
   ]
  },
  {
   "cell_type": "markdown",
   "id": "26892ac5",
   "metadata": {},
   "source": [
    "<h3>reader"
   ]
  },
  {
   "cell_type": "code",
   "execution_count": 2,
   "id": "8461087b",
   "metadata": {
    "scrolled": true
   },
   "outputs": [
    {
     "name": "stdout",
     "output_type": "stream",
     "text": [
      "one then two then three\n"
     ]
    }
   ],
   "source": [
    "reader = csv.reader(['one,two,three'])\n",
    "for line in reader:\n",
    "    print(\" then \".join(line))"
   ]
  },
  {
   "cell_type": "code",
   "execution_count": 3,
   "id": "be9abc31",
   "metadata": {
    "scrolled": false
   },
   "outputs": [
    {
     "name": "stdout",
     "output_type": "stream",
     "text": [
      "art! orbit! condition! to! avoid! electric\n",
      "thought! citizen! nearer! fair! letter! difficulty\n",
      "forward! sat! bound! spend! quiet! blew\n",
      "dog! melted! conversation! including! carefully! flower\n",
      "headed! brain! buried! drink! small! folks\n",
      "neck! size! blow! night! money! program\n",
      "north! but! stone! equally! crop! excellent\n"
     ]
    }
   ],
   "source": [
    "with open(\"random.csv\",\"r\") as f:\n",
    "    reader = csv.reader(f,delimiter=\",\",quotechar='\"')\n",
    "    for line in reader:\n",
    "        print(\"! \".join(line))"
   ]
  },
  {
   "cell_type": "markdown",
   "id": "6b5e3351",
   "metadata": {},
   "source": [
    "<h3>writer"
   ]
  },
  {
   "cell_type": "code",
   "execution_count": 4,
   "id": "a71f3463",
   "metadata": {
    "scrolled": true
   },
   "outputs": [],
   "source": [
    "with open(\"Legends.csv\",\"w\") as f:\n",
    "    writer = csv.writer(f,delimiter=\",\")\n",
    "    writer.writerow([\"Isaac Newton\",\"Aristotle\",\"Erwin schrodinger\"])\n",
    "    writer.writerow([\"Albert Einstein\",\"Niels Bohr\",\"Stephen Hawking\",\"Michael Faraday\"])\n",
    "    writer.writerow([\"James Clerk Maxwell\",\"Galileo Galilei\",\"Richard Feynman\",\"Marie Curie\"])"
   ]
  },
  {
   "cell_type": "markdown",
   "id": "a7347c88",
   "metadata": {},
   "source": [
    "<h3>DictReader"
   ]
  },
  {
   "cell_type": "code",
   "execution_count": 5,
   "id": "0d42304c",
   "metadata": {
    "scrolled": true
   },
   "outputs": [
    {
     "name": "stdout",
     "output_type": "stream",
     "text": [
      "Name       Proton\n",
      "Hydrogen   1\n",
      "Helium     2\n",
      "Lithium    3\n",
      "Beryllium  4\n",
      "Boron      5\n",
      "Carbon     6\n",
      "Nitorgen   7\n",
      "Oxygen     8\n",
      "Fluorine   9\n",
      "Neon       10\n"
     ]
    }
   ],
   "source": [
    "with open(\"atoms.csv\",\"r\") as f:\n",
    "    table = csv.DictReader(f,fieldnames=(\"Name\",\"Proton\"))\n",
    "    for row in table:\n",
    "        symbol = row[\"Name\"]\n",
    "        proton = row[\"Proton\"]\n",
    "        print(symbol + ( 11 - len(symbol) ) * ' ' + proton)"
   ]
  },
  {
   "cell_type": "markdown",
   "id": "6328536a",
   "metadata": {},
   "source": [
    "<h3>DictWriter"
   ]
  },
  {
   "cell_type": "code",
   "execution_count": 6,
   "id": "5d04e748",
   "metadata": {
    "scrolled": true
   },
   "outputs": [],
   "source": [
    "with open(\"atoms.csv\",\"a\") as f:\n",
    "    table = csv.DictWriter(f,fieldnames=(\"Name\",\"Proton\"))\n",
    "    table.writerow(dict(Name=\"Sodium\",Proton=11))\n",
    "    table.writerow(dict(Name=\"Magnesium\",Proton=12))\n",
    "    table.writerow(dict(Name=\"Aluminium\",Proton=13))"
   ]
  }
 ],
 "metadata": {
  "kernelspec": {
   "display_name": "Python 3 (ipykernel)",
   "language": "python",
   "name": "python3"
  },
  "language_info": {
   "codemirror_mode": {
    "name": "ipython",
    "version": 3
   },
   "file_extension": ".py",
   "mimetype": "text/x-python",
   "name": "python",
   "nbconvert_exporter": "python",
   "pygments_lexer": "ipython3",
   "version": "3.10.0"
  }
 },
 "nbformat": 4,
 "nbformat_minor": 5
}
