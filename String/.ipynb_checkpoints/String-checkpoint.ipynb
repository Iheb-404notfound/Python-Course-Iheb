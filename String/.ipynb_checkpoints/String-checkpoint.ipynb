{
 "cells": [
  {
   "cell_type": "markdown",
   "id": "9d08c963",
   "metadata": {},
   "source": [
    "<center><h1>string"
   ]
  },
  {
   "cell_type": "code",
   "execution_count": 1,
   "id": "0c460f5e",
   "metadata": {
    "scrolled": true
   },
   "outputs": [
    {
     "name": "stdout",
     "output_type": "stream",
     "text": [
      "picklez are salty cucumberz\n"
     ]
    }
   ],
   "source": [
    "s = \"picklez are salty cucumberz\"\n",
    "print(s)"
   ]
  },
  {
   "cell_type": "markdown",
   "id": "c57ebf46",
   "metadata": {},
   "source": [
    "<h3>str[index]"
   ]
  },
  {
   "cell_type": "code",
   "execution_count": 2,
   "id": "513c5ac9",
   "metadata": {},
   "outputs": [
    {
     "name": "stdout",
     "output_type": "stream",
     "text": [
      "p\n",
      "i\n",
      "z\n"
     ]
    }
   ],
   "source": [
    "s = \"picklez are salty cucumberz\"\n",
    "print(s[0])\n",
    "print(s[1])\n",
    "print(s[-1])"
   ]
  },
  {
   "cell_type": "markdown",
   "id": "95b40de4",
   "metadata": {},
   "source": [
    "<h3>str[start:end:step]"
   ]
  },
  {
   "cell_type": "code",
   "execution_count": 3,
   "id": "400fcf13",
   "metadata": {
    "scrolled": true
   },
   "outputs": [
    {
     "name": "stdout",
     "output_type": "stream",
     "text": [
      "pickle\n",
      "are salty cucumberz\n",
      "pclzaeslyccmez\n"
     ]
    }
   ],
   "source": [
    "s = \"picklez are salty cucumberz\"\n",
    "print(s[:6])\n",
    "print(s[8:])\n",
    "print(s[::2])"
   ]
  },
  {
   "cell_type": "markdown",
   "id": "30716259",
   "metadata": {},
   "source": [
    "<h3>fstring"
   ]
  },
  {
   "cell_type": "code",
   "execution_count": 4,
   "id": "e9386310",
   "metadata": {
    "scrolled": true
   },
   "outputs": [
    {
     "name": "stdout",
     "output_type": "stream",
     "text": [
      "picklez are salty cucumberz\n",
      "picklez are {taste} cucumberz\n",
      "picklez are salty cucumberz\n"
     ]
    }
   ],
   "source": [
    "taste = \"salty\"\n",
    "\n",
    "s = f\"picklez are {taste} cucumberz\"\n",
    "print(s)\n",
    "\n",
    "s = \"picklez are {taste} cucumberz\"\n",
    "print(s)\n",
    "\n",
    "s = \"picklez are %s cucumberz\"%taste\n",
    "print(s)"
   ]
  },
  {
   "cell_type": "code",
   "execution_count": 5,
   "id": "87902ed5",
   "metadata": {
    "scrolled": true
   },
   "outputs": [
    {
     "name": "stdout",
     "output_type": "stream",
     "text": [
      "the speed of light is 299,792,458 m/s\n"
     ]
    }
   ],
   "source": [
    "c = 299_792_458\n",
    "print(f\"the speed of light is {c:,} m/s\")"
   ]
  },
  {
   "cell_type": "markdown",
   "id": "570cc921",
   "metadata": {},
   "source": [
    "<h3>rstring"
   ]
  },
  {
   "cell_type": "code",
   "execution_count": 6,
   "id": "451e9e83",
   "metadata": {
    "scrolled": true
   },
   "outputs": [
    {
     "name": "stdout",
     "output_type": "stream",
     "text": [
      "picklez \n",
      " are \t salty cucumberz\n",
      "picklez \\n are \\t salty cucumberz\n"
     ]
    }
   ],
   "source": [
    "s = \"picklez \\n are \\t salty cucumberz\"\n",
    "print(s)\n",
    "\n",
    "s = r\"picklez \\n are \\t salty cucumberz\"\n",
    "print(s)"
   ]
  },
  {
   "cell_type": "markdown",
   "id": "eb2c4a8e",
   "metadata": {},
   "source": [
    "<h3>bytes"
   ]
  },
  {
   "cell_type": "code",
   "execution_count": 7,
   "id": "d1e453d7",
   "metadata": {},
   "outputs": [
    {
     "name": "stdout",
     "output_type": "stream",
     "text": [
      "b'picklez are salty cucumberz'\n",
      "b'p'\n"
     ]
    }
   ],
   "source": [
    "byte = b\"\\x70icklez are salty cucumberz\"\n",
    "print(byte)\n",
    "\n",
    "print(bytes(b\"\\x70\"))"
   ]
  },
  {
   "cell_type": "markdown",
   "id": "4348684f",
   "metadata": {},
   "source": [
    "<h3>unicode"
   ]
  },
  {
   "cell_type": "code",
   "execution_count": 8,
   "id": "258dc03f",
   "metadata": {
    "scrolled": true
   },
   "outputs": [
    {
     "name": "stdout",
     "output_type": "stream",
     "text": [
      "pÎcklez are salty cucumberz\n"
     ]
    }
   ],
   "source": [
    "unicoded = u\"p\\xcecklez are salty cucumberz\"\n",
    "print(unicoded)"
   ]
  },
  {
   "cell_type": "markdown",
   "id": "697d525e",
   "metadata": {},
   "source": [
    "<h3>capitalize"
   ]
  },
  {
   "cell_type": "code",
   "execution_count": 9,
   "id": "22c1f314",
   "metadata": {},
   "outputs": [
    {
     "name": "stdout",
     "output_type": "stream",
     "text": [
      "Picklez are salty cucumberz\n"
     ]
    }
   ],
   "source": [
    "s = \"pickleZ are salty cucumberz\"\n",
    "print(s.capitalize())"
   ]
  },
  {
   "cell_type": "markdown",
   "id": "6c8f005b",
   "metadata": {},
   "source": [
    "<h3>casefold"
   ]
  },
  {
   "cell_type": "code",
   "execution_count": 10,
   "id": "df4944a0",
   "metadata": {
    "scrolled": true
   },
   "outputs": [
    {
     "name": "stdout",
     "output_type": "stream",
     "text": [
      "picklez are salty cucumberz\n"
     ]
    }
   ],
   "source": [
    "s = \"pickleZ are salty cucumberz\"\n",
    "print(s.casefold())"
   ]
  },
  {
   "cell_type": "markdown",
   "id": "a3bf9beb",
   "metadata": {},
   "source": [
    "<h3>upper"
   ]
  },
  {
   "cell_type": "code",
   "execution_count": 11,
   "id": "db77738c",
   "metadata": {
    "scrolled": true
   },
   "outputs": [
    {
     "name": "stdout",
     "output_type": "stream",
     "text": [
      "PICKLEZ ARE SALTY CUCUMBERZ\n"
     ]
    }
   ],
   "source": [
    "s = \"pickleZ ARE salty cucumberz\"\n",
    "print(s.upper())"
   ]
  },
  {
   "cell_type": "markdown",
   "id": "21def9cf",
   "metadata": {},
   "source": [
    "<h3>isupper"
   ]
  },
  {
   "cell_type": "code",
   "execution_count": 12,
   "id": "43e4ff5c",
   "metadata": {},
   "outputs": [
    {
     "name": "stdout",
     "output_type": "stream",
     "text": [
      "False\n",
      "True\n"
     ]
    }
   ],
   "source": [
    "s = \"picklez are salty cucumberz\"\n",
    "print(s.isupper())\n",
    "\n",
    "s = \"PICKLEZ ARE SALTY CUCUMBERZ\"\n",
    "print(s.isupper())"
   ]
  },
  {
   "cell_type": "markdown",
   "id": "59cca986",
   "metadata": {},
   "source": [
    "<h3>lower"
   ]
  },
  {
   "cell_type": "code",
   "execution_count": 13,
   "id": "2057f117",
   "metadata": {},
   "outputs": [
    {
     "name": "stdout",
     "output_type": "stream",
     "text": [
      "picklez are salty cucumberz\n"
     ]
    }
   ],
   "source": [
    "s = \"pickleZ ARE salty cucumberz\"\n",
    "print(s.lower())"
   ]
  },
  {
   "cell_type": "markdown",
   "id": "c34378fe",
   "metadata": {},
   "source": [
    "<h3>islower"
   ]
  },
  {
   "cell_type": "code",
   "execution_count": 14,
   "id": "3ca6473c",
   "metadata": {},
   "outputs": [
    {
     "name": "stdout",
     "output_type": "stream",
     "text": [
      "True\n",
      "False\n"
     ]
    }
   ],
   "source": [
    "s = \"picklez are salty cucumberz\"\n",
    "print(s.islower())\n",
    "\n",
    "s = \"pickleZ are salty cucumberz\"\n",
    "print(s.islower())"
   ]
  },
  {
   "cell_type": "markdown",
   "id": "abb78b66",
   "metadata": {},
   "source": [
    "<h3>swapcase"
   ]
  },
  {
   "cell_type": "code",
   "execution_count": 15,
   "id": "9c55a430",
   "metadata": {
    "scrolled": false
   },
   "outputs": [
    {
     "name": "stdout",
     "output_type": "stream",
     "text": [
      "PICKLEz arE SALTY CUCUMBERZ\n"
     ]
    }
   ],
   "source": [
    "s = \"pickleZ ARe salty cucumberz\"\n",
    "print(s.swapcase())"
   ]
  },
  {
   "cell_type": "markdown",
   "id": "8fd8466c",
   "metadata": {},
   "source": [
    "<h3>title"
   ]
  },
  {
   "cell_type": "code",
   "execution_count": 16,
   "id": "4c665e72",
   "metadata": {},
   "outputs": [
    {
     "name": "stdout",
     "output_type": "stream",
     "text": [
      "Picklez Are Salty Cucumberz\n"
     ]
    }
   ],
   "source": [
    "s = \"picklez are salty cucumberz\"\n",
    "print(s.title())"
   ]
  },
  {
   "cell_type": "markdown",
   "id": "d491edbf",
   "metadata": {},
   "source": [
    "<h3>istitle"
   ]
  },
  {
   "cell_type": "code",
   "execution_count": 17,
   "id": "5a2496d0",
   "metadata": {
    "scrolled": true
   },
   "outputs": [
    {
     "name": "stdout",
     "output_type": "stream",
     "text": [
      "False\n",
      "True\n"
     ]
    }
   ],
   "source": [
    "s = \"picklez are salty cucumberz\"\n",
    "print(s.istitle())\n",
    "\n",
    "s = \"Picklez Are Salty Cucumberz\"\n",
    "print(s.istitle())"
   ]
  },
  {
   "cell_type": "markdown",
   "id": "cd046bb3",
   "metadata": {},
   "source": [
    "<h3>count"
   ]
  },
  {
   "cell_type": "code",
   "execution_count": 18,
   "id": "75eeed75",
   "metadata": {},
   "outputs": [
    {
     "data": {
      "text/plain": [
       "2"
      ]
     },
     "execution_count": 18,
     "metadata": {},
     "output_type": "execute_result"
    }
   ],
   "source": [
    "s = \"picklez are salty cucumberzZ\"\n",
    "s.count(\"z\")"
   ]
  },
  {
   "cell_type": "markdown",
   "id": "d3cabc5e",
   "metadata": {},
   "source": [
    "<h3>startswith"
   ]
  },
  {
   "cell_type": "code",
   "execution_count": 19,
   "id": "c923239c",
   "metadata": {},
   "outputs": [
    {
     "data": {
      "text/plain": [
       "True"
      ]
     },
     "execution_count": 19,
     "metadata": {},
     "output_type": "execute_result"
    }
   ],
   "source": [
    "s = \"picklez are salty cucumberz\"\n",
    "s.startswith(\"pi\")"
   ]
  },
  {
   "cell_type": "markdown",
   "id": "acdf0645",
   "metadata": {},
   "source": [
    "<h3>endswith"
   ]
  },
  {
   "cell_type": "code",
   "execution_count": 20,
   "id": "8e501c00",
   "metadata": {},
   "outputs": [
    {
     "data": {
      "text/plain": [
       "True"
      ]
     },
     "execution_count": 20,
     "metadata": {},
     "output_type": "execute_result"
    }
   ],
   "source": [
    "s = \"picklez are salty cucumberz\"\n",
    "s.endswith(\"z\")"
   ]
  },
  {
   "cell_type": "markdown",
   "id": "1d2911cb",
   "metadata": {},
   "source": [
    "<h3>find"
   ]
  },
  {
   "cell_type": "code",
   "execution_count": 21,
   "id": "e57b4f49",
   "metadata": {},
   "outputs": [
    {
     "data": {
      "text/plain": [
       "12"
      ]
     },
     "execution_count": 21,
     "metadata": {},
     "output_type": "execute_result"
    }
   ],
   "source": [
    "s = \"picklez are salty cucumberz\"\n",
    "s.find(\"salty\")"
   ]
  },
  {
   "cell_type": "markdown",
   "id": "84b28ec9",
   "metadata": {},
   "source": [
    "<h3>format"
   ]
  },
  {
   "cell_type": "code",
   "execution_count": 22,
   "id": "c94b0798",
   "metadata": {},
   "outputs": [
    {
     "data": {
      "text/plain": [
       "'picklez are salty cucumberz'"
      ]
     },
     "execution_count": 22,
     "metadata": {},
     "output_type": "execute_result"
    }
   ],
   "source": [
    "s = \"picklez are {} cucumberz\"\n",
    "s.format(\"salty\")"
   ]
  },
  {
   "cell_type": "markdown",
   "id": "79b3862d",
   "metadata": {},
   "source": [
    "<h3>isalpha"
   ]
  },
  {
   "cell_type": "code",
   "execution_count": 23,
   "id": "179c7150",
   "metadata": {},
   "outputs": [
    {
     "name": "stdout",
     "output_type": "stream",
     "text": [
      "False\n",
      "True\n"
     ]
    }
   ],
   "source": [
    "s = \"picklez are salty cucumberz\"\n",
    "print(s.isalpha())\n",
    "s = \"picklezAreSaltyCucumberz\"\n",
    "print(s.isalpha())"
   ]
  },
  {
   "cell_type": "markdown",
   "id": "d5a29c82",
   "metadata": {},
   "source": [
    "<h3>isalnum"
   ]
  },
  {
   "cell_type": "code",
   "execution_count": 24,
   "id": "894c7a73",
   "metadata": {},
   "outputs": [
    {
     "name": "stdout",
     "output_type": "stream",
     "text": [
      "False\n",
      "True\n"
     ]
    }
   ],
   "source": [
    "s = \"picklez are salty cucumberz\"\n",
    "print(s.isalnum())\n",
    "\n",
    "s = \"pickleZare10saltyCucumberz\"\n",
    "print(s.isalnum())"
   ]
  },
  {
   "cell_type": "markdown",
   "id": "17ad41ea",
   "metadata": {},
   "source": [
    "<h3>isnumeric"
   ]
  },
  {
   "cell_type": "code",
   "execution_count": 25,
   "id": "e084fa7a",
   "metadata": {
    "scrolled": true
   },
   "outputs": [
    {
     "name": "stdout",
     "output_type": "stream",
     "text": [
      "False\n",
      "True\n"
     ]
    }
   ],
   "source": [
    "s = \"picklez are salty cucumberz\"\n",
    "print(s.isnumeric())\n",
    "\n",
    "s = \"425\"\n",
    "print(s.isnumeric())"
   ]
  },
  {
   "cell_type": "markdown",
   "id": "c8d2479a",
   "metadata": {},
   "source": [
    "<h3>isascii"
   ]
  },
  {
   "cell_type": "code",
   "execution_count": 26,
   "id": "a72d8a5f",
   "metadata": {},
   "outputs": [
    {
     "name": "stdout",
     "output_type": "stream",
     "text": [
      "True\n",
      "False\n"
     ]
    }
   ],
   "source": [
    "s = \"picklez are salty cucumberz\"\n",
    "print(s.isascii())\n",
    "\n",
    "s = \"picklez are salty cucumberz☢\"\n",
    "print(s.isascii())"
   ]
  },
  {
   "cell_type": "markdown",
   "id": "bb9e4ec7",
   "metadata": {},
   "source": [
    "<h3>isprintable"
   ]
  },
  {
   "cell_type": "code",
   "execution_count": 27,
   "id": "c034fea1",
   "metadata": {},
   "outputs": [
    {
     "name": "stdout",
     "output_type": "stream",
     "text": [
      "True\n",
      "False\n"
     ]
    }
   ],
   "source": [
    "s = \"picklez are salty cucumberz☢\"\n",
    "print(s.isprintable())\n",
    "\n",
    "s = \"picklez\\n are salty cucumberz☢\"\n",
    "print(s.isprintable())"
   ]
  },
  {
   "cell_type": "markdown",
   "id": "55ae2104",
   "metadata": {},
   "source": [
    "<h3>isdecimal"
   ]
  },
  {
   "cell_type": "code",
   "execution_count": 28,
   "id": "daaa0d22",
   "metadata": {},
   "outputs": [
    {
     "name": "stdout",
     "output_type": "stream",
     "text": [
      "False\n",
      "True\n"
     ]
    }
   ],
   "source": [
    "s = \"12 picklez are 12 salty cucumberz\"\n",
    "print(s.isdecimal())\n",
    "\n",
    "s = \"1212\"\n",
    "print(s.isdecimal())"
   ]
  },
  {
   "cell_type": "markdown",
   "id": "0dd3f98f",
   "metadata": {},
   "source": [
    "<h3>isdigit"
   ]
  },
  {
   "cell_type": "code",
   "execution_count": 29,
   "id": "2fd0cea8",
   "metadata": {},
   "outputs": [
    {
     "name": "stdout",
     "output_type": "stream",
     "text": [
      "False\n",
      "True\n"
     ]
    }
   ],
   "source": [
    "s = \"p\"\n",
    "print(s.isdigit())\n",
    "\n",
    "s = \"12\"\n",
    "print(s.isdigit())"
   ]
  },
  {
   "cell_type": "markdown",
   "id": "94b465bc",
   "metadata": {},
   "source": [
    "<h3>isidentifier"
   ]
  },
  {
   "cell_type": "code",
   "execution_count": 30,
   "id": "4a9393d5",
   "metadata": {
    "scrolled": true
   },
   "outputs": [
    {
     "name": "stdout",
     "output_type": "stream",
     "text": [
      "False\n",
      "True\n"
     ]
    }
   ],
   "source": [
    "s = \"12picklez\"\n",
    "print(s.isidentifier())\n",
    "\n",
    "s = \"picklez12\"\n",
    "print(s.isidentifier())"
   ]
  },
  {
   "cell_type": "markdown",
   "id": "23f9a873",
   "metadata": {},
   "source": [
    "<h3>isspace"
   ]
  },
  {
   "cell_type": "code",
   "execution_count": 31,
   "id": "3b27a006",
   "metadata": {
    "scrolled": true
   },
   "outputs": [
    {
     "name": "stdout",
     "output_type": "stream",
     "text": [
      "False\n",
      "True\n"
     ]
    }
   ],
   "source": [
    "s = \" picklez are salty cucumberz\"\n",
    "print(s.isspace())\n",
    "s = \"   \"\n",
    "print(s.isspace())"
   ]
  },
  {
   "cell_type": "markdown",
   "id": "28c0bacd",
   "metadata": {},
   "source": [
    "<h3>partition"
   ]
  },
  {
   "cell_type": "code",
   "execution_count": 32,
   "id": "0d614923",
   "metadata": {
    "scrolled": true
   },
   "outputs": [
    {
     "name": "stdout",
     "output_type": "stream",
     "text": [
      "('pickl', 'e', 'z are salty cucumberz')\n"
     ]
    }
   ],
   "source": [
    "s = \"picklez are salty cucumberz\"\n",
    "print(s.partition(\"e\"))"
   ]
  },
  {
   "cell_type": "markdown",
   "id": "af46ddcd",
   "metadata": {},
   "source": [
    "<h3>rpartition"
   ]
  },
  {
   "cell_type": "code",
   "execution_count": 33,
   "id": "fde032d1",
   "metadata": {
    "scrolled": false
   },
   "outputs": [
    {
     "data": {
      "text/plain": [
       "('picklez are salty cucumb', 'e', 'rz')"
      ]
     },
     "execution_count": 33,
     "metadata": {},
     "output_type": "execute_result"
    }
   ],
   "source": [
    "s = \"picklez are salty cucumberz\"\n",
    "s.rpartition(\"e\")"
   ]
  },
  {
   "cell_type": "markdown",
   "id": "07f848bb",
   "metadata": {},
   "source": [
    "<h3>rsplit"
   ]
  },
  {
   "cell_type": "code",
   "execution_count": 34,
   "id": "ce6b9d64",
   "metadata": {
    "scrolled": true
   },
   "outputs": [
    {
     "name": "stdout",
     "output_type": "stream",
     "text": [
      "['pickl', 'z ar', ' salty cucumb', 'rz']\n"
     ]
    }
   ],
   "source": [
    "s = \"picklez are salty cucumberz\"\n",
    "print(s.rsplit(\"e\"))"
   ]
  },
  {
   "cell_type": "markdown",
   "id": "d2f2e57e",
   "metadata": {},
   "source": [
    "<h3>split"
   ]
  },
  {
   "cell_type": "code",
   "execution_count": 35,
   "id": "c5251cb7",
   "metadata": {
    "scrolled": true
   },
   "outputs": [
    {
     "name": "stdout",
     "output_type": "stream",
     "text": [
      "['pickl', 'z ar', ' salty cucumb', 'rz']\n"
     ]
    }
   ],
   "source": [
    "s = \"picklez are salty cucumberz\"\n",
    "print(s.split(\"e\"))"
   ]
  },
  {
   "cell_type": "markdown",
   "id": "f46c1183",
   "metadata": {},
   "source": [
    "<h3>join"
   ]
  },
  {
   "cell_type": "code",
   "execution_count": 36,
   "id": "c9c4d141",
   "metadata": {
    "scrolled": true
   },
   "outputs": [
    {
     "name": "stdout",
     "output_type": "stream",
     "text": [
      "picklez are salty cucumberz\n"
     ]
    }
   ],
   "source": [
    "s = \"e\"\n",
    "print( s.join(['pickl', 'z ar', ' salty cucumb', 'rz']) )"
   ]
  },
  {
   "cell_type": "markdown",
   "id": "6583eb4c",
   "metadata": {},
   "source": [
    "<h3>translate"
   ]
  },
  {
   "cell_type": "code",
   "execution_count": 37,
   "id": "f4875a23",
   "metadata": {},
   "outputs": [
    {
     "name": "stdout",
     "output_type": "stream",
     "text": [
      "Ficklez are salty cucumberz\n"
     ]
    }
   ],
   "source": [
    "s = \"picklez are salty cucumberz\"\n",
    "translation_table = {ord(\"p\"):ord(\"F\")}\n",
    "translated = s.translate(translation_table)\n",
    "\n",
    "print(translated)"
   ]
  },
  {
   "cell_type": "markdown",
   "id": "ffc028ba",
   "metadata": {},
   "source": [
    "<h3>maketrans"
   ]
  },
  {
   "cell_type": "code",
   "execution_count": 38,
   "id": "539fc8ba",
   "metadata": {
    "scrolled": true
   },
   "outputs": [
    {
     "name": "stdout",
     "output_type": "stream",
     "text": [
      "{112: 70}\n",
      "{112: 70}\n"
     ]
    }
   ],
   "source": [
    "print(str.maketrans(\"p\",\"F\"))\n",
    "\n",
    "print({ord(\"p\"):ord(\"F\")})"
   ]
  },
  {
   "cell_type": "markdown",
   "id": "fcb6ce19",
   "metadata": {},
   "source": [
    "<h3>removeprefix"
   ]
  },
  {
   "cell_type": "code",
   "execution_count": 39,
   "id": "2a1b8c74",
   "metadata": {},
   "outputs": [
    {
     "name": "stdout",
     "output_type": "stream",
     "text": [
      "lez are salty cucumberz\n"
     ]
    }
   ],
   "source": [
    "s = \"picklez are salty cucumberz\"\n",
    "print(s.removeprefix(\"pick\"))"
   ]
  },
  {
   "cell_type": "markdown",
   "id": "756f1969",
   "metadata": {},
   "source": [
    "<h3>removesuffix"
   ]
  },
  {
   "cell_type": "code",
   "execution_count": 40,
   "id": "4f11f204",
   "metadata": {},
   "outputs": [
    {
     "name": "stdout",
     "output_type": "stream",
     "text": [
      "picklez are salty cucumb\n"
     ]
    }
   ],
   "source": [
    "s = \"picklez are salty cucumberz\"\n",
    "print(s.removesuffix(\"erz\"))"
   ]
  },
  {
   "cell_type": "markdown",
   "id": "9b97c79f",
   "metadata": {},
   "source": [
    "<h3>replace"
   ]
  },
  {
   "cell_type": "code",
   "execution_count": 41,
   "id": "2e77ab9c",
   "metadata": {},
   "outputs": [
    {
     "name": "stdout",
     "output_type": "stream",
     "text": [
      "pickles are salty cucumbers\n"
     ]
    }
   ],
   "source": [
    "s = \"picklez are salty cucumberz\"\n",
    "print(s.replace(\"z\",\"s\"))"
   ]
  },
  {
   "cell_type": "markdown",
   "id": "f0b291c3",
   "metadata": {},
   "source": [
    "<h3>rfind"
   ]
  },
  {
   "cell_type": "code",
   "execution_count": 42,
   "id": "6790a871",
   "metadata": {
    "scrolled": true
   },
   "outputs": [
    {
     "name": "stdout",
     "output_type": "stream",
     "text": [
      "24\n"
     ]
    }
   ],
   "source": [
    "s = \"picklez are salty cucumberz\"\n",
    "print(s.rfind(\"e\"))"
   ]
  },
  {
   "cell_type": "markdown",
   "id": "742a28cf",
   "metadata": {},
   "source": [
    "<h3>rindex"
   ]
  },
  {
   "cell_type": "code",
   "execution_count": 43,
   "id": "020b081b",
   "metadata": {},
   "outputs": [
    {
     "name": "stdout",
     "output_type": "stream",
     "text": [
      "24\n"
     ]
    }
   ],
   "source": [
    "s = \"picklez are salty cucumberz\"\n",
    "print(s.rindex(\"e\"))"
   ]
  },
  {
   "cell_type": "markdown",
   "id": "7fc1fc5b",
   "metadata": {},
   "source": [
    "<h3>strip"
   ]
  },
  {
   "cell_type": "code",
   "execution_count": 44,
   "id": "5ef6c4e0",
   "metadata": {},
   "outputs": [
    {
     "data": {
      "text/plain": [
       "'picklez are salty cucumberz'"
      ]
     },
     "execution_count": 44,
     "metadata": {},
     "output_type": "execute_result"
    }
   ],
   "source": [
    "s = \"  picklez are salty cucumberz  \"\n",
    "s.strip()"
   ]
  },
  {
   "cell_type": "markdown",
   "id": "243896b6",
   "metadata": {},
   "source": [
    "<h3>lstrip"
   ]
  },
  {
   "cell_type": "code",
   "execution_count": 45,
   "id": "e051f03a",
   "metadata": {},
   "outputs": [
    {
     "data": {
      "text/plain": [
       "'picklez are salty cucumberz  '"
      ]
     },
     "execution_count": 45,
     "metadata": {},
     "output_type": "execute_result"
    }
   ],
   "source": [
    "s = \"  picklez are salty cucumberz  \"\n",
    "s.lstrip()"
   ]
  },
  {
   "cell_type": "markdown",
   "id": "8e97da46",
   "metadata": {},
   "source": [
    "<h3>rstrip"
   ]
  },
  {
   "cell_type": "code",
   "execution_count": 46,
   "id": "4f1aa150",
   "metadata": {},
   "outputs": [
    {
     "data": {
      "text/plain": [
       "' picklez are salty cucumberz'"
      ]
     },
     "execution_count": 46,
     "metadata": {},
     "output_type": "execute_result"
    }
   ],
   "source": [
    "s = \" picklez are salty cucumberz  \"\n",
    "s.rstrip()"
   ]
  },
  {
   "cell_type": "markdown",
   "id": "37632f46",
   "metadata": {},
   "source": [
    "<h3>splitlines"
   ]
  },
  {
   "cell_type": "code",
   "execution_count": 47,
   "id": "3986565b",
   "metadata": {},
   "outputs": [
    {
     "name": "stdout",
     "output_type": "stream",
     "text": [
      "['picklez ', 'are salty cucumberz']\n"
     ]
    }
   ],
   "source": [
    "s = \"picklez \\nare salty cucumberz\"\n",
    "print(s.splitlines())"
   ]
  },
  {
   "cell_type": "markdown",
   "id": "ad75c200",
   "metadata": {},
   "source": [
    "<h3>encoding"
   ]
  },
  {
   "cell_type": "code",
   "execution_count": 48,
   "id": "a3ce2f9c",
   "metadata": {},
   "outputs": [
    {
     "data": {
      "text/plain": [
       "b'\\xff\\xfe\\x00\\x00p\\x00\\x00\\x00i\\x00\\x00\\x00c\\x00\\x00\\x00k\\x00\\x00\\x00l\\x00\\x00\\x00e\\x00\\x00\\x00z\\x00\\x00\\x00 \\x00\\x00\\x00a\\x00\\x00\\x00r\\x00\\x00\\x00e\\x00\\x00\\x00 \\x00\\x00\\x00s\\x00\\x00\\x00a\\x00\\x00\\x00l\\x00\\x00\\x00t\\x00\\x00\\x00y\\x00\\x00\\x00 \\x00\\x00\\x00c\\x00\\x00\\x00u\\x00\\x00\\x00c\\x00\\x00\\x00u\\x00\\x00\\x00m\\x00\\x00\\x00b\\x00\\x00\\x00e\\x00\\x00\\x00r\\x00\\x00\\x00z\\x00\\x00\\x00'"
      ]
     },
     "execution_count": 48,
     "metadata": {},
     "output_type": "execute_result"
    }
   ],
   "source": [
    "s = \"picklez are salty cucumberz\"\n",
    "s.encode(encoding=\"utf-32\")"
   ]
  }
 ],
 "metadata": {
  "kernelspec": {
   "display_name": "Python 3 (ipykernel)",
   "language": "python",
   "name": "python3"
  },
  "language_info": {
   "codemirror_mode": {
    "name": "ipython",
    "version": 3
   },
   "file_extension": ".py",
   "mimetype": "text/x-python",
   "name": "python",
   "nbconvert_exporter": "python",
   "pygments_lexer": "ipython3",
   "version": "3.10.0"
  }
 },
 "nbformat": 4,
 "nbformat_minor": 5
}
