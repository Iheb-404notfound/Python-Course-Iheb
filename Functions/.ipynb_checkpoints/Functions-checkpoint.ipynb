{
 "cells": [
  {
   "cell_type": "markdown",
   "id": "ded3f415",
   "metadata": {},
   "source": [
    "<h3>def"
   ]
  },
  {
   "cell_type": "code",
   "execution_count": 7,
   "id": "672d6533",
   "metadata": {},
   "outputs": [
    {
     "name": "stdout",
     "output_type": "stream",
     "text": [
      "Hi!\n"
     ]
    }
   ],
   "source": [
    "def greet():\n",
    "    print(\"Hi!\")\n",
    "\n",
    "greet()"
   ]
  },
  {
   "cell_type": "markdown",
   "id": "8377335d",
   "metadata": {},
   "source": [
    "<h3>param"
   ]
  },
  {
   "cell_type": "code",
   "execution_count": 6,
   "id": "7462f576",
   "metadata": {},
   "outputs": [
    {
     "name": "stdout",
     "output_type": "stream",
     "text": [
      "Gauss was a prodigy.\n"
     ]
    }
   ],
   "source": [
    "def say(something):\n",
    "    print(something)\n",
    "    \n",
    "say(\"Gauss was a prodigy.\")"
   ]
  },
  {
   "cell_type": "markdown",
   "id": "dbc48e27",
   "metadata": {},
   "source": [
    "<h3>default"
   ]
  },
  {
   "cell_type": "code",
   "execution_count": 63,
   "id": "8918ae79",
   "metadata": {
    "scrolled": false
   },
   "outputs": [
    {
     "name": "stdout",
     "output_type": "stream",
     "text": [
      "Sun is a star\n"
     ]
    }
   ],
   "source": [
    "def say(something=\"Sun is a star\"):\n",
    "    print(something)\n",
    "    \n",
    "say()"
   ]
  },
  {
   "cell_type": "markdown",
   "id": "929725bd",
   "metadata": {},
   "source": [
    "<h3>specified type"
   ]
  },
  {
   "cell_type": "code",
   "execution_count": 64,
   "id": "31b89984",
   "metadata": {
    "scrolled": false
   },
   "outputs": [
    {
     "name": "stdout",
     "output_type": "stream",
     "text": [
      "45\n"
     ]
    }
   ],
   "source": [
    "def length(quote:str)->int:\n",
    "    total = 0\n",
    "    for character in quote:\n",
    "        total+=1\n",
    "    return total\n",
    "\n",
    "print(length(\"Pneumonoultramicroscopicsilicovolcanoconiosis\"))"
   ]
  },
  {
   "cell_type": "markdown",
   "id": "bdd55d82",
   "metadata": {},
   "source": [
    "<h3>*args"
   ]
  },
  {
   "cell_type": "code",
   "execution_count": 11,
   "id": "3106e911",
   "metadata": {
    "scrolled": true
   },
   "outputs": [
    {
     "name": "stdout",
     "output_type": "stream",
     "text": [
      "First thing\n",
      "Second thing\n",
      "nth thing\n"
     ]
    }
   ],
   "source": [
    "def say(*things):\n",
    "    for thing in things:\n",
    "        print(thing)\n",
    "\n",
    "say(\"First thing\",\"Second thing\",\"nth thing\")"
   ]
  },
  {
   "cell_type": "markdown",
   "id": "d9715d21",
   "metadata": {},
   "source": [
    "<h3>**kwargs"
   ]
  },
  {
   "cell_type": "code",
   "execution_count": 35,
   "id": "2ae9c43b",
   "metadata": {
    "scrolled": true
   },
   "outputs": [
    {
     "name": "stdout",
     "output_type": "stream",
     "text": [
      "Their name is Euler\n",
      "Their occupation is Mathematician\n",
      "Their century is 18\n"
     ]
    }
   ],
   "source": [
    "def introduce(**things):\n",
    "    for key,val in zip(things.keys(),things.values()):\n",
    "        print(f\"Their {key} is {val}\")\n",
    "\n",
    "introduce(name=\"Euler\", occupation=\"Mathematician\", century=18 )"
   ]
  },
  {
   "cell_type": "markdown",
   "id": "f25edb0b",
   "metadata": {},
   "source": [
    "<h3>function object"
   ]
  },
  {
   "cell_type": "code",
   "execution_count": 61,
   "id": "9808702e",
   "metadata": {
    "scrolled": false
   },
   "outputs": [
    {
     "name": "stdout",
     "output_type": "stream",
     "text": [
      "That which does not kill us makes us stronger, Friedrich Nietzsche\n"
     ]
    }
   ],
   "source": [
    "def make_quote():\n",
    "    def say_something(something):\n",
    "        print(something)\n",
    "    return say_something\n",
    "\n",
    "function = make_quote()\n",
    "function(\"That which does not kill us makes us stronger, Friedrich Nietzsche\")"
   ]
  },
  {
   "cell_type": "markdown",
   "id": "d9baae89",
   "metadata": {},
   "source": [
    "<h3>lambda"
   ]
  },
  {
   "cell_type": "code",
   "execution_count": 47,
   "id": "ca09f571",
   "metadata": {
    "scrolled": false
   },
   "outputs": [
    {
     "name": "stdout",
     "output_type": "stream",
     "text": [
      "the speed of light is 299,792,458\n"
     ]
    }
   ],
   "source": [
    "add = lambda x,y: x+y\n",
    "\n",
    "result = add(104_186_282,195_606_176)\n",
    "print(f\"the speed of light is {result:,}\")"
   ]
  },
  {
   "cell_type": "markdown",
   "id": "09fa2714",
   "metadata": {},
   "source": [
    "<h3>@decorator"
   ]
  },
  {
   "cell_type": "code",
   "execution_count": 62,
   "id": "bfaa5e75",
   "metadata": {
    "scrolled": false
   },
   "outputs": [
    {
     "name": "stdout",
     "output_type": "stream",
     "text": [
      "1.618033988749895 is what makes math golden\n"
     ]
    }
   ],
   "source": [
    "def absolute(f):\n",
    "    def newf(x):\n",
    "        return abs(f(x))\n",
    "\n",
    "    return newf\n",
    "\n",
    "@absolute\n",
    "def g(x):\n",
    "    return - (x**0.5) -1\n",
    "\n",
    "print( g(5) /2 ,\"is what makes math golden\")"
   ]
  },
  {
   "cell_type": "markdown",
   "id": "8b350cfb",
   "metadata": {},
   "source": [
    "<h3>map"
   ]
  },
  {
   "cell_type": "code",
   "execution_count": 10,
   "id": "5b4fdff5",
   "metadata": {
    "scrolled": true
   },
   "outputs": [
    {
     "name": "stdout",
     "output_type": "stream",
     "text": [
      "[1.4142135623730951, 7.681145747868608, 1.7320508075688772, 8.660254037844387, 1.4142135623730951, 7.810249675906654, 6.164414002968976, 8.0, 5.291502622129181]\n"
     ]
    }
   ],
   "source": [
    "a=[2,59,3,75,2,61,38,64,28]\n",
    "\n",
    "sqrt_a = map(lambda n: n**0.5,a)\n",
    "\n",
    "print(list(sqrt_a))"
   ]
  },
  {
   "cell_type": "markdown",
   "id": "4e67fd8f",
   "metadata": {},
   "source": [
    "<h3>filter"
   ]
  },
  {
   "cell_type": "code",
   "execution_count": 12,
   "id": "d5b6ec62",
   "metadata": {},
   "outputs": [
    {
     "name": "stdout",
     "output_type": "stream",
     "text": [
      "[2, 2, 38, 64, 28]\n"
     ]
    }
   ],
   "source": [
    "a=[2,59,3,75,2,61,38,64,28]\n",
    "\n",
    "pairs = filter(lambda n: n%2==0,a)\n",
    "\n",
    "print(list(pairs))"
   ]
  },
  {
   "cell_type": "markdown",
   "id": "70154a9f",
   "metadata": {},
   "source": [
    "<h2>functools"
   ]
  },
  {
   "cell_type": "code",
   "execution_count": 1,
   "id": "e7efc01a",
   "metadata": {},
   "outputs": [],
   "source": [
    "import functools as fn"
   ]
  },
  {
   "cell_type": "markdown",
   "id": "8f6f7329",
   "metadata": {},
   "source": [
    "<h3>reduce"
   ]
  },
  {
   "cell_type": "code",
   "execution_count": 7,
   "id": "ee95e1cf",
   "metadata": {},
   "outputs": [
    {
     "name": "stdout",
     "output_type": "stream",
     "text": [
      "332\n"
     ]
    }
   ],
   "source": [
    "a=[2,59,3,75,2,61,38,64,28]\n",
    "\n",
    "SUM = fn.reduce(lambda n,p:n+p , a)\n",
    "print(SUM)"
   ]
  },
  {
   "cell_type": "markdown",
   "id": "eb193821",
   "metadata": {},
   "source": [
    "<h3>partial"
   ]
  },
  {
   "cell_type": "code",
   "execution_count": 25,
   "id": "a768071d",
   "metadata": {},
   "outputs": [
    {
     "name": "stdout",
     "output_type": "stream",
     "text": [
      "1j\n",
      "2j\n",
      "3j\n"
     ]
    }
   ],
   "source": [
    "from math import sin,cos,pi\n",
    "\n",
    "def polar(module,angle):\n",
    "    return module * ( int(cos(angle)) + 1j * int(sin(angle)) )\n",
    "\n",
    "purely_imaginary = fn.partial(polar,angle=pi/2)\n",
    "\n",
    "\n",
    "print(purely_imaginary(1))\n",
    "print(purely_imaginary(2))\n",
    "print(purely_imaginary(3))"
   ]
  },
  {
   "cell_type": "markdown",
   "id": "85cf5322",
   "metadata": {},
   "source": [
    "<h3>@cache"
   ]
  },
  {
   "cell_type": "code",
   "execution_count": 15,
   "id": "b77f8817",
   "metadata": {
    "scrolled": true
   },
   "outputs": [
    {
     "name": "stdout",
     "output_type": "stream",
     "text": [
      "[1, 1, 2, 6, 24, 120, 720, 5040, 40320, 362880, 3628800, 39916800, 479001600, 6227020800, 87178291200, 1307674368000, 20922789888000, 355687428096000, 6402373705728000, 121645100408832000]\n"
     ]
    }
   ],
   "source": [
    "@fn.cache\n",
    "def factorial(n):\n",
    "    return n*factorial(n-1) if n>1 else 1\n",
    "\n",
    "print(list(factorial(n) for n in range(20)))"
   ]
  },
  {
   "cell_type": "markdown",
   "id": "46df78d1",
   "metadata": {},
   "source": [
    "<h3>@singledispatch @...register"
   ]
  },
  {
   "cell_type": "code",
   "execution_count": 32,
   "id": "705e2e99",
   "metadata": {},
   "outputs": [
    {
     "name": "stdout",
     "output_type": "stream",
     "text": [
      "transformation from list to string, Mitochondria is power\n",
      "transformation from int to string, 22\n"
     ]
    }
   ],
   "source": [
    "@fn.singledispatch\n",
    "def tostring(value):\n",
    "    print(value, end=\" \")\n",
    "\n",
    "@tostring.register\n",
    "def _(value:int):\n",
    "    print(\"transformation from int to string, \"+str(value))\n",
    "\n",
    "\n",
    "@tostring.register\n",
    "def _(value:list):\n",
    "    print(\"transformation from list to string, \"+\" \".join(value))\n",
    "    \n",
    "\n",
    "tostring([\"Mitochondria\",\"is\",\"power\"])\n",
    "tostring(22)"
   ]
  },
  {
   "cell_type": "code",
   "execution_count": null,
   "id": "8b60a643",
   "metadata": {},
   "outputs": [],
   "source": []
  }
 ],
 "metadata": {
  "kernelspec": {
   "display_name": "Python 3 (ipykernel)",
   "language": "python",
   "name": "python3"
  },
  "language_info": {
   "codemirror_mode": {
    "name": "ipython",
    "version": 3
   },
   "file_extension": ".py",
   "mimetype": "text/x-python",
   "name": "python",
   "nbconvert_exporter": "python",
   "pygments_lexer": "ipython3",
   "version": "3.10.0"
  }
 },
 "nbformat": 4,
 "nbformat_minor": 5
}
