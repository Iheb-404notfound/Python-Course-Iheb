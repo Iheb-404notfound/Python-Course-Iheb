{
 "cells": [
  {
   "cell_type": "markdown",
   "id": "ded3f415",
   "metadata": {},
   "source": [
    "<h3>def"
   ]
  },
  {
   "cell_type": "code",
   "execution_count": 7,
   "id": "672d6533",
   "metadata": {},
   "outputs": [
    {
     "name": "stdout",
     "output_type": "stream",
     "text": [
      "Hi!\n"
     ]
    }
   ],
   "source": [
    "def greet():\n",
    "    print(\"Hi!\")\n",
    "\n",
    "greet()"
   ]
  },
  {
   "cell_type": "markdown",
   "id": "8377335d",
   "metadata": {},
   "source": [
    "<h3>param"
   ]
  },
  {
   "cell_type": "code",
   "execution_count": 6,
   "id": "7462f576",
   "metadata": {},
   "outputs": [
    {
     "name": "stdout",
     "output_type": "stream",
     "text": [
      "Gauss was a prodigy.\n"
     ]
    }
   ],
   "source": [
    "def say(something):\n",
    "    print(something)\n",
    "    \n",
    "say(\"Gauss was a prodigy.\")"
   ]
  },
  {
   "cell_type": "markdown",
   "id": "dbc48e27",
   "metadata": {},
   "source": [
    "<h3>default"
   ]
  },
  {
   "cell_type": "code",
   "execution_count": 63,
   "id": "8918ae79",
   "metadata": {
    "scrolled": false
   },
   "outputs": [
    {
     "name": "stdout",
     "output_type": "stream",
     "text": [
      "Sun is a star\n"
     ]
    }
   ],
   "source": [
    "def say(something=\"Sun is a star\"):\n",
    "    print(something)\n",
    "    \n",
    "say()"
   ]
  },
  {
   "cell_type": "markdown",
   "id": "929725bd",
   "metadata": {},
   "source": [
    "<h3>specified type"
   ]
  },
  {
   "cell_type": "code",
   "execution_count": 64,
   "id": "31b89984",
   "metadata": {
    "scrolled": false
   },
   "outputs": [
    {
     "name": "stdout",
     "output_type": "stream",
     "text": [
      "45\n"
     ]
    }
   ],
   "source": [
    "def length(quote:str)->int:\n",
    "    total = 0\n",
    "    for character in quote:\n",
    "        total+=1\n",
    "    return total\n",
    "\n",
    "print(length(\"Pneumonoultramicroscopicsilicovolcanoconiosis\"))"
   ]
  },
  {
   "cell_type": "markdown",
   "id": "bdd55d82",
   "metadata": {},
   "source": [
    "<h3>*args"
   ]
  },
  {
   "cell_type": "code",
   "execution_count": 11,
   "id": "3106e911",
   "metadata": {
    "scrolled": true
   },
   "outputs": [
    {
     "name": "stdout",
     "output_type": "stream",
     "text": [
      "First thing\n",
      "Second thing\n",
      "nth thing\n"
     ]
    }
   ],
   "source": [
    "def say(*things):\n",
    "    for thing in things:\n",
    "        print(thing)\n",
    "\n",
    "say(\"First thing\",\"Second thing\",\"nth thing\")"
   ]
  },
  {
   "cell_type": "markdown",
   "id": "d9715d21",
   "metadata": {},
   "source": [
    "<h3>**kwargs"
   ]
  },
  {
   "cell_type": "code",
   "execution_count": 35,
   "id": "2ae9c43b",
   "metadata": {
    "scrolled": true
   },
   "outputs": [
    {
     "name": "stdout",
     "output_type": "stream",
     "text": [
      "Their name is Euler\n",
      "Their occupation is Mathematician\n",
      "Their century is 18\n"
     ]
    }
   ],
   "source": [
    "def introduce(**things):\n",
    "    for key,val in zip(things.keys(),things.values()):\n",
    "        print(f\"Their {key} is {val}\")\n",
    "\n",
    "introduce(name=\"Euler\", occupation=\"Mathematician\", century=18 )"
   ]
  },
  {
   "cell_type": "markdown",
   "id": "f25edb0b",
   "metadata": {},
   "source": [
    "<h3>function object"
   ]
  },
  {
   "cell_type": "code",
   "execution_count": 61,
   "id": "9808702e",
   "metadata": {
    "scrolled": false
   },
   "outputs": [
    {
     "name": "stdout",
     "output_type": "stream",
     "text": [
      "That which does not kill us makes us stronger, Friedrich Nietzsche\n"
     ]
    }
   ],
   "source": [
    "def make_quote():\n",
    "    def say_something(something):\n",
    "        print(something)\n",
    "    return say_something\n",
    "\n",
    "function = make_quote()\n",
    "function(\"That which does not kill us makes us stronger, Friedrich Nietzsche\")"
   ]
  },
  {
   "cell_type": "markdown",
   "id": "d9baae89",
   "metadata": {},
   "source": [
    "<h3>lambda"
   ]
  },
  {
   "cell_type": "code",
   "execution_count": 47,
   "id": "ca09f571",
   "metadata": {
    "scrolled": false
   },
   "outputs": [
    {
     "name": "stdout",
     "output_type": "stream",
     "text": [
      "the speed of light is 299,792,458\n"
     ]
    }
   ],
   "source": [
    "add = lambda x,y: x+y\n",
    "\n",
    "result = add(104_186_282,195_606_176)\n",
    "print(f\"the speed of light is {result:,}\")"
   ]
  },
  {
   "cell_type": "markdown",
   "id": "09fa2714",
   "metadata": {},
   "source": [
    "<h3>@decorator"
   ]
  },
  {
   "cell_type": "code",
   "execution_count": 62,
   "id": "bfaa5e75",
   "metadata": {},
   "outputs": [
    {
     "name": "stdout",
     "output_type": "stream",
     "text": [
      "1.618033988749895 is what makes math golden\n"
     ]
    }
   ],
   "source": [
    "def absolute(f):\n",
    "    def newf(x):\n",
    "        return abs(f(x))\n",
    "\n",
    "    return newf\n",
    "\n",
    "@absolute\n",
    "def g(x):\n",
    "    return - (x**0.5) -1\n",
    "\n",
    "print( g(5) /2 ,\"is what makes math golden\")"
   ]
  },
  {
   "cell_type": "code",
   "execution_count": null,
   "id": "e7efc01a",
   "metadata": {},
   "outputs": [],
   "source": [
    "import functools as fn\n",
    "fn."
   ]
  }
 ],
 "metadata": {
  "kernelspec": {
   "display_name": "Python 3 (ipykernel)",
   "language": "python",
   "name": "python3"
  },
  "language_info": {
   "codemirror_mode": {
    "name": "ipython",
    "version": 3
   },
   "file_extension": ".py",
   "mimetype": "text/x-python",
   "name": "python",
   "nbconvert_exporter": "python",
   "pygments_lexer": "ipython3",
   "version": "3.10.0"
  }
 },
 "nbformat": 4,
 "nbformat_minor": 5
}
