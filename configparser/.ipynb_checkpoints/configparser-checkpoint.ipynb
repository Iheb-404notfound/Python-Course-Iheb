{
 "cells": [
  {
   "cell_type": "markdown",
   "id": "ae0c5534",
   "metadata": {},
   "source": [
    "<h2>configparser"
   ]
  },
  {
   "cell_type": "code",
   "execution_count": 6,
   "id": "146abbe3",
   "metadata": {},
   "outputs": [],
   "source": [
    "import configparser as parser"
   ]
  },
  {
   "cell_type": "markdown",
   "id": "689a5355",
   "metadata": {},
   "source": [
    "<h3>ConfigParser"
   ]
  },
  {
   "cell_type": "code",
   "execution_count": 7,
   "id": "0d8f9774",
   "metadata": {},
   "outputs": [],
   "source": [
    "settings = parser.ConfigParser()"
   ]
  },
  {
   "cell_type": "markdown",
   "id": "a0b8a71c",
   "metadata": {},
   "source": [
    "<h3>assigning"
   ]
  },
  {
   "cell_type": "code",
   "execution_count": 42,
   "id": "5f773671",
   "metadata": {
    "scrolled": true
   },
   "outputs": [
    {
     "name": "stdout",
     "output_type": "stream",
     "text": [
      "dark\n"
     ]
    }
   ],
   "source": [
    "settings[\"display\"]={}\n",
    "settings[\"display\"][\"language\"]=\"en-nz\"\n",
    "settings[\"display\"][\"theme\"]=\"dark\"\n",
    "\n",
    "settings[\"security\"]=dict(identifier=0xfef, password=\"If we were purely ourselves, we wouldn't care about security\",stay=True )\n",
    "\n",
    "print(settings[\"display\"][\"theme\"])"
   ]
  },
  {
   "cell_type": "markdown",
   "id": "5ea72101",
   "metadata": {},
   "source": [
    "<h3>accessing"
   ]
  },
  {
   "cell_type": "code",
   "execution_count": 27,
   "id": "0f3acde0",
   "metadata": {
    "scrolled": true
   },
   "outputs": [
    {
     "name": "stdout",
     "output_type": "stream",
     "text": [
      "dark\n",
      "True\n",
      "4079\n",
      "en-nz\n"
     ]
    }
   ],
   "source": [
    "print(settings[\"display\"][\"theme\"])\n",
    "\n",
    "print(settings[\"security\"].getboolean(\"stay\"))\n",
    "\n",
    "print(settings.getint(\"security\",\"identifier\"))\n",
    "\n",
    "print(settings.get(\"display\",\"language\"))"
   ]
  },
  {
   "cell_type": "markdown",
   "id": "694caf09",
   "metadata": {},
   "source": [
    "<h3>write"
   ]
  },
  {
   "cell_type": "code",
   "execution_count": 23,
   "id": "a08e1e45",
   "metadata": {},
   "outputs": [],
   "source": [
    "with open(\"settings.ini\",\"w\") as f:\n",
    "    settings.write(f)"
   ]
  },
  {
   "cell_type": "markdown",
   "id": "b8bba1e5",
   "metadata": {},
   "source": [
    "<h3>read"
   ]
  },
  {
   "cell_type": "code",
   "execution_count": 28,
   "id": "af88a27d",
   "metadata": {},
   "outputs": [
    {
     "name": "stdout",
     "output_type": "stream",
     "text": [
      "dark\n"
     ]
    }
   ],
   "source": [
    "settings = parser.ConfigParser()\n",
    "settings.read(\"settings.ini\")\n",
    "    \n",
    "print(settings[\"display\"][\"theme\"])"
   ]
  },
  {
   "cell_type": "markdown",
   "id": "adba7859",
   "metadata": {},
   "source": [
    "<h3>read_string"
   ]
  },
  {
   "cell_type": "code",
   "execution_count": 29,
   "id": "1d7e342d",
   "metadata": {},
   "outputs": [
    {
     "name": "stdout",
     "output_type": "stream",
     "text": [
      "dark\n",
      "en-nz\n"
     ]
    }
   ],
   "source": [
    "settings = parser.ConfigParser()\n",
    "settings.read_string(\"[display]\\nlanguage=en-nz\\ntheme=dark\")\n",
    "\n",
    "print(settings.get(\"display\",\"theme\"))\n",
    "\n",
    "print(settings[\"display\"][\"language\"])"
   ]
  },
  {
   "cell_type": "markdown",
   "id": "9123a501",
   "metadata": {},
   "source": [
    "<h3>read_dict"
   ]
  },
  {
   "cell_type": "code",
   "execution_count": 55,
   "id": "764dcda1",
   "metadata": {},
   "outputs": [
    {
     "name": "stdout",
     "output_type": "stream",
     "text": [
      "dark\n",
      "en-nz\n"
     ]
    }
   ],
   "source": [
    "settings = parser.ConfigParser()\n",
    "settings.read_dict(dict(display=dict(language=\"en-nz\",theme=\"dark\")))\n",
    "\n",
    "print(settings.get(\"display\",\"theme\"))\n",
    "\n",
    "print(settings[\"display\"][\"language\"])"
   ]
  },
  {
   "cell_type": "markdown",
   "id": "8d442d8a",
   "metadata": {},
   "source": [
    "<h3>clear"
   ]
  },
  {
   "cell_type": "code",
   "execution_count": 50,
   "id": "f595675b",
   "metadata": {
    "scrolled": true
   },
   "outputs": [
    {
     "name": "stdout",
     "output_type": "stream",
     "text": [
      "dark\n",
      "en-nz\n"
     ]
    }
   ],
   "source": [
    "settings = parser.ConfigParser()\n",
    "settings.read_dict(dict(display=dict(language=\"en-nz\",theme=\"dark\")))\n",
    "\n",
    "print(settings.get(\"display\",\"theme\"))\n",
    "\n",
    "print(settings[\"display\"][\"language\"])"
   ]
  },
  {
   "cell_type": "markdown",
   "id": "ed3d38cb",
   "metadata": {},
   "source": [
    "<h3>sections"
   ]
  },
  {
   "cell_type": "code",
   "execution_count": 56,
   "id": "42ee6ed0",
   "metadata": {},
   "outputs": [
    {
     "data": {
      "text/plain": [
       "['display']"
      ]
     },
     "execution_count": 56,
     "metadata": {},
     "output_type": "execute_result"
    }
   ],
   "source": [
    "settings.sections()"
   ]
  },
  {
   "cell_type": "markdown",
   "id": "baac0650",
   "metadata": {},
   "source": [
    "<h3>keys"
   ]
  },
  {
   "cell_type": "code",
   "execution_count": 59,
   "id": "b94c9ba1",
   "metadata": {},
   "outputs": [
    {
     "data": {
      "text/plain": [
       "['language', 'theme']"
      ]
     },
     "execution_count": 59,
     "metadata": {},
     "output_type": "execute_result"
    }
   ],
   "source": [
    "list(settings['display'].keys())"
   ]
  },
  {
   "cell_type": "markdown",
   "id": "3c3a2730",
   "metadata": {},
   "source": [
    "<h3>in"
   ]
  },
  {
   "cell_type": "code",
   "execution_count": 52,
   "id": "03938a4e",
   "metadata": {},
   "outputs": [
    {
     "data": {
      "text/plain": [
       "True"
      ]
     },
     "execution_count": 52,
     "metadata": {},
     "output_type": "execute_result"
    }
   ],
   "source": [
    "\"language\" in settings[\"display\"]"
   ]
  },
  {
   "cell_type": "markdown",
   "id": "6b4844e7",
   "metadata": {},
   "source": [
    "<h3>popitem"
   ]
  },
  {
   "cell_type": "code",
   "execution_count": 54,
   "id": "efbf1c22",
   "metadata": {
    "scrolled": true
   },
   "outputs": [
    {
     "name": "stdout",
     "output_type": "stream",
     "text": [
      "('language', 'en-nz')\n",
      "False\n"
     ]
    }
   ],
   "source": [
    "popped = settings[\"display\"].popitem()\n",
    "print(popped)\n",
    "print(popped[0] in settings[\"display\"])"
   ]
  },
  {
   "cell_type": "markdown",
   "id": "49afe7af",
   "metadata": {},
   "source": [
    "<h3>pop"
   ]
  },
  {
   "cell_type": "code",
   "execution_count": 60,
   "id": "9f8a56d2",
   "metadata": {},
   "outputs": [
    {
     "name": "stdout",
     "output_type": "stream",
     "text": [
      "['language']\n"
     ]
    }
   ],
   "source": [
    "settings.read_dict(dict(display=dict(language=\"en-nz\",theme=\"dark\")))\n",
    "\n",
    "settings[\"display\"].pop(\"theme\")\n",
    "\n",
    "print(list(settings[\"display\"].keys()))"
   ]
  }
 ],
 "metadata": {
  "kernelspec": {
   "display_name": "Python 3 (ipykernel)",
   "language": "python",
   "name": "python3"
  },
  "language_info": {
   "codemirror_mode": {
    "name": "ipython",
    "version": 3
   },
   "file_extension": ".py",
   "mimetype": "text/x-python",
   "name": "python",
   "nbconvert_exporter": "python",
   "pygments_lexer": "ipython3",
   "version": "3.10.0"
  }
 },
 "nbformat": 4,
 "nbformat_minor": 5
}
