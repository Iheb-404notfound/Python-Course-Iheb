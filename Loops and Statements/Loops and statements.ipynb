{
 "cells": [
  {
   "cell_type": "markdown",
   "id": "495743b3",
   "metadata": {},
   "source": [
    "<h3>if"
   ]
  },
  {
   "cell_type": "code",
   "execution_count": 1,
   "id": "0740bf79",
   "metadata": {},
   "outputs": [
    {
     "name": "stdout",
     "output_type": "stream",
     "text": [
      "three\n"
     ]
    }
   ],
   "source": [
    "a = 3\n",
    "if a == 3:\n",
    "    print(\"three\")"
   ]
  },
  {
   "cell_type": "code",
   "execution_count": 2,
   "id": "d1428f8d",
   "metadata": {},
   "outputs": [],
   "source": [
    "a = 3\n",
    "if a != 3:\n",
    "    print(\"not three\")"
   ]
  },
  {
   "cell_type": "markdown",
   "id": "2b44fa14",
   "metadata": {},
   "source": [
    "<h3>else"
   ]
  },
  {
   "cell_type": "code",
   "execution_count": 3,
   "id": "b7d3ca50",
   "metadata": {},
   "outputs": [
    {
     "name": "stdout",
     "output_type": "stream",
     "text": [
      "three\n"
     ]
    }
   ],
   "source": [
    "a = 3\n",
    "if a != 3:\n",
    "    print(\"not three\")\n",
    "else:\n",
    "    print(\"three\")"
   ]
  },
  {
   "cell_type": "markdown",
   "id": "e6afd9b9",
   "metadata": {},
   "source": [
    "<h3>elif"
   ]
  },
  {
   "cell_type": "code",
   "execution_count": 4,
   "id": "d5c6f8cf",
   "metadata": {},
   "outputs": [
    {
     "name": "stdout",
     "output_type": "stream",
     "text": [
      "one\n"
     ]
    }
   ],
   "source": [
    "a = 1\n",
    "if a == 3:\n",
    "    print(\"three\")\n",
    "elif a==2:\n",
    "    print(\"two\")\n",
    "elif a==1:\n",
    "    print(\"one\")\n",
    "else:\n",
    "    print(\"something else\")"
   ]
  },
  {
   "cell_type": "markdown",
   "id": "4f7fa10b",
   "metadata": {},
   "source": [
    "<h3>match"
   ]
  },
  {
   "cell_type": "code",
   "execution_count": 5,
   "id": "98065109",
   "metadata": {},
   "outputs": [
    {
     "name": "stdout",
     "output_type": "stream",
     "text": [
      "three\n"
     ]
    }
   ],
   "source": [
    "a = 3\n",
    "match a:\n",
    "    case 1:\n",
    "        print(\"one\")\n",
    "    case 2:\n",
    "        print(\"two\")\n",
    "    case 3:\n",
    "        print(\"three\")"
   ]
  },
  {
   "cell_type": "markdown",
   "id": "653d8f4b",
   "metadata": {},
   "source": [
    "<h3>for range(end)"
   ]
  },
  {
   "cell_type": "code",
   "execution_count": 6,
   "id": "6552a059",
   "metadata": {},
   "outputs": [
    {
     "name": "stdout",
     "output_type": "stream",
     "text": [
      "0\n",
      "1\n",
      "2\n"
     ]
    }
   ],
   "source": [
    "for c in range(3):\n",
    "    print(c)"
   ]
  },
  {
   "cell_type": "markdown",
   "id": "d88ebb59",
   "metadata": {},
   "source": [
    "<h3>range(start,end)"
   ]
  },
  {
   "cell_type": "code",
   "execution_count": 7,
   "id": "2b526f71",
   "metadata": {
    "scrolled": true
   },
   "outputs": [
    {
     "name": "stdout",
     "output_type": "stream",
     "text": [
      "0\n",
      "1\n",
      "2\n"
     ]
    }
   ],
   "source": [
    "for c in range(0,3):\n",
    "    print(c)"
   ]
  },
  {
   "cell_type": "code",
   "execution_count": 8,
   "id": "ef2ef1d3",
   "metadata": {
    "scrolled": true
   },
   "outputs": [
    {
     "name": "stdout",
     "output_type": "stream",
     "text": [
      "-1\n",
      "0\n",
      "1\n",
      "2\n",
      "3\n",
      "4\n"
     ]
    }
   ],
   "source": [
    "for c in range(-1,5):\n",
    "    print(c)"
   ]
  },
  {
   "cell_type": "markdown",
   "id": "361d7be0",
   "metadata": {},
   "source": [
    "<h3>range(start,end,step)"
   ]
  },
  {
   "cell_type": "code",
   "execution_count": 9,
   "id": "2fa8583e",
   "metadata": {
    "scrolled": true
   },
   "outputs": [
    {
     "name": "stdout",
     "output_type": "stream",
     "text": [
      "-1\n",
      "1\n",
      "3\n"
     ]
    }
   ],
   "source": [
    "for c in range(-1,5,2):\n",
    "    print(c)"
   ]
  },
  {
   "cell_type": "markdown",
   "id": "2f5b197d",
   "metadata": {},
   "source": [
    "<h3>custom list"
   ]
  },
  {
   "cell_type": "code",
   "execution_count": 10,
   "id": "f83a959f",
   "metadata": {
    "scrolled": true
   },
   "outputs": [
    {
     "name": "stdout",
     "output_type": "stream",
     "text": [
      "5\n",
      "2\n",
      "3\n",
      "5\n"
     ]
    }
   ],
   "source": [
    "values = [5,2,3,5]\n",
    "for i in values:\n",
    "    print(i)"
   ]
  },
  {
   "cell_type": "markdown",
   "id": "fb56d1c8",
   "metadata": {},
   "source": [
    "<h3>str"
   ]
  },
  {
   "cell_type": "code",
   "execution_count": 11,
   "id": "e32dc790",
   "metadata": {
    "scrolled": false
   },
   "outputs": [
    {
     "name": "stdout",
     "output_type": "stream",
     "text": [
      "A\n",
      "E\n",
      "I\n",
      "O\n",
      "U\n",
      "Y\n"
     ]
    }
   ],
   "source": [
    "vowels = \"AEIOUY\"\n",
    "for vowel in vowels:\n",
    "    print(vowel)"
   ]
  },
  {
   "cell_type": "markdown",
   "id": "35b09edd",
   "metadata": {},
   "source": [
    "<h3>enumerate"
   ]
  },
  {
   "cell_type": "code",
   "execution_count": 12,
   "id": "77c898cb",
   "metadata": {
    "scrolled": true
   },
   "outputs": [
    {
     "name": "stdout",
     "output_type": "stream",
     "text": [
      "the 1th prime is 2\n",
      "the 2th prime is 3\n",
      "the 3th prime is 5\n",
      "the 4th prime is 7\n",
      "the 5th prime is 11\n",
      "the 6th prime is 13\n",
      "the 7th prime is 17\n",
      "the 8th prime is 19\n",
      "the 9th prime is 21\n"
     ]
    }
   ],
   "source": [
    "primes = [2,3,5,7,11,13,17,19,21]\n",
    "\n",
    "for index,prime in enumerate(primes):\n",
    "    print(f\"the {index+1}th prime is {prime}\")"
   ]
  },
  {
   "cell_type": "markdown",
   "id": "3c6e586f",
   "metadata": {},
   "source": [
    "<h3>zip"
   ]
  },
  {
   "cell_type": "code",
   "execution_count": 13,
   "id": "871e5b32",
   "metadata": {
    "scrolled": true
   },
   "outputs": [
    {
     "name": "stdout",
     "output_type": "stream",
     "text": [
      "1 then 2 then\n",
      "3 then 4 then\n",
      "5 then 6 then\n",
      "7 then 8 then\n",
      "9 then 10 then\n",
      "11 then 12 then\n"
     ]
    }
   ],
   "source": [
    "odds = [1,3,5,7,9,11]\n",
    "evens = [2,4,6,8,10,12]\n",
    "\n",
    "for odd,even in zip(odds,evens):\n",
    "    print(odd,\"then\",even,\"then\")"
   ]
  },
  {
   "cell_type": "markdown",
   "id": "54755545",
   "metadata": {},
   "source": [
    "<h3>while"
   ]
  },
  {
   "cell_type": "code",
   "execution_count": 14,
   "id": "68144e12",
   "metadata": {},
   "outputs": [
    {
     "name": "stdout",
     "output_type": "stream",
     "text": [
      "0\n",
      "1\n",
      "2\n",
      "3\n"
     ]
    }
   ],
   "source": [
    "n = 0\n",
    "while n<4:\n",
    "    print(n)\n",
    "    n+=1"
   ]
  },
  {
   "cell_type": "code",
   "execution_count": 15,
   "id": "531ecc74",
   "metadata": {},
   "outputs": [
    {
     "name": "stdout",
     "output_type": "stream",
     "text": [
      "1\n",
      "2\n",
      "3\n",
      "4\n"
     ]
    }
   ],
   "source": [
    "n = 0\n",
    "while n<4:\n",
    "    n+=1\n",
    "    print(n)"
   ]
  },
  {
   "cell_type": "markdown",
   "id": "48284bfd",
   "metadata": {},
   "source": [
    "<h3>continue"
   ]
  },
  {
   "cell_type": "code",
   "execution_count": 16,
   "id": "7867c779",
   "metadata": {},
   "outputs": [
    {
     "name": "stdout",
     "output_type": "stream",
     "text": [
      "1\n",
      "3\n",
      "4\n"
     ]
    }
   ],
   "source": [
    "n = 0\n",
    "while n<4:\n",
    "    n+=1\n",
    "    if(n==2):\n",
    "        continue\n",
    "    print(n)"
   ]
  },
  {
   "cell_type": "markdown",
   "id": "fec13fd2",
   "metadata": {},
   "source": [
    "<h3>break"
   ]
  },
  {
   "cell_type": "code",
   "execution_count": 17,
   "id": "3d170d7d",
   "metadata": {},
   "outputs": [
    {
     "name": "stdout",
     "output_type": "stream",
     "text": [
      "1\n",
      "2\n",
      "3\n",
      "4\n"
     ]
    }
   ],
   "source": [
    "n = 0\n",
    "while True:\n",
    "    n+=1\n",
    "    print(n)\n",
    "    if n == 4:\n",
    "        break"
   ]
  }
 ],
 "metadata": {
  "kernelspec": {
   "display_name": "Python 3 (ipykernel)",
   "language": "python",
   "name": "python3"
  },
  "language_info": {
   "codemirror_mode": {
    "name": "ipython",
    "version": 3
   },
   "file_extension": ".py",
   "mimetype": "text/x-python",
   "name": "python",
   "nbconvert_exporter": "python",
   "pygments_lexer": "ipython3",
   "version": "3.10.0"
  }
 },
 "nbformat": 4,
 "nbformat_minor": 5
}
