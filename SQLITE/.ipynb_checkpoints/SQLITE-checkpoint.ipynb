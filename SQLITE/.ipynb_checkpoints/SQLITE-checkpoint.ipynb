{
 "cells": [
  {
   "cell_type": "markdown",
   "id": "32b1ee52",
   "metadata": {},
   "source": [
    "<center><h1>MYSQL"
   ]
  },
  {
   "cell_type": "markdown",
   "id": "fb455cc2",
   "metadata": {},
   "source": [
    "<h3>import"
   ]
  },
  {
   "cell_type": "code",
   "execution_count": 1,
   "id": "4162dd91",
   "metadata": {
    "scrolled": true
   },
   "outputs": [],
   "source": [
    "import sqlite3 as sqlite"
   ]
  },
  {
   "cell_type": "markdown",
   "id": "2b2a3ad7",
   "metadata": {},
   "source": [
    "<h3>connect"
   ]
  },
  {
   "cell_type": "code",
   "execution_count": 2,
   "id": "051a4f9e",
   "metadata": {},
   "outputs": [],
   "source": [
    "con = sqlite.connect(\"history.db\")"
   ]
  },
  {
   "cell_type": "markdown",
   "id": "c78e1112",
   "metadata": {},
   "source": [
    "<h3>close"
   ]
  },
  {
   "cell_type": "code",
   "execution_count": 3,
   "id": "8976a58a",
   "metadata": {},
   "outputs": [],
   "source": [
    "con.close()"
   ]
  },
  {
   "cell_type": "markdown",
   "id": "fbc2fe41",
   "metadata": {},
   "source": [
    "<h3>cursor"
   ]
  },
  {
   "cell_type": "code",
   "execution_count": 4,
   "id": "4d60a2d7",
   "metadata": {},
   "outputs": [],
   "source": [
    "con = sqlite.connect(\"history.db\")\n",
    "\n",
    "cursor = con.cursor()\n",
    "con.close()"
   ]
  },
  {
   "cell_type": "markdown",
   "id": "4d06ed42",
   "metadata": {},
   "source": [
    "<h3>CREATE TABLE"
   ]
  },
  {
   "cell_type": "code",
   "execution_count": 5,
   "id": "c3b9f018",
   "metadata": {},
   "outputs": [],
   "source": [
    "con = sqlite.connect(\"history.db\")\n",
    "\n",
    "cursor = con.cursor()\n",
    "cursor.execute(\"\"\"CREATE TABLE civilisations(`ID` INTEGER PRIMARY KEY AUTOINCREMENT,\n",
    "                                             `Name` TEXT(50) NOT NULL,\n",
    "                                             `Continent` TEXT(50) NOT NULL,\n",
    "                                             `StartYear` INTEGER NOT NULL,\n",
    "                                             `EndYear` INTEGER NOT NULL)\"\"\")\n",
    "con.close()"
   ]
  },
  {
   "cell_type": "markdown",
   "id": "333f880c",
   "metadata": {},
   "source": [
    "<h3>INSERT INTO TABLE"
   ]
  },
  {
   "cell_type": "code",
   "execution_count": 6,
   "id": "ff76afef",
   "metadata": {},
   "outputs": [
    {
     "data": {
      "text/plain": [
       "<sqlite3.Cursor at 0x274513bb340>"
      ]
     },
     "execution_count": 6,
     "metadata": {},
     "output_type": "execute_result"
    }
   ],
   "source": [
    "con = sqlite.connect(\"history.db\")\n",
    "\n",
    "cursor = con.cursor()\n",
    "cursor.execute(\"\"\"INSERT INTO civilisations(`Name`,`Continent`,`StartYear`,`EndYear`)\n",
    "                              VALUES('Sumer','Asia',-4500,-1900);\n",
    "                                    \"\"\")\n",
    "cursor.execute(\"\"\"INSERT INTO civilisations(`Name`,`Continent`,`StartYear`,`EndYear`)\n",
    "                              VALUES('Indus Valley','Asia',-3300,-1300);\n",
    "                                    \"\"\")"
   ]
  },
  {
   "cell_type": "markdown",
   "id": "c0be50f5",
   "metadata": {},
   "source": [
    "<h3>execute with placeholder"
   ]
  },
  {
   "cell_type": "code",
   "execution_count": 7,
   "id": "8d108b4d",
   "metadata": {},
   "outputs": [
    {
     "data": {
      "text/plain": [
       "<sqlite3.Cursor at 0x274513bb340>"
      ]
     },
     "execution_count": 7,
     "metadata": {},
     "output_type": "execute_result"
    }
   ],
   "source": [
    "query = \"INSERT INTO civilisations(`Name`,`Continent`,`StartYear`,`EndYear`) VALUES(?,?,?,?)\"\n",
    "\n",
    "values = ('Ancient Egypt','Africa',-3100,-332)\n",
    "cursor.execute(query,values)"
   ]
  },
  {
   "cell_type": "markdown",
   "id": "cea74318",
   "metadata": {},
   "source": [
    "<h3>executemany"
   ]
  },
  {
   "cell_type": "code",
   "execution_count": 8,
   "id": "1e778a9b",
   "metadata": {},
   "outputs": [
    {
     "data": {
      "text/plain": [
       "<sqlite3.Cursor at 0x274513bb340>"
      ]
     },
     "execution_count": 8,
     "metadata": {},
     "output_type": "execute_result"
    }
   ],
   "source": [
    "query = \"INSERT INTO civilisations(`Name`,`Continent`,`StartYear`,`EndYear`) VALUES(?,?,?,?)\"\n",
    "values = [\n",
    "          ('Xia','Asia',-2070,-1600),\n",
    "          ('Ancient Maya','America',-2000,1500),\n",
    "          ('Ancient Greece','Europe',-1100,140),\n",
    "          ('Ancient Rome','Europe',-750,470),\n",
    "          ('bla bla','somewhere',-2,2),\n",
    "          ('bla bla bla','somewhere else',-2,3)\n",
    "         ]\n",
    "cursor.executemany(query,values)"
   ]
  },
  {
   "cell_type": "markdown",
   "id": "993203e7",
   "metadata": {},
   "source": [
    "<h3>commit"
   ]
  },
  {
   "cell_type": "code",
   "execution_count": 9,
   "id": "74b2cb5b",
   "metadata": {},
   "outputs": [],
   "source": [
    "con.commit()\n",
    "con.close()"
   ]
  },
  {
   "cell_type": "markdown",
   "id": "d2108f80",
   "metadata": {},
   "source": [
    "<h3>SELECT * FROM TABLE"
   ]
  },
  {
   "cell_type": "code",
   "execution_count": 10,
   "id": "89099a5b",
   "metadata": {},
   "outputs": [
    {
     "data": {
      "text/plain": [
       "<sqlite3.Cursor at 0x274513bb8c0>"
      ]
     },
     "execution_count": 10,
     "metadata": {},
     "output_type": "execute_result"
    }
   ],
   "source": [
    "con = sqlite.connect(\"history.db\")\n",
    "\n",
    "cursor = con.cursor()\n",
    "cursor.execute(\"SELECT * FROM civilisations\")"
   ]
  },
  {
   "cell_type": "markdown",
   "id": "fafbb82a",
   "metadata": {},
   "source": [
    "<h3>fetchone"
   ]
  },
  {
   "cell_type": "code",
   "execution_count": 11,
   "id": "d405506c",
   "metadata": {},
   "outputs": [
    {
     "name": "stdout",
     "output_type": "stream",
     "text": [
      "(1, 'Sumer', 'Asia', -4500, -1900)\n",
      "(2, 'Indus Valley', 'Asia', -3300, -1300)\n"
     ]
    }
   ],
   "source": [
    "result1 = cursor.fetchone()\n",
    "result2 = cursor.fetchone()\n",
    "print(result1)\n",
    "print(result2)"
   ]
  },
  {
   "cell_type": "markdown",
   "id": "6a010317",
   "metadata": {},
   "source": [
    "<h3>rowcount"
   ]
  },
  {
   "cell_type": "code",
   "execution_count": 12,
   "id": "7502365c",
   "metadata": {
    "scrolled": true
   },
   "outputs": [
    {
     "name": "stdout",
     "output_type": "stream",
     "text": [
      "-1 rows accessed\n"
     ]
    }
   ],
   "source": [
    "print(cursor.rowcount,\"rows accessed\")"
   ]
  },
  {
   "cell_type": "markdown",
   "id": "cbc9f82e",
   "metadata": {},
   "source": [
    "<h3>fetchmany"
   ]
  },
  {
   "cell_type": "code",
   "execution_count": 13,
   "id": "5dabf503",
   "metadata": {},
   "outputs": [
    {
     "name": "stdout",
     "output_type": "stream",
     "text": [
      "(1, 'Sumer', 'Asia', -4500, -1900)\n",
      "(2, 'Indus Valley', 'Asia', -3300, -1300)\n",
      "(3, 'Ancient Egypt', 'Africa', -3100, -332)\n"
     ]
    }
   ],
   "source": [
    "con = sqlite.connect(\"history.db\")\n",
    "\n",
    "cursor = con.cursor()\n",
    "cursor.execute(\"SELECT * FROM civilisations\")\n",
    "\n",
    "manyresults = cursor.fetchmany(3)\n",
    "\n",
    "for result in manyresults:\n",
    "    print(result)\n",
    "con.close()"
   ]
  },
  {
   "cell_type": "markdown",
   "id": "a0f83493",
   "metadata": {},
   "source": [
    "<h3>fetchall"
   ]
  },
  {
   "cell_type": "code",
   "execution_count": 14,
   "id": "ce2f07aa",
   "metadata": {
    "scrolled": true
   },
   "outputs": [
    {
     "name": "stdout",
     "output_type": "stream",
     "text": [
      "(1, 'Sumer', 'Asia', -4500, -1900)\n",
      "(2, 'Indus Valley', 'Asia', -3300, -1300)\n",
      "(3, 'Ancient Egypt', 'Africa', -3100, -332)\n",
      "(4, 'Xia', 'Asia', -2070, -1600)\n",
      "(5, 'Ancient Maya', 'America', -2000, 1500)\n",
      "(6, 'Ancient Greece', 'Europe', -1100, 140)\n",
      "(7, 'Ancient Rome', 'Europe', -750, 470)\n",
      "(8, 'bla bla', 'somewhere', -2, 2)\n",
      "(9, 'bla bla bla', 'somewhere else', -2, 3)\n"
     ]
    }
   ],
   "source": [
    "con = sqlite.connect(\"history.db\")\n",
    "\n",
    "cursor = con.cursor()\n",
    "cursor.execute(\"SELECT * FROM civilisations\")\n",
    "\n",
    "results = cursor.fetchall()\n",
    "\n",
    "for result in results:\n",
    "    print(result)\n",
    "con.close()"
   ]
  },
  {
   "cell_type": "markdown",
   "id": "705f5772",
   "metadata": {},
   "source": [
    "<h3>LIMIT"
   ]
  },
  {
   "cell_type": "code",
   "execution_count": 15,
   "id": "7a5a189b",
   "metadata": {},
   "outputs": [
    {
     "name": "stdout",
     "output_type": "stream",
     "text": [
      "(1, 'Sumer', 'Asia', -4500, -1900)\n",
      "(2, 'Indus Valley', 'Asia', -3300, -1300)\n"
     ]
    }
   ],
   "source": [
    "con = sqlite.connect(\"history.db\")\n",
    "\n",
    "cursor = con.cursor()\n",
    "cursor.execute(\"SELECT * FROM civilisations LIMIT 2\")\n",
    "\n",
    "results = cursor.fetchall()\n",
    "\n",
    "for result in results:\n",
    "    print(result)\n",
    "con.close()"
   ]
  },
  {
   "cell_type": "markdown",
   "id": "b178e07f",
   "metadata": {},
   "source": [
    "<h3>SELECT COLUMNS FROM TABLE"
   ]
  },
  {
   "cell_type": "code",
   "execution_count": 16,
   "id": "c0adf4a2",
   "metadata": {},
   "outputs": [
    {
     "name": "stdout",
     "output_type": "stream",
     "text": [
      "('Sumer', -4500)\n",
      "('Indus Valley', -3300)\n",
      "('Ancient Egypt', -3100)\n",
      "('Xia', -2070)\n",
      "('Ancient Maya', -2000)\n",
      "('Ancient Greece', -1100)\n",
      "('Ancient Rome', -750)\n",
      "('bla bla', -2)\n",
      "('bla bla bla', -2)\n"
     ]
    }
   ],
   "source": [
    "con = sqlite.connect(\"history.db\")\n",
    "\n",
    "cursor = con.cursor()\n",
    "cursor.execute(\"SELECT Name,StartYear FROM civilisations\")\n",
    "\n",
    "results = cursor.fetchall()\n",
    "\n",
    "for result in results:\n",
    "    print(result)\n",
    "con.close()"
   ]
  },
  {
   "cell_type": "markdown",
   "id": "deee7d9c",
   "metadata": {},
   "source": [
    "<h3>WHERE"
   ]
  },
  {
   "cell_type": "code",
   "execution_count": 17,
   "id": "b9032690",
   "metadata": {},
   "outputs": [
    {
     "name": "stdout",
     "output_type": "stream",
     "text": [
      "(4, 'Xia', 'Asia', -2070, -1600)\n",
      "(5, 'Ancient Maya', 'America', -2000, 1500)\n",
      "(6, 'Ancient Greece', 'Europe', -1100, 140)\n",
      "(7, 'Ancient Rome', 'Europe', -750, 470)\n",
      "(8, 'bla bla', 'somewhere', -2, 2)\n",
      "(9, 'bla bla bla', 'somewhere else', -2, 3)\n"
     ]
    }
   ],
   "source": [
    "con = sqlite.connect(\"history.db\")\n",
    "\n",
    "cursor = con.cursor()\n",
    "cursor.execute(\"SELECT * FROM civilisations WHERE StartYear > -3000\")\n",
    "\n",
    "results = cursor.fetchall()\n",
    "\n",
    "for result in results:\n",
    "    print(result)\n",
    "con.close()"
   ]
  },
  {
   "cell_type": "markdown",
   "id": "c6beffb3",
   "metadata": {},
   "source": [
    "<h3>ORDER BY"
   ]
  },
  {
   "cell_type": "code",
   "execution_count": 18,
   "id": "1cac083e",
   "metadata": {},
   "outputs": [
    {
     "name": "stdout",
     "output_type": "stream",
     "text": [
      "(3, 'Ancient Egypt', 'Africa', -3100, -332)\n",
      "(6, 'Ancient Greece', 'Europe', -1100, 140)\n",
      "(5, 'Ancient Maya', 'America', -2000, 1500)\n",
      "(7, 'Ancient Rome', 'Europe', -750, 470)\n",
      "(2, 'Indus Valley', 'Asia', -3300, -1300)\n",
      "(1, 'Sumer', 'Asia', -4500, -1900)\n",
      "(4, 'Xia', 'Asia', -2070, -1600)\n",
      "(8, 'bla bla', 'somewhere', -2, 2)\n",
      "(9, 'bla bla bla', 'somewhere else', -2, 3)\n"
     ]
    }
   ],
   "source": [
    "con = sqlite.connect(\"history.db\")\n",
    "\n",
    "cursor = con.cursor()\n",
    "cursor.execute(\"SELECT * FROM civilisations ORDER BY Name\")\n",
    "\n",
    "results = cursor.fetchall()\n",
    "\n",
    "for result in results:\n",
    "    print(result)\n",
    "con.close()"
   ]
  },
  {
   "cell_type": "markdown",
   "id": "afe3ad13",
   "metadata": {},
   "source": [
    "<h3>DESC"
   ]
  },
  {
   "cell_type": "code",
   "execution_count": 19,
   "id": "759389f5",
   "metadata": {
    "scrolled": true
   },
   "outputs": [
    {
     "name": "stdout",
     "output_type": "stream",
     "text": [
      "(9, 'bla bla bla', 'somewhere else', -2, 3)\n",
      "(8, 'bla bla', 'somewhere', -2, 2)\n",
      "(4, 'Xia', 'Asia', -2070, -1600)\n",
      "(1, 'Sumer', 'Asia', -4500, -1900)\n",
      "(2, 'Indus Valley', 'Asia', -3300, -1300)\n",
      "(7, 'Ancient Rome', 'Europe', -750, 470)\n",
      "(5, 'Ancient Maya', 'America', -2000, 1500)\n",
      "(6, 'Ancient Greece', 'Europe', -1100, 140)\n",
      "(3, 'Ancient Egypt', 'Africa', -3100, -332)\n"
     ]
    }
   ],
   "source": [
    "con = sqlite.connect(\"history.db\")\n",
    "\n",
    "cursor = con.cursor()\n",
    "cursor.execute(\"SELECT * FROM civilisations ORDER BY Name DESC\")\n",
    "\n",
    "results = cursor.fetchall()\n",
    "\n",
    "for result in results:\n",
    "    print(result)\n",
    "con.close()"
   ]
  },
  {
   "cell_type": "markdown",
   "id": "82994a7b",
   "metadata": {},
   "source": [
    "<h3>UPDATE TABLE SET"
   ]
  },
  {
   "cell_type": "code",
   "execution_count": 20,
   "id": "7ea5c835",
   "metadata": {
    "scrolled": true
   },
   "outputs": [
    {
     "name": "stdout",
     "output_type": "stream",
     "text": [
      "(1, 'Sumer', 'Asia', -4500, -1900)\n",
      "(2, 'Indus Valley', 'Asia', -3300, -1300)\n",
      "(3, 'Ancient Egypt', 'Africa', -3100, -332)\n",
      "(4, 'Xia', 'Asia', -2070, -1600)\n",
      "(5, 'Ancient Maya', 'America', -2000, 1500)\n",
      "(6, 'Ancient Greece', 'Europe', -1100, 140)\n",
      "(7, 'Ancient Rome', 'Europe', -750, 470)\n",
      "(8, 'bla bla', 'somewhere', -2, 2)\n",
      "(9, 'Carthage', 'Africa', -814, -146)\n"
     ]
    }
   ],
   "source": [
    "con = sqlite.dbapi2.connect(\"history.db\")#dbapi2 is to ease committing because of the lightweight of sqlite\n",
    "\n",
    "cursor = con.cursor()\n",
    "cursor.execute(\"\"\"UPDATE civilisations SET  Name='Carthage',\n",
    "                                            Continent='Africa',\n",
    "                                            StartYear=-814,\n",
    "                                            EndYear=-146\n",
    "                                       WHERE Name='bla bla bla'\n",
    "               \"\"\")\n",
    "\n",
    "\n",
    "cursor.execute(\"SELECT * FROM civilisations\")\n",
    "results = cursor.fetchall()\n",
    "for result in results:\n",
    "    print(result)\n",
    "con.close()"
   ]
  },
  {
   "cell_type": "markdown",
   "id": "8f631af1",
   "metadata": {},
   "source": [
    "<h3>DELETE FROM TABLE"
   ]
  },
  {
   "cell_type": "code",
   "execution_count": 21,
   "id": "4547b67c",
   "metadata": {},
   "outputs": [
    {
     "name": "stdout",
     "output_type": "stream",
     "text": [
      "(1, 'Sumer', 'Asia', -4500, -1900)\n",
      "(2, 'Indus Valley', 'Asia', -3300, -1300)\n",
      "(3, 'Ancient Egypt', 'Africa', -3100, -332)\n",
      "(4, 'Xia', 'Asia', -2070, -1600)\n",
      "(5, 'Ancient Maya', 'America', -2000, 1500)\n",
      "(6, 'Ancient Greece', 'Europe', -1100, 140)\n",
      "(7, 'Ancient Rome', 'Europe', -750, 470)\n",
      "(9, 'bla bla bla', 'somewhere else', -2, 3)\n"
     ]
    }
   ],
   "source": [
    "con = sqlite.dbapi2.connect(\"history.db\")\n",
    "\n",
    "cursor = con.cursor()\n",
    "cursor.execute(\"DELETE FROM civilisations WHERE Name='bla bla'\")\n",
    "\n",
    "cursor.execute(\"SELECT * FROM civilisations\")\n",
    "results = cursor.fetchall()\n",
    "for result in results:\n",
    "    print(result)\n",
    "con.close()"
   ]
  },
  {
   "cell_type": "markdown",
   "id": "36837201",
   "metadata": {},
   "source": [
    "<h3>DROP TABLE"
   ]
  },
  {
   "cell_type": "code",
   "execution_count": 22,
   "id": "f5f9cae1",
   "metadata": {
    "collapsed": true
   },
   "outputs": [
    {
     "ename": "OperationalError",
     "evalue": "database is locked",
     "output_type": "error",
     "traceback": [
      "\u001b[1;31m---------------------------------------------------------------------------\u001b[0m",
      "\u001b[1;31mOperationalError\u001b[0m                          Traceback (most recent call last)",
      "\u001b[1;32m~\\AppData\\Local\\Temp/ipykernel_14684/1320486022.py\u001b[0m in \u001b[0;36m<module>\u001b[1;34m\u001b[0m\n\u001b[0;32m      2\u001b[0m \u001b[1;33m\u001b[0m\u001b[0m\n\u001b[0;32m      3\u001b[0m \u001b[0mcursor\u001b[0m \u001b[1;33m=\u001b[0m \u001b[0mcon\u001b[0m\u001b[1;33m.\u001b[0m\u001b[0mcursor\u001b[0m\u001b[1;33m(\u001b[0m\u001b[1;33m)\u001b[0m\u001b[1;33m\u001b[0m\u001b[1;33m\u001b[0m\u001b[0m\n\u001b[1;32m----> 4\u001b[1;33m \u001b[0mcursor\u001b[0m\u001b[1;33m.\u001b[0m\u001b[0mexecute\u001b[0m\u001b[1;33m(\u001b[0m\u001b[1;34m\"DROP TABLE civilisations\"\u001b[0m\u001b[1;33m)\u001b[0m\u001b[1;33m\u001b[0m\u001b[1;33m\u001b[0m\u001b[0m\n\u001b[0m\u001b[0;32m      5\u001b[0m \u001b[0mcon\u001b[0m\u001b[1;33m.\u001b[0m\u001b[0mclose\u001b[0m\u001b[1;33m(\u001b[0m\u001b[1;33m)\u001b[0m\u001b[1;33m\u001b[0m\u001b[1;33m\u001b[0m\u001b[0m\n",
      "\u001b[1;31mOperationalError\u001b[0m: database is locked"
     ]
    }
   ],
   "source": [
    "con = sqlite.dbapi2.connect(\"history.db\")\n",
    "\n",
    "cursor = con.cursor()\n",
    "cursor.execute(\"DROP TABLE civilisations\")\n",
    "con.close()"
   ]
  },
  {
   "cell_type": "markdown",
   "id": "549b28f9",
   "metadata": {},
   "source": [
    "<h3>SEE ASO"
   ]
  },
  {
   "cell_type": "raw",
   "id": "78855df4",
   "metadata": {},
   "source": [
    "https://www.sqlite.org/lang.html"
   ]
  }
 ],
 "metadata": {
  "kernelspec": {
   "display_name": "Python 3 (ipykernel)",
   "language": "python",
   "name": "python3"
  },
  "language_info": {
   "codemirror_mode": {
    "name": "ipython",
    "version": 3
   },
   "file_extension": ".py",
   "mimetype": "text/x-python",
   "name": "python",
   "nbconvert_exporter": "python",
   "pygments_lexer": "ipython3",
   "version": "3.10.0"
  }
 },
 "nbformat": 4,
 "nbformat_minor": 5
}
