{
 "cells": [
  {
   "cell_type": "markdown",
   "id": "b05ca1a8",
   "metadata": {},
   "source": [
    "<h3>open"
   ]
  },
  {
   "cell_type": "code",
   "execution_count": 1,
   "id": "a7745798",
   "metadata": {},
   "outputs": [],
   "source": [
    "f = open(\"radiation.txt\")"
   ]
  },
  {
   "cell_type": "markdown",
   "id": "62a061ec",
   "metadata": {},
   "source": [
    "<h3>close"
   ]
  },
  {
   "cell_type": "code",
   "execution_count": 2,
   "id": "134f0b51",
   "metadata": {},
   "outputs": [],
   "source": [
    "f.close()"
   ]
  },
  {
   "cell_type": "markdown",
   "id": "7ffa5c1a",
   "metadata": {},
   "source": [
    "<h3>with stmt"
   ]
  },
  {
   "cell_type": "code",
   "execution_count": 3,
   "id": "b964795b",
   "metadata": {},
   "outputs": [],
   "source": [
    "with open(\"radiation.txt\") as f:\n",
    "    pass"
   ]
  },
  {
   "cell_type": "markdown",
   "id": "e106495a",
   "metadata": {},
   "source": [
    "<h3>read"
   ]
  },
  {
   "cell_type": "code",
   "execution_count": 4,
   "id": "4340f38d",
   "metadata": {
    "scrolled": true
   },
   "outputs": [
    {
     "name": "stdout",
     "output_type": "stream",
     "text": [
      "    In 1932 the neutron was discovered by James Chadwick and, in \n",
      "1933, artificial radioactivity by Frderic and Irine Joliot-Curie. There\u0002after, in the late 1930's and in the 1940's many artificially produced \n",
      "radioactive elements were discovered by many investigators using \n",
      "nuclear reactions produced in the cyclotron of Ernest Lawrence and \n",
      "the nuclear reactor developed by Enrico Fermi and his colleagues. In \n",
      "discussing such nuclear reactions the following designations are used: \n",
      "n for neutron, p for proton, d for deuteron, a for alpha particle, and y \n",
      "for gamma radiation, and the format, (n,y)\n",
      "NATIONAL COUNCIL ON RADIATION \n",
      "PROTECTION AND MEASUREMENTS\n"
     ]
    }
   ],
   "source": [
    "with open(\"radiation.txt\",\"r\") as f:\n",
    "    content = f.read()\n",
    "    print(content)"
   ]
  },
  {
   "cell_type": "markdown",
   "id": "db3d08c0",
   "metadata": {},
   "source": [
    "<h3>readline"
   ]
  },
  {
   "cell_type": "code",
   "execution_count": 5,
   "id": "9bae4e33",
   "metadata": {
    "scrolled": false
   },
   "outputs": [
    {
     "name": "stdout",
     "output_type": "stream",
     "text": [
      "    In 1932 the neutron was discovered by James Chadwick and, in \n",
      "\n"
     ]
    }
   ],
   "source": [
    "with open(\"radiation.txt\",\"r\") as f:\n",
    "    content = f.readline()\n",
    "    print(content)"
   ]
  },
  {
   "cell_type": "markdown",
   "id": "18bbfd63",
   "metadata": {},
   "source": [
    "<h3>readlines"
   ]
  },
  {
   "cell_type": "code",
   "execution_count": 6,
   "id": "3d5520e6",
   "metadata": {
    "scrolled": true
   },
   "outputs": [
    {
     "name": "stdout",
     "output_type": "stream",
     "text": [
      "['    In 1932 the neutron was discovered by James Chadwick and, in \\n', \"1933, artificial radioactivity by Frderic and Irine Joliot-Curie. There\\x02after, in the late 1930's and in the 1940's many artificially produced \\n\", 'radioactive elements were discovered by many investigators using \\n', 'nuclear reactions produced in the cyclotron of Ernest Lawrence and \\n', 'the nuclear reactor developed by Enrico Fermi and his colleagues. In \\n', 'discussing such nuclear reactions the following designations are used: \\n', 'n for neutron, p for proton, d for deuteron, a for alpha particle, and y \\n', 'for gamma radiation, and the format, (n,y)\\n', 'NATIONAL COUNCIL ON RADIATION \\n', 'PROTECTION AND MEASUREMENTS']\n"
     ]
    }
   ],
   "source": [
    "with open(\"radiation.txt\",\"r\") as f:\n",
    "    lines = f.readlines()\n",
    "    print(lines)\n",
    "    "
   ]
  },
  {
   "cell_type": "markdown",
   "id": "8ee442e0",
   "metadata": {},
   "source": [
    "<h3>seek"
   ]
  },
  {
   "cell_type": "code",
   "execution_count": 7,
   "id": "1f7b884a",
   "metadata": {},
   "outputs": [
    {
     "name": "stdout",
     "output_type": "stream",
     "text": [
      "In 1932 the neutron\n"
     ]
    }
   ],
   "source": [
    "with open(\"radiation.txt\",\"r\") as f:\n",
    "    f.seek(4)\n",
    "    print(f.read(19))"
   ]
  },
  {
   "cell_type": "markdown",
   "id": "523be663",
   "metadata": {},
   "source": [
    "<h3>tell"
   ]
  },
  {
   "cell_type": "code",
   "execution_count": 8,
   "id": "fe293b29",
   "metadata": {},
   "outputs": [
    {
     "name": "stdout",
     "output_type": "stream",
     "text": [
      "4\n"
     ]
    }
   ],
   "source": [
    "with open(\"radiation.txt\",\"r\") as f:\n",
    "    f.seek(4)\n",
    "    print(f.tell())"
   ]
  },
  {
   "cell_type": "markdown",
   "id": "831ae475",
   "metadata": {},
   "source": [
    "<h3>write"
   ]
  },
  {
   "cell_type": "code",
   "execution_count": 9,
   "id": "058f6ea5",
   "metadata": {},
   "outputs": [
    {
     "name": "stdout",
     "output_type": "stream",
     "text": [
      "Intelligence isn't global, it is always relative to some elementary topics\n"
     ]
    }
   ],
   "source": [
    "with open(\"wise.txt\",\"w\") as f:\n",
    "    f.write(\"Intelligence isn't global\")\n",
    "    f.write(\", it is always relative to some elementary topics\")\n",
    "    \n",
    "with open(\"wise.txt\",\"r\") as f:\n",
    "    print(f.read())"
   ]
  },
  {
   "cell_type": "markdown",
   "id": "d9252e62",
   "metadata": {},
   "source": [
    "<h3>writelines"
   ]
  },
  {
   "cell_type": "code",
   "execution_count": 10,
   "id": "b9f053d5",
   "metadata": {
    "scrolled": true
   },
   "outputs": [
    {
     "name": "stdout",
     "output_type": "stream",
     "text": [
      "Intelligence isn't global\n",
      "it is always relative to some elementary topics\n",
      "\n"
     ]
    }
   ],
   "source": [
    "with open(\"wise.txt\",\"w\") as f:\n",
    "    lines = [\"Intelligence isn't global\\n\",\"it is always relative to some elementary topics\\n\"]\n",
    "    f.writelines(lines)\n",
    "    \n",
    "with open(\"wise.txt\",\"r\") as f:\n",
    "    print(f.read())"
   ]
  },
  {
   "cell_type": "markdown",
   "id": "2076f5f1",
   "metadata": {},
   "source": [
    "<h3>append mode"
   ]
  },
  {
   "cell_type": "code",
   "execution_count": 11,
   "id": "b552cff3",
   "metadata": {
    "scrolled": true
   },
   "outputs": [
    {
     "name": "stdout",
     "output_type": "stream",
     "text": [
      "Intelligence isn't global\n",
      "it is always relative to some elementary topics\n",
      "We are not rich by what we possess but by what we can do without\n",
      "\n"
     ]
    }
   ],
   "source": [
    "with open(\"wise.txt\",\"a\") as f:\n",
    "    f.write(\"We are not rich by what we possess but by what we can do without\\n\")\n",
    "\n",
    "with open(\"wise.txt\",\"r\") as f:\n",
    "    print(f.read())"
   ]
  },
  {
   "cell_type": "markdown",
   "id": "e6e31117",
   "metadata": {},
   "source": [
    "<h3>truncate"
   ]
  },
  {
   "cell_type": "code",
   "execution_count": 12,
   "id": "05940e10",
   "metadata": {
    "scrolled": true
   },
   "outputs": [
    {
     "name": "stdout",
     "output_type": "stream",
     "text": [
      "In\n"
     ]
    }
   ],
   "source": [
    "with open(\"wise.txt\",\"a\") as f:\n",
    "    f.truncate(2)\n",
    "    \n",
    "with open(\"wise.txt\",\"r\") as f:\n",
    "    print(f.read())"
   ]
  },
  {
   "cell_type": "markdown",
   "id": "de540ee1",
   "metadata": {},
   "source": [
    "<h3>readable"
   ]
  },
  {
   "cell_type": "code",
   "execution_count": 13,
   "id": "4c86f052",
   "metadata": {},
   "outputs": [
    {
     "name": "stdout",
     "output_type": "stream",
     "text": [
      "True\n",
      "False\n"
     ]
    }
   ],
   "source": [
    "with open(\"wise.txt\",\"r\") as f:\n",
    "    print(f.readable())\n",
    "    \n",
    "with open(\"wise.txt\",\"w\") as f:\n",
    "    print(f.readable())"
   ]
  },
  {
   "cell_type": "markdown",
   "id": "b2514d5f",
   "metadata": {},
   "source": [
    "<h3>writable"
   ]
  },
  {
   "cell_type": "code",
   "execution_count": 14,
   "id": "16157ded",
   "metadata": {},
   "outputs": [
    {
     "name": "stdout",
     "output_type": "stream",
     "text": [
      "False\n",
      "True\n"
     ]
    }
   ],
   "source": [
    "with open(\"wise.txt\",\"r\") as f:\n",
    "    print(f.writable())\n",
    "    \n",
    "with open(\"wise.txt\",\"w\") as f:\n",
    "    print(f.writable())"
   ]
  },
  {
   "cell_type": "markdown",
   "id": "9dd99e7b",
   "metadata": {},
   "source": [
    "<h3>closed"
   ]
  },
  {
   "cell_type": "code",
   "execution_count": 15,
   "id": "a769ee26",
   "metadata": {},
   "outputs": [
    {
     "name": "stdout",
     "output_type": "stream",
     "text": [
      "False\n",
      "True\n"
     ]
    }
   ],
   "source": [
    "with open(\"wise.txt\",\"r\") as f:\n",
    "    print(f.closed)\n",
    "    \n",
    "print(f.closed)"
   ]
  },
  {
   "cell_type": "markdown",
   "id": "6c138d51",
   "metadata": {},
   "source": [
    "<h3>name"
   ]
  },
  {
   "cell_type": "code",
   "execution_count": 16,
   "id": "928681ce",
   "metadata": {},
   "outputs": [
    {
     "name": "stdout",
     "output_type": "stream",
     "text": [
      "wise.txt\n"
     ]
    }
   ],
   "source": [
    "with open(\"wise.txt\",\"r\") as f:\n",
    "    print(f.name)"
   ]
  },
  {
   "cell_type": "markdown",
   "id": "2b07d6bd",
   "metadata": {},
   "source": [
    "<h3>mode"
   ]
  },
  {
   "cell_type": "code",
   "execution_count": 17,
   "id": "aacc9195",
   "metadata": {},
   "outputs": [
    {
     "name": "stdout",
     "output_type": "stream",
     "text": [
      "r\n"
     ]
    }
   ],
   "source": [
    "with open(\"wise.txt\",\"r\") as f:\n",
    "    print(f.mode)"
   ]
  },
  {
   "cell_type": "markdown",
   "id": "e6ef2c37",
   "metadata": {},
   "source": [
    "<h3>encoding"
   ]
  },
  {
   "cell_type": "code",
   "execution_count": 18,
   "id": "cb389bbc",
   "metadata": {},
   "outputs": [
    {
     "name": "stdout",
     "output_type": "stream",
     "text": [
      "cp1252\n"
     ]
    }
   ],
   "source": [
    "with open(\"wise.txt\",\"r\") as f:\n",
    "    print(f.encoding)"
   ]
  },
  {
   "cell_type": "markdown",
   "id": "4be39931",
   "metadata": {},
   "source": [
    "<h3>reconfigure"
   ]
  },
  {
   "cell_type": "code",
   "execution_count": 19,
   "id": "bf09f94d",
   "metadata": {},
   "outputs": [],
   "source": [
    "with open(\"wise.txt\",\"r\") as f:\n",
    "    f.reconfigure(encoding=\"utf-8\")"
   ]
  }
 ],
 "metadata": {
  "kernelspec": {
   "display_name": "Python 3 (ipykernel)",
   "language": "python",
   "name": "python3"
  },
  "language_info": {
   "codemirror_mode": {
    "name": "ipython",
    "version": 3
   },
   "file_extension": ".py",
   "mimetype": "text/x-python",
   "name": "python",
   "nbconvert_exporter": "python",
   "pygments_lexer": "ipython3",
   "version": "3.10.0"
  }
 },
 "nbformat": 4,
 "nbformat_minor": 5
}
