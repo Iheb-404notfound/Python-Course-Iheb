{
 "cells": [
  {
   "cell_type": "markdown",
   "id": "05ddd2e3",
   "metadata": {},
   "source": [
    "<center><h1>numpy"
   ]
  },
  {
   "cell_type": "code",
   "execution_count": 1,
   "id": "7f56a3a8",
   "metadata": {},
   "outputs": [],
   "source": [
    "import numpy as np"
   ]
  },
  {
   "cell_type": "markdown",
   "id": "4e9436ce",
   "metadata": {},
   "source": [
    "<h3>array"
   ]
  },
  {
   "cell_type": "code",
   "execution_count": 2,
   "id": "1eb25122",
   "metadata": {},
   "outputs": [],
   "source": [
    "arr = np.array([int]*10)"
   ]
  },
  {
   "cell_type": "markdown",
   "id": "4d35c489",
   "metadata": {},
   "source": [
    "<h3>arange"
   ]
  },
  {
   "cell_type": "code",
   "execution_count": 3,
   "id": "c24d3147",
   "metadata": {},
   "outputs": [
    {
     "name": "stdout",
     "output_type": "stream",
     "text": [
      "[0 1 2 3 4 5 6 7 8 9]\n"
     ]
    }
   ],
   "source": [
    "arr = np.arange(0,10,1)\n",
    "print(arr)"
   ]
  },
  {
   "cell_type": "markdown",
   "id": "aa4f8c14",
   "metadata": {},
   "source": [
    "<h3>arr[ ] arr[start:end:step]"
   ]
  },
  {
   "cell_type": "code",
   "execution_count": 4,
   "id": "5185ba9e",
   "metadata": {},
   "outputs": [
    {
     "name": "stdout",
     "output_type": "stream",
     "text": [
      "3\n",
      "[12  3  6 89]\n"
     ]
    }
   ],
   "source": [
    "arr = np.array([12,5,3,4,6,5,89,23])\n",
    "\n",
    "print(arr[2])\n",
    "\n",
    "print(arr[0:9:2])"
   ]
  },
  {
   "cell_type": "markdown",
   "id": "68c39efc",
   "metadata": {},
   "source": [
    "<h3>size"
   ]
  },
  {
   "cell_type": "code",
   "execution_count": 5,
   "id": "41109392",
   "metadata": {
    "scrolled": true
   },
   "outputs": [
    {
     "name": "stdout",
     "output_type": "stream",
     "text": [
      "8\n"
     ]
    }
   ],
   "source": [
    "print(arr.size)"
   ]
  },
  {
   "cell_type": "markdown",
   "id": "a374c91d",
   "metadata": {},
   "source": [
    "<h3>ndim"
   ]
  },
  {
   "cell_type": "code",
   "execution_count": 6,
   "id": "9ba7d074",
   "metadata": {
    "scrolled": false
   },
   "outputs": [
    {
     "name": "stdout",
     "output_type": "stream",
     "text": [
      "1\n"
     ]
    }
   ],
   "source": [
    "print(arr.ndim)"
   ]
  },
  {
   "cell_type": "markdown",
   "id": "9a41e120",
   "metadata": {},
   "source": [
    "<h3>shape"
   ]
  },
  {
   "cell_type": "code",
   "execution_count": 7,
   "id": "66976a86",
   "metadata": {
    "scrolled": false
   },
   "outputs": [
    {
     "name": "stdout",
     "output_type": "stream",
     "text": [
      "(8,)\n",
      "(8,)\n"
     ]
    }
   ],
   "source": [
    "print(arr.shape)\n",
    "\n",
    "print(np.shape(arr))"
   ]
  },
  {
   "cell_type": "markdown",
   "id": "b2f1e0b6",
   "metadata": {},
   "source": [
    "<h3>reshape"
   ]
  },
  {
   "cell_type": "code",
   "execution_count": 8,
   "id": "0e12af10",
   "metadata": {
    "scrolled": true
   },
   "outputs": [
    {
     "name": "stdout",
     "output_type": "stream",
     "text": [
      "(4, 2)\n",
      "[[12  5]\n",
      " [ 3  4]\n",
      " [ 6  5]\n",
      " [89 23]]\n",
      "\n",
      "(2, 4)\n",
      "[[12  5  3  4]\n",
      " [ 6  5 89 23]]\n",
      "\n"
     ]
    }
   ],
   "source": [
    "arr = arr.reshape(4,2)\n",
    "print(f\"{arr.shape}\\n{arr}\\n\")\n",
    "\n",
    "arr = np.reshape(arr,(2,4))\n",
    "print(f\"{arr.shape}\\n{arr}\\n\")"
   ]
  },
  {
   "cell_type": "markdown",
   "id": "993d86a3",
   "metadata": {},
   "source": [
    "<h3>alen"
   ]
  },
  {
   "cell_type": "code",
   "execution_count": 9,
   "id": "a3045b14",
   "metadata": {
    "scrolled": true
   },
   "outputs": [
    {
     "name": "stdout",
     "output_type": "stream",
     "text": [
      "2\n",
      "2\n",
      "2\n"
     ]
    }
   ],
   "source": [
    "print(np.alen(arr))\n",
    "print(arr.shape[0])\n",
    "print(len(arr))"
   ]
  },
  {
   "cell_type": "markdown",
   "id": "c908464b",
   "metadata": {},
   "source": [
    "<h3>ones"
   ]
  },
  {
   "cell_type": "code",
   "execution_count": 10,
   "id": "80b7a2cf",
   "metadata": {},
   "outputs": [
    {
     "name": "stdout",
     "output_type": "stream",
     "text": [
      "[[1. 1. 1.]\n",
      " [1. 1. 1.]]\n"
     ]
    }
   ],
   "source": [
    "arr = np.ones(shape=(2,3))\n",
    "\n",
    "print(arr)"
   ]
  },
  {
   "cell_type": "markdown",
   "id": "e3b8a9ba",
   "metadata": {},
   "source": [
    "<h3>zeros"
   ]
  },
  {
   "cell_type": "code",
   "execution_count": 11,
   "id": "999ff7af",
   "metadata": {
    "scrolled": true
   },
   "outputs": [
    {
     "name": "stdout",
     "output_type": "stream",
     "text": [
      "[[0. 0. 0. 0.]\n",
      " [0. 0. 0. 0.]\n",
      " [0. 0. 0. 0.]\n",
      " [0. 0. 0. 0.]]\n"
     ]
    }
   ],
   "source": [
    "arr = np.zeros(shape=(4,4))\n",
    "\n",
    "print(arr)"
   ]
  },
  {
   "cell_type": "markdown",
   "id": "a71171af",
   "metadata": {},
   "source": [
    "<h3>linspace"
   ]
  },
  {
   "cell_type": "code",
   "execution_count": 12,
   "id": "2a9db6dc",
   "metadata": {
    "scrolled": true
   },
   "outputs": [
    {
     "name": "stdout",
     "output_type": "stream",
     "text": [
      "[ 0.          1.11111111  2.22222222  3.33333333  4.44444444  5.55555556\n",
      "  6.66666667  7.77777778  8.88888889 10.        ]\n"
     ]
    }
   ],
   "source": [
    "lin = np.linspace(0,10,10)\n",
    "print(lin)"
   ]
  },
  {
   "cell_type": "markdown",
   "id": "e8d04f90",
   "metadata": {},
   "source": [
    "<h3>average"
   ]
  },
  {
   "cell_type": "code",
   "execution_count": 13,
   "id": "2fff5611",
   "metadata": {
    "scrolled": false
   },
   "outputs": [
    {
     "data": {
      "text/plain": [
       "5.0"
      ]
     },
     "execution_count": 13,
     "metadata": {},
     "output_type": "execute_result"
    }
   ],
   "source": [
    "np.average(lin)"
   ]
  },
  {
   "cell_type": "markdown",
   "id": "8ca5922f",
   "metadata": {},
   "source": [
    "<h3>mean"
   ]
  },
  {
   "cell_type": "code",
   "execution_count": 14,
   "id": "5f9ee590",
   "metadata": {
    "scrolled": false
   },
   "outputs": [
    {
     "data": {
      "text/plain": [
       "5.0"
      ]
     },
     "execution_count": 14,
     "metadata": {},
     "output_type": "execute_result"
    }
   ],
   "source": [
    "np.mean(lin)"
   ]
  },
  {
   "cell_type": "markdown",
   "id": "57fd17b4",
   "metadata": {},
   "source": [
    "<h3>abs"
   ]
  },
  {
   "cell_type": "code",
   "execution_count": 15,
   "id": "7ee2901c",
   "metadata": {
    "scrolled": true
   },
   "outputs": [
    {
     "data": {
      "text/plain": [
       "array([ 0.        ,  1.11111111,  2.22222222,  3.33333333,  4.44444444,\n",
       "        5.55555556,  6.66666667,  7.77777778,  8.88888889, 10.        ])"
      ]
     },
     "execution_count": 15,
     "metadata": {},
     "output_type": "execute_result"
    }
   ],
   "source": [
    "lin = lin = np.linspace(0,-10,10)\n",
    "np.abs(lin)"
   ]
  },
  {
   "cell_type": "markdown",
   "id": "3610f623",
   "metadata": {},
   "source": [
    "<h3>amax"
   ]
  },
  {
   "cell_type": "code",
   "execution_count": 16,
   "id": "e3203ef1",
   "metadata": {
    "scrolled": false
   },
   "outputs": [
    {
     "data": {
      "text/plain": [
       "10.0"
      ]
     },
     "execution_count": 16,
     "metadata": {},
     "output_type": "execute_result"
    }
   ],
   "source": [
    "lin = lin = np.linspace(0,10,10)\n",
    "np.amax(lin)"
   ]
  },
  {
   "cell_type": "markdown",
   "id": "7e137dcd",
   "metadata": {},
   "source": [
    "<h3>amin"
   ]
  },
  {
   "cell_type": "code",
   "execution_count": 17,
   "id": "d25f00ec",
   "metadata": {
    "scrolled": true
   },
   "outputs": [
    {
     "data": {
      "text/plain": [
       "0.0"
      ]
     },
     "execution_count": 17,
     "metadata": {},
     "output_type": "execute_result"
    }
   ],
   "source": [
    "lin = np.linspace(0,10,10)\n",
    "np.amin(lin)"
   ]
  },
  {
   "cell_type": "markdown",
   "id": "297cafc8",
   "metadata": {},
   "source": [
    "<h3>argmax"
   ]
  },
  {
   "cell_type": "code",
   "execution_count": 18,
   "id": "872e7aea",
   "metadata": {
    "scrolled": false
   },
   "outputs": [
    {
     "data": {
      "text/plain": [
       "9"
      ]
     },
     "execution_count": 18,
     "metadata": {},
     "output_type": "execute_result"
    }
   ],
   "source": [
    "lin = lin = np.linspace(0,10,10)\n",
    "np.argmax(lin)"
   ]
  },
  {
   "cell_type": "markdown",
   "id": "d2cf1477",
   "metadata": {},
   "source": [
    "<h3>argmin"
   ]
  },
  {
   "cell_type": "code",
   "execution_count": 19,
   "id": "f891a11d",
   "metadata": {
    "scrolled": true
   },
   "outputs": [
    {
     "data": {
      "text/plain": [
       "0"
      ]
     },
     "execution_count": 19,
     "metadata": {},
     "output_type": "execute_result"
    }
   ],
   "source": [
    "lin = np.linspace(0,10,10)\n",
    "np.argmin(lin)"
   ]
  },
  {
   "cell_type": "markdown",
   "id": "03148e3b",
   "metadata": {},
   "source": [
    "<h3>around"
   ]
  },
  {
   "cell_type": "code",
   "execution_count": 20,
   "id": "61ff0739",
   "metadata": {
    "scrolled": true
   },
   "outputs": [
    {
     "data": {
      "text/plain": [
       "array([ 0.  ,  1.11,  2.22,  3.33,  4.44,  5.56,  6.67,  7.78,  8.89,\n",
       "       10.  ])"
      ]
     },
     "execution_count": 20,
     "metadata": {},
     "output_type": "execute_result"
    }
   ],
   "source": [
    "np.around(lin,2)"
   ]
  },
  {
   "cell_type": "markdown",
   "id": "b0ec1730",
   "metadata": {},
   "source": [
    "<h3>ceil"
   ]
  },
  {
   "cell_type": "code",
   "execution_count": 21,
   "id": "d7bcf1e4",
   "metadata": {
    "scrolled": true
   },
   "outputs": [
    {
     "data": {
      "text/plain": [
       "array([ 0.,  2.,  3.,  4.,  5.,  6.,  7.,  8.,  9., 10.])"
      ]
     },
     "execution_count": 21,
     "metadata": {},
     "output_type": "execute_result"
    }
   ],
   "source": [
    "lin = np.linspace(0,10,10)\n",
    "np.ceil(lin)"
   ]
  },
  {
   "cell_type": "markdown",
   "id": "12260015",
   "metadata": {},
   "source": [
    "<h3>floor"
   ]
  },
  {
   "cell_type": "code",
   "execution_count": 22,
   "id": "b1d14ad8",
   "metadata": {
    "scrolled": true
   },
   "outputs": [
    {
     "data": {
      "text/plain": [
       "array([ 0.,  1.,  2.,  3.,  4.,  5.,  6.,  7.,  8., 10.])"
      ]
     },
     "execution_count": 22,
     "metadata": {},
     "output_type": "execute_result"
    }
   ],
   "source": [
    "lin = np.linspace(0,10,10)\n",
    "np.floor(lin)"
   ]
  },
  {
   "cell_type": "markdown",
   "id": "19bbbaef",
   "metadata": {},
   "source": [
    "<strong><h3>arr + arr"
   ]
  },
  {
   "cell_type": "code",
   "execution_count": 23,
   "id": "4f1e5e4b",
   "metadata": {
    "scrolled": true
   },
   "outputs": [
    {
     "name": "stdout",
     "output_type": "stream",
     "text": [
      "[[ 7  4  4]\n",
      " [ 3 -1 -2]\n",
      " [ 0 -3  4]]\n"
     ]
    }
   ],
   "source": [
    "u = np.array([[3,-4,2],\n",
    "             [3,1,-1],\n",
    "             [0,-1,2]])\n",
    "\n",
    "v = np.array([[4,8,2],\n",
    "             [0,-2,-1],\n",
    "             [0,-2,2]])\n",
    "print(u+v)"
   ]
  },
  {
   "cell_type": "markdown",
   "id": "462e0483",
   "metadata": {},
   "source": [
    "<strong><h3>arr - arr"
   ]
  },
  {
   "cell_type": "code",
   "execution_count": 24,
   "id": "14159d59",
   "metadata": {
    "scrolled": true
   },
   "outputs": [
    {
     "name": "stdout",
     "output_type": "stream",
     "text": [
      "[[ -1 -12   0]\n",
      " [  3   3   0]\n",
      " [  0   1   0]]\n"
     ]
    }
   ],
   "source": [
    "u = np.array([[3,-4,2],\n",
    "             [3,1,-1],\n",
    "             [0,-1,2]])\n",
    "\n",
    "v = np.array([[4,8,2],\n",
    "             [0,-2,-1],\n",
    "             [0,-2,2]])\n",
    "print(u-v)"
   ]
  },
  {
   "cell_type": "markdown",
   "id": "8a715f85",
   "metadata": {},
   "source": [
    "<h3>arr * arr"
   ]
  },
  {
   "cell_type": "code",
   "execution_count": 25,
   "id": "22abfc9d",
   "metadata": {
    "scrolled": true
   },
   "outputs": [
    {
     "name": "stdout",
     "output_type": "stream",
     "text": [
      "[[ 12 -32   4]\n",
      " [  0  -2   1]\n",
      " [  0   2   4]]\n"
     ]
    }
   ],
   "source": [
    "u = np.array([[3,-4,2],\n",
    "             [3,1,-1],\n",
    "             [0,-1,2]])\n",
    "\n",
    "v = np.array([[4,8,2],\n",
    "             [0,-2,-1],\n",
    "             [0,-2,2]])\n",
    "print(u*v)"
   ]
  },
  {
   "cell_type": "markdown",
   "id": "d9cd03a8",
   "metadata": {},
   "source": [
    "<h3>arr / arr"
   ]
  },
  {
   "cell_type": "code",
   "execution_count": 26,
   "id": "395d68eb",
   "metadata": {
    "scrolled": true
   },
   "outputs": [
    {
     "name": "stdout",
     "output_type": "stream",
     "text": [
      "[[ 0.75 -0.5   1.  ]\n",
      " [ 0.6  -0.5   1.  ]\n",
      " [ 0.    0.5   1.  ]]\n"
     ]
    }
   ],
   "source": [
    "u = np.array([[3,-4,2],\n",
    "             [3,1,-1],\n",
    "             [0,-1,2]])\n",
    "\n",
    "v = np.array([[4,8,2],\n",
    "             [5,-2,-1],\n",
    "             [1,-2,2]])\n",
    "print(u/v)"
   ]
  },
  {
   "cell_type": "markdown",
   "id": "2f0579ab",
   "metadata": {},
   "source": [
    "<h3>arr ** arr"
   ]
  },
  {
   "cell_type": "code",
   "execution_count": 27,
   "id": "f815bb8f",
   "metadata": {
    "scrolled": true
   },
   "outputs": [
    {
     "name": "stdout",
     "output_type": "stream",
     "text": [
      "[[   81 65536     4]\n",
      " [  243     1    -1]\n",
      " [    0     1     4]]\n"
     ]
    }
   ],
   "source": [
    "u = np.array([[3,-4,2],\n",
    "            [3,1,-1],\n",
    "            [0,-1,2]])\n",
    "\n",
    "v = np.array([[4,8,2],\n",
    "             [5,2,1],\n",
    "             [1,2,2]])\n",
    "print(u**v)"
   ]
  },
  {
   "cell_type": "markdown",
   "id": "9d8a67a2",
   "metadata": {},
   "source": [
    "<strong><h3>scl + arr"
   ]
  },
  {
   "cell_type": "code",
   "execution_count": 28,
   "id": "4788cb57",
   "metadata": {
    "scrolled": true
   },
   "outputs": [
    {
     "name": "stdout",
     "output_type": "stream",
     "text": [
      "[[ 5 -2  4]\n",
      " [ 5  3  1]\n",
      " [ 2  1  4]]\n"
     ]
    }
   ],
   "source": [
    "u = np.array([[3,-4,2],\n",
    "             [3,1,-1],\n",
    "             [0,-1,2]])\n",
    "\n",
    "k = 2\n",
    "\n",
    "print(k+u)"
   ]
  },
  {
   "cell_type": "markdown",
   "id": "bb0e8e02",
   "metadata": {},
   "source": [
    "<strong><h3>scl - arr"
   ]
  },
  {
   "cell_type": "code",
   "execution_count": 29,
   "id": "6d8e317f",
   "metadata": {
    "scrolled": true
   },
   "outputs": [
    {
     "name": "stdout",
     "output_type": "stream",
     "text": [
      "[[-1  6  0]\n",
      " [-1  1  3]\n",
      " [ 2  3  0]]\n"
     ]
    }
   ],
   "source": [
    "u = np.array([[3,-4,2],\n",
    "             [3,1,-1],\n",
    "             [0,-1,2]])\n",
    "\n",
    "k = 2\n",
    "\n",
    "print(k-u)"
   ]
  },
  {
   "cell_type": "markdown",
   "id": "5f78deb4",
   "metadata": {},
   "source": [
    "<h3>scl * arr"
   ]
  },
  {
   "cell_type": "code",
   "execution_count": 30,
   "id": "0dd57200",
   "metadata": {
    "scrolled": true
   },
   "outputs": [
    {
     "name": "stdout",
     "output_type": "stream",
     "text": [
      "[[ 6 -8  4]\n",
      " [ 6  2 -2]\n",
      " [ 0 -2  4]]\n"
     ]
    }
   ],
   "source": [
    "u = np.array([[3,-4,2],\n",
    "             [3,1,-1],\n",
    "             [0,-1,2]])\n",
    "\n",
    "k = 2\n",
    "\n",
    "print(k*u)"
   ]
  },
  {
   "cell_type": "markdown",
   "id": "1da96a31",
   "metadata": {},
   "source": [
    "<h3>scl / arr"
   ]
  },
  {
   "cell_type": "code",
   "execution_count": 31,
   "id": "44df3222",
   "metadata": {
    "scrolled": true
   },
   "outputs": [
    {
     "name": "stdout",
     "output_type": "stream",
     "text": [
      "[[ 0.66666667 -0.5         1.        ]\n",
      " [ 0.66666667  2.         -2.        ]\n",
      " [ 2.         -2.          1.        ]]\n"
     ]
    }
   ],
   "source": [
    "u = np.array([[3,-4,2],\n",
    "             [3,1,-1],\n",
    "             [1,-1,2]])\n",
    "\n",
    "k = 2\n",
    "\n",
    "print(k/u)"
   ]
  },
  {
   "cell_type": "markdown",
   "id": "d0f2201a",
   "metadata": {},
   "source": [
    "<h3>scl ** arr"
   ]
  },
  {
   "cell_type": "code",
   "execution_count": 32,
   "id": "8b1d767d",
   "metadata": {
    "scrolled": false
   },
   "outputs": [
    {
     "name": "stdout",
     "output_type": "stream",
     "text": [
      "[[ 8 16  4]\n",
      " [ 8  2  2]\n",
      " [ 1  2  4]]\n"
     ]
    }
   ],
   "source": [
    "u = np.array([[3,4,2],\n",
    "             [3,1,1],\n",
    "             [0,1,2]])\n",
    "\n",
    "k = 2\n",
    "\n",
    "print(k**u)"
   ]
  },
  {
   "cell_type": "markdown",
   "id": "75fc52c8",
   "metadata": {},
   "source": [
    "<h3>exp"
   ]
  },
  {
   "cell_type": "code",
   "execution_count": 33,
   "id": "44378242",
   "metadata": {
    "scrolled": true
   },
   "outputs": [
    {
     "name": "stdout",
     "output_type": "stream",
     "text": [
      "[[ 20.08553692  54.59815003   7.3890561 ]\n",
      " [ 20.08553692 148.4131591   15.15426224]\n",
      " [403.42879349   2.71828183   7.3890561 ]]\n"
     ]
    }
   ],
   "source": [
    "u = np.array([[3,4,2],\n",
    "              [3,5,np.e],\n",
    "              [6,1,2]])\n",
    "\n",
    "print(np.exp(u))"
   ]
  },
  {
   "cell_type": "markdown",
   "id": "ac6e9aaa",
   "metadata": {},
   "source": [
    "<h3>log"
   ]
  },
  {
   "cell_type": "code",
   "execution_count": 34,
   "id": "870b41eb",
   "metadata": {
    "scrolled": true
   },
   "outputs": [
    {
     "name": "stdout",
     "output_type": "stream",
     "text": [
      "[[1.09861229 1.38629436 0.69314718]\n",
      " [1.09861229 1.60943791 1.        ]\n",
      " [1.79175947 0.         0.69314718]]\n"
     ]
    }
   ],
   "source": [
    "u = np.array([[3,4,2],\n",
    "              [3,5,np.e],\n",
    "              [6,1,2]])\n",
    "\n",
    "print(np.log(u))"
   ]
  },
  {
   "cell_type": "markdown",
   "id": "648ac415",
   "metadata": {},
   "source": [
    "<h3>sin"
   ]
  },
  {
   "cell_type": "code",
   "execution_count": 35,
   "id": "a97885e2",
   "metadata": {},
   "outputs": [
    {
     "data": {
      "text/plain": [
       "array([ 0.        ,  0.8961922 ,  0.79522006, -0.19056796, -0.96431712,\n",
       "       -0.66510151,  0.37415123,  0.99709789,  0.51060568, -0.54402111])"
      ]
     },
     "execution_count": 35,
     "metadata": {},
     "output_type": "execute_result"
    }
   ],
   "source": [
    "np.sin(lin)"
   ]
  },
  {
   "cell_type": "markdown",
   "id": "c8025738",
   "metadata": {},
   "source": [
    "<h3>cos"
   ]
  },
  {
   "cell_type": "code",
   "execution_count": 36,
   "id": "d771bf33",
   "metadata": {
    "scrolled": true
   },
   "outputs": [
    {
     "data": {
      "text/plain": [
       "array([ 1.        ,  0.44366602, -0.60632092, -0.981674  , -0.26474988,\n",
       "        0.74675295,  0.9273677 ,  0.07613012, -0.859815  , -0.83907153])"
      ]
     },
     "execution_count": 36,
     "metadata": {},
     "output_type": "execute_result"
    }
   ],
   "source": [
    "np.cos(lin)"
   ]
  },
  {
   "cell_type": "markdown",
   "id": "842c7592",
   "metadata": {},
   "source": [
    "<h3>tan"
   ]
  },
  {
   "cell_type": "code",
   "execution_count": 37,
   "id": "86bcd070",
   "metadata": {
    "scrolled": false
   },
   "outputs": [
    {
     "data": {
      "text/plain": [
       "array([ 0.        ,  2.01997033, -1.31154975,  0.19412551,  3.64237039,\n",
       "       -0.89065803,  0.4034551 , 13.09728436, -0.59385528,  0.64836083])"
      ]
     },
     "execution_count": 37,
     "metadata": {},
     "output_type": "execute_result"
    }
   ],
   "source": [
    "np.tan(lin)"
   ]
  },
  {
   "cell_type": "markdown",
   "id": "e21fdb41",
   "metadata": {},
   "source": [
    "<h3>sinh"
   ]
  },
  {
   "cell_type": "code",
   "execution_count": 38,
   "id": "5257848c",
   "metadata": {
    "scrolled": true
   },
   "outputs": [
    {
     "data": {
      "text/plain": [
       "array([0.00000000e+00, 1.35426939e+00, 4.55972316e+00, 1.39979755e+01,\n",
       "       4.25704070e+01, 1.29333382e+02, 3.92885361e+02, 1.19348207e+03,\n",
       "       3.62547897e+03, 1.10132329e+04])"
      ]
     },
     "execution_count": 38,
     "metadata": {},
     "output_type": "execute_result"
    }
   ],
   "source": [
    "np.sinh(lin)"
   ]
  },
  {
   "cell_type": "markdown",
   "id": "c00ce749",
   "metadata": {},
   "source": [
    "<h3>cosh"
   ]
  },
  {
   "cell_type": "code",
   "execution_count": 39,
   "id": "610bf4f0",
   "metadata": {
    "scrolled": false
   },
   "outputs": [
    {
     "data": {
      "text/plain": [
       "array([1.00000000e+00, 1.68346238e+00, 4.66809119e+00, 1.40336494e+01,\n",
       "       4.25821507e+01, 1.29337248e+02, 3.92886633e+02, 1.19348249e+03,\n",
       "       3.62547911e+03, 1.10132329e+04])"
      ]
     },
     "execution_count": 39,
     "metadata": {},
     "output_type": "execute_result"
    }
   ],
   "source": [
    "np.cosh(lin)"
   ]
  },
  {
   "cell_type": "markdown",
   "id": "a4fa762f",
   "metadata": {},
   "source": [
    "<h3>tanh"
   ]
  },
  {
   "cell_type": "code",
   "execution_count": 40,
   "id": "c1b0e41e",
   "metadata": {
    "scrolled": false
   },
   "outputs": [
    {
     "data": {
      "text/plain": [
       "array([0.        , 0.8044548 , 0.97678537, 0.99745797, 0.99972421,\n",
       "       0.99997011, 0.99999676, 0.99999965, 0.99999996, 1.        ])"
      ]
     },
     "execution_count": 40,
     "metadata": {},
     "output_type": "execute_result"
    }
   ],
   "source": [
    "np.tanh(lin)"
   ]
  },
  {
   "cell_type": "markdown",
   "id": "2fc12739",
   "metadata": {},
   "source": [
    "<h3>arcsin"
   ]
  },
  {
   "cell_type": "code",
   "execution_count": 41,
   "id": "d28ae0b6",
   "metadata": {},
   "outputs": [
    {
     "data": {
      "text/plain": [
       "array([-1.57079633, -0.89112251, -0.58903097, -0.33983691, -0.11134101,\n",
       "        0.11134101,  0.33983691,  0.58903097,  0.89112251,  1.57079633])"
      ]
     },
     "execution_count": 41,
     "metadata": {},
     "output_type": "execute_result"
    }
   ],
   "source": [
    "lin = np.linspace(-1,1,10)\n",
    "np.arcsin(lin)"
   ]
  },
  {
   "cell_type": "markdown",
   "id": "9cfddab7",
   "metadata": {},
   "source": [
    "<h3>arccos"
   ]
  },
  {
   "cell_type": "code",
   "execution_count": 42,
   "id": "0f028292",
   "metadata": {
    "scrolled": true
   },
   "outputs": [
    {
     "data": {
      "text/plain": [
       "array([3.14159265, 2.46191883, 2.1598273 , 1.91063324, 1.68213734,\n",
       "       1.45945531, 1.23095942, 0.98176536, 0.67967382, 0.        ])"
      ]
     },
     "execution_count": 42,
     "metadata": {},
     "output_type": "execute_result"
    }
   ],
   "source": [
    "lin = np.linspace(-1,1,10)\n",
    "np.arccos(lin)"
   ]
  },
  {
   "cell_type": "markdown",
   "id": "bcf59eed",
   "metadata": {},
   "source": [
    "<h3>arctan"
   ]
  },
  {
   "cell_type": "code",
   "execution_count": 43,
   "id": "14b9c00b",
   "metadata": {
    "scrolled": false
   },
   "outputs": [
    {
     "data": {
      "text/plain": [
       "array([-0.78539816, -0.66104317, -0.5070985 , -0.32175055, -0.11065722,\n",
       "        0.11065722,  0.32175055,  0.5070985 ,  0.66104317,  0.78539816])"
      ]
     },
     "execution_count": 43,
     "metadata": {},
     "output_type": "execute_result"
    }
   ],
   "source": [
    "lin = np.linspace(-1,1,10)\n",
    "np.arctan(lin)"
   ]
  },
  {
   "cell_type": "markdown",
   "id": "6d0fb16b",
   "metadata": {},
   "source": [
    "<h3>arcsinh"
   ]
  },
  {
   "cell_type": "code",
   "execution_count": 44,
   "id": "fd80fc38",
   "metadata": {
    "scrolled": true
   },
   "outputs": [
    {
     "data": {
      "text/plain": [
       "array([-0.88137359, -0.71522142, -0.5303426 , -0.32745015, -0.11088375,\n",
       "        0.11088375,  0.32745015,  0.5303426 ,  0.71522142,  0.88137359])"
      ]
     },
     "execution_count": 44,
     "metadata": {},
     "output_type": "execute_result"
    }
   ],
   "source": [
    "lin = np.linspace(-1,1,10)\n",
    "np.arcsinh(lin)"
   ]
  },
  {
   "cell_type": "markdown",
   "id": "97bbb80a",
   "metadata": {},
   "source": [
    "<h3>arccosh"
   ]
  },
  {
   "cell_type": "code",
   "execution_count": 45,
   "id": "137e443b",
   "metadata": {
    "scrolled": false
   },
   "outputs": [
    {
     "data": {
      "text/plain": [
       "array([0.        , 1.3169579 , 1.76274717, 2.06343707, 2.29243167,\n",
       "       2.47788873, 2.63391579, 2.76865938, 2.88727095, 2.99322285])"
      ]
     },
     "execution_count": 45,
     "metadata": {},
     "output_type": "execute_result"
    }
   ],
   "source": [
    "lin = np.linspace(1,10,10)\n",
    "np.arccosh(lin)"
   ]
  },
  {
   "cell_type": "markdown",
   "id": "c5eceedc",
   "metadata": {},
   "source": [
    "<h3>arctanh"
   ]
  },
  {
   "cell_type": "code",
   "execution_count": 46,
   "id": "f2599267",
   "metadata": {
    "scrolled": true
   },
   "outputs": [
    {
     "data": {
      "text/plain": [
       "array([ 0.        , -0.10033535, -0.20273255, -0.3095196 , -0.42364893,\n",
       "       -0.54930614, -0.69314718, -0.86730053, -1.09861229, -1.47221949])"
      ]
     },
     "execution_count": 46,
     "metadata": {},
     "output_type": "execute_result"
    }
   ],
   "source": [
    "lin = np.linspace(0,-0.9,10)\n",
    "np.arctanh(lin)"
   ]
  },
  {
   "cell_type": "markdown",
   "id": "2279a0bf",
   "metadata": {},
   "source": [
    "<h3>transpose"
   ]
  },
  {
   "cell_type": "code",
   "execution_count": 47,
   "id": "8a6cfa39",
   "metadata": {},
   "outputs": [
    {
     "data": {
      "text/plain": [
       "array([[ 3,  3,  0],\n",
       "       [-4,  1, -1],\n",
       "       [ 2, -1,  2]])"
      ]
     },
     "execution_count": 47,
     "metadata": {},
     "output_type": "execute_result"
    }
   ],
   "source": [
    "arr = np.array([[3,-4,2],\n",
    "                [3,1,-1],\n",
    "                [0,-1,2]])\n",
    "arr.transpose()"
   ]
  },
  {
   "cell_type": "markdown",
   "id": "b6d9545f",
   "metadata": {},
   "source": [
    "<h2>linear algebra"
   ]
  },
  {
   "cell_type": "markdown",
   "id": "49ad8243",
   "metadata": {},
   "source": [
    "<h3>dot"
   ]
  },
  {
   "cell_type": "code",
   "execution_count": 48,
   "id": "89c6f5c1",
   "metadata": {},
   "outputs": [
    {
     "name": "stdout",
     "output_type": "stream",
     "text": [
      "[[12 28 14]\n",
      " [12 24  3]\n",
      " [ 0 -2  5]]\n"
     ]
    }
   ],
   "source": [
    "u = np.array([[3,-4,2],\n",
    "            [3,1,-1],\n",
    "            [0,-1,2]])\n",
    "\n",
    "v = np.array([[4,8,2],\n",
    "            [0,-2,-1],\n",
    "            [0,-2,2]])\n",
    "uv = u.dot(v)\n",
    "print(uv)"
   ]
  },
  {
   "cell_type": "markdown",
   "id": "b75ddeff",
   "metadata": {},
   "source": [
    "<h3>matrix_power"
   ]
  },
  {
   "cell_type": "code",
   "execution_count": 49,
   "id": "f0a9bb58",
   "metadata": {},
   "outputs": [
    {
     "name": "stdout",
     "output_type": "stream",
     "text": [
      "[[-63 -20  40]\n",
      " [  6 -61  40]\n",
      " [-18   4   7]]\n"
     ]
    }
   ],
   "source": [
    "A = np.array([[3,-4,2],\n",
    "              [3,1,-1],\n",
    "              [0,-1,2]])\n",
    "powered = np.linalg.matrix_power(A,3)\n",
    "\n",
    "print(powered)"
   ]
  },
  {
   "cell_type": "markdown",
   "id": "ad348608",
   "metadata": {},
   "source": [
    "<h3>det"
   ]
  },
  {
   "cell_type": "code",
   "execution_count": 50,
   "id": "53b7050f",
   "metadata": {},
   "outputs": [
    {
     "name": "stdout",
     "output_type": "stream",
     "text": [
      "21\n"
     ]
    }
   ],
   "source": [
    "A = np.array([[3,-4,2],\n",
    "              [3,1,-1],\n",
    "              [0,-1,2]])\n",
    "determinant = np.linalg.det(A)\n",
    "\n",
    "print(round(determinant))"
   ]
  },
  {
   "cell_type": "markdown",
   "id": "64e81f92",
   "metadata": {},
   "source": [
    "<h3>inv"
   ]
  },
  {
   "cell_type": "code",
   "execution_count": 51,
   "id": "dc2f60bc",
   "metadata": {},
   "outputs": [
    {
     "name": "stdout",
     "output_type": "stream",
     "text": [
      "[[ 0.04761905  0.28571429  0.0952381 ]\n",
      " [-0.28571429  0.28571429  0.42857143]\n",
      " [-0.14285714  0.14285714  0.71428571]]\n"
     ]
    }
   ],
   "source": [
    "A = np.array([[3,-4,2],\n",
    "              [3,1,-1],\n",
    "              [0,-1,2]])\n",
    "inverse = np.linalg.inv(A)\n",
    "\n",
    "print(inverse)"
   ]
  },
  {
   "cell_type": "markdown",
   "id": "bcc83c46",
   "metadata": {},
   "source": [
    "<h3>trace"
   ]
  },
  {
   "cell_type": "code",
   "execution_count": 52,
   "id": "f4fb4ebb",
   "metadata": {},
   "outputs": [
    {
     "name": "stdout",
     "output_type": "stream",
     "text": [
      "6\n"
     ]
    }
   ],
   "source": [
    "A = np.array([[3,-4,2],\n",
    "              [3,1,-1],\n",
    "              [0,-1,2]])\n",
    "trace = np.trace(A)\n",
    "\n",
    "print(trace)"
   ]
  },
  {
   "cell_type": "markdown",
   "id": "57a3bf17",
   "metadata": {},
   "source": [
    "<h3>matrix_rank"
   ]
  },
  {
   "cell_type": "code",
   "execution_count": 53,
   "id": "79bff811",
   "metadata": {},
   "outputs": [
    {
     "name": "stdout",
     "output_type": "stream",
     "text": [
      "3\n"
     ]
    }
   ],
   "source": [
    "A = np.array([[3,-4,2],\n",
    "              [3,1,-1],\n",
    "              [0,-1,2]])\n",
    "rank = np.linalg.matrix_rank(A)\n",
    "\n",
    "print(rank)"
   ]
  },
  {
   "cell_type": "markdown",
   "id": "4cb938f1",
   "metadata": {},
   "source": [
    "<h3>eigenh"
   ]
  },
  {
   "cell_type": "code",
   "execution_count": 54,
   "id": "8f5025d6",
   "metadata": {},
   "outputs": [
    {
     "name": "stdout",
     "output_type": "stream",
     "text": [
      "[-1.36117759  2.09097755  5.27020004]\n",
      "[[ 0.55045024  0.28648075 -0.78417684]\n",
      " [-0.80020375 -0.08680581 -0.59341276]\n",
      " [-0.23807244  0.95414545  0.18146069]]\n"
     ]
    }
   ],
   "source": [
    "A = np.array([[3,-4,2],\n",
    "              [3,1,-1],\n",
    "              [0,-1,2]])\n",
    "eigenvalues,eigenvectors = np.linalg.eigh(A)\n",
    "\n",
    "print(eigenvalues,eigenvectors,sep=\"\\n\")"
   ]
  },
  {
   "cell_type": "markdown",
   "id": "5f7242fe",
   "metadata": {},
   "source": [
    "<h3>solve"
   ]
  },
  {
   "cell_type": "code",
   "execution_count": 55,
   "id": "52e330ed",
   "metadata": {
    "scrolled": true
   },
   "outputs": [
    {
     "name": "stdout",
     "output_type": "stream",
     "text": [
      "Cramer says [1.04761905 0.71428571 0.85714286]\n"
     ]
    }
   ],
   "source": [
    "coeficients = np.array([[3,-4,2],\n",
    "                        [3,1,-1],\n",
    "                        [0,-1,2]])\n",
    "constants = np.array([2,3,1])\n",
    "solutions = np.linalg.solve(coeficients,constants)\n",
    "\n",
    "print(f\"Cramer says {solutions}\")"
   ]
  },
  {
   "cell_type": "markdown",
   "id": "3ebda4f0",
   "metadata": {},
   "source": [
    "<h3>sort"
   ]
  },
  {
   "cell_type": "code",
   "execution_count": 56,
   "id": "babe8fe3",
   "metadata": {
    "scrolled": true
   },
   "outputs": [
    {
     "name": "stdout",
     "output_type": "stream",
     "text": [
      "vecter sorted arr\n",
      " [-4 -1 -1  0  1  2  2  3  3  3  5  8]\n",
      "diagonally sorted arr\n",
      " [[-4  2  3]\n",
      " [-1  1  3]\n",
      " [-1  0  2]\n",
      " [ 3  5  8]]\n",
      "vertically sorted arr\n",
      " [[ 0 -4 -1]\n",
      " [ 3 -1  2]\n",
      " [ 3  1  2]\n",
      " [ 3  8  5]]\n"
     ]
    }
   ],
   "source": [
    "arr = np.array([[3,-4,2],\n",
    "                [3,1,-1],\n",
    "                [0,-1,2],\n",
    "                [3,8,5]])\n",
    "\n",
    "sorted_arr = np.sort(arr,axis=None)\n",
    "print(f\"vecter sorted arr\\n {sorted_arr}\")\n",
    "\n",
    "sorted_arr = np.sort(arr,axis=1)\n",
    "print(f\"diagonally sorted arr\\n {sorted_arr}\")\n",
    "\n",
    "sorted_arr = np.sort(arr,axis=0)\n",
    "print(f\"vertically sorted arr\\n {sorted_arr}\")"
   ]
  },
  {
   "cell_type": "markdown",
   "id": "eac8bad6",
   "metadata": {},
   "source": [
    "<h3>argsort"
   ]
  },
  {
   "cell_type": "code",
   "execution_count": 57,
   "id": "08b31d87",
   "metadata": {},
   "outputs": [
    {
     "name": "stdout",
     "output_type": "stream",
     "text": [
      "the indices that can sort arr\n",
      " [[1 2 0]\n",
      " [2 1 0]\n",
      " [1 0 2]\n",
      " [0 2 1]]\n"
     ]
    }
   ],
   "source": [
    "arr = np.array([[3,-4,2],\n",
    "                [3,1,-1],\n",
    "                [0,-1,2],\n",
    "                [3,8,5]])\n",
    "\n",
    "sorted_arr_indices = np.argsort(arr,axis=-1)\n",
    "print(f\"the indices that can sort arr\\n {sorted_arr_indices}\")"
   ]
  },
  {
   "cell_type": "markdown",
   "id": "69253da9",
   "metadata": {},
   "source": [
    "<h3>lexsort"
   ]
  },
  {
   "cell_type": "code",
   "execution_count": 58,
   "id": "4a127a02",
   "metadata": {},
   "outputs": [
    {
     "name": "stdout",
     "output_type": "stream",
     "text": [
      "col1 and col2 sorted in comparaison\n",
      " [1 2 0 3 5 4]\n"
     ]
    }
   ],
   "source": [
    "col1 = np.array([3,-4,2,3,1,-1])\n",
    "col2 = np.array([2,-1,2,3,8,5])\n",
    "\n",
    "sorted_arr_indices = np.lexsort((col1,col2),axis=-1)\n",
    "print(f\"col1 and col2 sorted in comparaison\\n {sorted_arr_indices}\")"
   ]
  },
  {
   "cell_type": "markdown",
   "id": "80891270",
   "metadata": {},
   "source": [
    "<h3>sort_complex"
   ]
  },
  {
   "cell_type": "code",
   "execution_count": 59,
   "id": "a6aad5df",
   "metadata": {
    "scrolled": false
   },
   "outputs": [
    {
     "name": "stdout",
     "output_type": "stream",
     "text": [
      "arr sorted by real parts\n",
      " [[-4. +0.j  2. +2.j  3. +0.j]\n",
      " [-1. +0.j  1. -1.j  3. +0.j]\n",
      " [-1. +0.j  2. +0.j  3.-30.j]\n",
      " [ 3. +0.j  5. +5.j  8. +0.j]]\n"
     ]
    }
   ],
   "source": [
    "arr = np.array([[3,-4,2+2j],\n",
    "                [3,1-1j,-1],\n",
    "                [3-30j,-1,2],\n",
    "                [3,8,5+5j]])\n",
    "\n",
    "sorted_arr_indices = np.sort_complex(arr)\n",
    "print(f\"arr sorted by real parts\\n {sorted_arr_indices}\")"
   ]
  },
  {
   "cell_type": "markdown",
   "id": "82f6cc06",
   "metadata": {},
   "source": [
    "<h3>random.rand"
   ]
  },
  {
   "cell_type": "code",
   "execution_count": 60,
   "id": "d25e0969",
   "metadata": {
    "scrolled": true
   },
   "outputs": [
    {
     "name": "stdout",
     "output_type": "stream",
     "text": [
      "[[0.68521307 0.88323442 0.56161688 0.91313277 0.20024983]\n",
      " [0.84265232 0.9284446  0.45393714 0.02272544 0.28513423]]\n"
     ]
    }
   ],
   "source": [
    "print(np.random.rand(2,5))"
   ]
  },
  {
   "cell_type": "markdown",
   "id": "be334d2a",
   "metadata": {},
   "source": [
    "<h3>meshgrid"
   ]
  },
  {
   "cell_type": "code",
   "execution_count": 61,
   "id": "4042c523",
   "metadata": {
    "scrolled": true
   },
   "outputs": [
    {
     "name": "stdout",
     "output_type": "stream",
     "text": [
      "[[1 2 3 4 5 6]\n",
      " [1 2 3 4 5 6]\n",
      " [1 2 3 4 5 6]\n",
      " [1 2 3 4 5 6]\n",
      " [1 2 3 4 5 6]\n",
      " [1 2 3 4 5 6]] \n",
      "\n",
      " [[ 6  6  6  6  6  6]\n",
      " [ 7  7  7  7  7  7]\n",
      " [ 8  8  8  8  8  8]\n",
      " [ 9  9  9  9  9  9]\n",
      " [10 10 10 10 10 10]\n",
      " [11 11 11 11 11 11]]\n"
     ]
    }
   ],
   "source": [
    "x = np.array([1,2,3,4,5,6])\n",
    "y = np.array([6,7,8,9,10,11])\n",
    "xmesh,ymesh = np.meshgrid(x,y)\n",
    "print(xmesh,2*\"\\n\",ymesh)"
   ]
  },
  {
   "cell_type": "markdown",
   "id": "a3c883c0",
   "metadata": {},
   "source": [
    "<h3>where"
   ]
  },
  {
   "cell_type": "code",
   "execution_count": 62,
   "id": "070dfb5f",
   "metadata": {
    "scrolled": true
   },
   "outputs": [
    {
     "name": "stdout",
     "output_type": "stream",
     "text": [
      "[[   3.   -4.    2.]\n",
      " [   3.    1.   -1.]\n",
      " [1000.   -1.    2.]\n",
      " [   3.    8.    5.]]\n"
     ]
    }
   ],
   "source": [
    "arr = np.array([[3,-4,2],\n",
    "                [3,1,-1],\n",
    "                [0,-1,2],\n",
    "                [3,8,5]])\n",
    "fixed = np.where(arr!=0,arr,arr+10e+2)\n",
    "print(fixed)"
   ]
  },
  {
   "cell_type": "markdown",
   "id": "92a48cb6",
   "metadata": {},
   "source": [
    "<h3>extract"
   ]
  },
  {
   "cell_type": "code",
   "execution_count": 63,
   "id": "edd1623c",
   "metadata": {
    "scrolled": true
   },
   "outputs": [
    {
     "name": "stdout",
     "output_type": "stream",
     "text": [
      "[-4 -1  0 -1]\n"
     ]
    }
   ],
   "source": [
    "arr = np.array([[3,-4,2],\n",
    "                [3,1,-1],\n",
    "                [0,-1,2],\n",
    "                [3,8,5]])\n",
    "filtered = np.extract(arr<=0,arr)\n",
    "print(filtered)"
   ]
  },
  {
   "cell_type": "markdown",
   "id": "77843cf2",
   "metadata": {},
   "source": [
    "<h3>ravel"
   ]
  },
  {
   "cell_type": "code",
   "execution_count": 64,
   "id": "da601bcf",
   "metadata": {
    "scrolled": false
   },
   "outputs": [
    {
     "name": "stdout",
     "output_type": "stream",
     "text": [
      "[ 3 -4  2  3  1 -1  0 -1  2  3  8  5]\n",
      "[[55 -4  2]\n",
      " [ 3  1 -1]\n",
      " [ 0 -1  2]\n",
      " [ 3  8  5]]\n"
     ]
    }
   ],
   "source": [
    "arr = np.array([[3,-4,2],\n",
    "                [3,1,-1],\n",
    "                [0,-1,2],\n",
    "                [3,8,5]])\n",
    "newarr = arr.ravel()\n",
    "print(newarr)\n",
    "newarr[0]=55\n",
    "print(arr)"
   ]
  },
  {
   "cell_type": "markdown",
   "id": "688e0c1b",
   "metadata": {},
   "source": [
    "<h3>flatten"
   ]
  },
  {
   "cell_type": "code",
   "execution_count": 65,
   "id": "6fe896d8",
   "metadata": {},
   "outputs": [
    {
     "name": "stdout",
     "output_type": "stream",
     "text": [
      "[ 3 -4  2  3  1 -1  0 -1  2  3  8  5]\n",
      "[[ 3 -4  2]\n",
      " [ 3  1 -1]\n",
      " [ 0 -1  2]\n",
      " [ 3  8  5]]\n"
     ]
    }
   ],
   "source": [
    "arr = np.array([[3,-4,2],\n",
    "                [3,1,-1],\n",
    "                [0,-1,2],\n",
    "                [3,8,5]])\n",
    "newarr = arr.flatten()\n",
    "print(newarr)\n",
    "newarr[0]=55\n",
    "print(arr)"
   ]
  }
 ],
 "metadata": {
  "kernelspec": {
   "display_name": "Python 3 (ipykernel)",
   "language": "python",
   "name": "python3"
  },
  "language_info": {
   "codemirror_mode": {
    "name": "ipython",
    "version": 3
   },
   "file_extension": ".py",
   "mimetype": "text/x-python",
   "name": "python",
   "nbconvert_exporter": "python",
   "pygments_lexer": "ipython3",
   "version": "3.10.0"
  }
 },
 "nbformat": 4,
 "nbformat_minor": 5
}
