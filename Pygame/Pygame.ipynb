{
 "cells": [
  {
   "cell_type": "markdown",
   "id": "6c128b85",
   "metadata": {},
   "source": [
    "<center><h1>Pygame"
   ]
  },
  {
   "cell_type": "markdown",
   "id": "741afe23",
   "metadata": {},
   "source": [
    "<h3>install"
   ]
  },
  {
   "cell_type": "raw",
   "id": "8011e4b0",
   "metadata": {},
   "source": [
    "!pip install pygame"
   ]
  },
  {
   "cell_type": "markdown",
   "id": "585d85da",
   "metadata": {},
   "source": [
    "<h3>import"
   ]
  },
  {
   "cell_type": "code",
   "execution_count": 1,
   "id": "2cda8c0b",
   "metadata": {},
   "outputs": [
    {
     "name": "stdout",
     "output_type": "stream",
     "text": [
      "pygame 2.1.0 (SDL 2.0.16, Python 3.10.0)\n",
      "Hello from the pygame community. https://www.pygame.org/contribute.html\n"
     ]
    }
   ],
   "source": [
    "import pygame"
   ]
  }
 ],
 "metadata": {
  "kernelspec": {
   "display_name": "Python 3 (ipykernel)",
   "language": "python",
   "name": "python3"
  },
  "language_info": {
   "codemirror_mode": {
    "name": "ipython",
    "version": 3
   },
   "file_extension": ".py",
   "mimetype": "text/x-python",
   "name": "python",
   "nbconvert_exporter": "python",
   "pygments_lexer": "ipython3",
   "version": "3.10.0"
  }
 },
 "nbformat": 4,
 "nbformat_minor": 5
}
