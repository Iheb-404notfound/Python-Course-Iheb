{
 "cells": [
  {
   "cell_type": "markdown",
   "id": "6b6e9c7a",
   "metadata": {},
   "source": [
    "<h3>Error"
   ]
  },
  {
   "cell_type": "code",
   "execution_count": 1,
   "id": "f6d52516",
   "metadata": {},
   "outputs": [
    {
     "ename": "ValueError",
     "evalue": "invalid literal for int() with base 10: 'one'",
     "output_type": "error",
     "traceback": [
      "\u001b[1;31m---------------------------------------------------------------------------\u001b[0m",
      "\u001b[1;31mValueError\u001b[0m                                Traceback (most recent call last)",
      "\u001b[1;32m~\\AppData\\Local\\Temp/ipykernel_2580/1470638860.py\u001b[0m in \u001b[0;36m<module>\u001b[1;34m\u001b[0m\n\u001b[1;32m----> 1\u001b[1;33m \u001b[0mint\u001b[0m\u001b[1;33m(\u001b[0m\u001b[1;34m\"one\"\u001b[0m\u001b[1;33m)\u001b[0m\u001b[1;33m\u001b[0m\u001b[1;33m\u001b[0m\u001b[0m\n\u001b[0m",
      "\u001b[1;31mValueError\u001b[0m: invalid literal for int() with base 10: 'one'"
     ]
    }
   ],
   "source": [
    "int(\"one\")"
   ]
  },
  {
   "cell_type": "markdown",
   "id": "550e4ad3",
   "metadata": {},
   "source": [
    "<h3>try except"
   ]
  },
  {
   "cell_type": "code",
   "execution_count": 2,
   "id": "4f2c0c1d",
   "metadata": {
    "scrolled": true
   },
   "outputs": [
    {
     "name": "stdout",
     "output_type": "stream",
     "text": [
      "There was an error, be careful\n"
     ]
    }
   ],
   "source": [
    "try:\n",
    "    int(\"one\")\n",
    "except:\n",
    "    print(\"There was an error, be careful\")"
   ]
  },
  {
   "cell_type": "markdown",
   "id": "ee680fe0",
   "metadata": {},
   "source": [
    "<h3>Exception"
   ]
  },
  {
   "cell_type": "code",
   "execution_count": 3,
   "id": "8a73d59a",
   "metadata": {},
   "outputs": [
    {
     "name": "stdout",
     "output_type": "stream",
     "text": [
      "There was an error, be careful invalid literal for int() with base 10: 'one'\n"
     ]
    }
   ],
   "source": [
    "try:\n",
    "    int(\"one\")\n",
    "except Exception as e:\n",
    "    print(\"There was an error, be careful\",e)"
   ]
  },
  {
   "cell_type": "markdown",
   "id": "75f1a563",
   "metadata": {},
   "source": [
    "<h3>ValueError"
   ]
  },
  {
   "cell_type": "code",
   "execution_count": 4,
   "id": "6a74a34d",
   "metadata": {},
   "outputs": [
    {
     "name": "stdout",
     "output_type": "stream",
     "text": [
      "The value wasn't an integer, invalid literal for int() with base 10: 'one'\n"
     ]
    }
   ],
   "source": [
    "try:\n",
    "    int(\"one\")\n",
    "except ValueError as e:\n",
    "    print(\"The value wasn't an integer,\",e)"
   ]
  },
  {
   "cell_type": "markdown",
   "id": "6956aacc",
   "metadata": {},
   "source": [
    "<h3>ZeroDivisionError"
   ]
  },
  {
   "cell_type": "code",
   "execution_count": 5,
   "id": "44fceffa",
   "metadata": {
    "scrolled": true
   },
   "outputs": [
    {
     "name": "stdout",
     "output_type": "stream",
     "text": [
      "You can't divide by 0, division by zero\n"
     ]
    }
   ],
   "source": [
    "try:\n",
    "    a = 5/0\n",
    "except ZeroDivisionError as e:\n",
    "    print(\"You can't divide by 0,\",e)"
   ]
  },
  {
   "cell_type": "markdown",
   "id": "37acb621",
   "metadata": {},
   "source": [
    "<h3>NameError"
   ]
  },
  {
   "cell_type": "code",
   "execution_count": 6,
   "id": "bf5510a3",
   "metadata": {},
   "outputs": [
    {
     "name": "stdout",
     "output_type": "stream",
     "text": [
      "You used a variable before defining it, name 'z' is not defined\n"
     ]
    }
   ],
   "source": [
    "try:\n",
    "    print(z)\n",
    "except NameError as e:\n",
    "    print(\"You used a variable before defining it,\",e)"
   ]
  },
  {
   "cell_type": "markdown",
   "id": "1c3c1738",
   "metadata": {},
   "source": [
    "<h3>TypeError"
   ]
  },
  {
   "cell_type": "code",
   "execution_count": 7,
   "id": "0ff605f7",
   "metadata": {},
   "outputs": [
    {
     "name": "stdout",
     "output_type": "stream",
     "text": [
      "Unsupported operation between these types, unsupported operand type(s) for +: 'int' and 'str'\n"
     ]
    }
   ],
   "source": [
    "try:\n",
    "    a = 1 + \"9\"\n",
    "except TypeError as e:\n",
    "    print(\"Unsupported operation between these types,\",e)"
   ]
  },
  {
   "cell_type": "markdown",
   "id": "1ec05aad",
   "metadata": {},
   "source": [
    "<h3>IndexError"
   ]
  },
  {
   "cell_type": "code",
   "execution_count": 8,
   "id": "f5a48147",
   "metadata": {},
   "outputs": [
    {
     "name": "stdout",
     "output_type": "stream",
     "text": [
      "Item is out of list, list index out of range\n"
     ]
    }
   ],
   "source": [
    "try:\n",
    "    print([1,2,3][3])\n",
    "except IndexError as e:\n",
    "    print(\"Item is out of list,\",e)"
   ]
  },
  {
   "cell_type": "markdown",
   "id": "b6ee2916",
   "metadata": {},
   "source": [
    "<h3>finally"
   ]
  },
  {
   "cell_type": "code",
   "execution_count": 9,
   "id": "3a947e72",
   "metadata": {},
   "outputs": [
    {
     "name": "stdout",
     "output_type": "stream",
     "text": [
      "one\n",
      "be careful dude!\n"
     ]
    }
   ],
   "source": [
    "try:\n",
    "    print(\"one\")\n",
    "except ValueError as e:\n",
    "    print(\"The value wasn't an integer,\",e)\n",
    "except ZeroDivisionError as e:\n",
    "    print(\"You can't devide by 0,\",e)\n",
    "except NameError as e:\n",
    "    print(\"You used a variable before defining it,\",e)\n",
    "except TypeError as e:\n",
    "    print(\"Unsupported operation between these types,\",e)\n",
    "except IndexError as e:\n",
    "    print(\"Item is out of list,\",e)\n",
    "finally:\n",
    "    print(\"be careful dude!\")"
   ]
  },
  {
   "cell_type": "markdown",
   "id": "23105e8d",
   "metadata": {},
   "source": [
    "<h3>raise"
   ]
  },
  {
   "cell_type": "code",
   "execution_count": 10,
   "id": "b23eb7cc",
   "metadata": {},
   "outputs": [
    {
     "name": "stdout",
     "output_type": "stream",
     "text": [
      "[1, 5, 6, 5, 3, 3, 2, 6, 8]\n"
     ]
    },
    {
     "ename": "ValueError",
     "evalue": "the start should be less than the end",
     "output_type": "error",
     "traceback": [
      "\u001b[1;31m---------------------------------------------------------------------------\u001b[0m",
      "\u001b[1;31mValueError\u001b[0m                                Traceback (most recent call last)",
      "\u001b[1;32m~\\AppData\\Local\\Temp/ipykernel_2580/585853807.py\u001b[0m in \u001b[0;36m<module>\u001b[1;34m\u001b[0m\n\u001b[0;32m     19\u001b[0m \u001b[0ml\u001b[0m \u001b[1;33m=\u001b[0m \u001b[1;33m[\u001b[0m\u001b[1;36m1\u001b[0m\u001b[1;33m,\u001b[0m\u001b[1;36m5\u001b[0m\u001b[1;33m,\u001b[0m\u001b[1;36m3\u001b[0m\u001b[1;33m,\u001b[0m\u001b[1;36m6\u001b[0m\u001b[1;33m,\u001b[0m\u001b[1;36m2\u001b[0m\u001b[1;33m,\u001b[0m\u001b[1;36m5\u001b[0m\u001b[1;33m,\u001b[0m\u001b[1;36m3\u001b[0m\u001b[1;33m,\u001b[0m\u001b[1;36m6\u001b[0m\u001b[1;33m,\u001b[0m\u001b[1;36m8\u001b[0m\u001b[1;33m]\u001b[0m\u001b[1;33m\u001b[0m\u001b[1;33m\u001b[0m\u001b[0m\n\u001b[0;32m     20\u001b[0m \u001b[0mprint\u001b[0m\u001b[1;33m(\u001b[0m\u001b[0msort\u001b[0m\u001b[1;33m(\u001b[0m\u001b[0ml\u001b[0m\u001b[1;33m,\u001b[0m\u001b[1;36m2\u001b[0m\u001b[1;33m,\u001b[0m\u001b[1;36m6\u001b[0m\u001b[1;33m)\u001b[0m\u001b[1;33m)\u001b[0m\u001b[1;33m\u001b[0m\u001b[1;33m\u001b[0m\u001b[0m\n\u001b[1;32m---> 21\u001b[1;33m \u001b[0mprint\u001b[0m\u001b[1;33m(\u001b[0m\u001b[0msort\u001b[0m\u001b[1;33m(\u001b[0m\u001b[0ml\u001b[0m\u001b[1;33m,\u001b[0m\u001b[1;36m6\u001b[0m\u001b[1;33m,\u001b[0m\u001b[1;36m2\u001b[0m\u001b[1;33m)\u001b[0m\u001b[1;33m)\u001b[0m\u001b[1;33m\u001b[0m\u001b[1;33m\u001b[0m\u001b[0m\n\u001b[0m",
      "\u001b[1;32m~\\AppData\\Local\\Temp/ipykernel_2580/585853807.py\u001b[0m in \u001b[0;36msort\u001b[1;34m(l, a, b)\u001b[0m\n\u001b[0;32m      2\u001b[0m     \u001b[0mT\u001b[0m \u001b[1;33m=\u001b[0m \u001b[0ml\u001b[0m\u001b[1;33m.\u001b[0m\u001b[0mcopy\u001b[0m\u001b[1;33m(\u001b[0m\u001b[1;33m)\u001b[0m\u001b[1;33m\u001b[0m\u001b[1;33m\u001b[0m\u001b[0m\n\u001b[0;32m      3\u001b[0m     \u001b[1;32mif\u001b[0m\u001b[1;33m(\u001b[0m\u001b[0ma\u001b[0m\u001b[1;33m>\u001b[0m\u001b[0mb\u001b[0m\u001b[1;33m)\u001b[0m\u001b[1;33m:\u001b[0m\u001b[1;33m\u001b[0m\u001b[1;33m\u001b[0m\u001b[0m\n\u001b[1;32m----> 4\u001b[1;33m         \u001b[1;32mraise\u001b[0m \u001b[0mValueError\u001b[0m\u001b[1;33m(\u001b[0m\u001b[1;34m\"the start should be less than the end\"\u001b[0m\u001b[1;33m)\u001b[0m\u001b[1;33m\u001b[0m\u001b[1;33m\u001b[0m\u001b[0m\n\u001b[0m\u001b[0;32m      5\u001b[0m     \u001b[1;32mif\u001b[0m\u001b[1;33m(\u001b[0m\u001b[0ma\u001b[0m\u001b[1;33m<\u001b[0m\u001b[1;36m0\u001b[0m \u001b[1;32mor\u001b[0m \u001b[0mb\u001b[0m\u001b[1;33m>\u001b[0m\u001b[0mlen\u001b[0m\u001b[1;33m(\u001b[0m\u001b[0mT\u001b[0m\u001b[1;33m)\u001b[0m\u001b[1;33m)\u001b[0m\u001b[1;33m:\u001b[0m\u001b[1;33m\u001b[0m\u001b[1;33m\u001b[0m\u001b[0m\n\u001b[0;32m      6\u001b[0m         \u001b[1;32mraise\u001b[0m \u001b[0mIndexError\u001b[0m\u001b[1;33m(\u001b[0m\u001b[1;34m\"the start and/or the end are out of bounds\"\u001b[0m\u001b[1;33m)\u001b[0m\u001b[1;33m\u001b[0m\u001b[1;33m\u001b[0m\u001b[0m\n",
      "\u001b[1;31mValueError\u001b[0m: the start should be less than the end"
     ]
    }
   ],
   "source": [
    "def sort(l:list,a:int,b:int)->list:\n",
    "    T = l.copy()\n",
    "    if(a>b):\n",
    "        raise ValueError(\"the start should be less than the end\")\n",
    "    if(a<0 or b>len(T)):\n",
    "        raise IndexError(\"the start and/or the end are out of bounds\")\n",
    "    \n",
    "    done = False\n",
    "    while not done:\n",
    "        done = True\n",
    "        for n in range(a,b):\n",
    "            if(T[n]<T[n+1]):\n",
    "                done = False\n",
    "                k = T[n]\n",
    "                T[n]=T[n+1]\n",
    "                T[n+1]=k\n",
    "    return T\n",
    "\n",
    "l = [1,5,3,6,2,5,3,6,8]\n",
    "print(sort(l,2,6))\n",
    "print(sort(l,6,2))"
   ]
  },
  {
   "cell_type": "markdown",
   "id": "e0cab546",
   "metadata": {},
   "source": [
    "<h2>traceback"
   ]
  },
  {
   "cell_type": "code",
   "execution_count": 11,
   "id": "94151d03",
   "metadata": {},
   "outputs": [],
   "source": [
    "import traceback"
   ]
  },
  {
   "cell_type": "markdown",
   "id": "6cb00221",
   "metadata": {},
   "source": [
    "<h3>print_exception"
   ]
  },
  {
   "cell_type": "code",
   "execution_count": 12,
   "id": "ed9dde18",
   "metadata": {},
   "outputs": [
    {
     "name": "stdout",
     "output_type": "stream",
     "text": [
      "invalid literal for int() with base 10: 'one'\n"
     ]
    },
    {
     "name": "stderr",
     "output_type": "stream",
     "text": [
      "Traceback (most recent call last):\n",
      "  File \"C:\\Users\\iheb4\\AppData\\Local\\Temp/ipykernel_2580/3964681024.py\", line 2, in <module>\n",
      "    int(\"one\")\n",
      "ValueError: invalid literal for int() with base 10: 'one'\n"
     ]
    }
   ],
   "source": [
    "try:\n",
    "    int(\"one\")\n",
    "except Exception as e:\n",
    "    print(e)\n",
    "    traceback.print_exception(e)"
   ]
  },
  {
   "cell_type": "markdown",
   "id": "96760d40",
   "metadata": {},
   "source": [
    "<h3>print_exec"
   ]
  },
  {
   "cell_type": "code",
   "execution_count": 13,
   "id": "e1b1b5b4",
   "metadata": {},
   "outputs": [
    {
     "name": "stdout",
     "output_type": "stream",
     "text": [
      "invalid literal for int() with base 10: 'one'\n"
     ]
    },
    {
     "name": "stderr",
     "output_type": "stream",
     "text": [
      "Traceback (most recent call last):\n",
      "  File \"C:\\Users\\iheb4\\AppData\\Local\\Temp/ipykernel_2580/351449290.py\", line 2, in <module>\n",
      "    int(\"one\")\n",
      "ValueError: invalid literal for int() with base 10: 'one'\n"
     ]
    }
   ],
   "source": [
    "try:\n",
    "    int(\"one\")\n",
    "except Exception as e:\n",
    "    print(e)\n",
    "    traceback.print_exc()"
   ]
  },
  {
   "cell_type": "markdown",
   "id": "dac22aa3",
   "metadata": {},
   "source": [
    "<h3>print_stack"
   ]
  },
  {
   "cell_type": "code",
   "execution_count": 14,
   "id": "d2baee74",
   "metadata": {},
   "outputs": [
    {
     "name": "stdout",
     "output_type": "stream",
     "text": [
      "invalid literal for int() with base 10: 'one'\n"
     ]
    },
    {
     "name": "stderr",
     "output_type": "stream",
     "text": [
      "  File \"C:\\Users\\iheb4\\AppData\\Local\\Programs\\Python\\Python310\\lib\\site-packages\\IPython\\core\\interactiveshell.py\", line 3172, in run_cell_async\n",
      "    has_raised = await self.run_ast_nodes(code_ast.body, cell_name,\n",
      "  File \"C:\\Users\\iheb4\\AppData\\Local\\Programs\\Python\\Python310\\lib\\site-packages\\IPython\\core\\interactiveshell.py\", line 3364, in run_ast_nodes\n",
      "    if (await self.run_code(code, result,  async_=asy)):\n",
      "  File \"C:\\Users\\iheb4\\AppData\\Local\\Programs\\Python\\Python310\\lib\\site-packages\\IPython\\core\\interactiveshell.py\", line 3444, in run_code\n",
      "    exec(code_obj, self.user_global_ns, self.user_ns)\n",
      "  File \"C:\\Users\\iheb4\\AppData\\Local\\Temp/ipykernel_2580/3036884239.py\", line 5, in <module>\n",
      "    traceback.print_stack(limit=4)\n"
     ]
    }
   ],
   "source": [
    "try:\n",
    "    int(\"one\")\n",
    "except Exception as e:\n",
    "    print(e)\n",
    "    traceback.print_stack(limit=4)"
   ]
  }
 ],
 "metadata": {
  "kernelspec": {
   "display_name": "Python 3 (ipykernel)",
   "language": "python",
   "name": "python3"
  },
  "language_info": {
   "codemirror_mode": {
    "name": "ipython",
    "version": 3
   },
   "file_extension": ".py",
   "mimetype": "text/x-python",
   "name": "python",
   "nbconvert_exporter": "python",
   "pygments_lexer": "ipython3",
   "version": "3.10.0"
  }
 },
 "nbformat": 4,
 "nbformat_minor": 5
}
