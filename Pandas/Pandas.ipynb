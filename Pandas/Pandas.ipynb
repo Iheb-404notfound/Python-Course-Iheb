{
 "cells": [
  {
   "cell_type": "markdown",
   "id": "1ad1d83f",
   "metadata": {},
   "source": [
    "<center><h1>Pandas"
   ]
  },
  {
   "cell_type": "markdown",
   "id": "86c028da",
   "metadata": {},
   "source": [
    "<h3>Installation in Terminal"
   ]
  },
  {
   "cell_type": "raw",
   "id": "61d1d5ee",
   "metadata": {},
   "source": [
    "!pip install pandas"
   ]
  },
  {
   "cell_type": "markdown",
   "id": "fa6ee977",
   "metadata": {},
   "source": [
    "<h3>import"
   ]
  },
  {
   "cell_type": "code",
   "execution_count": 1,
   "id": "d5996668",
   "metadata": {},
   "outputs": [],
   "source": [
    "import pandas as pd"
   ]
  },
  {
   "cell_type": "markdown",
   "id": "697c86d0",
   "metadata": {},
   "source": [
    "<h3>DataFrame"
   ]
  },
  {
   "cell_type": "code",
   "execution_count": 2,
   "id": "ecca5a2f",
   "metadata": {
    "scrolled": false
   },
   "outputs": [
    {
     "data": {
      "text/html": [
       "<div>\n",
       "<style scoped>\n",
       "    .dataframe tbody tr th:only-of-type {\n",
       "        vertical-align: middle;\n",
       "    }\n",
       "\n",
       "    .dataframe tbody tr th {\n",
       "        vertical-align: top;\n",
       "    }\n",
       "\n",
       "    .dataframe thead th {\n",
       "        text-align: right;\n",
       "    }\n",
       "</style>\n",
       "<table border=\"1\" class=\"dataframe\">\n",
       "  <thead>\n",
       "    <tr style=\"text-align: right;\">\n",
       "      <th></th>\n",
       "      <th>Name</th>\n",
       "      <th>Pronouns</th>\n",
       "      <th>Birth</th>\n",
       "      <th>Death</th>\n",
       "      <th>Occupation</th>\n",
       "      <th>Nationality</th>\n",
       "    </tr>\n",
       "  </thead>\n",
       "  <tbody>\n",
       "    <tr>\n",
       "      <th>0</th>\n",
       "      <td>Amanda Milan</td>\n",
       "      <td>She/Her</td>\n",
       "      <td>1975</td>\n",
       "      <td>2000</td>\n",
       "      <td>Pediatrician</td>\n",
       "      <td>United-Statesian</td>\n",
       "    </tr>\n",
       "    <tr>\n",
       "      <th>1</th>\n",
       "      <td>Alan Turing</td>\n",
       "      <td>He/His</td>\n",
       "      <td>1912</td>\n",
       "      <td>1954</td>\n",
       "      <td>Mathematician</td>\n",
       "      <td>British</td>\n",
       "    </tr>\n",
       "    <tr>\n",
       "      <th>2</th>\n",
       "      <td>Jennie June</td>\n",
       "      <td>They/Their</td>\n",
       "      <td>1874</td>\n",
       "      <td>1934</td>\n",
       "      <td>Era Writer</td>\n",
       "      <td>British</td>\n",
       "    </tr>\n",
       "    <tr>\n",
       "      <th>3</th>\n",
       "      <td>Alan Hart</td>\n",
       "      <td>He/His</td>\n",
       "      <td>1890</td>\n",
       "      <td>1917</td>\n",
       "      <td>Radiologist</td>\n",
       "      <td>United-Statesian</td>\n",
       "    </tr>\n",
       "  </tbody>\n",
       "</table>\n",
       "</div>"
      ],
      "text/plain": [
       "           Name    Pronouns  Birth  Death     Occupation       Nationality\n",
       "0  Amanda Milan     She/Her   1975   2000   Pediatrician  United-Statesian\n",
       "1   Alan Turing      He/His   1912   1954  Mathematician           British\n",
       "2   Jennie June  They/Their   1874   1934     Era Writer           British\n",
       "3     Alan Hart      He/His   1890   1917    Radiologist  United-Statesian"
      ]
     },
     "execution_count": 2,
     "metadata": {},
     "output_type": "execute_result"
    }
   ],
   "source": [
    "df = pd.DataFrame({\n",
    "    \"Name\": [\"Amanda Milan\",\"Alan Turing\",\"Jennie June\",\"Alan Hart\"],\n",
    "    \"Pronouns\":[\"She/Her\",\"He/His\",\"They/Their\",\"He/His\"],\n",
    "    \"Birth\":[1975,1912,1874,1890],\n",
    "    \"Death\":[2000,1954,1934,1917],\n",
    "    \"Occupation\":[\"Pediatrician\",\"Mathematician\",\"Era Writer\",\"Radiologist\"],\n",
    "    \"Nationality\":[\"United-Statesian\",\"British\",\"British\",\"United-Statesian\"]\n",
    "})\n",
    "\n",
    "df"
   ]
  },
  {
   "cell_type": "markdown",
   "id": "10a3ed68",
   "metadata": {},
   "source": [
    "<h3>DataFrame"
   ]
  },
  {
   "cell_type": "code",
   "execution_count": 3,
   "id": "9f5bcc26",
   "metadata": {
    "scrolled": true
   },
   "outputs": [
    {
     "data": {
      "text/plain": [
       "{'Name': {0: 'Amanda Milan',\n",
       "  1: 'Alan Turing',\n",
       "  2: 'Jennie June',\n",
       "  3: 'Alan Hart'},\n",
       " 'Pronouns': {0: 'She/Her', 1: 'He/His', 2: 'They/Their', 3: 'He/His'},\n",
       " 'Birth': {0: 1975, 1: 1912, 2: 1874, 3: 1890},\n",
       " 'Death': {0: 2000, 1: 1954, 2: 1934, 3: 1917},\n",
       " 'Occupation': {0: 'Pediatrician',\n",
       "  1: 'Mathematician',\n",
       "  2: 'Era Writer',\n",
       "  3: 'Radiologist'},\n",
       " 'Nationality': {0: 'United-Statesian',\n",
       "  1: 'British',\n",
       "  2: 'British',\n",
       "  3: 'United-Statesian'}}"
      ]
     },
     "execution_count": 3,
     "metadata": {},
     "output_type": "execute_result"
    }
   ],
   "source": [
    "df.to_dict()"
   ]
  },
  {
   "cell_type": "markdown",
   "id": "3513441c",
   "metadata": {},
   "source": [
    "<h3>head"
   ]
  },
  {
   "cell_type": "code",
   "execution_count": 4,
   "id": "013dc814",
   "metadata": {
    "scrolled": true
   },
   "outputs": [
    {
     "data": {
      "text/html": [
       "<div>\n",
       "<style scoped>\n",
       "    .dataframe tbody tr th:only-of-type {\n",
       "        vertical-align: middle;\n",
       "    }\n",
       "\n",
       "    .dataframe tbody tr th {\n",
       "        vertical-align: top;\n",
       "    }\n",
       "\n",
       "    .dataframe thead th {\n",
       "        text-align: right;\n",
       "    }\n",
       "</style>\n",
       "<table border=\"1\" class=\"dataframe\">\n",
       "  <thead>\n",
       "    <tr style=\"text-align: right;\">\n",
       "      <th></th>\n",
       "      <th>Name</th>\n",
       "      <th>Pronouns</th>\n",
       "      <th>Birth</th>\n",
       "      <th>Death</th>\n",
       "      <th>Occupation</th>\n",
       "      <th>Nationality</th>\n",
       "    </tr>\n",
       "  </thead>\n",
       "  <tbody>\n",
       "    <tr>\n",
       "      <th>0</th>\n",
       "      <td>Amanda Milan</td>\n",
       "      <td>She/Her</td>\n",
       "      <td>1975</td>\n",
       "      <td>2000</td>\n",
       "      <td>Pediatrician</td>\n",
       "      <td>United-Statesian</td>\n",
       "    </tr>\n",
       "    <tr>\n",
       "      <th>1</th>\n",
       "      <td>Alan Turing</td>\n",
       "      <td>He/His</td>\n",
       "      <td>1912</td>\n",
       "      <td>1954</td>\n",
       "      <td>Mathematician</td>\n",
       "      <td>British</td>\n",
       "    </tr>\n",
       "  </tbody>\n",
       "</table>\n",
       "</div>"
      ],
      "text/plain": [
       "           Name Pronouns  Birth  Death     Occupation       Nationality\n",
       "0  Amanda Milan  She/Her   1975   2000   Pediatrician  United-Statesian\n",
       "1   Alan Turing   He/His   1912   1954  Mathematician           British"
      ]
     },
     "execution_count": 4,
     "metadata": {},
     "output_type": "execute_result"
    }
   ],
   "source": [
    "df.head(2)"
   ]
  },
  {
   "cell_type": "markdown",
   "id": "41eb1462",
   "metadata": {},
   "source": [
    "<h3>tail"
   ]
  },
  {
   "cell_type": "code",
   "execution_count": 5,
   "id": "8370d358",
   "metadata": {
    "scrolled": true
   },
   "outputs": [
    {
     "data": {
      "text/html": [
       "<div>\n",
       "<style scoped>\n",
       "    .dataframe tbody tr th:only-of-type {\n",
       "        vertical-align: middle;\n",
       "    }\n",
       "\n",
       "    .dataframe tbody tr th {\n",
       "        vertical-align: top;\n",
       "    }\n",
       "\n",
       "    .dataframe thead th {\n",
       "        text-align: right;\n",
       "    }\n",
       "</style>\n",
       "<table border=\"1\" class=\"dataframe\">\n",
       "  <thead>\n",
       "    <tr style=\"text-align: right;\">\n",
       "      <th></th>\n",
       "      <th>Name</th>\n",
       "      <th>Pronouns</th>\n",
       "      <th>Birth</th>\n",
       "      <th>Death</th>\n",
       "      <th>Occupation</th>\n",
       "      <th>Nationality</th>\n",
       "    </tr>\n",
       "  </thead>\n",
       "  <tbody>\n",
       "    <tr>\n",
       "      <th>2</th>\n",
       "      <td>Jennie June</td>\n",
       "      <td>They/Their</td>\n",
       "      <td>1874</td>\n",
       "      <td>1934</td>\n",
       "      <td>Era Writer</td>\n",
       "      <td>British</td>\n",
       "    </tr>\n",
       "    <tr>\n",
       "      <th>3</th>\n",
       "      <td>Alan Hart</td>\n",
       "      <td>He/His</td>\n",
       "      <td>1890</td>\n",
       "      <td>1917</td>\n",
       "      <td>Radiologist</td>\n",
       "      <td>United-Statesian</td>\n",
       "    </tr>\n",
       "  </tbody>\n",
       "</table>\n",
       "</div>"
      ],
      "text/plain": [
       "          Name    Pronouns  Birth  Death   Occupation       Nationality\n",
       "2  Jennie June  They/Their   1874   1934   Era Writer           British\n",
       "3    Alan Hart      He/His   1890   1917  Radiologist  United-Statesian"
      ]
     },
     "execution_count": 5,
     "metadata": {},
     "output_type": "execute_result"
    }
   ],
   "source": [
    "df.tail(2)"
   ]
  },
  {
   "cell_type": "markdown",
   "id": "82cbdbd4",
   "metadata": {},
   "source": [
    "<h3>loc"
   ]
  },
  {
   "cell_type": "code",
   "execution_count": 6,
   "id": "a49046f8",
   "metadata": {
    "scrolled": false
   },
   "outputs": [
    {
     "data": {
      "text/plain": [
       "Name           Jennie June\n",
       "Pronouns        They/Their\n",
       "Birth                 1874\n",
       "Death                 1934\n",
       "Occupation      Era Writer\n",
       "Nationality        British\n",
       "Name: 2, dtype: object"
      ]
     },
     "execution_count": 6,
     "metadata": {},
     "output_type": "execute_result"
    }
   ],
   "source": [
    "df.loc[2]"
   ]
  },
  {
   "cell_type": "markdown",
   "id": "c7789cdf",
   "metadata": {},
   "source": [
    "<h3>at"
   ]
  },
  {
   "cell_type": "code",
   "execution_count": 7,
   "id": "33c95a5e",
   "metadata": {
    "scrolled": true
   },
   "outputs": [
    {
     "data": {
      "text/plain": [
       "'They/Their'"
      ]
     },
     "execution_count": 7,
     "metadata": {},
     "output_type": "execute_result"
    }
   ],
   "source": [
    "df.loc[2].at[\"Pronouns\"]"
   ]
  },
  {
   "cell_type": "markdown",
   "id": "36dfaed5",
   "metadata": {},
   "source": [
    "<h3>at"
   ]
  },
  {
   "cell_type": "code",
   "execution_count": 8,
   "id": "6e35fbdc",
   "metadata": {
    "scrolled": true
   },
   "outputs": [
    {
     "data": {
      "text/plain": [
       "'They/Their'"
      ]
     },
     "execution_count": 8,
     "metadata": {},
     "output_type": "execute_result"
    }
   ],
   "source": [
    "df.at[2,\"Pronouns\"]"
   ]
  },
  {
   "cell_type": "markdown",
   "id": "cd808773",
   "metadata": {},
   "source": [
    "<h3>filter"
   ]
  },
  {
   "cell_type": "code",
   "execution_count": 9,
   "id": "e2156b31",
   "metadata": {
    "scrolled": true
   },
   "outputs": [
    {
     "data": {
      "text/html": [
       "<div>\n",
       "<style scoped>\n",
       "    .dataframe tbody tr th:only-of-type {\n",
       "        vertical-align: middle;\n",
       "    }\n",
       "\n",
       "    .dataframe tbody tr th {\n",
       "        vertical-align: top;\n",
       "    }\n",
       "\n",
       "    .dataframe thead th {\n",
       "        text-align: right;\n",
       "    }\n",
       "</style>\n",
       "<table border=\"1\" class=\"dataframe\">\n",
       "  <thead>\n",
       "    <tr style=\"text-align: right;\">\n",
       "      <th></th>\n",
       "      <th>Name</th>\n",
       "      <th>Pronouns</th>\n",
       "    </tr>\n",
       "  </thead>\n",
       "  <tbody>\n",
       "    <tr>\n",
       "      <th>0</th>\n",
       "      <td>Amanda Milan</td>\n",
       "      <td>She/Her</td>\n",
       "    </tr>\n",
       "    <tr>\n",
       "      <th>1</th>\n",
       "      <td>Alan Turing</td>\n",
       "      <td>He/His</td>\n",
       "    </tr>\n",
       "    <tr>\n",
       "      <th>2</th>\n",
       "      <td>Jennie June</td>\n",
       "      <td>They/Their</td>\n",
       "    </tr>\n",
       "    <tr>\n",
       "      <th>3</th>\n",
       "      <td>Alan Hart</td>\n",
       "      <td>He/His</td>\n",
       "    </tr>\n",
       "  </tbody>\n",
       "</table>\n",
       "</div>"
      ],
      "text/plain": [
       "           Name    Pronouns\n",
       "0  Amanda Milan     She/Her\n",
       "1   Alan Turing      He/His\n",
       "2   Jennie June  They/Their\n",
       "3     Alan Hart      He/His"
      ]
     },
     "execution_count": 9,
     "metadata": {},
     "output_type": "execute_result"
    }
   ],
   "source": [
    "df.filter([\"Name\",\"Pronouns\"])"
   ]
  },
  {
   "cell_type": "markdown",
   "id": "33c02623",
   "metadata": {},
   "source": [
    "<h3>select_dtypes"
   ]
  },
  {
   "cell_type": "code",
   "execution_count": 10,
   "id": "29e1b09f",
   "metadata": {
    "scrolled": false
   },
   "outputs": [
    {
     "data": {
      "text/html": [
       "<div>\n",
       "<style scoped>\n",
       "    .dataframe tbody tr th:only-of-type {\n",
       "        vertical-align: middle;\n",
       "    }\n",
       "\n",
       "    .dataframe tbody tr th {\n",
       "        vertical-align: top;\n",
       "    }\n",
       "\n",
       "    .dataframe thead th {\n",
       "        text-align: right;\n",
       "    }\n",
       "</style>\n",
       "<table border=\"1\" class=\"dataframe\">\n",
       "  <thead>\n",
       "    <tr style=\"text-align: right;\">\n",
       "      <th></th>\n",
       "      <th>Birth</th>\n",
       "      <th>Death</th>\n",
       "    </tr>\n",
       "  </thead>\n",
       "  <tbody>\n",
       "    <tr>\n",
       "      <th>0</th>\n",
       "      <td>1975</td>\n",
       "      <td>2000</td>\n",
       "    </tr>\n",
       "    <tr>\n",
       "      <th>1</th>\n",
       "      <td>1912</td>\n",
       "      <td>1954</td>\n",
       "    </tr>\n",
       "    <tr>\n",
       "      <th>2</th>\n",
       "      <td>1874</td>\n",
       "      <td>1934</td>\n",
       "    </tr>\n",
       "    <tr>\n",
       "      <th>3</th>\n",
       "      <td>1890</td>\n",
       "      <td>1917</td>\n",
       "    </tr>\n",
       "  </tbody>\n",
       "</table>\n",
       "</div>"
      ],
      "text/plain": [
       "   Birth  Death\n",
       "0   1975   2000\n",
       "1   1912   1954\n",
       "2   1874   1934\n",
       "3   1890   1917"
      ]
     },
     "execution_count": 10,
     "metadata": {},
     "output_type": "execute_result"
    }
   ],
   "source": [
    "df.select_dtypes(include=int)"
   ]
  },
  {
   "cell_type": "markdown",
   "id": "c943b9ce",
   "metadata": {},
   "source": [
    "<h3>values"
   ]
  },
  {
   "cell_type": "code",
   "execution_count": 11,
   "id": "76418b49",
   "metadata": {
    "scrolled": true
   },
   "outputs": [
    {
     "data": {
      "text/plain": [
       "array([['Amanda Milan', 'She/Her', 1975, 2000, 'Pediatrician',\n",
       "        'United-Statesian'],\n",
       "       ['Alan Turing', 'He/His', 1912, 1954, 'Mathematician', 'British'],\n",
       "       ['Jennie June', 'They/Their', 1874, 1934, 'Era Writer', 'British'],\n",
       "       ['Alan Hart', 'He/His', 1890, 1917, 'Radiologist',\n",
       "        'United-Statesian']], dtype=object)"
      ]
     },
     "execution_count": 11,
     "metadata": {},
     "output_type": "execute_result"
    }
   ],
   "source": [
    "df.values"
   ]
  },
  {
   "cell_type": "markdown",
   "id": "77bc384c",
   "metadata": {},
   "source": [
    "<h3>to_numpy"
   ]
  },
  {
   "cell_type": "code",
   "execution_count": 12,
   "id": "a7c62a85",
   "metadata": {
    "scrolled": false
   },
   "outputs": [
    {
     "data": {
      "text/plain": [
       "array([['Amanda Milan', 'She/Her', 1975, 2000, 'Pediatrician',\n",
       "        'United-Statesian'],\n",
       "       ['Alan Turing', 'He/His', 1912, 1954, 'Mathematician', 'British'],\n",
       "       ['Jennie June', 'They/Their', 1874, 1934, 'Era Writer', 'British'],\n",
       "       ['Alan Hart', 'He/His', 1890, 1917, 'Radiologist',\n",
       "        'United-Statesian']], dtype=object)"
      ]
     },
     "execution_count": 12,
     "metadata": {},
     "output_type": "execute_result"
    }
   ],
   "source": [
    "df.to_numpy()"
   ]
  },
  {
   "cell_type": "markdown",
   "id": "6593e366",
   "metadata": {},
   "source": [
    "<h3>axes"
   ]
  },
  {
   "cell_type": "code",
   "execution_count": 13,
   "id": "f11d3ec7",
   "metadata": {
    "scrolled": false
   },
   "outputs": [
    {
     "data": {
      "text/plain": [
       "[RangeIndex(start=0, stop=4, step=1),\n",
       " Index(['Name', 'Pronouns', 'Birth', 'Death', 'Occupation', 'Nationality'], dtype='object')]"
      ]
     },
     "execution_count": 13,
     "metadata": {},
     "output_type": "execute_result"
    }
   ],
   "source": [
    "df.axes"
   ]
  },
  {
   "cell_type": "markdown",
   "id": "de8fac28",
   "metadata": {},
   "source": [
    "<h3>items"
   ]
  },
  {
   "cell_type": "code",
   "execution_count": 14,
   "id": "cdfe90c2",
   "metadata": {
    "scrolled": true
   },
   "outputs": [
    {
     "data": {
      "text/plain": [
       "<bound method DataFrame.items of            Name    Pronouns  Birth  Death     Occupation       Nationality\n",
       "0  Amanda Milan     She/Her   1975   2000   Pediatrician  United-Statesian\n",
       "1   Alan Turing      He/His   1912   1954  Mathematician           British\n",
       "2   Jennie June  They/Their   1874   1934     Era Writer           British\n",
       "3     Alan Hart      He/His   1890   1917    Radiologist  United-Statesian>"
      ]
     },
     "execution_count": 14,
     "metadata": {},
     "output_type": "execute_result"
    }
   ],
   "source": [
    "df.items"
   ]
  },
  {
   "cell_type": "markdown",
   "id": "934c1dd4",
   "metadata": {},
   "source": [
    "<h3>keys"
   ]
  },
  {
   "cell_type": "code",
   "execution_count": 15,
   "id": "7e121532",
   "metadata": {
    "scrolled": true
   },
   "outputs": [
    {
     "data": {
      "text/plain": [
       "<bound method NDFrame.keys of            Name    Pronouns  Birth  Death     Occupation       Nationality\n",
       "0  Amanda Milan     She/Her   1975   2000   Pediatrician  United-Statesian\n",
       "1   Alan Turing      He/His   1912   1954  Mathematician           British\n",
       "2   Jennie June  They/Their   1874   1934     Era Writer           British\n",
       "3     Alan Hart      He/His   1890   1917    Radiologist  United-Statesian>"
      ]
     },
     "execution_count": 15,
     "metadata": {},
     "output_type": "execute_result"
    }
   ],
   "source": [
    "df.keys"
   ]
  },
  {
   "cell_type": "markdown",
   "id": "d0ecef9e",
   "metadata": {},
   "source": [
    "<h3>index"
   ]
  },
  {
   "cell_type": "code",
   "execution_count": 16,
   "id": "ed5de695",
   "metadata": {
    "scrolled": true
   },
   "outputs": [
    {
     "data": {
      "text/plain": [
       "RangeIndex(start=0, stop=4, step=1)"
      ]
     },
     "execution_count": 16,
     "metadata": {},
     "output_type": "execute_result"
    }
   ],
   "source": [
    "df.index"
   ]
  },
  {
   "cell_type": "markdown",
   "id": "7c7108d6",
   "metadata": {},
   "source": [
    "<h3>columns"
   ]
  },
  {
   "cell_type": "code",
   "execution_count": 17,
   "id": "b0014fa7",
   "metadata": {
    "scrolled": true
   },
   "outputs": [
    {
     "data": {
      "text/plain": [
       "Index(['Name', 'Pronouns', 'Birth', 'Death', 'Occupation', 'Nationality'], dtype='object')"
      ]
     },
     "execution_count": 17,
     "metadata": {},
     "output_type": "execute_result"
    }
   ],
   "source": [
    "df.columns"
   ]
  },
  {
   "cell_type": "markdown",
   "id": "85f5f94d",
   "metadata": {},
   "source": [
    "<h3>keys()"
   ]
  },
  {
   "cell_type": "code",
   "execution_count": 18,
   "id": "4501bccc",
   "metadata": {
    "scrolled": true
   },
   "outputs": [
    {
     "data": {
      "text/plain": [
       "Index(['Name', 'Pronouns', 'Birth', 'Death', 'Occupation', 'Nationality'], dtype='object')"
      ]
     },
     "execution_count": 18,
     "metadata": {},
     "output_type": "execute_result"
    }
   ],
   "source": [
    "df.keys()"
   ]
  },
  {
   "cell_type": "markdown",
   "id": "d3021bed",
   "metadata": {},
   "source": [
    "<h3>ndim"
   ]
  },
  {
   "cell_type": "code",
   "execution_count": 19,
   "id": "5706e1df",
   "metadata": {
    "scrolled": false
   },
   "outputs": [
    {
     "data": {
      "text/plain": [
       "2"
      ]
     },
     "execution_count": 19,
     "metadata": {},
     "output_type": "execute_result"
    }
   ],
   "source": [
    "df.ndim"
   ]
  },
  {
   "cell_type": "markdown",
   "id": "d8f29143",
   "metadata": {},
   "source": [
    "<h3>shape"
   ]
  },
  {
   "cell_type": "code",
   "execution_count": 20,
   "id": "bdc07bc8",
   "metadata": {
    "scrolled": false
   },
   "outputs": [
    {
     "data": {
      "text/plain": [
       "(4, 6)"
      ]
     },
     "execution_count": 20,
     "metadata": {},
     "output_type": "execute_result"
    }
   ],
   "source": [
    "df.shape"
   ]
  },
  {
   "cell_type": "markdown",
   "id": "06a8f08b",
   "metadata": {},
   "source": [
    "<h3>empty"
   ]
  },
  {
   "cell_type": "code",
   "execution_count": 21,
   "id": "f09d0047",
   "metadata": {
    "scrolled": false
   },
   "outputs": [
    {
     "data": {
      "text/plain": [
       "False"
      ]
     },
     "execution_count": 21,
     "metadata": {},
     "output_type": "execute_result"
    }
   ],
   "source": [
    "df.empty"
   ]
  },
  {
   "cell_type": "markdown",
   "id": "72c4d64a",
   "metadata": {},
   "source": [
    "<h3>size"
   ]
  },
  {
   "cell_type": "code",
   "execution_count": 22,
   "id": "29f94be8",
   "metadata": {
    "scrolled": true
   },
   "outputs": [
    {
     "data": {
      "text/plain": [
       "24"
      ]
     },
     "execution_count": 22,
     "metadata": {},
     "output_type": "execute_result"
    }
   ],
   "source": [
    "df.size #6cols*4rows"
   ]
  },
  {
   "cell_type": "markdown",
   "id": "b4f11cf5",
   "metadata": {},
   "source": [
    "<h3>copy"
   ]
  },
  {
   "cell_type": "code",
   "execution_count": 23,
   "id": "2ec9f6df",
   "metadata": {
    "scrolled": false
   },
   "outputs": [
    {
     "data": {
      "text/html": [
       "<div>\n",
       "<style scoped>\n",
       "    .dataframe tbody tr th:only-of-type {\n",
       "        vertical-align: middle;\n",
       "    }\n",
       "\n",
       "    .dataframe tbody tr th {\n",
       "        vertical-align: top;\n",
       "    }\n",
       "\n",
       "    .dataframe thead th {\n",
       "        text-align: right;\n",
       "    }\n",
       "</style>\n",
       "<table border=\"1\" class=\"dataframe\">\n",
       "  <thead>\n",
       "    <tr style=\"text-align: right;\">\n",
       "      <th></th>\n",
       "      <th>Name</th>\n",
       "      <th>Pronouns</th>\n",
       "      <th>Birth</th>\n",
       "      <th>Death</th>\n",
       "      <th>Occupation</th>\n",
       "      <th>Nationality</th>\n",
       "    </tr>\n",
       "  </thead>\n",
       "  <tbody>\n",
       "    <tr>\n",
       "      <th>0</th>\n",
       "      <td>Amanda Milan</td>\n",
       "      <td>She/Her</td>\n",
       "      <td>1975</td>\n",
       "      <td>2000</td>\n",
       "      <td>Pediatrician</td>\n",
       "      <td>United-Statesian</td>\n",
       "    </tr>\n",
       "    <tr>\n",
       "      <th>1</th>\n",
       "      <td>Alan Turing</td>\n",
       "      <td>He/His</td>\n",
       "      <td>1912</td>\n",
       "      <td>1954</td>\n",
       "      <td>Mathematician</td>\n",
       "      <td>British</td>\n",
       "    </tr>\n",
       "    <tr>\n",
       "      <th>2</th>\n",
       "      <td>Jennie June</td>\n",
       "      <td>They/Their</td>\n",
       "      <td>1874</td>\n",
       "      <td>1934</td>\n",
       "      <td>Era Writer</td>\n",
       "      <td>British</td>\n",
       "    </tr>\n",
       "    <tr>\n",
       "      <th>3</th>\n",
       "      <td>Alan Hart</td>\n",
       "      <td>He/His</td>\n",
       "      <td>1890</td>\n",
       "      <td>1917</td>\n",
       "      <td>Radiologist</td>\n",
       "      <td>United-Statesian</td>\n",
       "    </tr>\n",
       "  </tbody>\n",
       "</table>\n",
       "</div>"
      ],
      "text/plain": [
       "           Name    Pronouns  Birth  Death     Occupation       Nationality\n",
       "0  Amanda Milan     She/Her   1975   2000   Pediatrician  United-Statesian\n",
       "1   Alan Turing      He/His   1912   1954  Mathematician           British\n",
       "2   Jennie June  They/Their   1874   1934     Era Writer           British\n",
       "3     Alan Hart      He/His   1890   1917    Radiologist  United-Statesian"
      ]
     },
     "execution_count": 23,
     "metadata": {},
     "output_type": "execute_result"
    }
   ],
   "source": [
    "df.copy()"
   ]
  },
  {
   "cell_type": "markdown",
   "id": "ef53167b",
   "metadata": {},
   "source": [
    "<h3>sample"
   ]
  },
  {
   "cell_type": "code",
   "execution_count": 24,
   "id": "faed9c1c",
   "metadata": {
    "scrolled": true
   },
   "outputs": [
    {
     "data": {
      "text/html": [
       "<div>\n",
       "<style scoped>\n",
       "    .dataframe tbody tr th:only-of-type {\n",
       "        vertical-align: middle;\n",
       "    }\n",
       "\n",
       "    .dataframe tbody tr th {\n",
       "        vertical-align: top;\n",
       "    }\n",
       "\n",
       "    .dataframe thead th {\n",
       "        text-align: right;\n",
       "    }\n",
       "</style>\n",
       "<table border=\"1\" class=\"dataframe\">\n",
       "  <thead>\n",
       "    <tr style=\"text-align: right;\">\n",
       "      <th></th>\n",
       "      <th>Name</th>\n",
       "      <th>Pronouns</th>\n",
       "      <th>Birth</th>\n",
       "      <th>Death</th>\n",
       "      <th>Occupation</th>\n",
       "      <th>Nationality</th>\n",
       "    </tr>\n",
       "  </thead>\n",
       "  <tbody>\n",
       "    <tr>\n",
       "      <th>0</th>\n",
       "      <td>Amanda Milan</td>\n",
       "      <td>She/Her</td>\n",
       "      <td>1975</td>\n",
       "      <td>2000</td>\n",
       "      <td>Pediatrician</td>\n",
       "      <td>United-Statesian</td>\n",
       "    </tr>\n",
       "    <tr>\n",
       "      <th>3</th>\n",
       "      <td>Alan Hart</td>\n",
       "      <td>He/His</td>\n",
       "      <td>1890</td>\n",
       "      <td>1917</td>\n",
       "      <td>Radiologist</td>\n",
       "      <td>United-Statesian</td>\n",
       "    </tr>\n",
       "  </tbody>\n",
       "</table>\n",
       "</div>"
      ],
      "text/plain": [
       "           Name Pronouns  Birth  Death    Occupation       Nationality\n",
       "0  Amanda Milan  She/Her   1975   2000  Pediatrician  United-Statesian\n",
       "3     Alan Hart   He/His   1890   1917   Radiologist  United-Statesian"
      ]
     },
     "execution_count": 24,
     "metadata": {},
     "output_type": "execute_result"
    }
   ],
   "source": [
    "df.sample(n=2)"
   ]
  },
  {
   "cell_type": "markdown",
   "id": "9931d508",
   "metadata": {},
   "source": [
    "<h3>describe"
   ]
  },
  {
   "cell_type": "code",
   "execution_count": 25,
   "id": "e5087590",
   "metadata": {
    "scrolled": true
   },
   "outputs": [
    {
     "data": {
      "text/html": [
       "<div>\n",
       "<style scoped>\n",
       "    .dataframe tbody tr th:only-of-type {\n",
       "        vertical-align: middle;\n",
       "    }\n",
       "\n",
       "    .dataframe tbody tr th {\n",
       "        vertical-align: top;\n",
       "    }\n",
       "\n",
       "    .dataframe thead th {\n",
       "        text-align: right;\n",
       "    }\n",
       "</style>\n",
       "<table border=\"1\" class=\"dataframe\">\n",
       "  <thead>\n",
       "    <tr style=\"text-align: right;\">\n",
       "      <th></th>\n",
       "      <th>Birth</th>\n",
       "      <th>Death</th>\n",
       "    </tr>\n",
       "  </thead>\n",
       "  <tbody>\n",
       "    <tr>\n",
       "      <th>count</th>\n",
       "      <td>4.000000</td>\n",
       "      <td>4.000000</td>\n",
       "    </tr>\n",
       "    <tr>\n",
       "      <th>mean</th>\n",
       "      <td>1912.750000</td>\n",
       "      <td>1951.250000</td>\n",
       "    </tr>\n",
       "    <tr>\n",
       "      <th>std</th>\n",
       "      <td>44.327381</td>\n",
       "      <td>35.845734</td>\n",
       "    </tr>\n",
       "    <tr>\n",
       "      <th>min</th>\n",
       "      <td>1874.000000</td>\n",
       "      <td>1917.000000</td>\n",
       "    </tr>\n",
       "    <tr>\n",
       "      <th>25%</th>\n",
       "      <td>1886.000000</td>\n",
       "      <td>1929.750000</td>\n",
       "    </tr>\n",
       "    <tr>\n",
       "      <th>50%</th>\n",
       "      <td>1901.000000</td>\n",
       "      <td>1944.000000</td>\n",
       "    </tr>\n",
       "    <tr>\n",
       "      <th>75%</th>\n",
       "      <td>1927.750000</td>\n",
       "      <td>1965.500000</td>\n",
       "    </tr>\n",
       "    <tr>\n",
       "      <th>max</th>\n",
       "      <td>1975.000000</td>\n",
       "      <td>2000.000000</td>\n",
       "    </tr>\n",
       "  </tbody>\n",
       "</table>\n",
       "</div>"
      ],
      "text/plain": [
       "             Birth        Death\n",
       "count     4.000000     4.000000\n",
       "mean   1912.750000  1951.250000\n",
       "std      44.327381    35.845734\n",
       "min    1874.000000  1917.000000\n",
       "25%    1886.000000  1929.750000\n",
       "50%    1901.000000  1944.000000\n",
       "75%    1927.750000  1965.500000\n",
       "max    1975.000000  2000.000000"
      ]
     },
     "execution_count": 25,
     "metadata": {},
     "output_type": "execute_result"
    }
   ],
   "source": [
    "df.describe()"
   ]
  },
  {
   "cell_type": "markdown",
   "id": "0d09b46f",
   "metadata": {},
   "source": [
    "<h3>info"
   ]
  },
  {
   "cell_type": "code",
   "execution_count": 26,
   "id": "a37b1949",
   "metadata": {
    "scrolled": true
   },
   "outputs": [
    {
     "name": "stdout",
     "output_type": "stream",
     "text": [
      "<class 'pandas.core.frame.DataFrame'>\n",
      "RangeIndex: 4 entries, 0 to 3\n",
      "Data columns (total 6 columns):\n",
      " #   Column       Non-Null Count  Dtype \n",
      "---  ------       --------------  ----- \n",
      " 0   Name         4 non-null      object\n",
      " 1   Pronouns     4 non-null      object\n",
      " 2   Birth        4 non-null      int64 \n",
      " 3   Death        4 non-null      int64 \n",
      " 4   Occupation   4 non-null      object\n",
      " 5   Nationality  4 non-null      object\n",
      "dtypes: int64(2), object(4)\n",
      "memory usage: 320.0+ bytes\n"
     ]
    }
   ],
   "source": [
    "df.info()"
   ]
  },
  {
   "cell_type": "markdown",
   "id": "578e3e1c",
   "metadata": {},
   "source": [
    "<h3>memory_usage"
   ]
  },
  {
   "cell_type": "code",
   "execution_count": 27,
   "id": "dd855868",
   "metadata": {
    "scrolled": false
   },
   "outputs": [
    {
     "data": {
      "text/plain": [
       "Index          128\n",
       "Name            32\n",
       "Pronouns        32\n",
       "Birth           32\n",
       "Death           32\n",
       "Occupation      32\n",
       "Nationality     32\n",
       "dtype: int64"
      ]
     },
     "execution_count": 27,
     "metadata": {},
     "output_type": "execute_result"
    }
   ],
   "source": [
    "df.memory_usage()"
   ]
  },
  {
   "cell_type": "markdown",
   "id": "47741e56",
   "metadata": {},
   "source": [
    "<h3>count"
   ]
  },
  {
   "cell_type": "code",
   "execution_count": 28,
   "id": "611df017",
   "metadata": {
    "scrolled": false
   },
   "outputs": [
    {
     "data": {
      "text/plain": [
       "Name           4\n",
       "Pronouns       4\n",
       "Birth          4\n",
       "Death          4\n",
       "Occupation     4\n",
       "Nationality    4\n",
       "dtype: int64"
      ]
     },
     "execution_count": 28,
     "metadata": {},
     "output_type": "execute_result"
    }
   ],
   "source": [
    "df.count()"
   ]
  },
  {
   "cell_type": "markdown",
   "id": "40b5b143",
   "metadata": {},
   "source": [
    "<h3>cov"
   ]
  },
  {
   "cell_type": "code",
   "execution_count": 29,
   "id": "c1c0a12f",
   "metadata": {
    "scrolled": false
   },
   "outputs": [
    {
     "data": {
      "text/html": [
       "<div>\n",
       "<style scoped>\n",
       "    .dataframe tbody tr th:only-of-type {\n",
       "        vertical-align: middle;\n",
       "    }\n",
       "\n",
       "    .dataframe tbody tr th {\n",
       "        vertical-align: top;\n",
       "    }\n",
       "\n",
       "    .dataframe thead th {\n",
       "        text-align: right;\n",
       "    }\n",
       "</style>\n",
       "<table border=\"1\" class=\"dataframe\">\n",
       "  <thead>\n",
       "    <tr style=\"text-align: right;\">\n",
       "      <th></th>\n",
       "      <th>Birth</th>\n",
       "      <th>Death</th>\n",
       "    </tr>\n",
       "  </thead>\n",
       "  <tbody>\n",
       "    <tr>\n",
       "      <th>Birth</th>\n",
       "      <td>1964.916667</td>\n",
       "      <td>1493.416667</td>\n",
       "    </tr>\n",
       "    <tr>\n",
       "      <th>Death</th>\n",
       "      <td>1493.416667</td>\n",
       "      <td>1284.916667</td>\n",
       "    </tr>\n",
       "  </tbody>\n",
       "</table>\n",
       "</div>"
      ],
      "text/plain": [
       "             Birth        Death\n",
       "Birth  1964.916667  1493.416667\n",
       "Death  1493.416667  1284.916667"
      ]
     },
     "execution_count": 29,
     "metadata": {},
     "output_type": "execute_result"
    }
   ],
   "source": [
    "df.cov()"
   ]
  },
  {
   "cell_type": "markdown",
   "id": "2e95df72",
   "metadata": {},
   "source": [
    "<h3>isin"
   ]
  },
  {
   "cell_type": "code",
   "execution_count": 30,
   "id": "9fd425be",
   "metadata": {
    "scrolled": true
   },
   "outputs": [
    {
     "data": {
      "text/html": [
       "<div>\n",
       "<style scoped>\n",
       "    .dataframe tbody tr th:only-of-type {\n",
       "        vertical-align: middle;\n",
       "    }\n",
       "\n",
       "    .dataframe tbody tr th {\n",
       "        vertical-align: top;\n",
       "    }\n",
       "\n",
       "    .dataframe thead th {\n",
       "        text-align: right;\n",
       "    }\n",
       "</style>\n",
       "<table border=\"1\" class=\"dataframe\">\n",
       "  <thead>\n",
       "    <tr style=\"text-align: right;\">\n",
       "      <th></th>\n",
       "      <th>Name</th>\n",
       "      <th>Pronouns</th>\n",
       "      <th>Birth</th>\n",
       "      <th>Death</th>\n",
       "      <th>Occupation</th>\n",
       "      <th>Nationality</th>\n",
       "    </tr>\n",
       "  </thead>\n",
       "  <tbody>\n",
       "    <tr>\n",
       "      <th>0</th>\n",
       "      <td>False</td>\n",
       "      <td>False</td>\n",
       "      <td>True</td>\n",
       "      <td>True</td>\n",
       "      <td>False</td>\n",
       "      <td>False</td>\n",
       "    </tr>\n",
       "    <tr>\n",
       "      <th>1</th>\n",
       "      <td>False</td>\n",
       "      <td>False</td>\n",
       "      <td>False</td>\n",
       "      <td>False</td>\n",
       "      <td>True</td>\n",
       "      <td>False</td>\n",
       "    </tr>\n",
       "    <tr>\n",
       "      <th>2</th>\n",
       "      <td>False</td>\n",
       "      <td>False</td>\n",
       "      <td>False</td>\n",
       "      <td>False</td>\n",
       "      <td>False</td>\n",
       "      <td>False</td>\n",
       "    </tr>\n",
       "    <tr>\n",
       "      <th>3</th>\n",
       "      <td>False</td>\n",
       "      <td>False</td>\n",
       "      <td>False</td>\n",
       "      <td>False</td>\n",
       "      <td>False</td>\n",
       "      <td>False</td>\n",
       "    </tr>\n",
       "  </tbody>\n",
       "</table>\n",
       "</div>"
      ],
      "text/plain": [
       "    Name  Pronouns  Birth  Death  Occupation  Nationality\n",
       "0  False     False   True   True       False        False\n",
       "1  False     False  False  False        True        False\n",
       "2  False     False  False  False       False        False\n",
       "3  False     False  False  False       False        False"
      ]
     },
     "execution_count": 30,
     "metadata": {},
     "output_type": "execute_result"
    }
   ],
   "source": [
    "df.isin(values=[2000,1975,\"Mathematician\"])"
   ]
  },
  {
   "cell_type": "markdown",
   "id": "d44ee880",
   "metadata": {},
   "source": [
    "<h3>syracuse fun"
   ]
  },
  {
   "cell_type": "code",
   "execution_count": 31,
   "id": "f748c288",
   "metadata": {},
   "outputs": [],
   "source": [
    "def term(n):\n",
    "    return 3*n+1 if n%2!=0 else n//2\n",
    "def syracuse(start,n=[]):\n",
    "    if(n==[]):\n",
    "        n = [start]\n",
    "    if(n[-1]==1):\n",
    "        return n\n",
    "    else:\n",
    "        n.append(term(n[-1]))\n",
    "        return syracuse(start,n)"
   ]
  },
  {
   "cell_type": "markdown",
   "id": "6fa26b0c",
   "metadata": {},
   "source": [
    "<h3>Series"
   ]
  },
  {
   "cell_type": "code",
   "execution_count": 32,
   "id": "263e3139",
   "metadata": {
    "scrolled": true
   },
   "outputs": [
    {
     "name": "stdout",
     "output_type": "stream",
     "text": [
      "0     14\n",
      "1      7\n",
      "2     22\n",
      "3     11\n",
      "4     34\n",
      "5     17\n",
      "6     52\n",
      "7     26\n",
      "8     13\n",
      "9     40\n",
      "10    20\n",
      "11    10\n",
      "12     5\n",
      "13    16\n",
      "14     8\n",
      "15     4\n",
      "16     2\n",
      "17     1\n",
      "Name: Syracuse 14, dtype: int64 \n",
      "\n"
     ]
    }
   ],
   "source": [
    "series = pd.Series(syracuse(14),name=\"Syracuse 14\")\n",
    "print(series,\"\\n\")"
   ]
  },
  {
   "cell_type": "markdown",
   "id": "310c279e",
   "metadata": {},
   "source": [
    "<h3>Multidim series"
   ]
  },
  {
   "cell_type": "code",
   "execution_count": 33,
   "id": "ab8ab6e3",
   "metadata": {},
   "outputs": [
    {
     "name": "stdout",
     "output_type": "stream",
     "text": [
      "the ndim of a series is always 1\n"
     ]
    },
    {
     "data": {
      "text/plain": [
       "0    [11, 34, 17, 52, 26, 13, 40, 20, 10, 5, 16, 8,...\n",
       "1    [14, 7, 22, 11, 34, 17, 52, 26, 13, 40, 20, 10...\n",
       "2    [15, 46, 23, 70, 35, 106, 53, 160, 80, 40, 20,...\n",
       "Name: Syracuse 11,14,15, dtype: object"
      ]
     },
     "metadata": {},
     "output_type": "display_data"
    }
   ],
   "source": [
    "series = pd.Series([syracuse(11),syracuse(14),syracuse(15)],name=\"Syracuse 11,14,15\")\n",
    "print(f\"the ndim of a series is always {series.ndim}\")\n",
    "display(series)"
   ]
  },
  {
   "cell_type": "markdown",
   "id": "d4f5dccd",
   "metadata": {},
   "source": [
    "<h3>Accessing values from multidim series"
   ]
  },
  {
   "cell_type": "code",
   "execution_count": 34,
   "id": "58ba3445",
   "metadata": {},
   "outputs": [
    {
     "name": "stdout",
     "output_type": "stream",
     "text": [
      "22\n"
     ]
    }
   ],
   "source": [
    "print( series[1][2] )"
   ]
  },
  {
   "cell_type": "markdown",
   "id": "6890ea5e",
   "metadata": {},
   "source": [
    "<h3>Get series from column"
   ]
  },
  {
   "cell_type": "code",
   "execution_count": 35,
   "id": "6885b1e9",
   "metadata": {},
   "outputs": [
    {
     "data": {
      "text/plain": [
       "0    1975\n",
       "1    1912\n",
       "2    1874\n",
       "3    1890\n",
       "Name: Birth, dtype: int64"
      ]
     },
     "execution_count": 35,
     "metadata": {},
     "output_type": "execute_result"
    }
   ],
   "source": [
    "df[\"Birth\"]"
   ]
  },
  {
   "cell_type": "markdown",
   "id": "f65b314b",
   "metadata": {},
   "source": [
    "<h3>max"
   ]
  },
  {
   "cell_type": "code",
   "execution_count": 36,
   "id": "52a71ae0",
   "metadata": {},
   "outputs": [
    {
     "data": {
      "text/plain": [
       "1975"
      ]
     },
     "execution_count": 36,
     "metadata": {},
     "output_type": "execute_result"
    }
   ],
   "source": [
    "df[\"Birth\"].max()"
   ]
  },
  {
   "cell_type": "markdown",
   "id": "908a41f3",
   "metadata": {},
   "source": [
    "<h3>min"
   ]
  },
  {
   "cell_type": "code",
   "execution_count": 37,
   "id": "5088e420",
   "metadata": {},
   "outputs": [
    {
     "data": {
      "text/plain": [
       "1874"
      ]
     },
     "execution_count": 37,
     "metadata": {},
     "output_type": "execute_result"
    }
   ],
   "source": [
    "df[\"Birth\"].min()"
   ]
  },
  {
   "cell_type": "markdown",
   "id": "0fab5c05",
   "metadata": {},
   "source": [
    "<h3>count"
   ]
  },
  {
   "cell_type": "code",
   "execution_count": 38,
   "id": "396b00e2",
   "metadata": {
    "scrolled": true
   },
   "outputs": [
    {
     "data": {
      "text/plain": [
       "4"
      ]
     },
     "execution_count": 38,
     "metadata": {},
     "output_type": "execute_result"
    }
   ],
   "source": [
    "df[\"Birth\"].count()"
   ]
  },
  {
   "cell_type": "markdown",
   "id": "9e51436d",
   "metadata": {},
   "source": [
    "<h3>cov"
   ]
  },
  {
   "cell_type": "code",
   "execution_count": 39,
   "id": "53cc0387",
   "metadata": {
    "scrolled": true
   },
   "outputs": [
    {
     "data": {
      "text/plain": [
       "1493.4166666666665"
      ]
     },
     "execution_count": 39,
     "metadata": {},
     "output_type": "execute_result"
    }
   ],
   "source": [
    "df[\"Birth\"].cov(df[\"Death\"])"
   ]
  },
  {
   "cell_type": "markdown",
   "id": "a04b37f0",
   "metadata": {},
   "source": [
    "<h3>isin"
   ]
  },
  {
   "cell_type": "code",
   "execution_count": 40,
   "id": "7e58cc17",
   "metadata": {
    "scrolled": true
   },
   "outputs": [
    {
     "data": {
      "text/plain": [
       "0     True\n",
       "1    False\n",
       "2    False\n",
       "3    False\n",
       "Name: Birth, dtype: bool"
      ]
     },
     "execution_count": 40,
     "metadata": {},
     "output_type": "execute_result"
    }
   ],
   "source": [
    "df[\"Birth\"].isin([1975])"
   ]
  },
  {
   "cell_type": "markdown",
   "id": "55ae80bc",
   "metadata": {},
   "source": [
    "<h3>date_range"
   ]
  },
  {
   "cell_type": "code",
   "execution_count": 41,
   "id": "d99166d8",
   "metadata": {
    "scrolled": false
   },
   "outputs": [
    {
     "data": {
      "text/plain": [
       "DatetimeIndex(['1874-01-01', '1874-01-02', '1874-01-03', '1874-01-04',\n",
       "               '1874-01-05', '1874-01-06', '1874-01-07', '1874-01-08',\n",
       "               '1874-01-09', '1874-01-10',\n",
       "               ...\n",
       "               '1874-09-22', '1874-09-23', '1874-09-24', '1874-09-25',\n",
       "               '1874-09-26', '1874-09-27', '1874-09-28', '1874-09-29',\n",
       "               '1874-09-30', '1874-10-01'],\n",
       "              dtype='datetime64[ns]', length=274, freq='D')"
      ]
     },
     "execution_count": 41,
     "metadata": {},
     "output_type": "execute_result"
    }
   ],
   "source": [
    "pd.date_range(\"01-01-1874\",\"10-01-1874\")"
   ]
  },
  {
   "cell_type": "markdown",
   "id": "ac0a0a80",
   "metadata": {},
   "source": [
    "<h3>array"
   ]
  },
  {
   "cell_type": "code",
   "execution_count": 42,
   "id": "048dbd82",
   "metadata": {
    "scrolled": false
   },
   "outputs": [
    {
     "name": "stdout",
     "output_type": "stream",
     "text": [
      "<PandasArray>\n",
      "[[14, 7, 22, 11, 34, 17, 52, 26, 13, 40, 20, 10, 5, 16, 8, 4, 2, 1], [15, 46, 23, 70, 35, 106, 53, 160, 80, 40, 20, 10, 5, 16, 8, 4, 2, 1]]\n",
      "Length: 2, dtype: object\n"
     ]
    }
   ],
   "source": [
    "array = pd.array([syracuse(14),syracuse(15)])\n",
    "print(array)"
   ]
  },
  {
   "cell_type": "markdown",
   "id": "89328dee",
   "metadata": {},
   "source": [
    "<h2>Read and write"
   ]
  },
  {
   "cell_type": "markdown",
   "id": "c9a65bb9",
   "metadata": {},
   "source": [
    "<h3>read_csv"
   ]
  },
  {
   "cell_type": "code",
   "execution_count": 43,
   "id": "a0b04cc5",
   "metadata": {
    "scrolled": false
   },
   "outputs": [
    {
     "data": {
      "text/html": [
       "<div>\n",
       "<style scoped>\n",
       "    .dataframe tbody tr th:only-of-type {\n",
       "        vertical-align: middle;\n",
       "    }\n",
       "\n",
       "    .dataframe tbody tr th {\n",
       "        vertical-align: top;\n",
       "    }\n",
       "\n",
       "    .dataframe thead th {\n",
       "        text-align: right;\n",
       "    }\n",
       "</style>\n",
       "<table border=\"1\" class=\"dataframe\">\n",
       "  <thead>\n",
       "    <tr style=\"text-align: right;\">\n",
       "      <th></th>\n",
       "      <th>Entity</th>\n",
       "      <th>Population 2019</th>\n",
       "      <th>Area (Km²)</th>\n",
       "      <th>Density (P/Km²)</th>\n",
       "      <th>World population share</th>\n",
       "      <th>GDP (trillion $ 2019)</th>\n",
       "    </tr>\n",
       "  </thead>\n",
       "  <tbody>\n",
       "    <tr>\n",
       "      <th>0</th>\n",
       "      <td>China</td>\n",
       "      <td>1433783686</td>\n",
       "      <td>9,388,211</td>\n",
       "      <td>153</td>\n",
       "      <td>18.6</td>\n",
       "      <td>$12.24</td>\n",
       "    </tr>\n",
       "    <tr>\n",
       "      <th>1</th>\n",
       "      <td>E.U</td>\n",
       "      <td>444986729</td>\n",
       "      <td>3997838</td>\n",
       "      <td>111</td>\n",
       "      <td>5.8</td>\n",
       "      <td>17.28</td>\n",
       "    </tr>\n",
       "    <tr>\n",
       "      <th>2</th>\n",
       "      <td>U.S.A</td>\n",
       "      <td>329064917</td>\n",
       "      <td>9147420</td>\n",
       "      <td>36</td>\n",
       "      <td>4.3</td>\n",
       "      <td>19.39</td>\n",
       "    </tr>\n",
       "    <tr>\n",
       "      <th>3</th>\n",
       "      <td>Japan</td>\n",
       "      <td>126860301</td>\n",
       "      <td>364555</td>\n",
       "      <td>348</td>\n",
       "      <td>1.6</td>\n",
       "      <td>4.87</td>\n",
       "    </tr>\n",
       "  </tbody>\n",
       "</table>\n",
       "</div>"
      ],
      "text/plain": [
       "  Entity  Population 2019 Area (Km²)  Density (P/Km²)  World population share  \\\n",
       "0  China       1433783686  9,388,211              153                    18.6   \n",
       "1    E.U        444986729    3997838              111                     5.8   \n",
       "2  U.S.A        329064917    9147420               36                     4.3   \n",
       "3  Japan        126860301     364555              348                     1.6   \n",
       "\n",
       "  GDP (trillion $ 2019)  \n",
       "0                $12.24  \n",
       "1                 17.28  \n",
       "2                 19.39  \n",
       "3                  4.87  "
      ]
     },
     "execution_count": 43,
     "metadata": {},
     "output_type": "execute_result"
    }
   ],
   "source": [
    "df = pd.read_csv(\"population_worldmeters.csv\")\n",
    "df"
   ]
  },
  {
   "cell_type": "markdown",
   "id": "d58b92fb",
   "metadata": {},
   "source": [
    "<h3>to_csv"
   ]
  },
  {
   "cell_type": "code",
   "execution_count": 44,
   "id": "dc1d5412",
   "metadata": {
    "scrolled": true
   },
   "outputs": [],
   "source": [
    "df = pd.DataFrame({\n",
    "    \"Name\": [\"Rachel Levine\",\"Alan Turing\",\"Lann Homscheidt\",\"Alan Hart\"],\n",
    "    \"Pronouns\":[\"She/Her\",\"He/His\",\"They/Their\",\"He/His\"],\n",
    "    \"Birth\":[1957,1912,1965,1890],\n",
    "    \"Occupation\":[\"Pediatricien\",\"Mathematician\",\"Linguist\",\"Radiologist\"],\n",
    "    \"Nationality\":[\"United-Statesian\",\"British\",\"German\",\"United-Statesian\"]\n",
    "})\n",
    "df.to_csv(\"Legends.csv\")"
   ]
  },
  {
   "cell_type": "markdown",
   "id": "4e7f526e",
   "metadata": {},
   "source": [
    "<h3>read_excel"
   ]
  },
  {
   "cell_type": "raw",
   "id": "78da65ae",
   "metadata": {},
   "source": [
    "!pip install openpyxl"
   ]
  },
  {
   "cell_type": "code",
   "execution_count": 45,
   "id": "a2f347f9",
   "metadata": {
    "scrolled": false
   },
   "outputs": [
    {
     "data": {
      "text/html": [
       "<div>\n",
       "<style scoped>\n",
       "    .dataframe tbody tr th:only-of-type {\n",
       "        vertical-align: middle;\n",
       "    }\n",
       "\n",
       "    .dataframe tbody tr th {\n",
       "        vertical-align: top;\n",
       "    }\n",
       "\n",
       "    .dataframe thead th {\n",
       "        text-align: right;\n",
       "    }\n",
       "</style>\n",
       "<table border=\"1\" class=\"dataframe\">\n",
       "  <thead>\n",
       "    <tr style=\"text-align: right;\">\n",
       "      <th></th>\n",
       "      <th>Entity</th>\n",
       "      <th>Population 2019</th>\n",
       "      <th>Area (Km²)</th>\n",
       "      <th>Density (P/Km²)</th>\n",
       "      <th>World population share</th>\n",
       "      <th>GDP (trillion $ 2019)</th>\n",
       "    </tr>\n",
       "  </thead>\n",
       "  <tbody>\n",
       "    <tr>\n",
       "      <th>0</th>\n",
       "      <td>China</td>\n",
       "      <td>1.433784e+09</td>\n",
       "      <td>9388211.0</td>\n",
       "      <td>153.0</td>\n",
       "      <td>18.6</td>\n",
       "      <td>12.24</td>\n",
       "    </tr>\n",
       "    <tr>\n",
       "      <th>1</th>\n",
       "      <td>E.U</td>\n",
       "      <td>4.449867e+08</td>\n",
       "      <td>3997838.0</td>\n",
       "      <td>111.0</td>\n",
       "      <td>5.8</td>\n",
       "      <td>17.28</td>\n",
       "    </tr>\n",
       "    <tr>\n",
       "      <th>2</th>\n",
       "      <td>U.S.A</td>\n",
       "      <td>3.290649e+08</td>\n",
       "      <td>9147420.0</td>\n",
       "      <td>36.0</td>\n",
       "      <td>4.3</td>\n",
       "      <td>19.39</td>\n",
       "    </tr>\n",
       "    <tr>\n",
       "      <th>3</th>\n",
       "      <td>Japan</td>\n",
       "      <td>1.268603e+08</td>\n",
       "      <td>364555.0</td>\n",
       "      <td>348.0</td>\n",
       "      <td>1.6</td>\n",
       "      <td>4.87</td>\n",
       "    </tr>\n",
       "  </tbody>\n",
       "</table>\n",
       "</div>"
      ],
      "text/plain": [
       "  Entity  Population 2019  Area (Km²)  Density (P/Km²)  \\\n",
       "0  China     1.433784e+09   9388211.0            153.0   \n",
       "1    E.U     4.449867e+08   3997838.0            111.0   \n",
       "2  U.S.A     3.290649e+08   9147420.0             36.0   \n",
       "3  Japan     1.268603e+08    364555.0            348.0   \n",
       "\n",
       "   World population share  GDP (trillion $ 2019)  \n",
       "0                    18.6                  12.24  \n",
       "1                     5.8                  17.28  \n",
       "2                     4.3                  19.39  \n",
       "3                     1.6                   4.87  "
      ]
     },
     "execution_count": 45,
     "metadata": {},
     "output_type": "execute_result"
    }
   ],
   "source": [
    "df = pd.read_excel(\"population_worldmeters.xlsx\")\n",
    "df"
   ]
  },
  {
   "cell_type": "markdown",
   "id": "bfde7964",
   "metadata": {},
   "source": [
    "<h3>to_excel"
   ]
  },
  {
   "cell_type": "code",
   "execution_count": 46,
   "id": "6d5c1e00",
   "metadata": {
    "scrolled": true
   },
   "outputs": [],
   "source": [
    "df = pd.DataFrame({\n",
    "    \"Name\": [\"Rachel Levine\",\"Alan Turing\",\"Lann Homscheidt\",\"Alan Hart\"],\n",
    "    \"Pronouns\":[\"She/Her\",\"He/His\",\"They/Their\",\"He/His\"],\n",
    "    \"Birth\":[1957,1912,1965,1890],\n",
    "    \"Occupation\":[\"Pediatricien\",\"Mathematician\",\"Linguist\",\"Radiologist\"],\n",
    "    \"Nationality\":[\"United-Statesian\",\"British\",\"German\",\"United-Statesian\"]\n",
    "})\n",
    "df.to_excel(\"Legends.xlsx\")"
   ]
  },
  {
   "cell_type": "markdown",
   "id": "f50a0eb8",
   "metadata": {},
   "source": [
    "<h3>read_clipboard"
   ]
  },
  {
   "cell_type": "raw",
   "id": "56d98d01",
   "metadata": {},
   "source": [
    "https://docs.google.com/spreadsheets/d/1nbit05NsFZl_hmNkMivDR4dPyaknNNGbJHgOm9oS-wA/edit?usp=sharing"
   ]
  },
  {
   "cell_type": "code",
   "execution_count": 47,
   "id": "e178627c",
   "metadata": {
    "scrolled": false
   },
   "outputs": [
    {
     "data": {
      "text/html": [
       "<div>\n",
       "<style scoped>\n",
       "    .dataframe tbody tr th:only-of-type {\n",
       "        vertical-align: middle;\n",
       "    }\n",
       "\n",
       "    .dataframe tbody tr th {\n",
       "        vertical-align: top;\n",
       "    }\n",
       "\n",
       "    .dataframe thead th {\n",
       "        text-align: right;\n",
       "    }\n",
       "</style>\n",
       "<table border=\"1\" class=\"dataframe\">\n",
       "  <thead>\n",
       "    <tr style=\"text-align: right;\">\n",
       "      <th></th>\n",
       "      <th>Entity</th>\n",
       "      <th>Population 2019</th>\n",
       "      <th>Area (Km²)</th>\n",
       "      <th>Density (P/Km²)</th>\n",
       "      <th>World population share</th>\n",
       "      <th>GDP (trillion $ 2019)</th>\n",
       "    </tr>\n",
       "  </thead>\n",
       "  <tbody>\n",
       "    <tr>\n",
       "      <th>0</th>\n",
       "      <td>China</td>\n",
       "      <td>1433783686</td>\n",
       "      <td>9,388,211</td>\n",
       "      <td>153</td>\n",
       "      <td>18.6</td>\n",
       "      <td>$12.24</td>\n",
       "    </tr>\n",
       "    <tr>\n",
       "      <th>1</th>\n",
       "      <td>E.U</td>\n",
       "      <td>444986729</td>\n",
       "      <td>3997838</td>\n",
       "      <td>111</td>\n",
       "      <td>5.8</td>\n",
       "      <td>17.28</td>\n",
       "    </tr>\n",
       "    <tr>\n",
       "      <th>2</th>\n",
       "      <td>U.S.A</td>\n",
       "      <td>329064917</td>\n",
       "      <td>9147420</td>\n",
       "      <td>36</td>\n",
       "      <td>4.3</td>\n",
       "      <td>19.39</td>\n",
       "    </tr>\n",
       "    <tr>\n",
       "      <th>3</th>\n",
       "      <td>Japan</td>\n",
       "      <td>126860301</td>\n",
       "      <td>364555</td>\n",
       "      <td>348</td>\n",
       "      <td>1.6</td>\n",
       "      <td>4.87</td>\n",
       "    </tr>\n",
       "  </tbody>\n",
       "</table>\n",
       "</div>"
      ],
      "text/plain": [
       "  Entity  Population 2019 Area (Km²)  Density (P/Km²)  World population share  \\\n",
       "0  China       1433783686  9,388,211              153                    18.6   \n",
       "1    E.U        444986729    3997838              111                     5.8   \n",
       "2  U.S.A        329064917    9147420               36                     4.3   \n",
       "3  Japan        126860301     364555              348                     1.6   \n",
       "\n",
       "  GDP (trillion $ 2019)  \n",
       "0                $12.24  \n",
       "1                 17.28  \n",
       "2                 19.39  \n",
       "3                  4.87  "
      ]
     },
     "execution_count": 47,
     "metadata": {},
     "output_type": "execute_result"
    }
   ],
   "source": [
    "df = pd.read_clipboard()\n",
    "df"
   ]
  },
  {
   "cell_type": "markdown",
   "id": "c971bd58",
   "metadata": {},
   "source": [
    "<h3>to_clipboard"
   ]
  },
  {
   "cell_type": "code",
   "execution_count": 48,
   "id": "56c80a58",
   "metadata": {
    "scrolled": true
   },
   "outputs": [],
   "source": [
    "df = pd.DataFrame({\n",
    "    \"Name\": [\"Rachel Levine\",\"Alan Turing\",\"Lann Homscheidt\",\"Alan Hart\"],\n",
    "    \"Pronouns\":[\"She/Her\",\"He/His\",\"They/Their\",\"He/His\"],\n",
    "    \"Birth\":[1957,1912,1965,1890],\n",
    "    \"Occupation\":[\"Pediatricien\",\"Mathematician\",\"Linguist\",\"Radiologist\"],\n",
    "    \"Nationality\":[\"United-Statesian\",\"British\",\"German\",\"United-Statesian\"]\n",
    "})\n",
    "df.to_clipboard()"
   ]
  },
  {
   "cell_type": "markdown",
   "id": "828a0786",
   "metadata": {},
   "source": [
    "<h3>read_xml"
   ]
  },
  {
   "cell_type": "raw",
   "id": "851e0e5c",
   "metadata": {},
   "source": [
    "!pip install lxml"
   ]
  },
  {
   "cell_type": "code",
   "execution_count": 49,
   "id": "f66417cb",
   "metadata": {
    "scrolled": true
   },
   "outputs": [
    {
     "data": {
      "text/html": [
       "<div>\n",
       "<style scoped>\n",
       "    .dataframe tbody tr th:only-of-type {\n",
       "        vertical-align: middle;\n",
       "    }\n",
       "\n",
       "    .dataframe tbody tr th {\n",
       "        vertical-align: top;\n",
       "    }\n",
       "\n",
       "    .dataframe thead th {\n",
       "        text-align: right;\n",
       "    }\n",
       "</style>\n",
       "<table border=\"1\" class=\"dataframe\">\n",
       "  <thead>\n",
       "    <tr style=\"text-align: right;\">\n",
       "      <th></th>\n",
       "      <th>Entity</th>\n",
       "      <th>Population</th>\n",
       "      <th>Area</th>\n",
       "      <th>Density</th>\n",
       "      <th>Worldpopulationshare</th>\n",
       "      <th>GDP</th>\n",
       "    </tr>\n",
       "  </thead>\n",
       "  <tbody>\n",
       "    <tr>\n",
       "      <th>0</th>\n",
       "      <td>China</td>\n",
       "      <td>1433783686</td>\n",
       "      <td>9,388,211</td>\n",
       "      <td>153</td>\n",
       "      <td>18.6</td>\n",
       "      <td>12.24</td>\n",
       "    </tr>\n",
       "    <tr>\n",
       "      <th>1</th>\n",
       "      <td>E.U</td>\n",
       "      <td>444986729</td>\n",
       "      <td>3997838</td>\n",
       "      <td>111</td>\n",
       "      <td>5.8</td>\n",
       "      <td>17.28</td>\n",
       "    </tr>\n",
       "    <tr>\n",
       "      <th>2</th>\n",
       "      <td>U.S.A</td>\n",
       "      <td>329064917</td>\n",
       "      <td>9147420</td>\n",
       "      <td>36</td>\n",
       "      <td>4.3</td>\n",
       "      <td>19.39</td>\n",
       "    </tr>\n",
       "    <tr>\n",
       "      <th>3</th>\n",
       "      <td>Japan</td>\n",
       "      <td>126860301</td>\n",
       "      <td>364555</td>\n",
       "      <td>348</td>\n",
       "      <td>1.6</td>\n",
       "      <td>4.87</td>\n",
       "    </tr>\n",
       "  </tbody>\n",
       "</table>\n",
       "</div>"
      ],
      "text/plain": [
       "  Entity  Population       Area  Density  Worldpopulationshare    GDP\n",
       "0  China  1433783686  9,388,211      153                  18.6  12.24\n",
       "1    E.U   444986729    3997838      111                   5.8  17.28\n",
       "2  U.S.A   329064917    9147420       36                   4.3  19.39\n",
       "3  Japan   126860301     364555      348                   1.6   4.87"
      ]
     },
     "execution_count": 49,
     "metadata": {},
     "output_type": "execute_result"
    }
   ],
   "source": [
    "df = pd.read_xml(\"population_worldmeters.xml\")\n",
    "df"
   ]
  },
  {
   "cell_type": "markdown",
   "id": "7fb60229",
   "metadata": {},
   "source": [
    "<h3>to_xml"
   ]
  },
  {
   "cell_type": "code",
   "execution_count": 50,
   "id": "c29dda0e",
   "metadata": {
    "scrolled": true
   },
   "outputs": [],
   "source": [
    "df = pd.DataFrame({\n",
    "    \"Name\": [\"Rachel Levine\",\"Alan Turing\",\"Lann Homscheidt\",\"Alan Hart\"],\n",
    "    \"Pronouns\":[\"She/Her\",\"He/His\",\"They/Their\",\"He/His\"],\n",
    "    \"Birth\":[1957,1912,1965,1890],\n",
    "    \"Occupation\":[\"Pediatricien\",\"Mathematician\",\"Linguist\",\"Radiologist\"],\n",
    "    \"Nationality\":[\"United-Statesian\",\"British\",\"German\",\"United-Statesian\"]\n",
    "})\n",
    "df.to_xml(\"Legends.xml\")"
   ]
  },
  {
   "cell_type": "markdown",
   "id": "ccab949e",
   "metadata": {},
   "source": [
    "<h3>read_json"
   ]
  },
  {
   "cell_type": "code",
   "execution_count": 51,
   "id": "76aeb0d7",
   "metadata": {
    "scrolled": false
   },
   "outputs": [
    {
     "data": {
      "text/html": [
       "<div>\n",
       "<style scoped>\n",
       "    .dataframe tbody tr th:only-of-type {\n",
       "        vertical-align: middle;\n",
       "    }\n",
       "\n",
       "    .dataframe tbody tr th {\n",
       "        vertical-align: top;\n",
       "    }\n",
       "\n",
       "    .dataframe thead th {\n",
       "        text-align: right;\n",
       "    }\n",
       "</style>\n",
       "<table border=\"1\" class=\"dataframe\">\n",
       "  <thead>\n",
       "    <tr style=\"text-align: right;\">\n",
       "      <th></th>\n",
       "      <th>Entity</th>\n",
       "      <th>Population 2019</th>\n",
       "      <th>Area (Km²)</th>\n",
       "      <th>Density (P/Km²)</th>\n",
       "      <th>World population share</th>\n",
       "      <th>GDP (trillion $ 2019)</th>\n",
       "    </tr>\n",
       "  </thead>\n",
       "  <tbody>\n",
       "    <tr>\n",
       "      <th>0</th>\n",
       "      <td>China</td>\n",
       "      <td>1433783686</td>\n",
       "      <td>9388211</td>\n",
       "      <td>153</td>\n",
       "      <td>18.6</td>\n",
       "      <td>12.24</td>\n",
       "    </tr>\n",
       "    <tr>\n",
       "      <th>1</th>\n",
       "      <td>E.U</td>\n",
       "      <td>444986729</td>\n",
       "      <td>3997838</td>\n",
       "      <td>111</td>\n",
       "      <td>5.8</td>\n",
       "      <td>17.28</td>\n",
       "    </tr>\n",
       "    <tr>\n",
       "      <th>2</th>\n",
       "      <td>U.S.A</td>\n",
       "      <td>329064917</td>\n",
       "      <td>9147420</td>\n",
       "      <td>36</td>\n",
       "      <td>4.3</td>\n",
       "      <td>19.39</td>\n",
       "    </tr>\n",
       "    <tr>\n",
       "      <th>3</th>\n",
       "      <td>Japan</td>\n",
       "      <td>126860301</td>\n",
       "      <td>364555</td>\n",
       "      <td>348</td>\n",
       "      <td>1.6</td>\n",
       "      <td>4.87</td>\n",
       "    </tr>\n",
       "  </tbody>\n",
       "</table>\n",
       "</div>"
      ],
      "text/plain": [
       "  Entity  Population 2019  Area (Km²)  Density (P/Km²)  \\\n",
       "0  China       1433783686     9388211              153   \n",
       "1    E.U        444986729     3997838              111   \n",
       "2  U.S.A        329064917     9147420               36   \n",
       "3  Japan        126860301      364555              348   \n",
       "\n",
       "   World population share  GDP (trillion $ 2019)  \n",
       "0                    18.6                  12.24  \n",
       "1                     5.8                  17.28  \n",
       "2                     4.3                  19.39  \n",
       "3                     1.6                   4.87  "
      ]
     },
     "execution_count": 51,
     "metadata": {},
     "output_type": "execute_result"
    }
   ],
   "source": [
    "df = pd.read_json(\"population_worldmeters.json\")\n",
    "df"
   ]
  },
  {
   "cell_type": "markdown",
   "id": "e58cc48c",
   "metadata": {},
   "source": [
    "<h3>to_json"
   ]
  },
  {
   "cell_type": "code",
   "execution_count": 52,
   "id": "b60ebad8",
   "metadata": {
    "scrolled": true
   },
   "outputs": [],
   "source": [
    "df = pd.DataFrame({\n",
    "    \"Name\": [\"Rachel Levine\",\"Alan Turing\",\"Lann Homscheidt\",\"Alan Hart\"],\n",
    "    \"Pronouns\":[\"She/Her\",\"He/His\",\"They/Their\",\"He/His\"],\n",
    "    \"Birth\":[1957,1912,1965,1890],\n",
    "    \"Occupation\":[\"Pediatricien\",\"Mathematician\",\"Linguist\",\"Radiologist\"],\n",
    "    \"Nationality\":[\"United-Statesian\",\"British\",\"German\",\"United-Statesian\"]\n",
    "})\n",
    "df.to_json(\"Legends.json\")"
   ]
  },
  {
   "cell_type": "markdown",
   "id": "20deeb0c",
   "metadata": {},
   "source": [
    "<h3>read_html"
   ]
  },
  {
   "cell_type": "code",
   "execution_count": 53,
   "id": "01fcd6a0",
   "metadata": {
    "scrolled": false
   },
   "outputs": [
    {
     "data": {
      "text/html": [
       "<div>\n",
       "<style scoped>\n",
       "    .dataframe tbody tr th:only-of-type {\n",
       "        vertical-align: middle;\n",
       "    }\n",
       "\n",
       "    .dataframe tbody tr th {\n",
       "        vertical-align: top;\n",
       "    }\n",
       "\n",
       "    .dataframe thead th {\n",
       "        text-align: right;\n",
       "    }\n",
       "</style>\n",
       "<table border=\"1\" class=\"dataframe\">\n",
       "  <thead>\n",
       "    <tr style=\"text-align: right;\">\n",
       "      <th></th>\n",
       "      <th>Rank</th>\n",
       "      <th>Country or dependent territory</th>\n",
       "      <th>Region</th>\n",
       "      <th>Population</th>\n",
       "      <th>% of world</th>\n",
       "      <th>Date</th>\n",
       "      <th>Source (official or from the United Nations)</th>\n",
       "      <th>Notes</th>\n",
       "    </tr>\n",
       "  </thead>\n",
       "  <tbody>\n",
       "    <tr>\n",
       "      <th>0</th>\n",
       "      <td>–</td>\n",
       "      <td>NaN</td>\n",
       "      <td>World</td>\n",
       "      <td>7916986000</td>\n",
       "      <td>NaN</td>\n",
       "      <td>18 Dec 2021</td>\n",
       "      <td>UN projection[2]</td>\n",
       "      <td>NaN</td>\n",
       "    </tr>\n",
       "    <tr>\n",
       "      <th>1</th>\n",
       "      <td>1</td>\n",
       "      <td>China</td>\n",
       "      <td>Asia</td>\n",
       "      <td>1411778724</td>\n",
       "      <td>NaN</td>\n",
       "      <td>1 Nov 2020</td>\n",
       "      <td>2020 census result[3]</td>\n",
       "      <td>The census figure refers to mainland China, ex...</td>\n",
       "    </tr>\n",
       "    <tr>\n",
       "      <th>2</th>\n",
       "      <td>2</td>\n",
       "      <td>India</td>\n",
       "      <td>Asia</td>\n",
       "      <td>1385698883</td>\n",
       "      <td>NaN</td>\n",
       "      <td>18 Dec 2021</td>\n",
       "      <td>National population clock[4]</td>\n",
       "      <td>The figure includes the population of India-ad...</td>\n",
       "    </tr>\n",
       "    <tr>\n",
       "      <th>3</th>\n",
       "      <td>3</td>\n",
       "      <td>United States</td>\n",
       "      <td>Americas</td>\n",
       "      <td>332898208</td>\n",
       "      <td>NaN</td>\n",
       "      <td>18 Dec 2021</td>\n",
       "      <td>National population clock[5]</td>\n",
       "      <td>Includes the 50 states and the District of Col...</td>\n",
       "    </tr>\n",
       "    <tr>\n",
       "      <th>4</th>\n",
       "      <td>4</td>\n",
       "      <td>Indonesia</td>\n",
       "      <td>Asia</td>\n",
       "      <td>271350000</td>\n",
       "      <td>NaN</td>\n",
       "      <td>31 Dec 2020</td>\n",
       "      <td>National annual estimate[6]</td>\n",
       "      <td>NaN</td>\n",
       "    </tr>\n",
       "    <tr>\n",
       "      <th>...</th>\n",
       "      <td>...</td>\n",
       "      <td>...</td>\n",
       "      <td>...</td>\n",
       "      <td>...</td>\n",
       "      <td>...</td>\n",
       "      <td>...</td>\n",
       "      <td>...</td>\n",
       "      <td>...</td>\n",
       "    </tr>\n",
       "    <tr>\n",
       "      <th>237</th>\n",
       "      <td>–</td>\n",
       "      <td>Niue (New Zealand)</td>\n",
       "      <td>Oceania</td>\n",
       "      <td>1549</td>\n",
       "      <td>NaN</td>\n",
       "      <td>1 Jul 2021</td>\n",
       "      <td>National annual projection[91]</td>\n",
       "      <td>NaN</td>\n",
       "    </tr>\n",
       "    <tr>\n",
       "      <th>238</th>\n",
       "      <td>–</td>\n",
       "      <td>Tokelau (New Zealand)</td>\n",
       "      <td>Oceania</td>\n",
       "      <td>1501</td>\n",
       "      <td>NaN</td>\n",
       "      <td>1 Jul 2021</td>\n",
       "      <td>National annual projection[91]</td>\n",
       "      <td>NaN</td>\n",
       "    </tr>\n",
       "    <tr>\n",
       "      <th>239</th>\n",
       "      <td>195</td>\n",
       "      <td>Vatican City</td>\n",
       "      <td>Europe</td>\n",
       "      <td>825</td>\n",
       "      <td>NaN</td>\n",
       "      <td>1 Feb 2019</td>\n",
       "      <td>Monthly national estimate[190]</td>\n",
       "      <td>The total population of 825 consisted of 453 r...</td>\n",
       "    </tr>\n",
       "    <tr>\n",
       "      <th>240</th>\n",
       "      <td>–</td>\n",
       "      <td>Cocos (Keeling) Islands (Australia)</td>\n",
       "      <td>Oceania</td>\n",
       "      <td>573</td>\n",
       "      <td>NaN</td>\n",
       "      <td>30 Jun 2020</td>\n",
       "      <td>National annual estimate[189]</td>\n",
       "      <td>NaN</td>\n",
       "    </tr>\n",
       "    <tr>\n",
       "      <th>241</th>\n",
       "      <td>–</td>\n",
       "      <td>Pitcairn Islands (United Kingdom)</td>\n",
       "      <td>Oceania</td>\n",
       "      <td>40</td>\n",
       "      <td>NaN</td>\n",
       "      <td>1 Jan 2021</td>\n",
       "      <td>National annual estimate[191]</td>\n",
       "      <td>NaN</td>\n",
       "    </tr>\n",
       "  </tbody>\n",
       "</table>\n",
       "<p>242 rows × 8 columns</p>\n",
       "</div>"
      ],
      "text/plain": [
       "    Rank       Country or dependent territory    Region  Population  \\\n",
       "0      –                                  NaN     World  7916986000   \n",
       "1      1                                China      Asia  1411778724   \n",
       "2      2                                India      Asia  1385698883   \n",
       "3      3                        United States  Americas   332898208   \n",
       "4      4                            Indonesia      Asia   271350000   \n",
       "..   ...                                  ...       ...         ...   \n",
       "237    –                   Niue (New Zealand)   Oceania        1549   \n",
       "238    –                Tokelau (New Zealand)   Oceania        1501   \n",
       "239  195                         Vatican City    Europe         825   \n",
       "240    –  Cocos (Keeling) Islands (Australia)   Oceania         573   \n",
       "241    –    Pitcairn Islands (United Kingdom)   Oceania          40   \n",
       "\n",
       "     % of world         Date Source (official or from the United Nations)  \\\n",
       "0           NaN  18 Dec 2021                             UN projection[2]   \n",
       "1           NaN   1 Nov 2020                        2020 census result[3]   \n",
       "2           NaN  18 Dec 2021                 National population clock[4]   \n",
       "3           NaN  18 Dec 2021                 National population clock[5]   \n",
       "4           NaN  31 Dec 2020                  National annual estimate[6]   \n",
       "..          ...          ...                                          ...   \n",
       "237         NaN   1 Jul 2021               National annual projection[91]   \n",
       "238         NaN   1 Jul 2021               National annual projection[91]   \n",
       "239         NaN   1 Feb 2019               Monthly national estimate[190]   \n",
       "240         NaN  30 Jun 2020                National annual estimate[189]   \n",
       "241         NaN   1 Jan 2021                National annual estimate[191]   \n",
       "\n",
       "                                                 Notes  \n",
       "0                                                  NaN  \n",
       "1    The census figure refers to mainland China, ex...  \n",
       "2    The figure includes the population of India-ad...  \n",
       "3    Includes the 50 states and the District of Col...  \n",
       "4                                                  NaN  \n",
       "..                                                 ...  \n",
       "237                                                NaN  \n",
       "238                                                NaN  \n",
       "239  The total population of 825 consisted of 453 r...  \n",
       "240                                                NaN  \n",
       "241                                                NaN  \n",
       "\n",
       "[242 rows x 8 columns]"
      ]
     },
     "execution_count": 53,
     "metadata": {},
     "output_type": "execute_result"
    }
   ],
   "source": [
    "df = pd.read_html(\"https://en.wikipedia.org/wiki/List_of_countries_and_dependencies_by_population\")\n",
    "df[0]"
   ]
  },
  {
   "cell_type": "markdown",
   "id": "7015c195",
   "metadata": {},
   "source": [
    "<h3>to_html"
   ]
  },
  {
   "cell_type": "code",
   "execution_count": 54,
   "id": "755112fe",
   "metadata": {
    "scrolled": true
   },
   "outputs": [],
   "source": [
    "df = pd.DataFrame({\n",
    "    \"Name\": [\"Rachel Levine\",\"Alan Turing\",\"Lann Homscheidt\",\"Alan Hart\"],\n",
    "    \"Pronouns\":[\"She/Her\",\"He/His\",\"They/Their\",\"He/His\"],\n",
    "    \"Birth\":[1957,1912,1965,1890],\n",
    "    \"Occupation\":[\"Pediatricien\",\"Mathematician\",\"Linguist\",\"Radiologist\"],\n",
    "    \"Nationality\":[\"United-Statesian\",\"British\",\"German\",\"United-Statesian\"]\n",
    "})\n",
    "df.to_html(\"Legends.html\")"
   ]
  },
  {
   "cell_type": "markdown",
   "id": "edf68334",
   "metadata": {},
   "source": [
    "<h3>read_sql"
   ]
  },
  {
   "cell_type": "code",
   "execution_count": 55,
   "id": "51b9f823",
   "metadata": {},
   "outputs": [],
   "source": [
    "import sqlite3 as sqlite"
   ]
  },
  {
   "cell_type": "code",
   "execution_count": 56,
   "id": "76d15cb5",
   "metadata": {
    "scrolled": false
   },
   "outputs": [
    {
     "data": {
      "text/html": [
       "<div>\n",
       "<style scoped>\n",
       "    .dataframe tbody tr th:only-of-type {\n",
       "        vertical-align: middle;\n",
       "    }\n",
       "\n",
       "    .dataframe tbody tr th {\n",
       "        vertical-align: top;\n",
       "    }\n",
       "\n",
       "    .dataframe thead th {\n",
       "        text-align: right;\n",
       "    }\n",
       "</style>\n",
       "<table border=\"1\" class=\"dataframe\">\n",
       "  <thead>\n",
       "    <tr style=\"text-align: right;\">\n",
       "      <th></th>\n",
       "      <th>Entity</th>\n",
       "      <th>Population 2019</th>\n",
       "      <th>Area (Km²)</th>\n",
       "      <th>Density (P/Km²)</th>\n",
       "      <th>World population share</th>\n",
       "      <th>GDP (trillion $ 2019)</th>\n",
       "    </tr>\n",
       "  </thead>\n",
       "  <tbody>\n",
       "    <tr>\n",
       "      <th>0</th>\n",
       "      <td>China</td>\n",
       "      <td>1433783686</td>\n",
       "      <td>9388211</td>\n",
       "      <td>153</td>\n",
       "      <td>18.6</td>\n",
       "      <td>12.24</td>\n",
       "    </tr>\n",
       "    <tr>\n",
       "      <th>1</th>\n",
       "      <td>E.U</td>\n",
       "      <td>444986729</td>\n",
       "      <td>3997838</td>\n",
       "      <td>111</td>\n",
       "      <td>5.8</td>\n",
       "      <td>17.28</td>\n",
       "    </tr>\n",
       "    <tr>\n",
       "      <th>2</th>\n",
       "      <td>U.S.A</td>\n",
       "      <td>329064917</td>\n",
       "      <td>9147420</td>\n",
       "      <td>36</td>\n",
       "      <td>4.3</td>\n",
       "      <td>19.39</td>\n",
       "    </tr>\n",
       "    <tr>\n",
       "      <th>3</th>\n",
       "      <td>Japan</td>\n",
       "      <td>126860301</td>\n",
       "      <td>364555</td>\n",
       "      <td>348</td>\n",
       "      <td>1.6</td>\n",
       "      <td>4.87</td>\n",
       "    </tr>\n",
       "  </tbody>\n",
       "</table>\n",
       "</div>"
      ],
      "text/plain": [
       "  Entity  Population 2019  Area (Km²)  Density (P/Km²)  \\\n",
       "0  China       1433783686     9388211              153   \n",
       "1    E.U        444986729     3997838              111   \n",
       "2  U.S.A        329064917     9147420               36   \n",
       "3  Japan        126860301      364555              348   \n",
       "\n",
       "   World population share  GDP (trillion $ 2019)  \n",
       "0                    18.6                  12.24  \n",
       "1                     5.8                  17.28  \n",
       "2                     4.3                  19.39  \n",
       "3                     1.6                   4.87  "
      ]
     },
     "execution_count": 56,
     "metadata": {},
     "output_type": "execute_result"
    }
   ],
   "source": [
    "con = sqlite.connect(\"population_worldmeters.db\")\n",
    "df = pd.read_sql(\"SELECT * FROM population\",con)\n",
    "con.close()\n",
    "df"
   ]
  },
  {
   "cell_type": "markdown",
   "id": "11141d13",
   "metadata": {},
   "source": [
    "<h3>to_sql"
   ]
  },
  {
   "cell_type": "code",
   "execution_count": 57,
   "id": "35dc1120",
   "metadata": {},
   "outputs": [],
   "source": [
    "df = pd.DataFrame({\n",
    "    \"Name\": [\"Rachel Levine\",\"Alan Turing\",\"Lann Homscheidt\",\"Alan Hart\"],\n",
    "    \"Pronouns\":[\"She/Her\",\"He/His\",\"They/Their\",\"He/His\"],\n",
    "    \"Birth\":[1957,1912,1965,1890],\n",
    "    \"Occupation\":[\"Pediatricien\",\"Mathematician\",\"Linguist\",\"Radiologist\"],\n",
    "    \"Nationality\":[\"United-Statesian\",\"British\",\"German\",\"United-Statesian\"]\n",
    "})\n",
    "\n",
    "con = sqlite.connect(\"Legends.db\")\n",
    "df.to_sql(\"LGBTQIAPK\",con)\n",
    "con.close()"
   ]
  },
  {
   "cell_type": "markdown",
   "id": "f7adb5c1",
   "metadata": {},
   "source": [
    "<h2>Operations"
   ]
  },
  {
   "cell_type": "code",
   "execution_count": 58,
   "id": "2601a56d",
   "metadata": {
    "scrolled": true
   },
   "outputs": [
    {
     "data": {
      "text/html": [
       "<div>\n",
       "<style scoped>\n",
       "    .dataframe tbody tr th:only-of-type {\n",
       "        vertical-align: middle;\n",
       "    }\n",
       "\n",
       "    .dataframe tbody tr th {\n",
       "        vertical-align: top;\n",
       "    }\n",
       "\n",
       "    .dataframe thead th {\n",
       "        text-align: right;\n",
       "    }\n",
       "</style>\n",
       "<table border=\"1\" class=\"dataframe\">\n",
       "  <thead>\n",
       "    <tr style=\"text-align: right;\">\n",
       "      <th></th>\n",
       "      <th>Entity</th>\n",
       "      <th>Population 2019</th>\n",
       "      <th>Area (Km²)</th>\n",
       "      <th>Density (P/Km²)</th>\n",
       "      <th>World population share</th>\n",
       "      <th>GDP (trillion $ 2019)</th>\n",
       "    </tr>\n",
       "  </thead>\n",
       "  <tbody>\n",
       "    <tr>\n",
       "      <th>0</th>\n",
       "      <td>China</td>\n",
       "      <td>1433783686</td>\n",
       "      <td>9388211</td>\n",
       "      <td>153</td>\n",
       "      <td>18.6</td>\n",
       "      <td>12.24</td>\n",
       "    </tr>\n",
       "    <tr>\n",
       "      <th>1</th>\n",
       "      <td>E.U</td>\n",
       "      <td>444986729</td>\n",
       "      <td>3997838</td>\n",
       "      <td>111</td>\n",
       "      <td>5.8</td>\n",
       "      <td>17.28</td>\n",
       "    </tr>\n",
       "    <tr>\n",
       "      <th>2</th>\n",
       "      <td>U.S.A</td>\n",
       "      <td>329064917</td>\n",
       "      <td>9147420</td>\n",
       "      <td>36</td>\n",
       "      <td>4.3</td>\n",
       "      <td>19.39</td>\n",
       "    </tr>\n",
       "    <tr>\n",
       "      <th>3</th>\n",
       "      <td>Japan</td>\n",
       "      <td>126860301</td>\n",
       "      <td>364555</td>\n",
       "      <td>348</td>\n",
       "      <td>1.6</td>\n",
       "      <td>4.87</td>\n",
       "    </tr>\n",
       "  </tbody>\n",
       "</table>\n",
       "</div>"
      ],
      "text/plain": [
       "  Entity  Population 2019  Area (Km²)  Density (P/Km²)  \\\n",
       "0  China       1433783686     9388211              153   \n",
       "1    E.U        444986729     3997838              111   \n",
       "2  U.S.A        329064917     9147420               36   \n",
       "3  Japan        126860301      364555              348   \n",
       "\n",
       "   World population share  GDP (trillion $ 2019)  \n",
       "0                    18.6                  12.24  \n",
       "1                     5.8                  17.28  \n",
       "2                     4.3                  19.39  \n",
       "3                     1.6                   4.87  "
      ]
     },
     "execution_count": 58,
     "metadata": {},
     "output_type": "execute_result"
    }
   ],
   "source": [
    "df = pd.DataFrame(\n",
    "    {\n",
    "        'Entity': {0: 'China', 1: 'E.U', 2: 'U.S.A', 3: 'Japan'},\n",
    "        'Population 2019': {0: 1433783686, 1: 444986729, 2: 329064917, 3: 126860301},\n",
    "        'Area (Km²)': {0: 9388211, 1: 3997838, 2: 9147420, 3: 364555},\n",
    "        'Density (P/Km²)': {0: 153, 1: 111, 2: 36, 3: 348},\n",
    "        'World population share': {0: 18.6, 1: 5.8, 2: 4.3, 3: 1.6},\n",
    "        'GDP (trillion $ 2019)': {0: 12.24, 1: 17.28, 2: 19.39, 3: 4.87}\n",
    "    }\n",
    ")\n",
    "df"
   ]
  },
  {
   "cell_type": "markdown",
   "id": "66d2cc28",
   "metadata": {},
   "source": [
    "<h3>sort_values"
   ]
  },
  {
   "cell_type": "code",
   "execution_count": 59,
   "id": "24fdbe5c",
   "metadata": {
    "scrolled": true
   },
   "outputs": [
    {
     "data": {
      "text/html": [
       "<div>\n",
       "<style scoped>\n",
       "    .dataframe tbody tr th:only-of-type {\n",
       "        vertical-align: middle;\n",
       "    }\n",
       "\n",
       "    .dataframe tbody tr th {\n",
       "        vertical-align: top;\n",
       "    }\n",
       "\n",
       "    .dataframe thead th {\n",
       "        text-align: right;\n",
       "    }\n",
       "</style>\n",
       "<table border=\"1\" class=\"dataframe\">\n",
       "  <thead>\n",
       "    <tr style=\"text-align: right;\">\n",
       "      <th></th>\n",
       "      <th>Entity</th>\n",
       "      <th>Population 2019</th>\n",
       "      <th>Area (Km²)</th>\n",
       "      <th>Density (P/Km²)</th>\n",
       "      <th>World population share</th>\n",
       "      <th>GDP (trillion $ 2019)</th>\n",
       "    </tr>\n",
       "  </thead>\n",
       "  <tbody>\n",
       "    <tr>\n",
       "      <th>3</th>\n",
       "      <td>Japan</td>\n",
       "      <td>126860301</td>\n",
       "      <td>364555</td>\n",
       "      <td>348</td>\n",
       "      <td>1.6</td>\n",
       "      <td>4.87</td>\n",
       "    </tr>\n",
       "    <tr>\n",
       "      <th>0</th>\n",
       "      <td>China</td>\n",
       "      <td>1433783686</td>\n",
       "      <td>9388211</td>\n",
       "      <td>153</td>\n",
       "      <td>18.6</td>\n",
       "      <td>12.24</td>\n",
       "    </tr>\n",
       "    <tr>\n",
       "      <th>1</th>\n",
       "      <td>E.U</td>\n",
       "      <td>444986729</td>\n",
       "      <td>3997838</td>\n",
       "      <td>111</td>\n",
       "      <td>5.8</td>\n",
       "      <td>17.28</td>\n",
       "    </tr>\n",
       "    <tr>\n",
       "      <th>2</th>\n",
       "      <td>U.S.A</td>\n",
       "      <td>329064917</td>\n",
       "      <td>9147420</td>\n",
       "      <td>36</td>\n",
       "      <td>4.3</td>\n",
       "      <td>19.39</td>\n",
       "    </tr>\n",
       "  </tbody>\n",
       "</table>\n",
       "</div>"
      ],
      "text/plain": [
       "  Entity  Population 2019  Area (Km²)  Density (P/Km²)  \\\n",
       "3  Japan        126860301      364555              348   \n",
       "0  China       1433783686     9388211              153   \n",
       "1    E.U        444986729     3997838              111   \n",
       "2  U.S.A        329064917     9147420               36   \n",
       "\n",
       "   World population share  GDP (trillion $ 2019)  \n",
       "3                     1.6                   4.87  \n",
       "0                    18.6                  12.24  \n",
       "1                     5.8                  17.28  \n",
       "2                     4.3                  19.39  "
      ]
     },
     "execution_count": 59,
     "metadata": {},
     "output_type": "execute_result"
    }
   ],
   "source": [
    "sortedByGDP = df.sort_values(\"GDP (trillion $ 2019)\")\n",
    "sortedByGDP"
   ]
  },
  {
   "cell_type": "markdown",
   "id": "4978670d",
   "metadata": {},
   "source": [
    "<h3>sort_index"
   ]
  },
  {
   "cell_type": "code",
   "execution_count": 60,
   "id": "c167a842",
   "metadata": {
    "scrolled": true
   },
   "outputs": [
    {
     "data": {
      "text/html": [
       "<div>\n",
       "<style scoped>\n",
       "    .dataframe tbody tr th:only-of-type {\n",
       "        vertical-align: middle;\n",
       "    }\n",
       "\n",
       "    .dataframe tbody tr th {\n",
       "        vertical-align: top;\n",
       "    }\n",
       "\n",
       "    .dataframe thead th {\n",
       "        text-align: right;\n",
       "    }\n",
       "</style>\n",
       "<table border=\"1\" class=\"dataframe\">\n",
       "  <thead>\n",
       "    <tr style=\"text-align: right;\">\n",
       "      <th></th>\n",
       "      <th>Entity</th>\n",
       "      <th>Population 2019</th>\n",
       "      <th>Area (Km²)</th>\n",
       "      <th>Density (P/Km²)</th>\n",
       "      <th>World population share</th>\n",
       "      <th>GDP (trillion $ 2019)</th>\n",
       "    </tr>\n",
       "  </thead>\n",
       "  <tbody>\n",
       "    <tr>\n",
       "      <th>0</th>\n",
       "      <td>China</td>\n",
       "      <td>1433783686</td>\n",
       "      <td>9388211</td>\n",
       "      <td>153</td>\n",
       "      <td>18.6</td>\n",
       "      <td>12.24</td>\n",
       "    </tr>\n",
       "    <tr>\n",
       "      <th>1</th>\n",
       "      <td>E.U</td>\n",
       "      <td>444986729</td>\n",
       "      <td>3997838</td>\n",
       "      <td>111</td>\n",
       "      <td>5.8</td>\n",
       "      <td>17.28</td>\n",
       "    </tr>\n",
       "    <tr>\n",
       "      <th>2</th>\n",
       "      <td>U.S.A</td>\n",
       "      <td>329064917</td>\n",
       "      <td>9147420</td>\n",
       "      <td>36</td>\n",
       "      <td>4.3</td>\n",
       "      <td>19.39</td>\n",
       "    </tr>\n",
       "    <tr>\n",
       "      <th>3</th>\n",
       "      <td>Japan</td>\n",
       "      <td>126860301</td>\n",
       "      <td>364555</td>\n",
       "      <td>348</td>\n",
       "      <td>1.6</td>\n",
       "      <td>4.87</td>\n",
       "    </tr>\n",
       "  </tbody>\n",
       "</table>\n",
       "</div>"
      ],
      "text/plain": [
       "  Entity  Population 2019  Area (Km²)  Density (P/Km²)  \\\n",
       "0  China       1433783686     9388211              153   \n",
       "1    E.U        444986729     3997838              111   \n",
       "2  U.S.A        329064917     9147420               36   \n",
       "3  Japan        126860301      364555              348   \n",
       "\n",
       "   World population share  GDP (trillion $ 2019)  \n",
       "0                    18.6                  12.24  \n",
       "1                     5.8                  17.28  \n",
       "2                     4.3                  19.39  \n",
       "3                     1.6                   4.87  "
      ]
     },
     "execution_count": 60,
     "metadata": {},
     "output_type": "execute_result"
    }
   ],
   "source": [
    "sortedByGDP.sort_index()"
   ]
  },
  {
   "cell_type": "markdown",
   "id": "524e4051",
   "metadata": {},
   "source": [
    "<h3>append"
   ]
  },
  {
   "cell_type": "code",
   "execution_count": 61,
   "id": "9df403f7",
   "metadata": {
    "scrolled": true
   },
   "outputs": [
    {
     "data": {
      "text/html": [
       "<div>\n",
       "<style scoped>\n",
       "    .dataframe tbody tr th:only-of-type {\n",
       "        vertical-align: middle;\n",
       "    }\n",
       "\n",
       "    .dataframe tbody tr th {\n",
       "        vertical-align: top;\n",
       "    }\n",
       "\n",
       "    .dataframe thead th {\n",
       "        text-align: right;\n",
       "    }\n",
       "</style>\n",
       "<table border=\"1\" class=\"dataframe\">\n",
       "  <thead>\n",
       "    <tr style=\"text-align: right;\">\n",
       "      <th></th>\n",
       "      <th>Entity</th>\n",
       "      <th>Population 2019</th>\n",
       "      <th>Area (Km²)</th>\n",
       "      <th>Density (P/Km²)</th>\n",
       "      <th>World population share</th>\n",
       "      <th>GDP (trillion $ 2019)</th>\n",
       "    </tr>\n",
       "  </thead>\n",
       "  <tbody>\n",
       "    <tr>\n",
       "      <th>4</th>\n",
       "      <td>Iceland</td>\n",
       "      <td>360563</td>\n",
       "      <td>103000</td>\n",
       "      <td>3</td>\n",
       "      <td>0</td>\n",
       "      <td>0.02484</td>\n",
       "    </tr>\n",
       "  </tbody>\n",
       "</table>\n",
       "</div>"
      ],
      "text/plain": [
       "    Entity  Population 2019  Area (Km²)  Density (P/Km²)  \\\n",
       "4  Iceland           360563      103000                3   \n",
       "\n",
       "   World population share  GDP (trillion $ 2019)  \n",
       "4                       0                0.02484  "
      ]
     },
     "metadata": {},
     "output_type": "display_data"
    },
    {
     "data": {
      "text/html": [
       "<div>\n",
       "<style scoped>\n",
       "    .dataframe tbody tr th:only-of-type {\n",
       "        vertical-align: middle;\n",
       "    }\n",
       "\n",
       "    .dataframe tbody tr th {\n",
       "        vertical-align: top;\n",
       "    }\n",
       "\n",
       "    .dataframe thead th {\n",
       "        text-align: right;\n",
       "    }\n",
       "</style>\n",
       "<table border=\"1\" class=\"dataframe\">\n",
       "  <thead>\n",
       "    <tr style=\"text-align: right;\">\n",
       "      <th></th>\n",
       "      <th>Entity</th>\n",
       "      <th>Population 2019</th>\n",
       "      <th>Area (Km²)</th>\n",
       "      <th>Density (P/Km²)</th>\n",
       "      <th>World population share</th>\n",
       "      <th>GDP (trillion $ 2019)</th>\n",
       "    </tr>\n",
       "  </thead>\n",
       "  <tbody>\n",
       "    <tr>\n",
       "      <th>0</th>\n",
       "      <td>China</td>\n",
       "      <td>1433783686</td>\n",
       "      <td>9388211</td>\n",
       "      <td>153</td>\n",
       "      <td>18.6</td>\n",
       "      <td>12.24000</td>\n",
       "    </tr>\n",
       "    <tr>\n",
       "      <th>1</th>\n",
       "      <td>E.U</td>\n",
       "      <td>444986729</td>\n",
       "      <td>3997838</td>\n",
       "      <td>111</td>\n",
       "      <td>5.8</td>\n",
       "      <td>17.28000</td>\n",
       "    </tr>\n",
       "    <tr>\n",
       "      <th>2</th>\n",
       "      <td>U.S.A</td>\n",
       "      <td>329064917</td>\n",
       "      <td>9147420</td>\n",
       "      <td>36</td>\n",
       "      <td>4.3</td>\n",
       "      <td>19.39000</td>\n",
       "    </tr>\n",
       "    <tr>\n",
       "      <th>3</th>\n",
       "      <td>Japan</td>\n",
       "      <td>126860301</td>\n",
       "      <td>364555</td>\n",
       "      <td>348</td>\n",
       "      <td>1.6</td>\n",
       "      <td>4.87000</td>\n",
       "    </tr>\n",
       "    <tr>\n",
       "      <th>4</th>\n",
       "      <td>Iceland</td>\n",
       "      <td>360563</td>\n",
       "      <td>103000</td>\n",
       "      <td>3</td>\n",
       "      <td>0.0</td>\n",
       "      <td>0.02484</td>\n",
       "    </tr>\n",
       "  </tbody>\n",
       "</table>\n",
       "</div>"
      ],
      "text/plain": [
       "    Entity  Population 2019  Area (Km²)  Density (P/Km²)  \\\n",
       "0    China       1433783686     9388211              153   \n",
       "1      E.U        444986729     3997838              111   \n",
       "2    U.S.A        329064917     9147420               36   \n",
       "3    Japan        126860301      364555              348   \n",
       "4  Iceland           360563      103000                3   \n",
       "\n",
       "   World population share  GDP (trillion $ 2019)  \n",
       "0                    18.6               12.24000  \n",
       "1                     5.8               17.28000  \n",
       "2                     4.3               19.39000  \n",
       "3                     1.6                4.87000  \n",
       "4                     0.0                0.02484  "
      ]
     },
     "metadata": {},
     "output_type": "display_data"
    }
   ],
   "source": [
    "d={\n",
    "    \"Entity\":{4:\"Iceland\"},\n",
    "    \"Population 2019\":{4:360_563},\n",
    "    \"Area (Km²)\":{4:103000},\n",
    "    \"Density (P/Km²)\":{4:3},\n",
    "    \"World population share\":{4:0},\n",
    "    \"GDP (trillion $ 2019)\":{4:0.02484}\n",
    "}\n",
    "other = pd.DataFrame(data=d)\n",
    "display(other)\n",
    "newdf = df.append(other,True)\n",
    "display(newdf)"
   ]
  },
  {
   "cell_type": "markdown",
   "id": "003ad890",
   "metadata": {},
   "source": [
    "<h3>insert"
   ]
  },
  {
   "cell_type": "code",
   "execution_count": 62,
   "id": "e5103904",
   "metadata": {
    "scrolled": true
   },
   "outputs": [
    {
     "data": {
      "text/html": [
       "<div>\n",
       "<style scoped>\n",
       "    .dataframe tbody tr th:only-of-type {\n",
       "        vertical-align: middle;\n",
       "    }\n",
       "\n",
       "    .dataframe tbody tr th {\n",
       "        vertical-align: top;\n",
       "    }\n",
       "\n",
       "    .dataframe thead th {\n",
       "        text-align: right;\n",
       "    }\n",
       "</style>\n",
       "<table border=\"1\" class=\"dataframe\">\n",
       "  <thead>\n",
       "    <tr style=\"text-align: right;\">\n",
       "      <th></th>\n",
       "      <th>Entity</th>\n",
       "      <th>GPI 2021</th>\n",
       "      <th>Population 2019</th>\n",
       "      <th>Area (Km²)</th>\n",
       "      <th>Density (P/Km²)</th>\n",
       "      <th>World population share</th>\n",
       "      <th>GDP (trillion $ 2019)</th>\n",
       "    </tr>\n",
       "  </thead>\n",
       "  <tbody>\n",
       "    <tr>\n",
       "      <th>0</th>\n",
       "      <td>China</td>\n",
       "      <td>2.04</td>\n",
       "      <td>1433783686</td>\n",
       "      <td>9388211</td>\n",
       "      <td>153</td>\n",
       "      <td>18.6</td>\n",
       "      <td>12.24000</td>\n",
       "    </tr>\n",
       "    <tr>\n",
       "      <th>1</th>\n",
       "      <td>E.U</td>\n",
       "      <td>1.55</td>\n",
       "      <td>444986729</td>\n",
       "      <td>3997838</td>\n",
       "      <td>111</td>\n",
       "      <td>5.8</td>\n",
       "      <td>17.28000</td>\n",
       "    </tr>\n",
       "    <tr>\n",
       "      <th>2</th>\n",
       "      <td>U.S.A</td>\n",
       "      <td>2.28</td>\n",
       "      <td>329064917</td>\n",
       "      <td>9147420</td>\n",
       "      <td>36</td>\n",
       "      <td>4.3</td>\n",
       "      <td>19.39000</td>\n",
       "    </tr>\n",
       "    <tr>\n",
       "      <th>3</th>\n",
       "      <td>Japan</td>\n",
       "      <td>1.37</td>\n",
       "      <td>126860301</td>\n",
       "      <td>364555</td>\n",
       "      <td>348</td>\n",
       "      <td>1.6</td>\n",
       "      <td>4.87000</td>\n",
       "    </tr>\n",
       "    <tr>\n",
       "      <th>4</th>\n",
       "      <td>Iceland</td>\n",
       "      <td>1.10</td>\n",
       "      <td>360563</td>\n",
       "      <td>103000</td>\n",
       "      <td>3</td>\n",
       "      <td>0.0</td>\n",
       "      <td>0.02484</td>\n",
       "    </tr>\n",
       "  </tbody>\n",
       "</table>\n",
       "</div>"
      ],
      "text/plain": [
       "    Entity  GPI 2021  Population 2019  Area (Km²)  Density (P/Km²)  \\\n",
       "0    China      2.04       1433783686     9388211              153   \n",
       "1      E.U      1.55        444986729     3997838              111   \n",
       "2    U.S.A      2.28        329064917     9147420               36   \n",
       "3    Japan      1.37        126860301      364555              348   \n",
       "4  Iceland      1.10           360563      103000                3   \n",
       "\n",
       "   World population share  GDP (trillion $ 2019)  \n",
       "0                    18.6               12.24000  \n",
       "1                     5.8               17.28000  \n",
       "2                     4.3               19.39000  \n",
       "3                     1.6                4.87000  \n",
       "4                     0.0                0.02484  "
      ]
     },
     "metadata": {},
     "output_type": "display_data"
    }
   ],
   "source": [
    "newdf.insert(loc=1,column=\"GPI 2021\",value=[2.04,1.55,2.28,1.37,1.1],allow_duplicates=True)\n",
    "display(newdf)"
   ]
  },
  {
   "cell_type": "markdown",
   "id": "0b2bdb9b",
   "metadata": {},
   "source": [
    "<h3>pop"
   ]
  },
  {
   "cell_type": "code",
   "execution_count": 63,
   "id": "df007a31",
   "metadata": {
    "scrolled": false
   },
   "outputs": [
    {
     "data": {
      "text/html": [
       "<div>\n",
       "<style scoped>\n",
       "    .dataframe tbody tr th:only-of-type {\n",
       "        vertical-align: middle;\n",
       "    }\n",
       "\n",
       "    .dataframe tbody tr th {\n",
       "        vertical-align: top;\n",
       "    }\n",
       "\n",
       "    .dataframe thead th {\n",
       "        text-align: right;\n",
       "    }\n",
       "</style>\n",
       "<table border=\"1\" class=\"dataframe\">\n",
       "  <thead>\n",
       "    <tr style=\"text-align: right;\">\n",
       "      <th></th>\n",
       "      <th>Entity</th>\n",
       "      <th>GPI 2021</th>\n",
       "      <th>Population 2019</th>\n",
       "      <th>Area (Km²)</th>\n",
       "      <th>Density (P/Km²)</th>\n",
       "      <th>World population share</th>\n",
       "    </tr>\n",
       "  </thead>\n",
       "  <tbody>\n",
       "    <tr>\n",
       "      <th>0</th>\n",
       "      <td>China</td>\n",
       "      <td>2.04</td>\n",
       "      <td>1433783686</td>\n",
       "      <td>9388211</td>\n",
       "      <td>153</td>\n",
       "      <td>18.6</td>\n",
       "    </tr>\n",
       "    <tr>\n",
       "      <th>1</th>\n",
       "      <td>E.U</td>\n",
       "      <td>1.55</td>\n",
       "      <td>444986729</td>\n",
       "      <td>3997838</td>\n",
       "      <td>111</td>\n",
       "      <td>5.8</td>\n",
       "    </tr>\n",
       "    <tr>\n",
       "      <th>2</th>\n",
       "      <td>U.S.A</td>\n",
       "      <td>2.28</td>\n",
       "      <td>329064917</td>\n",
       "      <td>9147420</td>\n",
       "      <td>36</td>\n",
       "      <td>4.3</td>\n",
       "    </tr>\n",
       "    <tr>\n",
       "      <th>3</th>\n",
       "      <td>Japan</td>\n",
       "      <td>1.37</td>\n",
       "      <td>126860301</td>\n",
       "      <td>364555</td>\n",
       "      <td>348</td>\n",
       "      <td>1.6</td>\n",
       "    </tr>\n",
       "    <tr>\n",
       "      <th>4</th>\n",
       "      <td>Iceland</td>\n",
       "      <td>1.10</td>\n",
       "      <td>360563</td>\n",
       "      <td>103000</td>\n",
       "      <td>3</td>\n",
       "      <td>0.0</td>\n",
       "    </tr>\n",
       "  </tbody>\n",
       "</table>\n",
       "</div>"
      ],
      "text/plain": [
       "    Entity  GPI 2021  Population 2019  Area (Km²)  Density (P/Km²)  \\\n",
       "0    China      2.04       1433783686     9388211              153   \n",
       "1      E.U      1.55        444986729     3997838              111   \n",
       "2    U.S.A      2.28        329064917     9147420               36   \n",
       "3    Japan      1.37        126860301      364555              348   \n",
       "4  Iceland      1.10           360563      103000                3   \n",
       "\n",
       "   World population share  \n",
       "0                    18.6  \n",
       "1                     5.8  \n",
       "2                     4.3  \n",
       "3                     1.6  \n",
       "4                     0.0  "
      ]
     },
     "metadata": {},
     "output_type": "display_data"
    }
   ],
   "source": [
    "newdf.pop('GDP (trillion $ 2019)')\n",
    "display(newdf)"
   ]
  },
  {
   "cell_type": "markdown",
   "id": "39eaab73",
   "metadata": {},
   "source": [
    "<h3>set_index"
   ]
  },
  {
   "cell_type": "code",
   "execution_count": 64,
   "id": "e411236f",
   "metadata": {
    "scrolled": true
   },
   "outputs": [
    {
     "data": {
      "text/html": [
       "<div>\n",
       "<style scoped>\n",
       "    .dataframe tbody tr th:only-of-type {\n",
       "        vertical-align: middle;\n",
       "    }\n",
       "\n",
       "    .dataframe tbody tr th {\n",
       "        vertical-align: top;\n",
       "    }\n",
       "\n",
       "    .dataframe thead th {\n",
       "        text-align: right;\n",
       "    }\n",
       "</style>\n",
       "<table border=\"1\" class=\"dataframe\">\n",
       "  <thead>\n",
       "    <tr style=\"text-align: right;\">\n",
       "      <th></th>\n",
       "      <th></th>\n",
       "      <th>Population 2019</th>\n",
       "      <th>Area (Km²)</th>\n",
       "      <th>Density (P/Km²)</th>\n",
       "      <th>World population share</th>\n",
       "    </tr>\n",
       "    <tr>\n",
       "      <th>Entity</th>\n",
       "      <th>GPI 2021</th>\n",
       "      <th></th>\n",
       "      <th></th>\n",
       "      <th></th>\n",
       "      <th></th>\n",
       "    </tr>\n",
       "  </thead>\n",
       "  <tbody>\n",
       "    <tr>\n",
       "      <th>China</th>\n",
       "      <th>2.04</th>\n",
       "      <td>1433783686</td>\n",
       "      <td>9388211</td>\n",
       "      <td>153</td>\n",
       "      <td>18.6</td>\n",
       "    </tr>\n",
       "    <tr>\n",
       "      <th>E.U</th>\n",
       "      <th>1.55</th>\n",
       "      <td>444986729</td>\n",
       "      <td>3997838</td>\n",
       "      <td>111</td>\n",
       "      <td>5.8</td>\n",
       "    </tr>\n",
       "    <tr>\n",
       "      <th>U.S.A</th>\n",
       "      <th>2.28</th>\n",
       "      <td>329064917</td>\n",
       "      <td>9147420</td>\n",
       "      <td>36</td>\n",
       "      <td>4.3</td>\n",
       "    </tr>\n",
       "    <tr>\n",
       "      <th>Japan</th>\n",
       "      <th>1.37</th>\n",
       "      <td>126860301</td>\n",
       "      <td>364555</td>\n",
       "      <td>348</td>\n",
       "      <td>1.6</td>\n",
       "    </tr>\n",
       "    <tr>\n",
       "      <th>Iceland</th>\n",
       "      <th>1.10</th>\n",
       "      <td>360563</td>\n",
       "      <td>103000</td>\n",
       "      <td>3</td>\n",
       "      <td>0.0</td>\n",
       "    </tr>\n",
       "  </tbody>\n",
       "</table>\n",
       "</div>"
      ],
      "text/plain": [
       "                  Population 2019  Area (Km²)  Density (P/Km²)  \\\n",
       "Entity  GPI 2021                                                 \n",
       "China   2.04           1433783686     9388211              153   \n",
       "E.U     1.55            444986729     3997838              111   \n",
       "U.S.A   2.28            329064917     9147420               36   \n",
       "Japan   1.37            126860301      364555              348   \n",
       "Iceland 1.10               360563      103000                3   \n",
       "\n",
       "                  World population share  \n",
       "Entity  GPI 2021                          \n",
       "China   2.04                        18.6  \n",
       "E.U     1.55                         5.8  \n",
       "U.S.A   2.28                         4.3  \n",
       "Japan   1.37                         1.6  \n",
       "Iceland 1.10                         0.0  "
      ]
     },
     "metadata": {},
     "output_type": "display_data"
    }
   ],
   "source": [
    "multi_index = newdf.set_index(keys=[\"Entity\",\"GPI 2021\"])\n",
    "display(multi_index)"
   ]
  },
  {
   "cell_type": "markdown",
   "id": "ab2b2909",
   "metadata": {},
   "source": [
    "<h3>xs"
   ]
  },
  {
   "cell_type": "code",
   "execution_count": 65,
   "id": "1e6eb029",
   "metadata": {
    "scrolled": true
   },
   "outputs": [
    {
     "data": {
      "text/html": [
       "<div>\n",
       "<style scoped>\n",
       "    .dataframe tbody tr th:only-of-type {\n",
       "        vertical-align: middle;\n",
       "    }\n",
       "\n",
       "    .dataframe tbody tr th {\n",
       "        vertical-align: top;\n",
       "    }\n",
       "\n",
       "    .dataframe thead th {\n",
       "        text-align: right;\n",
       "    }\n",
       "</style>\n",
       "<table border=\"1\" class=\"dataframe\">\n",
       "  <thead>\n",
       "    <tr style=\"text-align: right;\">\n",
       "      <th></th>\n",
       "      <th>Population 2019</th>\n",
       "      <th>Area (Km²)</th>\n",
       "      <th>Density (P/Km²)</th>\n",
       "      <th>World population share</th>\n",
       "    </tr>\n",
       "    <tr>\n",
       "      <th>GPI 2021</th>\n",
       "      <th></th>\n",
       "      <th></th>\n",
       "      <th></th>\n",
       "      <th></th>\n",
       "    </tr>\n",
       "  </thead>\n",
       "  <tbody>\n",
       "    <tr>\n",
       "      <th>1.55</th>\n",
       "      <td>444986729</td>\n",
       "      <td>3997838</td>\n",
       "      <td>111</td>\n",
       "      <td>5.8</td>\n",
       "    </tr>\n",
       "  </tbody>\n",
       "</table>\n",
       "</div>"
      ],
      "text/plain": [
       "          Population 2019  Area (Km²)  Density (P/Km²)  World population share\n",
       "GPI 2021                                                                      \n",
       "1.55            444986729     3997838              111                     5.8"
      ]
     },
     "metadata": {},
     "output_type": "display_data"
    }
   ],
   "source": [
    "cross_section = multi_index.xs(key=\"E.U\",level=0)\n",
    "display(cross_section)"
   ]
  },
  {
   "cell_type": "markdown",
   "id": "5f377f22",
   "metadata": {},
   "source": [
    "<h3>add_prefix"
   ]
  },
  {
   "cell_type": "code",
   "execution_count": 66,
   "id": "b0e409ac",
   "metadata": {
    "scrolled": true
   },
   "outputs": [
    {
     "data": {
      "text/html": [
       "<div>\n",
       "<style scoped>\n",
       "    .dataframe tbody tr th:only-of-type {\n",
       "        vertical-align: middle;\n",
       "    }\n",
       "\n",
       "    .dataframe tbody tr th {\n",
       "        vertical-align: top;\n",
       "    }\n",
       "\n",
       "    .dataframe thead th {\n",
       "        text-align: right;\n",
       "    }\n",
       "</style>\n",
       "<table border=\"1\" class=\"dataframe\">\n",
       "  <thead>\n",
       "    <tr style=\"text-align: right;\">\n",
       "      <th></th>\n",
       "      <th>Country's Entity</th>\n",
       "      <th>Country's GPI 2021</th>\n",
       "      <th>Country's Population 2019</th>\n",
       "      <th>Country's Area (Km²)</th>\n",
       "      <th>Country's Density (P/Km²)</th>\n",
       "      <th>Country's World population share</th>\n",
       "    </tr>\n",
       "  </thead>\n",
       "  <tbody>\n",
       "    <tr>\n",
       "      <th>0</th>\n",
       "      <td>China</td>\n",
       "      <td>2.04</td>\n",
       "      <td>1433783686</td>\n",
       "      <td>9388211</td>\n",
       "      <td>153</td>\n",
       "      <td>18.6</td>\n",
       "    </tr>\n",
       "    <tr>\n",
       "      <th>1</th>\n",
       "      <td>E.U</td>\n",
       "      <td>1.55</td>\n",
       "      <td>444986729</td>\n",
       "      <td>3997838</td>\n",
       "      <td>111</td>\n",
       "      <td>5.8</td>\n",
       "    </tr>\n",
       "    <tr>\n",
       "      <th>2</th>\n",
       "      <td>U.S.A</td>\n",
       "      <td>2.28</td>\n",
       "      <td>329064917</td>\n",
       "      <td>9147420</td>\n",
       "      <td>36</td>\n",
       "      <td>4.3</td>\n",
       "    </tr>\n",
       "    <tr>\n",
       "      <th>3</th>\n",
       "      <td>Japan</td>\n",
       "      <td>1.37</td>\n",
       "      <td>126860301</td>\n",
       "      <td>364555</td>\n",
       "      <td>348</td>\n",
       "      <td>1.6</td>\n",
       "    </tr>\n",
       "    <tr>\n",
       "      <th>4</th>\n",
       "      <td>Iceland</td>\n",
       "      <td>1.10</td>\n",
       "      <td>360563</td>\n",
       "      <td>103000</td>\n",
       "      <td>3</td>\n",
       "      <td>0.0</td>\n",
       "    </tr>\n",
       "  </tbody>\n",
       "</table>\n",
       "</div>"
      ],
      "text/plain": [
       "  Country's Entity  Country's GPI 2021  Country's Population 2019  \\\n",
       "0            China                2.04                 1433783686   \n",
       "1              E.U                1.55                  444986729   \n",
       "2            U.S.A                2.28                  329064917   \n",
       "3            Japan                1.37                  126860301   \n",
       "4          Iceland                1.10                     360563   \n",
       "\n",
       "   Country's Area (Km²)  Country's Density (P/Km²)  \\\n",
       "0               9388211                        153   \n",
       "1               3997838                        111   \n",
       "2               9147420                         36   \n",
       "3                364555                        348   \n",
       "4                103000                          3   \n",
       "\n",
       "   Country's World population share  \n",
       "0                              18.6  \n",
       "1                               5.8  \n",
       "2                               4.3  \n",
       "3                               1.6  \n",
       "4                               0.0  "
      ]
     },
     "metadata": {},
     "output_type": "display_data"
    }
   ],
   "source": [
    "prefixed_df = newdf.add_prefix(\"Country's \")\n",
    "display(prefixed_df)"
   ]
  },
  {
   "cell_type": "markdown",
   "id": "569f9510",
   "metadata": {},
   "source": [
    "<h3>add_suffix"
   ]
  },
  {
   "cell_type": "code",
   "execution_count": 67,
   "id": "58c38014",
   "metadata": {
    "scrolled": true
   },
   "outputs": [
    {
     "data": {
      "text/html": [
       "<div>\n",
       "<style scoped>\n",
       "    .dataframe tbody tr th:only-of-type {\n",
       "        vertical-align: middle;\n",
       "    }\n",
       "\n",
       "    .dataframe tbody tr th {\n",
       "        vertical-align: top;\n",
       "    }\n",
       "\n",
       "    .dataframe thead th {\n",
       "        text-align: right;\n",
       "    }\n",
       "</style>\n",
       "<table border=\"1\" class=\"dataframe\">\n",
       "  <thead>\n",
       "    <tr style=\"text-align: right;\">\n",
       "      <th></th>\n",
       "      <th>Entity of the Country</th>\n",
       "      <th>GPI 2021 of the Country</th>\n",
       "      <th>Population 2019 of the Country</th>\n",
       "      <th>Area (Km²) of the Country</th>\n",
       "      <th>Density (P/Km²) of the Country</th>\n",
       "      <th>World population share of the Country</th>\n",
       "    </tr>\n",
       "  </thead>\n",
       "  <tbody>\n",
       "    <tr>\n",
       "      <th>0</th>\n",
       "      <td>China</td>\n",
       "      <td>2.04</td>\n",
       "      <td>1433783686</td>\n",
       "      <td>9388211</td>\n",
       "      <td>153</td>\n",
       "      <td>18.6</td>\n",
       "    </tr>\n",
       "    <tr>\n",
       "      <th>1</th>\n",
       "      <td>E.U</td>\n",
       "      <td>1.55</td>\n",
       "      <td>444986729</td>\n",
       "      <td>3997838</td>\n",
       "      <td>111</td>\n",
       "      <td>5.8</td>\n",
       "    </tr>\n",
       "    <tr>\n",
       "      <th>2</th>\n",
       "      <td>U.S.A</td>\n",
       "      <td>2.28</td>\n",
       "      <td>329064917</td>\n",
       "      <td>9147420</td>\n",
       "      <td>36</td>\n",
       "      <td>4.3</td>\n",
       "    </tr>\n",
       "    <tr>\n",
       "      <th>3</th>\n",
       "      <td>Japan</td>\n",
       "      <td>1.37</td>\n",
       "      <td>126860301</td>\n",
       "      <td>364555</td>\n",
       "      <td>348</td>\n",
       "      <td>1.6</td>\n",
       "    </tr>\n",
       "    <tr>\n",
       "      <th>4</th>\n",
       "      <td>Iceland</td>\n",
       "      <td>1.10</td>\n",
       "      <td>360563</td>\n",
       "      <td>103000</td>\n",
       "      <td>3</td>\n",
       "      <td>0.0</td>\n",
       "    </tr>\n",
       "  </tbody>\n",
       "</table>\n",
       "</div>"
      ],
      "text/plain": [
       "  Entity of the Country  GPI 2021 of the Country  \\\n",
       "0                 China                     2.04   \n",
       "1                   E.U                     1.55   \n",
       "2                 U.S.A                     2.28   \n",
       "3                 Japan                     1.37   \n",
       "4               Iceland                     1.10   \n",
       "\n",
       "   Population 2019 of the Country  Area (Km²) of the Country  \\\n",
       "0                      1433783686                    9388211   \n",
       "1                       444986729                    3997838   \n",
       "2                       329064917                    9147420   \n",
       "3                       126860301                     364555   \n",
       "4                          360563                     103000   \n",
       "\n",
       "   Density (P/Km²) of the Country  World population share of the Country  \n",
       "0                             153                                   18.6  \n",
       "1                             111                                    5.8  \n",
       "2                              36                                    4.3  \n",
       "3                             348                                    1.6  \n",
       "4                               3                                    0.0  "
      ]
     },
     "metadata": {},
     "output_type": "display_data"
    }
   ],
   "source": [
    "suffixed_df = newdf.add_suffix(\" of the Country\")\n",
    "display(suffixed_df)"
   ]
  },
  {
   "cell_type": "markdown",
   "id": "0674b212",
   "metadata": {},
   "source": [
    "<h3>combine"
   ]
  },
  {
   "cell_type": "code",
   "execution_count": 68,
   "id": "a3668158",
   "metadata": {},
   "outputs": [
    {
     "data": {
      "text/html": [
       "<div>\n",
       "<style scoped>\n",
       "    .dataframe tbody tr th:only-of-type {\n",
       "        vertical-align: middle;\n",
       "    }\n",
       "\n",
       "    .dataframe tbody tr th {\n",
       "        vertical-align: top;\n",
       "    }\n",
       "\n",
       "    .dataframe thead th {\n",
       "        text-align: right;\n",
       "    }\n",
       "</style>\n",
       "<table border=\"1\" class=\"dataframe\">\n",
       "  <thead>\n",
       "    <tr style=\"text-align: right;\">\n",
       "      <th></th>\n",
       "      <th>Population 2019</th>\n",
       "      <th>Area (Km²)</th>\n",
       "      <th>Density (P/Km²)</th>\n",
       "      <th>World population share</th>\n",
       "      <th>GDP (trillion $ 2019)</th>\n",
       "    </tr>\n",
       "  </thead>\n",
       "  <tbody>\n",
       "    <tr>\n",
       "      <th>China</th>\n",
       "      <td>1433783686</td>\n",
       "      <td>9388211</td>\n",
       "      <td>153</td>\n",
       "      <td>18.6</td>\n",
       "      <td>12.24</td>\n",
       "    </tr>\n",
       "    <tr>\n",
       "      <th>E.U</th>\n",
       "      <td>444986729</td>\n",
       "      <td>3997838</td>\n",
       "      <td>111</td>\n",
       "      <td>5.8</td>\n",
       "      <td>17.28</td>\n",
       "    </tr>\n",
       "    <tr>\n",
       "      <th>U.S.A</th>\n",
       "      <td>329064917</td>\n",
       "      <td>9147420</td>\n",
       "      <td>36</td>\n",
       "      <td>4.3</td>\n",
       "      <td>19.39</td>\n",
       "    </tr>\n",
       "    <tr>\n",
       "      <th>Japan</th>\n",
       "      <td>126860301</td>\n",
       "      <td>364555</td>\n",
       "      <td>348</td>\n",
       "      <td>1.6</td>\n",
       "      <td>4.87</td>\n",
       "    </tr>\n",
       "  </tbody>\n",
       "</table>\n",
       "</div>"
      ],
      "text/plain": [
       "       Population 2019  Area (Km²)  Density (P/Km²)  World population share  \\\n",
       "China       1433783686     9388211              153                    18.6   \n",
       "E.U          444986729     3997838              111                     5.8   \n",
       "U.S.A        329064917     9147420               36                     4.3   \n",
       "Japan        126860301      364555              348                     1.6   \n",
       "\n",
       "       GDP (trillion $ 2019)  \n",
       "China                  12.24  \n",
       "E.U                    17.28  \n",
       "U.S.A                  19.39  \n",
       "Japan                   4.87  "
      ]
     },
     "metadata": {},
     "output_type": "display_data"
    },
    {
     "data": {
      "text/html": [
       "<div>\n",
       "<style scoped>\n",
       "    .dataframe tbody tr th:only-of-type {\n",
       "        vertical-align: middle;\n",
       "    }\n",
       "\n",
       "    .dataframe tbody tr th {\n",
       "        vertical-align: top;\n",
       "    }\n",
       "\n",
       "    .dataframe thead th {\n",
       "        text-align: right;\n",
       "    }\n",
       "</style>\n",
       "<table border=\"1\" class=\"dataframe\">\n",
       "  <thead>\n",
       "    <tr style=\"text-align: right;\">\n",
       "      <th></th>\n",
       "      <th>Population 2019</th>\n",
       "      <th>Area (Km²)</th>\n",
       "      <th>Density (P/Km²)</th>\n",
       "      <th>World population share</th>\n",
       "      <th>GDP (trillion $ 2019)</th>\n",
       "    </tr>\n",
       "  </thead>\n",
       "  <tbody>\n",
       "    <tr>\n",
       "      <th>China</th>\n",
       "      <td>-1433783686</td>\n",
       "      <td>9388211</td>\n",
       "      <td>-153</td>\n",
       "      <td>-18.6</td>\n",
       "      <td>-12.24</td>\n",
       "    </tr>\n",
       "    <tr>\n",
       "      <th>E.U</th>\n",
       "      <td>-444986729</td>\n",
       "      <td>-3997838</td>\n",
       "      <td>111</td>\n",
       "      <td>5.8</td>\n",
       "      <td>17.28</td>\n",
       "    </tr>\n",
       "    <tr>\n",
       "      <th>U.S.A</th>\n",
       "      <td>-329064917</td>\n",
       "      <td>9147420</td>\n",
       "      <td>-36</td>\n",
       "      <td>-4.3</td>\n",
       "      <td>-19.39</td>\n",
       "    </tr>\n",
       "    <tr>\n",
       "      <th>Japan</th>\n",
       "      <td>-126860301</td>\n",
       "      <td>-364555</td>\n",
       "      <td>348</td>\n",
       "      <td>-1.6</td>\n",
       "      <td>-4.87</td>\n",
       "    </tr>\n",
       "  </tbody>\n",
       "</table>\n",
       "</div>"
      ],
      "text/plain": [
       "       Population 2019  Area (Km²)  Density (P/Km²)  World population share  \\\n",
       "China      -1433783686     9388211             -153                   -18.6   \n",
       "E.U         -444986729    -3997838              111                     5.8   \n",
       "U.S.A       -329064917     9147420              -36                    -4.3   \n",
       "Japan       -126860301     -364555              348                    -1.6   \n",
       "\n",
       "       GDP (trillion $ 2019)  \n",
       "China                 -12.24  \n",
       "E.U                    17.28  \n",
       "U.S.A                 -19.39  \n",
       "Japan                  -4.87  "
      ]
     },
     "metadata": {},
     "output_type": "display_data"
    },
    {
     "data": {
      "text/html": [
       "<div>\n",
       "<style scoped>\n",
       "    .dataframe tbody tr th:only-of-type {\n",
       "        vertical-align: middle;\n",
       "    }\n",
       "\n",
       "    .dataframe tbody tr th {\n",
       "        vertical-align: top;\n",
       "    }\n",
       "\n",
       "    .dataframe thead th {\n",
       "        text-align: right;\n",
       "    }\n",
       "</style>\n",
       "<table border=\"1\" class=\"dataframe\">\n",
       "  <thead>\n",
       "    <tr style=\"text-align: right;\">\n",
       "      <th></th>\n",
       "      <th>Population 2019</th>\n",
       "      <th>Area (Km²)</th>\n",
       "      <th>Density (P/Km²)</th>\n",
       "      <th>World population share</th>\n",
       "      <th>GDP (trillion $ 2019)</th>\n",
       "    </tr>\n",
       "  </thead>\n",
       "  <tbody>\n",
       "    <tr>\n",
       "      <th>China</th>\n",
       "      <td>1433783686</td>\n",
       "      <td>9388211</td>\n",
       "      <td>153</td>\n",
       "      <td>18.6</td>\n",
       "      <td>12.24</td>\n",
       "    </tr>\n",
       "    <tr>\n",
       "      <th>E.U</th>\n",
       "      <td>444986729</td>\n",
       "      <td>3997838</td>\n",
       "      <td>111</td>\n",
       "      <td>5.8</td>\n",
       "      <td>17.28</td>\n",
       "    </tr>\n",
       "    <tr>\n",
       "      <th>U.S.A</th>\n",
       "      <td>329064917</td>\n",
       "      <td>9147420</td>\n",
       "      <td>36</td>\n",
       "      <td>4.3</td>\n",
       "      <td>19.39</td>\n",
       "    </tr>\n",
       "    <tr>\n",
       "      <th>Japan</th>\n",
       "      <td>126860301</td>\n",
       "      <td>364555</td>\n",
       "      <td>348</td>\n",
       "      <td>1.6</td>\n",
       "      <td>4.87</td>\n",
       "    </tr>\n",
       "  </tbody>\n",
       "</table>\n",
       "</div>"
      ],
      "text/plain": [
       "       Population 2019  Area (Km²)  Density (P/Km²)  World population share  \\\n",
       "China       1433783686     9388211              153                    18.6   \n",
       "E.U          444986729     3997838              111                     5.8   \n",
       "U.S.A        329064917     9147420               36                     4.3   \n",
       "Japan        126860301      364555              348                     1.6   \n",
       "\n",
       "       GDP (trillion $ 2019)  \n",
       "China                  12.24  \n",
       "E.U                    17.28  \n",
       "U.S.A                  19.39  \n",
       "Japan                   4.87  "
      ]
     },
     "metadata": {},
     "output_type": "display_data"
    }
   ],
   "source": [
    "df = pd.DataFrame(\n",
    "    {\n",
    "        'Population 2019': [1433783686, 444986729, 329064917, 126860301],\n",
    "        'Area (Km²)': [9388211, 3997838, 9147420, 364555],\n",
    "        'Density (P/Km²)': [ 153, 111, 36, 348],\n",
    "        'World population share': [ 18.6, 5.8, 4.3, 1.6],\n",
    "        'GDP (trillion $ 2019)':  [12.24, 17.28, 19.39, 4.87]\n",
    "    },\n",
    "    index=['China','E.U','U.S.A','Japan']\n",
    ")\n",
    "fakedf = pd.DataFrame(\n",
    "    {\n",
    "        'Population 2019': [-1433783686, -444986729, -329064917, -126860301],\n",
    "        'Area (Km²)': [9388211, -3997838, 9147420, -364555],\n",
    "        'Density (P/Km²)': [ -153, 111, -36, 348],\n",
    "        'World population share': [ -18.6, 5.8, -4.3, -1.6],\n",
    "        'GDP (trillion $ 2019)':  [-12.24, 17.28, -19.39, -4.87]\n",
    "    },\n",
    "    index=['China','E.U','U.S.A','Japan']\n",
    ")\n",
    "\n",
    "display(df,fakedf)\n",
    "\n",
    "def decision_algorithm(s1,s2):\n",
    "    s = s1.copy()\n",
    "    for index in range(len(s2)):\n",
    "        if s2[index]>s[index]:\n",
    "            s[index] = s2[index]\n",
    "    return s\n",
    "\n",
    "realdf = df.combine(fakedf,decision_algorithm)\n",
    "display(realdf)"
   ]
  },
  {
   "cell_type": "markdown",
   "id": "a55c4eb9",
   "metadata": {},
   "source": [
    "<h3>transform"
   ]
  },
  {
   "cell_type": "code",
   "execution_count": 69,
   "id": "0c2c8be6",
   "metadata": {
    "scrolled": true
   },
   "outputs": [
    {
     "data": {
      "text/html": [
       "<div>\n",
       "<style scoped>\n",
       "    .dataframe tbody tr th:only-of-type {\n",
       "        vertical-align: middle;\n",
       "    }\n",
       "\n",
       "    .dataframe tbody tr th {\n",
       "        vertical-align: top;\n",
       "    }\n",
       "\n",
       "    .dataframe thead th {\n",
       "        text-align: right;\n",
       "    }\n",
       "</style>\n",
       "<table border=\"1\" class=\"dataframe\">\n",
       "  <thead>\n",
       "    <tr style=\"text-align: right;\">\n",
       "      <th></th>\n",
       "      <th>Population 2019</th>\n",
       "      <th>Area (Km²)</th>\n",
       "      <th>Density (P/Km²)</th>\n",
       "      <th>World population share</th>\n",
       "      <th>GDP (trillion $ 2019)</th>\n",
       "    </tr>\n",
       "  </thead>\n",
       "  <tbody>\n",
       "    <tr>\n",
       "      <th>China</th>\n",
       "      <td>-1433783686</td>\n",
       "      <td>9388211</td>\n",
       "      <td>-153</td>\n",
       "      <td>-18.6</td>\n",
       "      <td>-12.24</td>\n",
       "    </tr>\n",
       "    <tr>\n",
       "      <th>E.U</th>\n",
       "      <td>-444986729</td>\n",
       "      <td>-3997838</td>\n",
       "      <td>111</td>\n",
       "      <td>5.8</td>\n",
       "      <td>17.28</td>\n",
       "    </tr>\n",
       "    <tr>\n",
       "      <th>U.S.A</th>\n",
       "      <td>-329064917</td>\n",
       "      <td>9147420</td>\n",
       "      <td>-36</td>\n",
       "      <td>-4.3</td>\n",
       "      <td>-19.39</td>\n",
       "    </tr>\n",
       "    <tr>\n",
       "      <th>Japan</th>\n",
       "      <td>-126860301</td>\n",
       "      <td>-364555</td>\n",
       "      <td>348</td>\n",
       "      <td>-1.6</td>\n",
       "      <td>-4.87</td>\n",
       "    </tr>\n",
       "  </tbody>\n",
       "</table>\n",
       "</div>"
      ],
      "text/plain": [
       "       Population 2019  Area (Km²)  Density (P/Km²)  World population share  \\\n",
       "China      -1433783686     9388211             -153                   -18.6   \n",
       "E.U         -444986729    -3997838              111                     5.8   \n",
       "U.S.A       -329064917     9147420              -36                    -4.3   \n",
       "Japan       -126860301     -364555              348                    -1.6   \n",
       "\n",
       "       GDP (trillion $ 2019)  \n",
       "China                 -12.24  \n",
       "E.U                    17.28  \n",
       "U.S.A                 -19.39  \n",
       "Japan                  -4.87  "
      ]
     },
     "metadata": {},
     "output_type": "display_data"
    },
    {
     "data": {
      "text/html": [
       "<div>\n",
       "<style scoped>\n",
       "    .dataframe tbody tr th:only-of-type {\n",
       "        vertical-align: middle;\n",
       "    }\n",
       "\n",
       "    .dataframe tbody tr th {\n",
       "        vertical-align: top;\n",
       "    }\n",
       "\n",
       "    .dataframe thead th {\n",
       "        text-align: right;\n",
       "    }\n",
       "</style>\n",
       "<table border=\"1\" class=\"dataframe\">\n",
       "  <thead>\n",
       "    <tr style=\"text-align: right;\">\n",
       "      <th></th>\n",
       "      <th>Population 2019</th>\n",
       "      <th>Area (Km²)</th>\n",
       "      <th>Density (P/Km²)</th>\n",
       "      <th>World population share</th>\n",
       "      <th>GDP (trillion $ 2019)</th>\n",
       "    </tr>\n",
       "  </thead>\n",
       "  <tbody>\n",
       "    <tr>\n",
       "      <th>China</th>\n",
       "      <td>1433783686</td>\n",
       "      <td>9388211</td>\n",
       "      <td>153</td>\n",
       "      <td>18.6</td>\n",
       "      <td>12.24</td>\n",
       "    </tr>\n",
       "    <tr>\n",
       "      <th>E.U</th>\n",
       "      <td>444986729</td>\n",
       "      <td>3997838</td>\n",
       "      <td>111</td>\n",
       "      <td>5.8</td>\n",
       "      <td>17.28</td>\n",
       "    </tr>\n",
       "    <tr>\n",
       "      <th>U.S.A</th>\n",
       "      <td>329064917</td>\n",
       "      <td>9147420</td>\n",
       "      <td>36</td>\n",
       "      <td>4.3</td>\n",
       "      <td>19.39</td>\n",
       "    </tr>\n",
       "    <tr>\n",
       "      <th>Japan</th>\n",
       "      <td>126860301</td>\n",
       "      <td>364555</td>\n",
       "      <td>348</td>\n",
       "      <td>1.6</td>\n",
       "      <td>4.87</td>\n",
       "    </tr>\n",
       "  </tbody>\n",
       "</table>\n",
       "</div>"
      ],
      "text/plain": [
       "       Population 2019  Area (Km²)  Density (P/Km²)  World population share  \\\n",
       "China       1433783686     9388211              153                    18.6   \n",
       "E.U          444986729     3997838              111                     5.8   \n",
       "U.S.A        329064917     9147420               36                     4.3   \n",
       "Japan        126860301      364555              348                     1.6   \n",
       "\n",
       "       GDP (trillion $ 2019)  \n",
       "China                  12.24  \n",
       "E.U                    17.28  \n",
       "U.S.A                  19.39  \n",
       "Japan                   4.87  "
      ]
     },
     "metadata": {},
     "output_type": "display_data"
    }
   ],
   "source": [
    "fakedf = pd.DataFrame(\n",
    "    {\n",
    "        'Population 2019': [-1433783686, -444986729, -329064917, -126860301],\n",
    "        'Area (Km²)': [9388211, -3997838, 9147420, -364555],\n",
    "        'Density (P/Km²)': [ -153, 111, -36, 348],\n",
    "        'World population share': [ -18.6, 5.8, -4.3, -1.6],\n",
    "        'GDP (trillion $ 2019)':  [-12.24, 17.28, -19.39, -4.87]\n",
    "    },\n",
    "    index=['China','E.U','U.S.A','Japan']\n",
    ")\n",
    "\n",
    "display(fakedf)\n",
    "\n",
    "transform_algorithm = lambda item: abs(item)\n",
    "\n",
    "realdf = fakedf.transform(transform_algorithm)\n",
    "display(realdf)"
   ]
  },
  {
   "cell_type": "markdown",
   "id": "4a0caf63",
   "metadata": {},
   "source": [
    "<h3>apply"
   ]
  },
  {
   "cell_type": "code",
   "execution_count": 70,
   "id": "ca7e8cf2",
   "metadata": {},
   "outputs": [
    {
     "data": {
      "text/html": [
       "<div>\n",
       "<style scoped>\n",
       "    .dataframe tbody tr th:only-of-type {\n",
       "        vertical-align: middle;\n",
       "    }\n",
       "\n",
       "    .dataframe tbody tr th {\n",
       "        vertical-align: top;\n",
       "    }\n",
       "\n",
       "    .dataframe thead th {\n",
       "        text-align: right;\n",
       "    }\n",
       "</style>\n",
       "<table border=\"1\" class=\"dataframe\">\n",
       "  <thead>\n",
       "    <tr style=\"text-align: right;\">\n",
       "      <th></th>\n",
       "      <th>Population 2019</th>\n",
       "      <th>Area (Km²)</th>\n",
       "      <th>Density (P/Km²)</th>\n",
       "      <th>World population share</th>\n",
       "      <th>GDP (trillion $ 2019)</th>\n",
       "    </tr>\n",
       "  </thead>\n",
       "  <tbody>\n",
       "    <tr>\n",
       "      <th>China</th>\n",
       "      <td>-2867567372</td>\n",
       "      <td>-18776422</td>\n",
       "      <td>-306</td>\n",
       "      <td>-37.2</td>\n",
       "      <td>-24.48</td>\n",
       "    </tr>\n",
       "    <tr>\n",
       "      <th>E.U</th>\n",
       "      <td>-889973458</td>\n",
       "      <td>-7995676</td>\n",
       "      <td>-222</td>\n",
       "      <td>-11.6</td>\n",
       "      <td>-34.56</td>\n",
       "    </tr>\n",
       "    <tr>\n",
       "      <th>U.S.A</th>\n",
       "      <td>-658129834</td>\n",
       "      <td>-18294840</td>\n",
       "      <td>-72</td>\n",
       "      <td>-8.6</td>\n",
       "      <td>-38.78</td>\n",
       "    </tr>\n",
       "    <tr>\n",
       "      <th>Japan</th>\n",
       "      <td>-253720602</td>\n",
       "      <td>-729110</td>\n",
       "      <td>-696</td>\n",
       "      <td>-3.2</td>\n",
       "      <td>-9.74</td>\n",
       "    </tr>\n",
       "  </tbody>\n",
       "</table>\n",
       "</div>"
      ],
      "text/plain": [
       "       Population 2019  Area (Km²)  Density (P/Km²)  World population share  \\\n",
       "China      -2867567372   -18776422             -306                   -37.2   \n",
       "E.U         -889973458    -7995676             -222                   -11.6   \n",
       "U.S.A       -658129834   -18294840              -72                    -8.6   \n",
       "Japan       -253720602     -729110             -696                    -3.2   \n",
       "\n",
       "       GDP (trillion $ 2019)  \n",
       "China                 -24.48  \n",
       "E.U                   -34.56  \n",
       "U.S.A                 -38.78  \n",
       "Japan                  -9.74  "
      ]
     },
     "execution_count": 70,
     "metadata": {},
     "output_type": "execute_result"
    }
   ],
   "source": [
    "fakedf.apply(lambda item: -2*abs(item))"
   ]
  },
  {
   "cell_type": "markdown",
   "id": "f7488f13",
   "metadata": {},
   "source": [
    "<h3>Arithmetic operations"
   ]
  },
  {
   "cell_type": "code",
   "execution_count": 71,
   "id": "d8267771",
   "metadata": {},
   "outputs": [
    {
     "data": {
      "text/html": [
       "<div>\n",
       "<style scoped>\n",
       "    .dataframe tbody tr th:only-of-type {\n",
       "        vertical-align: middle;\n",
       "    }\n",
       "\n",
       "    .dataframe tbody tr th {\n",
       "        vertical-align: top;\n",
       "    }\n",
       "\n",
       "    .dataframe thead th {\n",
       "        text-align: right;\n",
       "    }\n",
       "</style>\n",
       "<table border=\"1\" class=\"dataframe\">\n",
       "  <thead>\n",
       "    <tr style=\"text-align: right;\">\n",
       "      <th></th>\n",
       "      <th>Population 2019</th>\n",
       "      <th>Area (Km²)</th>\n",
       "      <th>Density (P/Km²)</th>\n",
       "      <th>World population share</th>\n",
       "      <th>GDP (trillion $ 2019)</th>\n",
       "    </tr>\n",
       "  </thead>\n",
       "  <tbody>\n",
       "    <tr>\n",
       "      <th>China</th>\n",
       "      <td>1433783686</td>\n",
       "      <td>9388211</td>\n",
       "      <td>153</td>\n",
       "      <td>18.6</td>\n",
       "      <td>12.24</td>\n",
       "    </tr>\n",
       "    <tr>\n",
       "      <th>E.U</th>\n",
       "      <td>444986729</td>\n",
       "      <td>3997838</td>\n",
       "      <td>111</td>\n",
       "      <td>5.8</td>\n",
       "      <td>17.28</td>\n",
       "    </tr>\n",
       "    <tr>\n",
       "      <th>U.S.A</th>\n",
       "      <td>329064917</td>\n",
       "      <td>9147420</td>\n",
       "      <td>36</td>\n",
       "      <td>4.3</td>\n",
       "      <td>19.39</td>\n",
       "    </tr>\n",
       "    <tr>\n",
       "      <th>Japan</th>\n",
       "      <td>126860301</td>\n",
       "      <td>364555</td>\n",
       "      <td>348</td>\n",
       "      <td>1.6</td>\n",
       "      <td>4.87</td>\n",
       "    </tr>\n",
       "  </tbody>\n",
       "</table>\n",
       "</div>"
      ],
      "text/plain": [
       "       Population 2019  Area (Km²)  Density (P/Km²)  World population share  \\\n",
       "China       1433783686     9388211              153                    18.6   \n",
       "E.U          444986729     3997838              111                     5.8   \n",
       "U.S.A        329064917     9147420               36                     4.3   \n",
       "Japan        126860301      364555              348                     1.6   \n",
       "\n",
       "       GDP (trillion $ 2019)  \n",
       "China                  12.24  \n",
       "E.U                    17.28  \n",
       "U.S.A                  19.39  \n",
       "Japan                   4.87  "
      ]
     },
     "execution_count": 71,
     "metadata": {},
     "output_type": "execute_result"
    }
   ],
   "source": [
    "df = pd.DataFrame(\n",
    "    {\n",
    "        'Population 2019': [1433783686, 444986729, 329064917, 126860301],\n",
    "        'Area (Km²)': [9388211, 3997838, 9147420, 364555],\n",
    "        'Density (P/Km²)': [ 153, 111, 36, 348],\n",
    "        'World population share': [ 18.6, 5.8, 4.3, 1.6],\n",
    "        'GDP (trillion $ 2019)':  [12.24, 17.28, 19.39, 4.87]\n",
    "    },\n",
    "    index=['China','E.U','U.S.A','Japan']\n",
    ")\n",
    "df"
   ]
  },
  {
   "cell_type": "markdown",
   "id": "3b48f63a",
   "metadata": {},
   "source": [
    "<h3>add"
   ]
  },
  {
   "cell_type": "code",
   "execution_count": 72,
   "id": "adbcc20c",
   "metadata": {},
   "outputs": [
    {
     "data": {
      "text/html": [
       "<div>\n",
       "<style scoped>\n",
       "    .dataframe tbody tr th:only-of-type {\n",
       "        vertical-align: middle;\n",
       "    }\n",
       "\n",
       "    .dataframe tbody tr th {\n",
       "        vertical-align: top;\n",
       "    }\n",
       "\n",
       "    .dataframe thead th {\n",
       "        text-align: right;\n",
       "    }\n",
       "</style>\n",
       "<table border=\"1\" class=\"dataframe\">\n",
       "  <thead>\n",
       "    <tr style=\"text-align: right;\">\n",
       "      <th></th>\n",
       "      <th>Population 2019</th>\n",
       "      <th>Area (Km²)</th>\n",
       "      <th>Density (P/Km²)</th>\n",
       "      <th>World population share</th>\n",
       "      <th>GDP (trillion $ 2019)</th>\n",
       "    </tr>\n",
       "  </thead>\n",
       "  <tbody>\n",
       "    <tr>\n",
       "      <th>China</th>\n",
       "      <td>2867567372</td>\n",
       "      <td>18776422</td>\n",
       "      <td>306</td>\n",
       "      <td>37.2</td>\n",
       "      <td>24.48</td>\n",
       "    </tr>\n",
       "    <tr>\n",
       "      <th>E.U</th>\n",
       "      <td>889973458</td>\n",
       "      <td>7995676</td>\n",
       "      <td>222</td>\n",
       "      <td>11.6</td>\n",
       "      <td>34.56</td>\n",
       "    </tr>\n",
       "    <tr>\n",
       "      <th>U.S.A</th>\n",
       "      <td>658129834</td>\n",
       "      <td>18294840</td>\n",
       "      <td>72</td>\n",
       "      <td>8.6</td>\n",
       "      <td>38.78</td>\n",
       "    </tr>\n",
       "    <tr>\n",
       "      <th>Japan</th>\n",
       "      <td>253720602</td>\n",
       "      <td>729110</td>\n",
       "      <td>696</td>\n",
       "      <td>3.2</td>\n",
       "      <td>9.74</td>\n",
       "    </tr>\n",
       "  </tbody>\n",
       "</table>\n",
       "</div>"
      ],
      "text/plain": [
       "       Population 2019  Area (Km²)  Density (P/Km²)  World population share  \\\n",
       "China       2867567372    18776422              306                    37.2   \n",
       "E.U          889973458     7995676              222                    11.6   \n",
       "U.S.A        658129834    18294840               72                     8.6   \n",
       "Japan        253720602      729110              696                     3.2   \n",
       "\n",
       "       GDP (trillion $ 2019)  \n",
       "China                  24.48  \n",
       "E.U                    34.56  \n",
       "U.S.A                  38.78  \n",
       "Japan                   9.74  "
      ]
     },
     "execution_count": 72,
     "metadata": {},
     "output_type": "execute_result"
    }
   ],
   "source": [
    "df.add(df)"
   ]
  },
  {
   "cell_type": "code",
   "execution_count": 73,
   "id": "95771db1",
   "metadata": {
    "scrolled": true
   },
   "outputs": [
    {
     "data": {
      "text/html": [
       "<div>\n",
       "<style scoped>\n",
       "    .dataframe tbody tr th:only-of-type {\n",
       "        vertical-align: middle;\n",
       "    }\n",
       "\n",
       "    .dataframe tbody tr th {\n",
       "        vertical-align: top;\n",
       "    }\n",
       "\n",
       "    .dataframe thead th {\n",
       "        text-align: right;\n",
       "    }\n",
       "</style>\n",
       "<table border=\"1\" class=\"dataframe\">\n",
       "  <thead>\n",
       "    <tr style=\"text-align: right;\">\n",
       "      <th></th>\n",
       "      <th>Population 2019</th>\n",
       "      <th>Area (Km²)</th>\n",
       "      <th>Density (P/Km²)</th>\n",
       "      <th>World population share</th>\n",
       "      <th>GDP (trillion $ 2019)</th>\n",
       "    </tr>\n",
       "  </thead>\n",
       "  <tbody>\n",
       "    <tr>\n",
       "      <th>China</th>\n",
       "      <td>2867567372</td>\n",
       "      <td>18776422</td>\n",
       "      <td>306</td>\n",
       "      <td>37.2</td>\n",
       "      <td>24.48</td>\n",
       "    </tr>\n",
       "    <tr>\n",
       "      <th>E.U</th>\n",
       "      <td>889973458</td>\n",
       "      <td>7995676</td>\n",
       "      <td>222</td>\n",
       "      <td>11.6</td>\n",
       "      <td>34.56</td>\n",
       "    </tr>\n",
       "    <tr>\n",
       "      <th>U.S.A</th>\n",
       "      <td>658129834</td>\n",
       "      <td>18294840</td>\n",
       "      <td>72</td>\n",
       "      <td>8.6</td>\n",
       "      <td>38.78</td>\n",
       "    </tr>\n",
       "    <tr>\n",
       "      <th>Japan</th>\n",
       "      <td>253720602</td>\n",
       "      <td>729110</td>\n",
       "      <td>696</td>\n",
       "      <td>3.2</td>\n",
       "      <td>9.74</td>\n",
       "    </tr>\n",
       "  </tbody>\n",
       "</table>\n",
       "</div>"
      ],
      "text/plain": [
       "       Population 2019  Area (Km²)  Density (P/Km²)  World population share  \\\n",
       "China       2867567372    18776422              306                    37.2   \n",
       "E.U          889973458     7995676              222                    11.6   \n",
       "U.S.A        658129834    18294840               72                     8.6   \n",
       "Japan        253720602      729110              696                     3.2   \n",
       "\n",
       "       GDP (trillion $ 2019)  \n",
       "China                  24.48  \n",
       "E.U                    34.56  \n",
       "U.S.A                  38.78  \n",
       "Japan                   9.74  "
      ]
     },
     "execution_count": 73,
     "metadata": {},
     "output_type": "execute_result"
    }
   ],
   "source": [
    "df+df"
   ]
  },
  {
   "cell_type": "code",
   "execution_count": 74,
   "id": "07c6c03e",
   "metadata": {
    "scrolled": false
   },
   "outputs": [
    {
     "data": {
      "text/html": [
       "<div>\n",
       "<style scoped>\n",
       "    .dataframe tbody tr th:only-of-type {\n",
       "        vertical-align: middle;\n",
       "    }\n",
       "\n",
       "    .dataframe tbody tr th {\n",
       "        vertical-align: top;\n",
       "    }\n",
       "\n",
       "    .dataframe thead th {\n",
       "        text-align: right;\n",
       "    }\n",
       "</style>\n",
       "<table border=\"1\" class=\"dataframe\">\n",
       "  <thead>\n",
       "    <tr style=\"text-align: right;\">\n",
       "      <th></th>\n",
       "      <th>Population 2019</th>\n",
       "      <th>Area (Km²)</th>\n",
       "      <th>Density (P/Km²)</th>\n",
       "      <th>World population share</th>\n",
       "      <th>GDP (trillion $ 2019)</th>\n",
       "    </tr>\n",
       "  </thead>\n",
       "  <tbody>\n",
       "    <tr>\n",
       "      <th>China</th>\n",
       "      <td>1433783687</td>\n",
       "      <td>9388212</td>\n",
       "      <td>154</td>\n",
       "      <td>19.6</td>\n",
       "      <td>13.24</td>\n",
       "    </tr>\n",
       "    <tr>\n",
       "      <th>E.U</th>\n",
       "      <td>444986730</td>\n",
       "      <td>3997839</td>\n",
       "      <td>112</td>\n",
       "      <td>6.8</td>\n",
       "      <td>18.28</td>\n",
       "    </tr>\n",
       "    <tr>\n",
       "      <th>U.S.A</th>\n",
       "      <td>329064918</td>\n",
       "      <td>9147421</td>\n",
       "      <td>37</td>\n",
       "      <td>5.3</td>\n",
       "      <td>20.39</td>\n",
       "    </tr>\n",
       "    <tr>\n",
       "      <th>Japan</th>\n",
       "      <td>126860302</td>\n",
       "      <td>364556</td>\n",
       "      <td>349</td>\n",
       "      <td>2.6</td>\n",
       "      <td>5.87</td>\n",
       "    </tr>\n",
       "  </tbody>\n",
       "</table>\n",
       "</div>"
      ],
      "text/plain": [
       "       Population 2019  Area (Km²)  Density (P/Km²)  World population share  \\\n",
       "China       1433783687     9388212              154                    19.6   \n",
       "E.U          444986730     3997839              112                     6.8   \n",
       "U.S.A        329064918     9147421               37                     5.3   \n",
       "Japan        126860302      364556              349                     2.6   \n",
       "\n",
       "       GDP (trillion $ 2019)  \n",
       "China                  13.24  \n",
       "E.U                    18.28  \n",
       "U.S.A                  20.39  \n",
       "Japan                   5.87  "
      ]
     },
     "execution_count": 74,
     "metadata": {},
     "output_type": "execute_result"
    }
   ],
   "source": [
    "df+1"
   ]
  },
  {
   "cell_type": "markdown",
   "id": "ab298425",
   "metadata": {},
   "source": [
    "<h3>sub"
   ]
  },
  {
   "cell_type": "code",
   "execution_count": 75,
   "id": "f6d3cb4c",
   "metadata": {
    "scrolled": true
   },
   "outputs": [
    {
     "data": {
      "text/html": [
       "<div>\n",
       "<style scoped>\n",
       "    .dataframe tbody tr th:only-of-type {\n",
       "        vertical-align: middle;\n",
       "    }\n",
       "\n",
       "    .dataframe tbody tr th {\n",
       "        vertical-align: top;\n",
       "    }\n",
       "\n",
       "    .dataframe thead th {\n",
       "        text-align: right;\n",
       "    }\n",
       "</style>\n",
       "<table border=\"1\" class=\"dataframe\">\n",
       "  <thead>\n",
       "    <tr style=\"text-align: right;\">\n",
       "      <th></th>\n",
       "      <th>Population 2019</th>\n",
       "      <th>Area (Km²)</th>\n",
       "      <th>Density (P/Km²)</th>\n",
       "      <th>World population share</th>\n",
       "      <th>GDP (trillion $ 2019)</th>\n",
       "    </tr>\n",
       "  </thead>\n",
       "  <tbody>\n",
       "    <tr>\n",
       "      <th>China</th>\n",
       "      <td>0</td>\n",
       "      <td>0</td>\n",
       "      <td>0</td>\n",
       "      <td>0.0</td>\n",
       "      <td>0.0</td>\n",
       "    </tr>\n",
       "    <tr>\n",
       "      <th>E.U</th>\n",
       "      <td>0</td>\n",
       "      <td>0</td>\n",
       "      <td>0</td>\n",
       "      <td>0.0</td>\n",
       "      <td>0.0</td>\n",
       "    </tr>\n",
       "    <tr>\n",
       "      <th>U.S.A</th>\n",
       "      <td>0</td>\n",
       "      <td>0</td>\n",
       "      <td>0</td>\n",
       "      <td>0.0</td>\n",
       "      <td>0.0</td>\n",
       "    </tr>\n",
       "    <tr>\n",
       "      <th>Japan</th>\n",
       "      <td>0</td>\n",
       "      <td>0</td>\n",
       "      <td>0</td>\n",
       "      <td>0.0</td>\n",
       "      <td>0.0</td>\n",
       "    </tr>\n",
       "  </tbody>\n",
       "</table>\n",
       "</div>"
      ],
      "text/plain": [
       "       Population 2019  Area (Km²)  Density (P/Km²)  World population share  \\\n",
       "China                0           0                0                     0.0   \n",
       "E.U                  0           0                0                     0.0   \n",
       "U.S.A                0           0                0                     0.0   \n",
       "Japan                0           0                0                     0.0   \n",
       "\n",
       "       GDP (trillion $ 2019)  \n",
       "China                    0.0  \n",
       "E.U                      0.0  \n",
       "U.S.A                    0.0  \n",
       "Japan                    0.0  "
      ]
     },
     "execution_count": 75,
     "metadata": {},
     "output_type": "execute_result"
    }
   ],
   "source": [
    "df.sub(df)"
   ]
  },
  {
   "cell_type": "code",
   "execution_count": 76,
   "id": "9c0e6f1a",
   "metadata": {
    "scrolled": false
   },
   "outputs": [
    {
     "data": {
      "text/html": [
       "<div>\n",
       "<style scoped>\n",
       "    .dataframe tbody tr th:only-of-type {\n",
       "        vertical-align: middle;\n",
       "    }\n",
       "\n",
       "    .dataframe tbody tr th {\n",
       "        vertical-align: top;\n",
       "    }\n",
       "\n",
       "    .dataframe thead th {\n",
       "        text-align: right;\n",
       "    }\n",
       "</style>\n",
       "<table border=\"1\" class=\"dataframe\">\n",
       "  <thead>\n",
       "    <tr style=\"text-align: right;\">\n",
       "      <th></th>\n",
       "      <th>Population 2019</th>\n",
       "      <th>Area (Km²)</th>\n",
       "      <th>Density (P/Km²)</th>\n",
       "      <th>World population share</th>\n",
       "      <th>GDP (trillion $ 2019)</th>\n",
       "    </tr>\n",
       "  </thead>\n",
       "  <tbody>\n",
       "    <tr>\n",
       "      <th>China</th>\n",
       "      <td>0</td>\n",
       "      <td>0</td>\n",
       "      <td>0</td>\n",
       "      <td>0.0</td>\n",
       "      <td>0.0</td>\n",
       "    </tr>\n",
       "    <tr>\n",
       "      <th>E.U</th>\n",
       "      <td>0</td>\n",
       "      <td>0</td>\n",
       "      <td>0</td>\n",
       "      <td>0.0</td>\n",
       "      <td>0.0</td>\n",
       "    </tr>\n",
       "    <tr>\n",
       "      <th>U.S.A</th>\n",
       "      <td>0</td>\n",
       "      <td>0</td>\n",
       "      <td>0</td>\n",
       "      <td>0.0</td>\n",
       "      <td>0.0</td>\n",
       "    </tr>\n",
       "    <tr>\n",
       "      <th>Japan</th>\n",
       "      <td>0</td>\n",
       "      <td>0</td>\n",
       "      <td>0</td>\n",
       "      <td>0.0</td>\n",
       "      <td>0.0</td>\n",
       "    </tr>\n",
       "  </tbody>\n",
       "</table>\n",
       "</div>"
      ],
      "text/plain": [
       "       Population 2019  Area (Km²)  Density (P/Km²)  World population share  \\\n",
       "China                0           0                0                     0.0   \n",
       "E.U                  0           0                0                     0.0   \n",
       "U.S.A                0           0                0                     0.0   \n",
       "Japan                0           0                0                     0.0   \n",
       "\n",
       "       GDP (trillion $ 2019)  \n",
       "China                    0.0  \n",
       "E.U                      0.0  \n",
       "U.S.A                    0.0  \n",
       "Japan                    0.0  "
      ]
     },
     "execution_count": 76,
     "metadata": {},
     "output_type": "execute_result"
    }
   ],
   "source": [
    "df-df"
   ]
  },
  {
   "cell_type": "code",
   "execution_count": 77,
   "id": "eeaa20b9",
   "metadata": {
    "scrolled": true
   },
   "outputs": [
    {
     "data": {
      "text/html": [
       "<div>\n",
       "<style scoped>\n",
       "    .dataframe tbody tr th:only-of-type {\n",
       "        vertical-align: middle;\n",
       "    }\n",
       "\n",
       "    .dataframe tbody tr th {\n",
       "        vertical-align: top;\n",
       "    }\n",
       "\n",
       "    .dataframe thead th {\n",
       "        text-align: right;\n",
       "    }\n",
       "</style>\n",
       "<table border=\"1\" class=\"dataframe\">\n",
       "  <thead>\n",
       "    <tr style=\"text-align: right;\">\n",
       "      <th></th>\n",
       "      <th>Population 2019</th>\n",
       "      <th>Area (Km²)</th>\n",
       "      <th>Density (P/Km²)</th>\n",
       "      <th>World population share</th>\n",
       "      <th>GDP (trillion $ 2019)</th>\n",
       "    </tr>\n",
       "  </thead>\n",
       "  <tbody>\n",
       "    <tr>\n",
       "      <th>China</th>\n",
       "      <td>1433783684</td>\n",
       "      <td>9388209</td>\n",
       "      <td>151</td>\n",
       "      <td>16.6</td>\n",
       "      <td>10.24</td>\n",
       "    </tr>\n",
       "    <tr>\n",
       "      <th>E.U</th>\n",
       "      <td>444986727</td>\n",
       "      <td>3997836</td>\n",
       "      <td>109</td>\n",
       "      <td>3.8</td>\n",
       "      <td>15.28</td>\n",
       "    </tr>\n",
       "    <tr>\n",
       "      <th>U.S.A</th>\n",
       "      <td>329064915</td>\n",
       "      <td>9147418</td>\n",
       "      <td>34</td>\n",
       "      <td>2.3</td>\n",
       "      <td>17.39</td>\n",
       "    </tr>\n",
       "    <tr>\n",
       "      <th>Japan</th>\n",
       "      <td>126860299</td>\n",
       "      <td>364553</td>\n",
       "      <td>346</td>\n",
       "      <td>-0.4</td>\n",
       "      <td>2.87</td>\n",
       "    </tr>\n",
       "  </tbody>\n",
       "</table>\n",
       "</div>"
      ],
      "text/plain": [
       "       Population 2019  Area (Km²)  Density (P/Km²)  World population share  \\\n",
       "China       1433783684     9388209              151                    16.6   \n",
       "E.U          444986727     3997836              109                     3.8   \n",
       "U.S.A        329064915     9147418               34                     2.3   \n",
       "Japan        126860299      364553              346                    -0.4   \n",
       "\n",
       "       GDP (trillion $ 2019)  \n",
       "China                  10.24  \n",
       "E.U                    15.28  \n",
       "U.S.A                  17.39  \n",
       "Japan                   2.87  "
      ]
     },
     "execution_count": 77,
     "metadata": {},
     "output_type": "execute_result"
    }
   ],
   "source": [
    "df-2"
   ]
  },
  {
   "cell_type": "markdown",
   "id": "8edbe9bd",
   "metadata": {},
   "source": [
    "<h3>mul"
   ]
  },
  {
   "cell_type": "code",
   "execution_count": 78,
   "id": "a2cb104f",
   "metadata": {
    "scrolled": true
   },
   "outputs": [
    {
     "data": {
      "text/html": [
       "<div>\n",
       "<style scoped>\n",
       "    .dataframe tbody tr th:only-of-type {\n",
       "        vertical-align: middle;\n",
       "    }\n",
       "\n",
       "    .dataframe tbody tr th {\n",
       "        vertical-align: top;\n",
       "    }\n",
       "\n",
       "    .dataframe thead th {\n",
       "        text-align: right;\n",
       "    }\n",
       "</style>\n",
       "<table border=\"1\" class=\"dataframe\">\n",
       "  <thead>\n",
       "    <tr style=\"text-align: right;\">\n",
       "      <th></th>\n",
       "      <th>Population 2019</th>\n",
       "      <th>Area (Km²)</th>\n",
       "      <th>Density (P/Km²)</th>\n",
       "      <th>World population share</th>\n",
       "      <th>GDP (trillion $ 2019)</th>\n",
       "    </tr>\n",
       "  </thead>\n",
       "  <tbody>\n",
       "    <tr>\n",
       "      <th>China</th>\n",
       "      <td>2055735658239746596</td>\n",
       "      <td>88138505780521</td>\n",
       "      <td>23409</td>\n",
       "      <td>345.96</td>\n",
       "      <td>149.8176</td>\n",
       "    </tr>\n",
       "    <tr>\n",
       "      <th>E.U</th>\n",
       "      <td>198013188986119441</td>\n",
       "      <td>15982708674244</td>\n",
       "      <td>12321</td>\n",
       "      <td>33.64</td>\n",
       "      <td>298.5984</td>\n",
       "    </tr>\n",
       "    <tr>\n",
       "      <th>U.S.A</th>\n",
       "      <td>108283719600216889</td>\n",
       "      <td>83675292656400</td>\n",
       "      <td>1296</td>\n",
       "      <td>18.49</td>\n",
       "      <td>375.9721</td>\n",
       "    </tr>\n",
       "    <tr>\n",
       "      <th>Japan</th>\n",
       "      <td>16093535969810601</td>\n",
       "      <td>132900348025</td>\n",
       "      <td>121104</td>\n",
       "      <td>2.56</td>\n",
       "      <td>23.7169</td>\n",
       "    </tr>\n",
       "  </tbody>\n",
       "</table>\n",
       "</div>"
      ],
      "text/plain": [
       "           Population 2019      Area (Km²)  Density (P/Km²)  \\\n",
       "China  2055735658239746596  88138505780521            23409   \n",
       "E.U     198013188986119441  15982708674244            12321   \n",
       "U.S.A   108283719600216889  83675292656400             1296   \n",
       "Japan    16093535969810601    132900348025           121104   \n",
       "\n",
       "       World population share  GDP (trillion $ 2019)  \n",
       "China                  345.96               149.8176  \n",
       "E.U                     33.64               298.5984  \n",
       "U.S.A                   18.49               375.9721  \n",
       "Japan                    2.56                23.7169  "
      ]
     },
     "execution_count": 78,
     "metadata": {},
     "output_type": "execute_result"
    }
   ],
   "source": [
    "df.mul(df)"
   ]
  },
  {
   "cell_type": "code",
   "execution_count": 79,
   "id": "1fd085af",
   "metadata": {
    "scrolled": false
   },
   "outputs": [
    {
     "data": {
      "text/html": [
       "<div>\n",
       "<style scoped>\n",
       "    .dataframe tbody tr th:only-of-type {\n",
       "        vertical-align: middle;\n",
       "    }\n",
       "\n",
       "    .dataframe tbody tr th {\n",
       "        vertical-align: top;\n",
       "    }\n",
       "\n",
       "    .dataframe thead th {\n",
       "        text-align: right;\n",
       "    }\n",
       "</style>\n",
       "<table border=\"1\" class=\"dataframe\">\n",
       "  <thead>\n",
       "    <tr style=\"text-align: right;\">\n",
       "      <th></th>\n",
       "      <th>Population 2019</th>\n",
       "      <th>Area (Km²)</th>\n",
       "      <th>Density (P/Km²)</th>\n",
       "      <th>World population share</th>\n",
       "      <th>GDP (trillion $ 2019)</th>\n",
       "    </tr>\n",
       "  </thead>\n",
       "  <tbody>\n",
       "    <tr>\n",
       "      <th>China</th>\n",
       "      <td>2055735658239746596</td>\n",
       "      <td>88138505780521</td>\n",
       "      <td>23409</td>\n",
       "      <td>345.96</td>\n",
       "      <td>149.8176</td>\n",
       "    </tr>\n",
       "    <tr>\n",
       "      <th>E.U</th>\n",
       "      <td>198013188986119441</td>\n",
       "      <td>15982708674244</td>\n",
       "      <td>12321</td>\n",
       "      <td>33.64</td>\n",
       "      <td>298.5984</td>\n",
       "    </tr>\n",
       "    <tr>\n",
       "      <th>U.S.A</th>\n",
       "      <td>108283719600216889</td>\n",
       "      <td>83675292656400</td>\n",
       "      <td>1296</td>\n",
       "      <td>18.49</td>\n",
       "      <td>375.9721</td>\n",
       "    </tr>\n",
       "    <tr>\n",
       "      <th>Japan</th>\n",
       "      <td>16093535969810601</td>\n",
       "      <td>132900348025</td>\n",
       "      <td>121104</td>\n",
       "      <td>2.56</td>\n",
       "      <td>23.7169</td>\n",
       "    </tr>\n",
       "  </tbody>\n",
       "</table>\n",
       "</div>"
      ],
      "text/plain": [
       "           Population 2019      Area (Km²)  Density (P/Km²)  \\\n",
       "China  2055735658239746596  88138505780521            23409   \n",
       "E.U     198013188986119441  15982708674244            12321   \n",
       "U.S.A   108283719600216889  83675292656400             1296   \n",
       "Japan    16093535969810601    132900348025           121104   \n",
       "\n",
       "       World population share  GDP (trillion $ 2019)  \n",
       "China                  345.96               149.8176  \n",
       "E.U                     33.64               298.5984  \n",
       "U.S.A                   18.49               375.9721  \n",
       "Japan                    2.56                23.7169  "
      ]
     },
     "execution_count": 79,
     "metadata": {},
     "output_type": "execute_result"
    }
   ],
   "source": [
    "df*df"
   ]
  },
  {
   "cell_type": "code",
   "execution_count": 80,
   "id": "a9d2c635",
   "metadata": {
    "scrolled": true
   },
   "outputs": [
    {
     "data": {
      "text/html": [
       "<div>\n",
       "<style scoped>\n",
       "    .dataframe tbody tr th:only-of-type {\n",
       "        vertical-align: middle;\n",
       "    }\n",
       "\n",
       "    .dataframe tbody tr th {\n",
       "        vertical-align: top;\n",
       "    }\n",
       "\n",
       "    .dataframe thead th {\n",
       "        text-align: right;\n",
       "    }\n",
       "</style>\n",
       "<table border=\"1\" class=\"dataframe\">\n",
       "  <thead>\n",
       "    <tr style=\"text-align: right;\">\n",
       "      <th></th>\n",
       "      <th>Population 2019</th>\n",
       "      <th>Area (Km²)</th>\n",
       "      <th>Density (P/Km²)</th>\n",
       "      <th>World population share</th>\n",
       "      <th>GDP (trillion $ 2019)</th>\n",
       "    </tr>\n",
       "  </thead>\n",
       "  <tbody>\n",
       "    <tr>\n",
       "      <th>China</th>\n",
       "      <td>28675673720</td>\n",
       "      <td>187764220</td>\n",
       "      <td>3060</td>\n",
       "      <td>372.0</td>\n",
       "      <td>244.8</td>\n",
       "    </tr>\n",
       "    <tr>\n",
       "      <th>E.U</th>\n",
       "      <td>8899734580</td>\n",
       "      <td>79956760</td>\n",
       "      <td>2220</td>\n",
       "      <td>116.0</td>\n",
       "      <td>345.6</td>\n",
       "    </tr>\n",
       "    <tr>\n",
       "      <th>U.S.A</th>\n",
       "      <td>6581298340</td>\n",
       "      <td>182948400</td>\n",
       "      <td>720</td>\n",
       "      <td>86.0</td>\n",
       "      <td>387.8</td>\n",
       "    </tr>\n",
       "    <tr>\n",
       "      <th>Japan</th>\n",
       "      <td>2537206020</td>\n",
       "      <td>7291100</td>\n",
       "      <td>6960</td>\n",
       "      <td>32.0</td>\n",
       "      <td>97.4</td>\n",
       "    </tr>\n",
       "  </tbody>\n",
       "</table>\n",
       "</div>"
      ],
      "text/plain": [
       "       Population 2019  Area (Km²)  Density (P/Km²)  World population share  \\\n",
       "China      28675673720   187764220             3060                   372.0   \n",
       "E.U         8899734580    79956760             2220                   116.0   \n",
       "U.S.A       6581298340   182948400              720                    86.0   \n",
       "Japan       2537206020     7291100             6960                    32.0   \n",
       "\n",
       "       GDP (trillion $ 2019)  \n",
       "China                  244.8  \n",
       "E.U                    345.6  \n",
       "U.S.A                  387.8  \n",
       "Japan                   97.4  "
      ]
     },
     "execution_count": 80,
     "metadata": {},
     "output_type": "execute_result"
    }
   ],
   "source": [
    "df*20"
   ]
  },
  {
   "cell_type": "markdown",
   "id": "008790ae",
   "metadata": {},
   "source": [
    "<h3>div"
   ]
  },
  {
   "cell_type": "code",
   "execution_count": 81,
   "id": "a03a3b0c",
   "metadata": {
    "scrolled": true
   },
   "outputs": [
    {
     "data": {
      "text/html": [
       "<div>\n",
       "<style scoped>\n",
       "    .dataframe tbody tr th:only-of-type {\n",
       "        vertical-align: middle;\n",
       "    }\n",
       "\n",
       "    .dataframe tbody tr th {\n",
       "        vertical-align: top;\n",
       "    }\n",
       "\n",
       "    .dataframe thead th {\n",
       "        text-align: right;\n",
       "    }\n",
       "</style>\n",
       "<table border=\"1\" class=\"dataframe\">\n",
       "  <thead>\n",
       "    <tr style=\"text-align: right;\">\n",
       "      <th></th>\n",
       "      <th>Population 2019</th>\n",
       "      <th>Area (Km²)</th>\n",
       "      <th>Density (P/Km²)</th>\n",
       "      <th>World population share</th>\n",
       "      <th>GDP (trillion $ 2019)</th>\n",
       "    </tr>\n",
       "  </thead>\n",
       "  <tbody>\n",
       "    <tr>\n",
       "      <th>China</th>\n",
       "      <td>1.0</td>\n",
       "      <td>1.0</td>\n",
       "      <td>1.0</td>\n",
       "      <td>1.0</td>\n",
       "      <td>1.0</td>\n",
       "    </tr>\n",
       "    <tr>\n",
       "      <th>E.U</th>\n",
       "      <td>1.0</td>\n",
       "      <td>1.0</td>\n",
       "      <td>1.0</td>\n",
       "      <td>1.0</td>\n",
       "      <td>1.0</td>\n",
       "    </tr>\n",
       "    <tr>\n",
       "      <th>U.S.A</th>\n",
       "      <td>1.0</td>\n",
       "      <td>1.0</td>\n",
       "      <td>1.0</td>\n",
       "      <td>1.0</td>\n",
       "      <td>1.0</td>\n",
       "    </tr>\n",
       "    <tr>\n",
       "      <th>Japan</th>\n",
       "      <td>1.0</td>\n",
       "      <td>1.0</td>\n",
       "      <td>1.0</td>\n",
       "      <td>1.0</td>\n",
       "      <td>1.0</td>\n",
       "    </tr>\n",
       "  </tbody>\n",
       "</table>\n",
       "</div>"
      ],
      "text/plain": [
       "       Population 2019  Area (Km²)  Density (P/Km²)  World population share  \\\n",
       "China              1.0         1.0              1.0                     1.0   \n",
       "E.U                1.0         1.0              1.0                     1.0   \n",
       "U.S.A              1.0         1.0              1.0                     1.0   \n",
       "Japan              1.0         1.0              1.0                     1.0   \n",
       "\n",
       "       GDP (trillion $ 2019)  \n",
       "China                    1.0  \n",
       "E.U                      1.0  \n",
       "U.S.A                    1.0  \n",
       "Japan                    1.0  "
      ]
     },
     "execution_count": 81,
     "metadata": {},
     "output_type": "execute_result"
    }
   ],
   "source": [
    "df.div(df)"
   ]
  },
  {
   "cell_type": "code",
   "execution_count": 82,
   "id": "9e1bd8b7",
   "metadata": {
    "scrolled": false
   },
   "outputs": [
    {
     "data": {
      "text/html": [
       "<div>\n",
       "<style scoped>\n",
       "    .dataframe tbody tr th:only-of-type {\n",
       "        vertical-align: middle;\n",
       "    }\n",
       "\n",
       "    .dataframe tbody tr th {\n",
       "        vertical-align: top;\n",
       "    }\n",
       "\n",
       "    .dataframe thead th {\n",
       "        text-align: right;\n",
       "    }\n",
       "</style>\n",
       "<table border=\"1\" class=\"dataframe\">\n",
       "  <thead>\n",
       "    <tr style=\"text-align: right;\">\n",
       "      <th></th>\n",
       "      <th>Population 2019</th>\n",
       "      <th>Area (Km²)</th>\n",
       "      <th>Density (P/Km²)</th>\n",
       "      <th>World population share</th>\n",
       "      <th>GDP (trillion $ 2019)</th>\n",
       "    </tr>\n",
       "  </thead>\n",
       "  <tbody>\n",
       "    <tr>\n",
       "      <th>China</th>\n",
       "      <td>1.0</td>\n",
       "      <td>1.0</td>\n",
       "      <td>1.0</td>\n",
       "      <td>1.0</td>\n",
       "      <td>1.0</td>\n",
       "    </tr>\n",
       "    <tr>\n",
       "      <th>E.U</th>\n",
       "      <td>1.0</td>\n",
       "      <td>1.0</td>\n",
       "      <td>1.0</td>\n",
       "      <td>1.0</td>\n",
       "      <td>1.0</td>\n",
       "    </tr>\n",
       "    <tr>\n",
       "      <th>U.S.A</th>\n",
       "      <td>1.0</td>\n",
       "      <td>1.0</td>\n",
       "      <td>1.0</td>\n",
       "      <td>1.0</td>\n",
       "      <td>1.0</td>\n",
       "    </tr>\n",
       "    <tr>\n",
       "      <th>Japan</th>\n",
       "      <td>1.0</td>\n",
       "      <td>1.0</td>\n",
       "      <td>1.0</td>\n",
       "      <td>1.0</td>\n",
       "      <td>1.0</td>\n",
       "    </tr>\n",
       "  </tbody>\n",
       "</table>\n",
       "</div>"
      ],
      "text/plain": [
       "       Population 2019  Area (Km²)  Density (P/Km²)  World population share  \\\n",
       "China              1.0         1.0              1.0                     1.0   \n",
       "E.U                1.0         1.0              1.0                     1.0   \n",
       "U.S.A              1.0         1.0              1.0                     1.0   \n",
       "Japan              1.0         1.0              1.0                     1.0   \n",
       "\n",
       "       GDP (trillion $ 2019)  \n",
       "China                    1.0  \n",
       "E.U                      1.0  \n",
       "U.S.A                    1.0  \n",
       "Japan                    1.0  "
      ]
     },
     "execution_count": 82,
     "metadata": {},
     "output_type": "execute_result"
    }
   ],
   "source": [
    "df/df"
   ]
  },
  {
   "cell_type": "code",
   "execution_count": 83,
   "id": "22f78f3d",
   "metadata": {
    "scrolled": false
   },
   "outputs": [
    {
     "data": {
      "text/html": [
       "<div>\n",
       "<style scoped>\n",
       "    .dataframe tbody tr th:only-of-type {\n",
       "        vertical-align: middle;\n",
       "    }\n",
       "\n",
       "    .dataframe tbody tr th {\n",
       "        vertical-align: top;\n",
       "    }\n",
       "\n",
       "    .dataframe thead th {\n",
       "        text-align: right;\n",
       "    }\n",
       "</style>\n",
       "<table border=\"1\" class=\"dataframe\">\n",
       "  <thead>\n",
       "    <tr style=\"text-align: right;\">\n",
       "      <th></th>\n",
       "      <th>Population 2019</th>\n",
       "      <th>Area (Km²)</th>\n",
       "      <th>Density (P/Km²)</th>\n",
       "      <th>World population share</th>\n",
       "      <th>GDP (trillion $ 2019)</th>\n",
       "    </tr>\n",
       "  </thead>\n",
       "  <tbody>\n",
       "    <tr>\n",
       "      <th>China</th>\n",
       "      <td>4.779279e+08</td>\n",
       "      <td>3.129404e+06</td>\n",
       "      <td>51.0</td>\n",
       "      <td>6.200000</td>\n",
       "      <td>4.080000</td>\n",
       "    </tr>\n",
       "    <tr>\n",
       "      <th>E.U</th>\n",
       "      <td>1.483289e+08</td>\n",
       "      <td>1.332613e+06</td>\n",
       "      <td>37.0</td>\n",
       "      <td>1.933333</td>\n",
       "      <td>5.760000</td>\n",
       "    </tr>\n",
       "    <tr>\n",
       "      <th>U.S.A</th>\n",
       "      <td>1.096883e+08</td>\n",
       "      <td>3.049140e+06</td>\n",
       "      <td>12.0</td>\n",
       "      <td>1.433333</td>\n",
       "      <td>6.463333</td>\n",
       "    </tr>\n",
       "    <tr>\n",
       "      <th>Japan</th>\n",
       "      <td>4.228677e+07</td>\n",
       "      <td>1.215183e+05</td>\n",
       "      <td>116.0</td>\n",
       "      <td>0.533333</td>\n",
       "      <td>1.623333</td>\n",
       "    </tr>\n",
       "  </tbody>\n",
       "</table>\n",
       "</div>"
      ],
      "text/plain": [
       "       Population 2019    Area (Km²)  Density (P/Km²)  World population share  \\\n",
       "China     4.779279e+08  3.129404e+06             51.0                6.200000   \n",
       "E.U       1.483289e+08  1.332613e+06             37.0                1.933333   \n",
       "U.S.A     1.096883e+08  3.049140e+06             12.0                1.433333   \n",
       "Japan     4.228677e+07  1.215183e+05            116.0                0.533333   \n",
       "\n",
       "       GDP (trillion $ 2019)  \n",
       "China               4.080000  \n",
       "E.U                 5.760000  \n",
       "U.S.A               6.463333  \n",
       "Japan               1.623333  "
      ]
     },
     "execution_count": 83,
     "metadata": {},
     "output_type": "execute_result"
    }
   ],
   "source": [
    "df/3"
   ]
  },
  {
   "cell_type": "markdown",
   "id": "d7ae4187",
   "metadata": {},
   "source": [
    "<h3>pow"
   ]
  },
  {
   "cell_type": "code",
   "execution_count": 84,
   "id": "a4d1f3c7",
   "metadata": {
    "scrolled": true
   },
   "outputs": [
    {
     "data": {
      "text/html": [
       "<div>\n",
       "<style scoped>\n",
       "    .dataframe tbody tr th:only-of-type {\n",
       "        vertical-align: middle;\n",
       "    }\n",
       "\n",
       "    .dataframe tbody tr th {\n",
       "        vertical-align: top;\n",
       "    }\n",
       "\n",
       "    .dataframe thead th {\n",
       "        text-align: right;\n",
       "    }\n",
       "</style>\n",
       "<table border=\"1\" class=\"dataframe\">\n",
       "  <thead>\n",
       "    <tr style=\"text-align: right;\">\n",
       "      <th></th>\n",
       "      <th>Population 2019</th>\n",
       "      <th>Area (Km²)</th>\n",
       "      <th>Density (P/Km²)</th>\n",
       "      <th>World population share</th>\n",
       "      <th>GDP (trillion $ 2019)</th>\n",
       "    </tr>\n",
       "  </thead>\n",
       "  <tbody>\n",
       "    <tr>\n",
       "      <th>China</th>\n",
       "      <td>0</td>\n",
       "      <td>-4519595715522899477</td>\n",
       "      <td>2044896343689557465</td>\n",
       "      <td>4.101482e+23</td>\n",
       "      <td>2.062740e+13</td>\n",
       "    </tr>\n",
       "    <tr>\n",
       "      <th>E.U</th>\n",
       "      <td>-344890699850533719</td>\n",
       "      <td>0</td>\n",
       "      <td>-5284892189205612657</td>\n",
       "      <td>2.678443e+04</td>\n",
       "      <td>2.425246e+21</td>\n",
       "    </tr>\n",
       "    <tr>\n",
       "      <th>U.S.A</th>\n",
       "      <td>-75355691069048059</td>\n",
       "      <td>0</td>\n",
       "      <td>0</td>\n",
       "      <td>5.295590e+02</td>\n",
       "      <td>9.249829e+24</td>\n",
       "    </tr>\n",
       "    <tr>\n",
       "      <th>Japan</th>\n",
       "      <td>-934388114362416643</td>\n",
       "      <td>7027868390807996755</td>\n",
       "      <td>0</td>\n",
       "      <td>2.121251e+00</td>\n",
       "      <td>2.229801e+03</td>\n",
       "    </tr>\n",
       "  </tbody>\n",
       "</table>\n",
       "</div>"
      ],
      "text/plain": [
       "          Population 2019           Area (Km²)      Density (P/Km²)  \\\n",
       "China                   0 -4519595715522899477  2044896343689557465   \n",
       "E.U   -344890699850533719                    0 -5284892189205612657   \n",
       "U.S.A  -75355691069048059                    0                    0   \n",
       "Japan -934388114362416643  7027868390807996755                    0   \n",
       "\n",
       "       World population share  GDP (trillion $ 2019)  \n",
       "China            4.101482e+23           2.062740e+13  \n",
       "E.U              2.678443e+04           2.425246e+21  \n",
       "U.S.A            5.295590e+02           9.249829e+24  \n",
       "Japan            2.121251e+00           2.229801e+03  "
      ]
     },
     "execution_count": 84,
     "metadata": {},
     "output_type": "execute_result"
    }
   ],
   "source": [
    "df.pow(df)"
   ]
  },
  {
   "cell_type": "code",
   "execution_count": 85,
   "id": "f5e0b3e5",
   "metadata": {
    "scrolled": false
   },
   "outputs": [
    {
     "data": {
      "text/html": [
       "<div>\n",
       "<style scoped>\n",
       "    .dataframe tbody tr th:only-of-type {\n",
       "        vertical-align: middle;\n",
       "    }\n",
       "\n",
       "    .dataframe tbody tr th {\n",
       "        vertical-align: top;\n",
       "    }\n",
       "\n",
       "    .dataframe thead th {\n",
       "        text-align: right;\n",
       "    }\n",
       "</style>\n",
       "<table border=\"1\" class=\"dataframe\">\n",
       "  <thead>\n",
       "    <tr style=\"text-align: right;\">\n",
       "      <th></th>\n",
       "      <th>Population 2019</th>\n",
       "      <th>Area (Km²)</th>\n",
       "      <th>Density (P/Km²)</th>\n",
       "      <th>World population share</th>\n",
       "      <th>GDP (trillion $ 2019)</th>\n",
       "    </tr>\n",
       "  </thead>\n",
       "  <tbody>\n",
       "    <tr>\n",
       "      <th>China</th>\n",
       "      <td>0</td>\n",
       "      <td>-4519595715522899477</td>\n",
       "      <td>2044896343689557465</td>\n",
       "      <td>4.101482e+23</td>\n",
       "      <td>2.062740e+13</td>\n",
       "    </tr>\n",
       "    <tr>\n",
       "      <th>E.U</th>\n",
       "      <td>-344890699850533719</td>\n",
       "      <td>0</td>\n",
       "      <td>-5284892189205612657</td>\n",
       "      <td>2.678443e+04</td>\n",
       "      <td>2.425246e+21</td>\n",
       "    </tr>\n",
       "    <tr>\n",
       "      <th>U.S.A</th>\n",
       "      <td>-75355691069048059</td>\n",
       "      <td>0</td>\n",
       "      <td>0</td>\n",
       "      <td>5.295590e+02</td>\n",
       "      <td>9.249829e+24</td>\n",
       "    </tr>\n",
       "    <tr>\n",
       "      <th>Japan</th>\n",
       "      <td>-934388114362416643</td>\n",
       "      <td>7027868390807996755</td>\n",
       "      <td>0</td>\n",
       "      <td>2.121251e+00</td>\n",
       "      <td>2.229801e+03</td>\n",
       "    </tr>\n",
       "  </tbody>\n",
       "</table>\n",
       "</div>"
      ],
      "text/plain": [
       "          Population 2019           Area (Km²)      Density (P/Km²)  \\\n",
       "China                   0 -4519595715522899477  2044896343689557465   \n",
       "E.U   -344890699850533719                    0 -5284892189205612657   \n",
       "U.S.A  -75355691069048059                    0                    0   \n",
       "Japan -934388114362416643  7027868390807996755                    0   \n",
       "\n",
       "       World population share  GDP (trillion $ 2019)  \n",
       "China            4.101482e+23           2.062740e+13  \n",
       "E.U              2.678443e+04           2.425246e+21  \n",
       "U.S.A            5.295590e+02           9.249829e+24  \n",
       "Japan            2.121251e+00           2.229801e+03  "
      ]
     },
     "execution_count": 85,
     "metadata": {},
     "output_type": "execute_result"
    }
   ],
   "source": [
    "df**df"
   ]
  },
  {
   "cell_type": "code",
   "execution_count": 86,
   "id": "3e926847",
   "metadata": {
    "scrolled": false
   },
   "outputs": [
    {
     "data": {
      "text/html": [
       "<div>\n",
       "<style scoped>\n",
       "    .dataframe tbody tr th:only-of-type {\n",
       "        vertical-align: middle;\n",
       "    }\n",
       "\n",
       "    .dataframe tbody tr th {\n",
       "        vertical-align: top;\n",
       "    }\n",
       "\n",
       "    .dataframe thead th {\n",
       "        text-align: right;\n",
       "    }\n",
       "</style>\n",
       "<table border=\"1\" class=\"dataframe\">\n",
       "  <thead>\n",
       "    <tr style=\"text-align: right;\">\n",
       "      <th></th>\n",
       "      <th>Population 2019</th>\n",
       "      <th>Area (Km²)</th>\n",
       "      <th>Density (P/Km²)</th>\n",
       "      <th>World population share</th>\n",
       "      <th>GDP (trillion $ 2019)</th>\n",
       "    </tr>\n",
       "  </thead>\n",
       "  <tbody>\n",
       "    <tr>\n",
       "      <th>China</th>\n",
       "      <td>2055735658239746596</td>\n",
       "      <td>88138505780521</td>\n",
       "      <td>23409</td>\n",
       "      <td>345.96</td>\n",
       "      <td>149.8176</td>\n",
       "    </tr>\n",
       "    <tr>\n",
       "      <th>E.U</th>\n",
       "      <td>198013188986119441</td>\n",
       "      <td>15982708674244</td>\n",
       "      <td>12321</td>\n",
       "      <td>33.64</td>\n",
       "      <td>298.5984</td>\n",
       "    </tr>\n",
       "    <tr>\n",
       "      <th>U.S.A</th>\n",
       "      <td>108283719600216889</td>\n",
       "      <td>83675292656400</td>\n",
       "      <td>1296</td>\n",
       "      <td>18.49</td>\n",
       "      <td>375.9721</td>\n",
       "    </tr>\n",
       "    <tr>\n",
       "      <th>Japan</th>\n",
       "      <td>16093535969810601</td>\n",
       "      <td>132900348025</td>\n",
       "      <td>121104</td>\n",
       "      <td>2.56</td>\n",
       "      <td>23.7169</td>\n",
       "    </tr>\n",
       "  </tbody>\n",
       "</table>\n",
       "</div>"
      ],
      "text/plain": [
       "           Population 2019      Area (Km²)  Density (P/Km²)  \\\n",
       "China  2055735658239746596  88138505780521            23409   \n",
       "E.U     198013188986119441  15982708674244            12321   \n",
       "U.S.A   108283719600216889  83675292656400             1296   \n",
       "Japan    16093535969810601    132900348025           121104   \n",
       "\n",
       "       World population share  GDP (trillion $ 2019)  \n",
       "China                  345.96               149.8176  \n",
       "E.U                     33.64               298.5984  \n",
       "U.S.A                   18.49               375.9721  \n",
       "Japan                    2.56                23.7169  "
      ]
     },
     "execution_count": 86,
     "metadata": {},
     "output_type": "execute_result"
    }
   ],
   "source": [
    "df**2"
   ]
  },
  {
   "cell_type": "markdown",
   "id": "b43cc79c",
   "metadata": {},
   "source": [
    "<h3>floordiv"
   ]
  },
  {
   "cell_type": "code",
   "execution_count": 87,
   "id": "4351239d",
   "metadata": {
    "scrolled": true
   },
   "outputs": [
    {
     "data": {
      "text/html": [
       "<div>\n",
       "<style scoped>\n",
       "    .dataframe tbody tr th:only-of-type {\n",
       "        vertical-align: middle;\n",
       "    }\n",
       "\n",
       "    .dataframe tbody tr th {\n",
       "        vertical-align: top;\n",
       "    }\n",
       "\n",
       "    .dataframe thead th {\n",
       "        text-align: right;\n",
       "    }\n",
       "</style>\n",
       "<table border=\"1\" class=\"dataframe\">\n",
       "  <thead>\n",
       "    <tr style=\"text-align: right;\">\n",
       "      <th></th>\n",
       "      <th>Population 2019</th>\n",
       "      <th>Area (Km²)</th>\n",
       "      <th>Density (P/Km²)</th>\n",
       "      <th>World population share</th>\n",
       "      <th>GDP (trillion $ 2019)</th>\n",
       "    </tr>\n",
       "  </thead>\n",
       "  <tbody>\n",
       "    <tr>\n",
       "      <th>China</th>\n",
       "      <td>1</td>\n",
       "      <td>1</td>\n",
       "      <td>1</td>\n",
       "      <td>1.0</td>\n",
       "      <td>1.0</td>\n",
       "    </tr>\n",
       "    <tr>\n",
       "      <th>E.U</th>\n",
       "      <td>1</td>\n",
       "      <td>1</td>\n",
       "      <td>1</td>\n",
       "      <td>1.0</td>\n",
       "      <td>1.0</td>\n",
       "    </tr>\n",
       "    <tr>\n",
       "      <th>U.S.A</th>\n",
       "      <td>1</td>\n",
       "      <td>1</td>\n",
       "      <td>1</td>\n",
       "      <td>1.0</td>\n",
       "      <td>1.0</td>\n",
       "    </tr>\n",
       "    <tr>\n",
       "      <th>Japan</th>\n",
       "      <td>1</td>\n",
       "      <td>1</td>\n",
       "      <td>1</td>\n",
       "      <td>1.0</td>\n",
       "      <td>1.0</td>\n",
       "    </tr>\n",
       "  </tbody>\n",
       "</table>\n",
       "</div>"
      ],
      "text/plain": [
       "       Population 2019  Area (Km²)  Density (P/Km²)  World population share  \\\n",
       "China                1           1                1                     1.0   \n",
       "E.U                  1           1                1                     1.0   \n",
       "U.S.A                1           1                1                     1.0   \n",
       "Japan                1           1                1                     1.0   \n",
       "\n",
       "       GDP (trillion $ 2019)  \n",
       "China                    1.0  \n",
       "E.U                      1.0  \n",
       "U.S.A                    1.0  \n",
       "Japan                    1.0  "
      ]
     },
     "execution_count": 87,
     "metadata": {},
     "output_type": "execute_result"
    }
   ],
   "source": [
    "df.floordiv(df)"
   ]
  },
  {
   "cell_type": "code",
   "execution_count": 88,
   "id": "4f79d0c7",
   "metadata": {
    "scrolled": false
   },
   "outputs": [
    {
     "data": {
      "text/html": [
       "<div>\n",
       "<style scoped>\n",
       "    .dataframe tbody tr th:only-of-type {\n",
       "        vertical-align: middle;\n",
       "    }\n",
       "\n",
       "    .dataframe tbody tr th {\n",
       "        vertical-align: top;\n",
       "    }\n",
       "\n",
       "    .dataframe thead th {\n",
       "        text-align: right;\n",
       "    }\n",
       "</style>\n",
       "<table border=\"1\" class=\"dataframe\">\n",
       "  <thead>\n",
       "    <tr style=\"text-align: right;\">\n",
       "      <th></th>\n",
       "      <th>Population 2019</th>\n",
       "      <th>Area (Km²)</th>\n",
       "      <th>Density (P/Km²)</th>\n",
       "      <th>World population share</th>\n",
       "      <th>GDP (trillion $ 2019)</th>\n",
       "    </tr>\n",
       "  </thead>\n",
       "  <tbody>\n",
       "    <tr>\n",
       "      <th>China</th>\n",
       "      <td>1</td>\n",
       "      <td>1</td>\n",
       "      <td>1</td>\n",
       "      <td>1.0</td>\n",
       "      <td>1.0</td>\n",
       "    </tr>\n",
       "    <tr>\n",
       "      <th>E.U</th>\n",
       "      <td>1</td>\n",
       "      <td>1</td>\n",
       "      <td>1</td>\n",
       "      <td>1.0</td>\n",
       "      <td>1.0</td>\n",
       "    </tr>\n",
       "    <tr>\n",
       "      <th>U.S.A</th>\n",
       "      <td>1</td>\n",
       "      <td>1</td>\n",
       "      <td>1</td>\n",
       "      <td>1.0</td>\n",
       "      <td>1.0</td>\n",
       "    </tr>\n",
       "    <tr>\n",
       "      <th>Japan</th>\n",
       "      <td>1</td>\n",
       "      <td>1</td>\n",
       "      <td>1</td>\n",
       "      <td>1.0</td>\n",
       "      <td>1.0</td>\n",
       "    </tr>\n",
       "  </tbody>\n",
       "</table>\n",
       "</div>"
      ],
      "text/plain": [
       "       Population 2019  Area (Km²)  Density (P/Km²)  World population share  \\\n",
       "China                1           1                1                     1.0   \n",
       "E.U                  1           1                1                     1.0   \n",
       "U.S.A                1           1                1                     1.0   \n",
       "Japan                1           1                1                     1.0   \n",
       "\n",
       "       GDP (trillion $ 2019)  \n",
       "China                    1.0  \n",
       "E.U                      1.0  \n",
       "U.S.A                    1.0  \n",
       "Japan                    1.0  "
      ]
     },
     "execution_count": 88,
     "metadata": {},
     "output_type": "execute_result"
    }
   ],
   "source": [
    "df//df"
   ]
  },
  {
   "cell_type": "code",
   "execution_count": 89,
   "id": "e277184f",
   "metadata": {
    "scrolled": false
   },
   "outputs": [
    {
     "data": {
      "text/html": [
       "<div>\n",
       "<style scoped>\n",
       "    .dataframe tbody tr th:only-of-type {\n",
       "        vertical-align: middle;\n",
       "    }\n",
       "\n",
       "    .dataframe tbody tr th {\n",
       "        vertical-align: top;\n",
       "    }\n",
       "\n",
       "    .dataframe thead th {\n",
       "        text-align: right;\n",
       "    }\n",
       "</style>\n",
       "<table border=\"1\" class=\"dataframe\">\n",
       "  <thead>\n",
       "    <tr style=\"text-align: right;\">\n",
       "      <th></th>\n",
       "      <th>Population 2019</th>\n",
       "      <th>Area (Km²)</th>\n",
       "      <th>Density (P/Km²)</th>\n",
       "      <th>World population share</th>\n",
       "      <th>GDP (trillion $ 2019)</th>\n",
       "    </tr>\n",
       "  </thead>\n",
       "  <tbody>\n",
       "    <tr>\n",
       "      <th>China</th>\n",
       "      <td>716891843</td>\n",
       "      <td>4694105</td>\n",
       "      <td>76</td>\n",
       "      <td>9.0</td>\n",
       "      <td>6.0</td>\n",
       "    </tr>\n",
       "    <tr>\n",
       "      <th>E.U</th>\n",
       "      <td>222493364</td>\n",
       "      <td>1998919</td>\n",
       "      <td>55</td>\n",
       "      <td>2.0</td>\n",
       "      <td>8.0</td>\n",
       "    </tr>\n",
       "    <tr>\n",
       "      <th>U.S.A</th>\n",
       "      <td>164532458</td>\n",
       "      <td>4573710</td>\n",
       "      <td>18</td>\n",
       "      <td>2.0</td>\n",
       "      <td>9.0</td>\n",
       "    </tr>\n",
       "    <tr>\n",
       "      <th>Japan</th>\n",
       "      <td>63430150</td>\n",
       "      <td>182277</td>\n",
       "      <td>174</td>\n",
       "      <td>0.0</td>\n",
       "      <td>2.0</td>\n",
       "    </tr>\n",
       "  </tbody>\n",
       "</table>\n",
       "</div>"
      ],
      "text/plain": [
       "       Population 2019  Area (Km²)  Density (P/Km²)  World population share  \\\n",
       "China        716891843     4694105               76                     9.0   \n",
       "E.U          222493364     1998919               55                     2.0   \n",
       "U.S.A        164532458     4573710               18                     2.0   \n",
       "Japan         63430150      182277              174                     0.0   \n",
       "\n",
       "       GDP (trillion $ 2019)  \n",
       "China                    6.0  \n",
       "E.U                      8.0  \n",
       "U.S.A                    9.0  \n",
       "Japan                    2.0  "
      ]
     },
     "execution_count": 89,
     "metadata": {},
     "output_type": "execute_result"
    }
   ],
   "source": [
    "df//2"
   ]
  },
  {
   "cell_type": "markdown",
   "id": "1098b190",
   "metadata": {},
   "source": [
    "<h3>mod"
   ]
  },
  {
   "cell_type": "code",
   "execution_count": 90,
   "id": "601d9a4c",
   "metadata": {
    "scrolled": true
   },
   "outputs": [
    {
     "data": {
      "text/html": [
       "<div>\n",
       "<style scoped>\n",
       "    .dataframe tbody tr th:only-of-type {\n",
       "        vertical-align: middle;\n",
       "    }\n",
       "\n",
       "    .dataframe tbody tr th {\n",
       "        vertical-align: top;\n",
       "    }\n",
       "\n",
       "    .dataframe thead th {\n",
       "        text-align: right;\n",
       "    }\n",
       "</style>\n",
       "<table border=\"1\" class=\"dataframe\">\n",
       "  <thead>\n",
       "    <tr style=\"text-align: right;\">\n",
       "      <th></th>\n",
       "      <th>Population 2019</th>\n",
       "      <th>Area (Km²)</th>\n",
       "      <th>Density (P/Km²)</th>\n",
       "      <th>World population share</th>\n",
       "      <th>GDP (trillion $ 2019)</th>\n",
       "    </tr>\n",
       "  </thead>\n",
       "  <tbody>\n",
       "    <tr>\n",
       "      <th>China</th>\n",
       "      <td>0</td>\n",
       "      <td>0</td>\n",
       "      <td>0</td>\n",
       "      <td>0.0</td>\n",
       "      <td>0.0</td>\n",
       "    </tr>\n",
       "    <tr>\n",
       "      <th>E.U</th>\n",
       "      <td>0</td>\n",
       "      <td>0</td>\n",
       "      <td>0</td>\n",
       "      <td>0.0</td>\n",
       "      <td>0.0</td>\n",
       "    </tr>\n",
       "    <tr>\n",
       "      <th>U.S.A</th>\n",
       "      <td>0</td>\n",
       "      <td>0</td>\n",
       "      <td>0</td>\n",
       "      <td>0.0</td>\n",
       "      <td>0.0</td>\n",
       "    </tr>\n",
       "    <tr>\n",
       "      <th>Japan</th>\n",
       "      <td>0</td>\n",
       "      <td>0</td>\n",
       "      <td>0</td>\n",
       "      <td>0.0</td>\n",
       "      <td>0.0</td>\n",
       "    </tr>\n",
       "  </tbody>\n",
       "</table>\n",
       "</div>"
      ],
      "text/plain": [
       "       Population 2019  Area (Km²)  Density (P/Km²)  World population share  \\\n",
       "China                0           0                0                     0.0   \n",
       "E.U                  0           0                0                     0.0   \n",
       "U.S.A                0           0                0                     0.0   \n",
       "Japan                0           0                0                     0.0   \n",
       "\n",
       "       GDP (trillion $ 2019)  \n",
       "China                    0.0  \n",
       "E.U                      0.0  \n",
       "U.S.A                    0.0  \n",
       "Japan                    0.0  "
      ]
     },
     "execution_count": 90,
     "metadata": {},
     "output_type": "execute_result"
    }
   ],
   "source": [
    "df.mod(df)"
   ]
  },
  {
   "cell_type": "code",
   "execution_count": 91,
   "id": "3c06fa5a",
   "metadata": {
    "scrolled": false
   },
   "outputs": [
    {
     "data": {
      "text/html": [
       "<div>\n",
       "<style scoped>\n",
       "    .dataframe tbody tr th:only-of-type {\n",
       "        vertical-align: middle;\n",
       "    }\n",
       "\n",
       "    .dataframe tbody tr th {\n",
       "        vertical-align: top;\n",
       "    }\n",
       "\n",
       "    .dataframe thead th {\n",
       "        text-align: right;\n",
       "    }\n",
       "</style>\n",
       "<table border=\"1\" class=\"dataframe\">\n",
       "  <thead>\n",
       "    <tr style=\"text-align: right;\">\n",
       "      <th></th>\n",
       "      <th>Population 2019</th>\n",
       "      <th>Area (Km²)</th>\n",
       "      <th>Density (P/Km²)</th>\n",
       "      <th>World population share</th>\n",
       "      <th>GDP (trillion $ 2019)</th>\n",
       "    </tr>\n",
       "  </thead>\n",
       "  <tbody>\n",
       "    <tr>\n",
       "      <th>China</th>\n",
       "      <td>0</td>\n",
       "      <td>0</td>\n",
       "      <td>0</td>\n",
       "      <td>0.0</td>\n",
       "      <td>0.0</td>\n",
       "    </tr>\n",
       "    <tr>\n",
       "      <th>E.U</th>\n",
       "      <td>0</td>\n",
       "      <td>0</td>\n",
       "      <td>0</td>\n",
       "      <td>0.0</td>\n",
       "      <td>0.0</td>\n",
       "    </tr>\n",
       "    <tr>\n",
       "      <th>U.S.A</th>\n",
       "      <td>0</td>\n",
       "      <td>0</td>\n",
       "      <td>0</td>\n",
       "      <td>0.0</td>\n",
       "      <td>0.0</td>\n",
       "    </tr>\n",
       "    <tr>\n",
       "      <th>Japan</th>\n",
       "      <td>0</td>\n",
       "      <td>0</td>\n",
       "      <td>0</td>\n",
       "      <td>0.0</td>\n",
       "      <td>0.0</td>\n",
       "    </tr>\n",
       "  </tbody>\n",
       "</table>\n",
       "</div>"
      ],
      "text/plain": [
       "       Population 2019  Area (Km²)  Density (P/Km²)  World population share  \\\n",
       "China                0           0                0                     0.0   \n",
       "E.U                  0           0                0                     0.0   \n",
       "U.S.A                0           0                0                     0.0   \n",
       "Japan                0           0                0                     0.0   \n",
       "\n",
       "       GDP (trillion $ 2019)  \n",
       "China                    0.0  \n",
       "E.U                      0.0  \n",
       "U.S.A                    0.0  \n",
       "Japan                    0.0  "
      ]
     },
     "execution_count": 91,
     "metadata": {},
     "output_type": "execute_result"
    }
   ],
   "source": [
    "df%df"
   ]
  },
  {
   "cell_type": "code",
   "execution_count": 92,
   "id": "65d344ea",
   "metadata": {
    "scrolled": false
   },
   "outputs": [
    {
     "data": {
      "text/html": [
       "<div>\n",
       "<style scoped>\n",
       "    .dataframe tbody tr th:only-of-type {\n",
       "        vertical-align: middle;\n",
       "    }\n",
       "\n",
       "    .dataframe tbody tr th {\n",
       "        vertical-align: top;\n",
       "    }\n",
       "\n",
       "    .dataframe thead th {\n",
       "        text-align: right;\n",
       "    }\n",
       "</style>\n",
       "<table border=\"1\" class=\"dataframe\">\n",
       "  <thead>\n",
       "    <tr style=\"text-align: right;\">\n",
       "      <th></th>\n",
       "      <th>Population 2019</th>\n",
       "      <th>Area (Km²)</th>\n",
       "      <th>Density (P/Km²)</th>\n",
       "      <th>World population share</th>\n",
       "      <th>GDP (trillion $ 2019)</th>\n",
       "    </tr>\n",
       "  </thead>\n",
       "  <tbody>\n",
       "    <tr>\n",
       "      <th>China</th>\n",
       "      <td>0</td>\n",
       "      <td>1</td>\n",
       "      <td>1</td>\n",
       "      <td>0.6</td>\n",
       "      <td>0.24</td>\n",
       "    </tr>\n",
       "    <tr>\n",
       "      <th>E.U</th>\n",
       "      <td>1</td>\n",
       "      <td>0</td>\n",
       "      <td>1</td>\n",
       "      <td>1.8</td>\n",
       "      <td>1.28</td>\n",
       "    </tr>\n",
       "    <tr>\n",
       "      <th>U.S.A</th>\n",
       "      <td>1</td>\n",
       "      <td>0</td>\n",
       "      <td>0</td>\n",
       "      <td>0.3</td>\n",
       "      <td>1.39</td>\n",
       "    </tr>\n",
       "    <tr>\n",
       "      <th>Japan</th>\n",
       "      <td>1</td>\n",
       "      <td>1</td>\n",
       "      <td>0</td>\n",
       "      <td>1.6</td>\n",
       "      <td>0.87</td>\n",
       "    </tr>\n",
       "  </tbody>\n",
       "</table>\n",
       "</div>"
      ],
      "text/plain": [
       "       Population 2019  Area (Km²)  Density (P/Km²)  World population share  \\\n",
       "China                0           1                1                     0.6   \n",
       "E.U                  1           0                1                     1.8   \n",
       "U.S.A                1           0                0                     0.3   \n",
       "Japan                1           1                0                     1.6   \n",
       "\n",
       "       GDP (trillion $ 2019)  \n",
       "China                   0.24  \n",
       "E.U                     1.28  \n",
       "U.S.A                   1.39  \n",
       "Japan                   0.87  "
      ]
     },
     "execution_count": 92,
     "metadata": {},
     "output_type": "execute_result"
    }
   ],
   "source": [
    "df%2"
   ]
  },
  {
   "cell_type": "markdown",
   "id": "09e02942",
   "metadata": {},
   "source": [
    "<h3>see also"
   ]
  },
  {
   "cell_type": "raw",
   "id": "d1706437",
   "metadata": {},
   "source": [
    "truediv dot radd rsub rmul rdiv rtruediv rfloordiv rpow rmod..."
   ]
  },
  {
   "cell_type": "markdown",
   "id": "17ab7430",
   "metadata": {},
   "source": [
    "<h3>Other operations"
   ]
  },
  {
   "cell_type": "markdown",
   "id": "1d88ba15",
   "metadata": {},
   "source": [
    "<h3>mean"
   ]
  },
  {
   "cell_type": "code",
   "execution_count": 93,
   "id": "09cd038c",
   "metadata": {
    "scrolled": false
   },
   "outputs": [
    {
     "data": {
      "text/plain": [
       "Population 2019           5.836739e+08\n",
       "Area (Km²)                5.724506e+06\n",
       "Density (P/Km²)           1.620000e+02\n",
       "World population share    7.575000e+00\n",
       "GDP (trillion $ 2019)     1.344500e+01\n",
       "dtype: float64"
      ]
     },
     "execution_count": 93,
     "metadata": {},
     "output_type": "execute_result"
    }
   ],
   "source": [
    "df.mean()"
   ]
  },
  {
   "cell_type": "markdown",
   "id": "623a8bb7",
   "metadata": {},
   "source": [
    "<h3>median"
   ]
  },
  {
   "cell_type": "code",
   "execution_count": 94,
   "id": "e946dac3",
   "metadata": {
    "scrolled": true
   },
   "outputs": [
    {
     "data": {
      "text/plain": [
       "Population 2019           3.870258e+08\n",
       "Area (Km²)                6.572629e+06\n",
       "Density (P/Km²)           1.320000e+02\n",
       "World population share    5.050000e+00\n",
       "GDP (trillion $ 2019)     1.476000e+01\n",
       "dtype: float64"
      ]
     },
     "execution_count": 94,
     "metadata": {},
     "output_type": "execute_result"
    }
   ],
   "source": [
    "df.median()"
   ]
  },
  {
   "cell_type": "markdown",
   "id": "67687252",
   "metadata": {},
   "source": [
    "<h3>mad"
   ]
  },
  {
   "cell_type": "code",
   "execution_count": 95,
   "id": "0c735985",
   "metadata": {
    "scrolled": false
   },
   "outputs": [
    {
     "data": {
      "text/plain": [
       "Population 2019           4.250549e+08\n",
       "Area (Km²)                3.543310e+06\n",
       "Density (P/Km²)           9.300000e+01\n",
       "World population share    5.512500e+00\n",
       "GDP (trillion $ 2019)     4.890000e+00\n",
       "dtype: float64"
      ]
     },
     "execution_count": 95,
     "metadata": {},
     "output_type": "execute_result"
    }
   ],
   "source": [
    "df.mad()"
   ]
  },
  {
   "cell_type": "markdown",
   "id": "2796cc4c",
   "metadata": {},
   "source": [
    "<h3>kurt"
   ]
  },
  {
   "cell_type": "code",
   "execution_count": 96,
   "id": "b0435110",
   "metadata": {
    "scrolled": true
   },
   "outputs": [
    {
     "data": {
      "text/plain": [
       "Population 2019           3.095914\n",
       "Area (Km²)               -2.809368\n",
       "Density (P/Km²)           1.956884\n",
       "World population share    3.069162\n",
       "GDP (trillion $ 2019)    -0.308302\n",
       "dtype: float64"
      ]
     },
     "execution_count": 96,
     "metadata": {},
     "output_type": "execute_result"
    }
   ],
   "source": [
    "df.kurt()"
   ]
  },
  {
   "cell_type": "markdown",
   "id": "c459713b",
   "metadata": {},
   "source": [
    "<h3>agg"
   ]
  },
  {
   "cell_type": "code",
   "execution_count": 97,
   "id": "65609ee1",
   "metadata": {
    "scrolled": false
   },
   "outputs": [
    {
     "data": {
      "text/html": [
       "<div>\n",
       "<style scoped>\n",
       "    .dataframe tbody tr th:only-of-type {\n",
       "        vertical-align: middle;\n",
       "    }\n",
       "\n",
       "    .dataframe tbody tr th {\n",
       "        vertical-align: top;\n",
       "    }\n",
       "\n",
       "    .dataframe thead th {\n",
       "        text-align: right;\n",
       "    }\n",
       "</style>\n",
       "<table border=\"1\" class=\"dataframe\">\n",
       "  <thead>\n",
       "    <tr style=\"text-align: right;\">\n",
       "      <th></th>\n",
       "      <th>Population 2019</th>\n",
       "      <th>Area (Km²)</th>\n",
       "      <th>Density (P/Km²)</th>\n",
       "      <th>World population share</th>\n",
       "      <th>GDP (trillion $ 2019)</th>\n",
       "    </tr>\n",
       "  </thead>\n",
       "  <tbody>\n",
       "    <tr>\n",
       "      <th>sum</th>\n",
       "      <td>2334695633</td>\n",
       "      <td>22898024</td>\n",
       "      <td>648</td>\n",
       "      <td>30.3</td>\n",
       "      <td>53.78</td>\n",
       "    </tr>\n",
       "    <tr>\n",
       "      <th>max</th>\n",
       "      <td>1433783686</td>\n",
       "      <td>9388211</td>\n",
       "      <td>348</td>\n",
       "      <td>18.6</td>\n",
       "      <td>19.39</td>\n",
       "    </tr>\n",
       "    <tr>\n",
       "      <th>min</th>\n",
       "      <td>126860301</td>\n",
       "      <td>364555</td>\n",
       "      <td>36</td>\n",
       "      <td>1.6</td>\n",
       "      <td>4.87</td>\n",
       "    </tr>\n",
       "  </tbody>\n",
       "</table>\n",
       "</div>"
      ],
      "text/plain": [
       "     Population 2019  Area (Km²)  Density (P/Km²)  World population share  \\\n",
       "sum       2334695633    22898024              648                    30.3   \n",
       "max       1433783686     9388211              348                    18.6   \n",
       "min        126860301      364555               36                     1.6   \n",
       "\n",
       "     GDP (trillion $ 2019)  \n",
       "sum                  53.78  \n",
       "max                  19.39  \n",
       "min                   4.87  "
      ]
     },
     "execution_count": 97,
     "metadata": {},
     "output_type": "execute_result"
    }
   ],
   "source": [
    "df.agg([sum,max,min])"
   ]
  },
  {
   "cell_type": "markdown",
   "id": "fb7723bf",
   "metadata": {},
   "source": [
    "<h3>comparison"
   ]
  },
  {
   "cell_type": "code",
   "execution_count": 98,
   "id": "b5aff57e",
   "metadata": {
    "scrolled": true
   },
   "outputs": [
    {
     "data": {
      "text/html": [
       "<div>\n",
       "<style scoped>\n",
       "    .dataframe tbody tr th:only-of-type {\n",
       "        vertical-align: middle;\n",
       "    }\n",
       "\n",
       "    .dataframe tbody tr th {\n",
       "        vertical-align: top;\n",
       "    }\n",
       "\n",
       "    .dataframe thead tr th {\n",
       "        text-align: left;\n",
       "    }\n",
       "</style>\n",
       "<table border=\"1\" class=\"dataframe\">\n",
       "  <thead>\n",
       "    <tr>\n",
       "      <th></th>\n",
       "      <th colspan=\"2\" halign=\"left\">Population 2019</th>\n",
       "      <th colspan=\"2\" halign=\"left\">Area (Km²)</th>\n",
       "      <th colspan=\"2\" halign=\"left\">Density (P/Km²)</th>\n",
       "      <th colspan=\"2\" halign=\"left\">World population share</th>\n",
       "      <th colspan=\"2\" halign=\"left\">GDP (trillion $ 2019)</th>\n",
       "    </tr>\n",
       "    <tr>\n",
       "      <th></th>\n",
       "      <th>self</th>\n",
       "      <th>other</th>\n",
       "      <th>self</th>\n",
       "      <th>other</th>\n",
       "      <th>self</th>\n",
       "      <th>other</th>\n",
       "      <th>self</th>\n",
       "      <th>other</th>\n",
       "      <th>self</th>\n",
       "      <th>other</th>\n",
       "    </tr>\n",
       "  </thead>\n",
       "  <tbody>\n",
       "    <tr>\n",
       "      <th>China</th>\n",
       "      <td>1433783686</td>\n",
       "      <td>1433783687</td>\n",
       "      <td>9388211</td>\n",
       "      <td>9388212</td>\n",
       "      <td>153</td>\n",
       "      <td>154</td>\n",
       "      <td>18.6</td>\n",
       "      <td>19.6</td>\n",
       "      <td>12.24</td>\n",
       "      <td>13.24</td>\n",
       "    </tr>\n",
       "    <tr>\n",
       "      <th>E.U</th>\n",
       "      <td>444986729</td>\n",
       "      <td>444986730</td>\n",
       "      <td>3997838</td>\n",
       "      <td>3997839</td>\n",
       "      <td>111</td>\n",
       "      <td>112</td>\n",
       "      <td>5.8</td>\n",
       "      <td>6.8</td>\n",
       "      <td>17.28</td>\n",
       "      <td>18.28</td>\n",
       "    </tr>\n",
       "    <tr>\n",
       "      <th>U.S.A</th>\n",
       "      <td>329064917</td>\n",
       "      <td>329064918</td>\n",
       "      <td>9147420</td>\n",
       "      <td>9147421</td>\n",
       "      <td>36</td>\n",
       "      <td>37</td>\n",
       "      <td>4.3</td>\n",
       "      <td>5.3</td>\n",
       "      <td>19.39</td>\n",
       "      <td>20.39</td>\n",
       "    </tr>\n",
       "    <tr>\n",
       "      <th>Japan</th>\n",
       "      <td>126860301</td>\n",
       "      <td>126860302</td>\n",
       "      <td>364555</td>\n",
       "      <td>364556</td>\n",
       "      <td>348</td>\n",
       "      <td>349</td>\n",
       "      <td>1.6</td>\n",
       "      <td>2.6</td>\n",
       "      <td>4.87</td>\n",
       "      <td>5.87</td>\n",
       "    </tr>\n",
       "  </tbody>\n",
       "</table>\n",
       "</div>"
      ],
      "text/plain": [
       "      Population 2019             Area (Km²)          Density (P/Km²)        \\\n",
       "                 self       other       self    other            self other   \n",
       "China      1433783686  1433783687    9388211  9388212             153   154   \n",
       "E.U         444986729   444986730    3997838  3997839             111   112   \n",
       "U.S.A       329064917   329064918    9147420  9147421              36    37   \n",
       "Japan       126860301   126860302     364555   364556             348   349   \n",
       "\n",
       "      World population share       GDP (trillion $ 2019)         \n",
       "                        self other                  self  other  \n",
       "China                   18.6  19.6                 12.24  13.24  \n",
       "E.U                      5.8   6.8                 17.28  18.28  \n",
       "U.S.A                    4.3   5.3                 19.39  20.39  \n",
       "Japan                    1.6   2.6                  4.87   5.87  "
      ]
     },
     "execution_count": 98,
     "metadata": {},
     "output_type": "execute_result"
    }
   ],
   "source": [
    "df.compare(df+1)"
   ]
  },
  {
   "cell_type": "code",
   "execution_count": 99,
   "id": "3ac65257",
   "metadata": {
    "scrolled": true
   },
   "outputs": [
    {
     "data": {
      "text/html": [
       "<div>\n",
       "<style scoped>\n",
       "    .dataframe tbody tr th:only-of-type {\n",
       "        vertical-align: middle;\n",
       "    }\n",
       "\n",
       "    .dataframe tbody tr th {\n",
       "        vertical-align: top;\n",
       "    }\n",
       "\n",
       "    .dataframe thead th {\n",
       "        text-align: right;\n",
       "    }\n",
       "</style>\n",
       "<table border=\"1\" class=\"dataframe\">\n",
       "  <thead>\n",
       "    <tr style=\"text-align: right;\">\n",
       "      <th></th>\n",
       "      <th>Population 2019</th>\n",
       "      <th>Area (Km²)</th>\n",
       "      <th>Density (P/Km²)</th>\n",
       "      <th>World population share</th>\n",
       "      <th>GDP (trillion $ 2019)</th>\n",
       "    </tr>\n",
       "  </thead>\n",
       "  <tbody>\n",
       "    <tr>\n",
       "      <th>China</th>\n",
       "      <td>True</td>\n",
       "      <td>True</td>\n",
       "      <td>True</td>\n",
       "      <td>True</td>\n",
       "      <td>True</td>\n",
       "    </tr>\n",
       "    <tr>\n",
       "      <th>E.U</th>\n",
       "      <td>True</td>\n",
       "      <td>True</td>\n",
       "      <td>True</td>\n",
       "      <td>True</td>\n",
       "      <td>True</td>\n",
       "    </tr>\n",
       "    <tr>\n",
       "      <th>U.S.A</th>\n",
       "      <td>True</td>\n",
       "      <td>True</td>\n",
       "      <td>True</td>\n",
       "      <td>True</td>\n",
       "      <td>True</td>\n",
       "    </tr>\n",
       "    <tr>\n",
       "      <th>Japan</th>\n",
       "      <td>True</td>\n",
       "      <td>True</td>\n",
       "      <td>True</td>\n",
       "      <td>False</td>\n",
       "      <td>True</td>\n",
       "    </tr>\n",
       "  </tbody>\n",
       "</table>\n",
       "</div>"
      ],
      "text/plain": [
       "       Population 2019  Area (Km²)  Density (P/Km²)  World population share  \\\n",
       "China             True        True             True                    True   \n",
       "E.U               True        True             True                    True   \n",
       "U.S.A             True        True             True                    True   \n",
       "Japan             True        True             True                   False   \n",
       "\n",
       "       GDP (trillion $ 2019)  \n",
       "China                   True  \n",
       "E.U                     True  \n",
       "U.S.A                   True  \n",
       "Japan                   True  "
      ]
     },
     "execution_count": 99,
     "metadata": {},
     "output_type": "execute_result"
    }
   ],
   "source": [
    "df**2>df*2"
   ]
  },
  {
   "cell_type": "markdown",
   "id": "c5ed889a",
   "metadata": {},
   "source": [
    "<h3>see also"
   ]
  },
  {
   "cell_type": "raw",
   "id": "3a012dee",
   "metadata": {},
   "source": [
    ">= < <= == ge gt lt le..."
   ]
  },
  {
   "cell_type": "markdown",
   "id": "632b1e69",
   "metadata": {},
   "source": [
    "<h2>Plots"
   ]
  },
  {
   "cell_type": "code",
   "execution_count": 100,
   "id": "ca1f90b4",
   "metadata": {},
   "outputs": [],
   "source": [
    "import matplotlib.pyplot as plt"
   ]
  },
  {
   "cell_type": "code",
   "execution_count": 101,
   "id": "9e480e4b",
   "metadata": {
    "scrolled": false
   },
   "outputs": [
    {
     "data": {
      "text/html": [
       "<div>\n",
       "<style scoped>\n",
       "    .dataframe tbody tr th:only-of-type {\n",
       "        vertical-align: middle;\n",
       "    }\n",
       "\n",
       "    .dataframe tbody tr th {\n",
       "        vertical-align: top;\n",
       "    }\n",
       "\n",
       "    .dataframe thead th {\n",
       "        text-align: right;\n",
       "    }\n",
       "</style>\n",
       "<table border=\"1\" class=\"dataframe\">\n",
       "  <thead>\n",
       "    <tr style=\"text-align: right;\">\n",
       "      <th></th>\n",
       "      <th>Population 2019</th>\n",
       "      <th>Area (Km²)</th>\n",
       "      <th>Density (P/Km²)</th>\n",
       "      <th>World population share</th>\n",
       "      <th>GDP (trillion $ 2019)</th>\n",
       "    </tr>\n",
       "  </thead>\n",
       "  <tbody>\n",
       "    <tr>\n",
       "      <th>China</th>\n",
       "      <td>1433783686</td>\n",
       "      <td>9388211</td>\n",
       "      <td>153</td>\n",
       "      <td>18.6</td>\n",
       "      <td>12.24</td>\n",
       "    </tr>\n",
       "    <tr>\n",
       "      <th>E.U</th>\n",
       "      <td>444986729</td>\n",
       "      <td>3997838</td>\n",
       "      <td>111</td>\n",
       "      <td>5.8</td>\n",
       "      <td>17.28</td>\n",
       "    </tr>\n",
       "    <tr>\n",
       "      <th>U.S.A</th>\n",
       "      <td>329064917</td>\n",
       "      <td>9147420</td>\n",
       "      <td>36</td>\n",
       "      <td>4.3</td>\n",
       "      <td>19.39</td>\n",
       "    </tr>\n",
       "    <tr>\n",
       "      <th>Japan</th>\n",
       "      <td>126860301</td>\n",
       "      <td>364555</td>\n",
       "      <td>348</td>\n",
       "      <td>1.6</td>\n",
       "      <td>4.87</td>\n",
       "    </tr>\n",
       "  </tbody>\n",
       "</table>\n",
       "</div>"
      ],
      "text/plain": [
       "       Population 2019  Area (Km²)  Density (P/Km²)  World population share  \\\n",
       "China       1433783686     9388211              153                    18.6   \n",
       "E.U          444986729     3997838              111                     5.8   \n",
       "U.S.A        329064917     9147420               36                     4.3   \n",
       "Japan        126860301      364555              348                     1.6   \n",
       "\n",
       "       GDP (trillion $ 2019)  \n",
       "China                  12.24  \n",
       "E.U                    17.28  \n",
       "U.S.A                  19.39  \n",
       "Japan                   4.87  "
      ]
     },
     "metadata": {},
     "output_type": "display_data"
    }
   ],
   "source": [
    "df = pd.DataFrame(\n",
    "    {\n",
    "        'Population 2019': [1433783686, 444986729, 329064917, 126860301],\n",
    "        'Area (Km²)': [9388211, 3997838, 9147420, 364555],\n",
    "        'Density (P/Km²)': [ 153, 111, 36, 348],\n",
    "        'World population share': [ 18.6, 5.8, 4.3, 1.6],\n",
    "        'GDP (trillion $ 2019)':  [12.24, 17.28, 19.39, 4.87]\n",
    "    },\n",
    "    index=['China','E.U','U.S.A','Japan']\n",
    ")\n",
    "display(df)"
   ]
  },
  {
   "cell_type": "markdown",
   "id": "85bfe990",
   "metadata": {},
   "source": [
    "<h3>line"
   ]
  },
  {
   "cell_type": "code",
   "execution_count": 102,
   "id": "51ddfef3",
   "metadata": {
    "scrolled": false
   },
   "outputs": [
    {
     "data": {
      "image/png": "[encoded data removed]",
      "text/plain": [
       "<Figure size 432x288 with 1 Axes>"
      ]
     },
     "metadata": {
      "needs_background": "light"
     },
     "output_type": "display_data"
    }
   ],
   "source": [
    "ax = df.plot.line()\n",
    "plt.show()"
   ]
  },
  {
   "cell_type": "markdown",
   "id": "d50c2dc0",
   "metadata": {},
   "source": [
    "<h3>hist"
   ]
  },
  {
   "cell_type": "code",
   "execution_count": 103,
   "id": "270991bd",
   "metadata": {
    "scrolled": true
   },
   "outputs": [
    {
     "data": {
      "image/png": "[encoded data removed]",
      "text/plain": [
       "<Figure size 432x288 with 1 Axes>"
      ]
     },
     "metadata": {
      "needs_background": "light"
     },
     "output_type": "display_data"
    }
   ],
   "source": [
    "ax = df.plot.hist()\n",
    "plt.show()"
   ]
  },
  {
   "cell_type": "markdown",
   "id": "34a7a030",
   "metadata": {},
   "source": [
    "<h3>bar"
   ]
  },
  {
   "cell_type": "code",
   "execution_count": 104,
   "id": "a907870b",
   "metadata": {
    "scrolled": false
   },
   "outputs": [
    {
     "data": {
      "image/png": "[encoded data removed]",
      "text/plain": [
       "<Figure size 432x288 with 1 Axes>"
      ]
     },
     "metadata": {
      "needs_background": "light"
     },
     "output_type": "display_data"
    }
   ],
   "source": [
    "df.plot.bar()\n",
    "plt.show()"
   ]
  },
  {
   "cell_type": "code",
   "execution_count": 105,
   "id": "ec7a33cb",
   "metadata": {
    "scrolled": true
   },
   "outputs": [
    {
     "data": {
      "image/png": "[encoded data removed]",
      "text/plain": [
       "<Figure size 432x288 with 1 Axes>"
      ]
     },
     "metadata": {
      "needs_background": "light"
     },
     "output_type": "display_data"
    }
   ],
   "source": [
    "df.plot.bar(y=[\"Population 2019\",\"Area (Km²)\"])\n",
    "plt.show()"
   ]
  },
  {
   "cell_type": "markdown",
   "id": "2b237ed2",
   "metadata": {},
   "source": [
    "<h3>barh"
   ]
  },
  {
   "cell_type": "code",
   "execution_count": 106,
   "id": "17377070",
   "metadata": {
    "scrolled": true
   },
   "outputs": [
    {
     "data": {
      "image/png": "[encoded data removed]",
      "text/plain": [
       "<Figure size 432x288 with 1 Axes>"
      ]
     },
     "metadata": {
      "needs_background": "light"
     },
     "output_type": "display_data"
    }
   ],
   "source": [
    "df.plot.barh()\n",
    "plt.show()"
   ]
  },
  {
   "cell_type": "code",
   "execution_count": 107,
   "id": "65fc3ee1",
   "metadata": {
    "scrolled": true
   },
   "outputs": [
    {
     "data": {
      "image/png": "[encoded data removed]",
      "text/plain": [
       "<Figure size 432x288 with 1 Axes>"
      ]
     },
     "metadata": {
      "needs_background": "light"
     },
     "output_type": "display_data"
    }
   ],
   "source": [
    "df.plot.barh(y=[\"Population 2019\",\"Area (Km²)\"])\n",
    "plt.show()"
   ]
  },
  {
   "cell_type": "markdown",
   "id": "e6358a71",
   "metadata": {},
   "source": [
    "<h3>pie"
   ]
  },
  {
   "cell_type": "code",
   "execution_count": 108,
   "id": "a94953e2",
   "metadata": {
    "scrolled": false
   },
   "outputs": [
    {
     "data": {
      "image/png": "[encoded data removed]",
      "text/plain": [
       "<Figure size 1440x1440 with 5 Axes>"
      ]
     },
     "metadata": {},
     "output_type": "display_data"
    }
   ],
   "source": [
    "ax = df.plot.pie(subplots=True,figsize=(20,20))\n",
    "plt.show()"
   ]
  },
  {
   "cell_type": "code",
   "execution_count": 109,
   "id": "0a8875a2",
   "metadata": {
    "scrolled": true
   },
   "outputs": [
    {
     "data": {
      "image/png": "[encoded data removed]",
      "text/plain": [
       "<Figure size 432x288 with 1 Axes>"
      ]
     },
     "metadata": {},
     "output_type": "display_data"
    }
   ],
   "source": [
    "ax = df.plot.pie(y=\"Density (P/Km²)\")\n",
    "plt.show()"
   ]
  },
  {
   "cell_type": "markdown",
   "id": "79b9f916",
   "metadata": {},
   "source": [
    "<h3>kde"
   ]
  },
  {
   "cell_type": "raw",
   "id": "72f35bf8",
   "metadata": {},
   "source": [
    "!pip install scipy"
   ]
  },
  {
   "cell_type": "code",
   "execution_count": 110,
   "id": "bc3dc300",
   "metadata": {
    "scrolled": false
   },
   "outputs": [
    {
     "data": {
      "image/png": "[encoded data removed]",
      "text/plain": [
       "<Figure size 432x288 with 1 Axes>"
      ]
     },
     "metadata": {
      "needs_background": "light"
     },
     "output_type": "display_data"
    }
   ],
   "source": [
    "series = pd.Series([12,32,54,65,12,45,69,45,78,36,12,45,65])\n",
    "ax = series.plot.kde()\n",
    "plt.show()"
   ]
  },
  {
   "cell_type": "markdown",
   "id": "0e7aa143",
   "metadata": {},
   "source": [
    "<h3>density"
   ]
  },
  {
   "cell_type": "code",
   "execution_count": 111,
   "id": "53fb3c27",
   "metadata": {},
   "outputs": [
    {
     "data": {
      "image/png": "[encoded data removed]",
      "text/plain": [
       "<Figure size 432x288 with 1 Axes>"
      ]
     },
     "metadata": {
      "needs_background": "light"
     },
     "output_type": "display_data"
    }
   ],
   "source": [
    "series = pd.Series([15,32,64,75,9,33,65,48,45,35,62])\n",
    "ax = series.plot.density()\n",
    "plt.show()"
   ]
  },
  {
   "cell_type": "markdown",
   "id": "f559ab7c",
   "metadata": {},
   "source": [
    "<h3>hexbin"
   ]
  },
  {
   "cell_type": "code",
   "execution_count": 112,
   "id": "f2e17cf2",
   "metadata": {
    "scrolled": true
   },
   "outputs": [
    {
     "data": {
      "image/png": "[encoded data removed]",
      "text/plain": [
       "<Figure size 432x288 with 2 Axes>"
      ]
     },
     "metadata": {
      "needs_background": "light"
     },
     "output_type": "display_data"
    }
   ],
   "source": [
    "ax = df.plot.hexbin(x=\"Density (P/Km²)\",y=\"GDP (trillion $ 2019)\",gridsize=15)\n",
    "plt.show()"
   ]
  },
  {
   "cell_type": "markdown",
   "id": "145e7687",
   "metadata": {},
   "source": [
    "<h3>scatter"
   ]
  },
  {
   "cell_type": "code",
   "execution_count": 113,
   "id": "ff2caf6b",
   "metadata": {
    "scrolled": false
   },
   "outputs": [
    {
     "data": {
      "image/png": "[encoded data removed]",
      "text/plain": [
       "<Figure size 432x288 with 1 Axes>"
      ]
     },
     "metadata": {
      "needs_background": "light"
     },
     "output_type": "display_data"
    }
   ],
   "source": [
    "ax = df.plot.scatter(x=\"Density (P/Km²)\",y=\"GDP (trillion $ 2019)\")\n",
    "plt.show()"
   ]
  },
  {
   "cell_type": "markdown",
   "id": "6a1a0cdd",
   "metadata": {},
   "source": [
    "<h3>boxplot"
   ]
  },
  {
   "cell_type": "code",
   "execution_count": 114,
   "id": "59e221a1",
   "metadata": {
    "scrolled": false
   },
   "outputs": [
    {
     "data": {
      "image/png": "[encoded data removed]",
      "text/plain": [
       "<Figure size 432x288 with 1 Axes>"
      ]
     },
     "metadata": {
      "needs_background": "light"
     },
     "output_type": "display_data"
    }
   ],
   "source": [
    "ax = df.boxplot(column=[\"World population share\",\"GDP (trillion $ 2019)\"])\n",
    "plt.show()"
   ]
  }
 ],
 "metadata": {
  "kernelspec": {
   "display_name": "Python 3 (ipykernel)",
   "language": "python",
   "name": "python3"
  },
  "language_info": {
   "codemirror_mode": {
    "name": "ipython",
    "version": 3
   },
   "file_extension": ".py",
   "mimetype": "text/x-python",
   "name": "python",
   "nbconvert_exporter": "python",
   "pygments_lexer": "ipython3",
   "version": "3.10.0"
  }
 },
 "nbformat": 4,
 "nbformat_minor": 5
}
