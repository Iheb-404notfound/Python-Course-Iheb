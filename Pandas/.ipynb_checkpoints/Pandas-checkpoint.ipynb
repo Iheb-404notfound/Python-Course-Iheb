{
 "cells": [
  {
   "cell_type": "markdown",
   "id": "1ad1d83f",
   "metadata": {},
   "source": [
    "<center><h1>Pandas"
   ]
  },
  {
   "cell_type": "markdown",
   "id": "86c028da",
   "metadata": {},
   "source": [
    "<h3>Installation in Terminal"
   ]
  },
  {
   "cell_type": "raw",
   "id": "61d1d5ee",
   "metadata": {},
   "source": [
    "!pip install pandas"
   ]
  },
  {
   "cell_type": "markdown",
   "id": "fa6ee977",
   "metadata": {},
   "source": [
    "<h3>import"
   ]
  },
  {
   "cell_type": "code",
   "execution_count": 52,
   "id": "d5996668",
   "metadata": {},
   "outputs": [],
   "source": [
    "import pandas as pd"
   ]
  },
  {
   "cell_type": "markdown",
   "id": "697c86d0",
   "metadata": {},
   "source": [
    "<h3>DataFrame"
   ]
  },
  {
   "cell_type": "code",
   "execution_count": 53,
   "id": "ecca5a2f",
   "metadata": {
    "scrolled": false
   },
   "outputs": [
    {
     "data": {
      "text/html": [
       "<div>\n",
       "<style scoped>\n",
       "    .dataframe tbody tr th:only-of-type {\n",
       "        vertical-align: middle;\n",
       "    }\n",
       "\n",
       "    .dataframe tbody tr th {\n",
       "        vertical-align: top;\n",
       "    }\n",
       "\n",
       "    .dataframe thead th {\n",
       "        text-align: right;\n",
       "    }\n",
       "</style>\n",
       "<table border=\"1\" class=\"dataframe\">\n",
       "  <thead>\n",
       "    <tr style=\"text-align: right;\">\n",
       "      <th></th>\n",
       "      <th>Name</th>\n",
       "      <th>Pronouns</th>\n",
       "      <th>Birth</th>\n",
       "      <th>Occupation</th>\n",
       "      <th>Nationality</th>\n",
       "    </tr>\n",
       "  </thead>\n",
       "  <tbody>\n",
       "    <tr>\n",
       "      <th>0</th>\n",
       "      <td>Rachel Levine</td>\n",
       "      <td>She/Her</td>\n",
       "      <td>1957</td>\n",
       "      <td>Pediatricien</td>\n",
       "      <td>United-Statesian</td>\n",
       "    </tr>\n",
       "    <tr>\n",
       "      <th>1</th>\n",
       "      <td>Alan Turing</td>\n",
       "      <td>He/His</td>\n",
       "      <td>1912</td>\n",
       "      <td>Mathematician</td>\n",
       "      <td>British</td>\n",
       "    </tr>\n",
       "    <tr>\n",
       "      <th>2</th>\n",
       "      <td>Lann Homscheidt</td>\n",
       "      <td>They/Their</td>\n",
       "      <td>1965</td>\n",
       "      <td>Linguist</td>\n",
       "      <td>German</td>\n",
       "    </tr>\n",
       "    <tr>\n",
       "      <th>3</th>\n",
       "      <td>Alan Hart</td>\n",
       "      <td>He/His</td>\n",
       "      <td>1890</td>\n",
       "      <td>Radiologist</td>\n",
       "      <td>United-Statesian</td>\n",
       "    </tr>\n",
       "  </tbody>\n",
       "</table>\n",
       "</div>"
      ],
      "text/plain": [
       "              Name    Pronouns  Birth     Occupation       Nationality\n",
       "0    Rachel Levine     She/Her   1957   Pediatricien  United-Statesian\n",
       "1      Alan Turing      He/His   1912  Mathematician           British\n",
       "2  Lann Homscheidt  They/Their   1965       Linguist            German\n",
       "3        Alan Hart      He/His   1890    Radiologist  United-Statesian"
      ]
     },
     "execution_count": 53,
     "metadata": {},
     "output_type": "execute_result"
    }
   ],
   "source": [
    "df = pd.DataFrame({\n",
    "    \"Name\": [\"Rachel Levine\",\"Alan Turing\",\"Lann Homscheidt\",\"Alan Hart\"],\n",
    "    \"Pronouns\":[\"She/Her\",\"He/His\",\"They/Their\",\"He/His\"],\n",
    "    \"Birth\":[1957,1912,1965,1890],\n",
    "    \"Occupation\":[\"Pediatricien\",\"Mathematician\",\"Linguist\",\"Radiologist\"],\n",
    "    \"Nationality\":[\"United-Statesian\",\"British\",\"German\",\"United-Statesian\"]\n",
    "})\n",
    "\n",
    "df"
   ]
  },
  {
   "cell_type": "markdown",
   "id": "3513441c",
   "metadata": {},
   "source": [
    "<h3>head"
   ]
  },
  {
   "cell_type": "code",
   "execution_count": 54,
   "id": "013dc814",
   "metadata": {
    "scrolled": true
   },
   "outputs": [
    {
     "data": {
      "text/html": [
       "<div>\n",
       "<style scoped>\n",
       "    .dataframe tbody tr th:only-of-type {\n",
       "        vertical-align: middle;\n",
       "    }\n",
       "\n",
       "    .dataframe tbody tr th {\n",
       "        vertical-align: top;\n",
       "    }\n",
       "\n",
       "    .dataframe thead th {\n",
       "        text-align: right;\n",
       "    }\n",
       "</style>\n",
       "<table border=\"1\" class=\"dataframe\">\n",
       "  <thead>\n",
       "    <tr style=\"text-align: right;\">\n",
       "      <th></th>\n",
       "      <th>Name</th>\n",
       "      <th>Pronouns</th>\n",
       "      <th>Birth</th>\n",
       "      <th>Occupation</th>\n",
       "      <th>Nationality</th>\n",
       "    </tr>\n",
       "  </thead>\n",
       "  <tbody>\n",
       "    <tr>\n",
       "      <th>0</th>\n",
       "      <td>Rachel Levine</td>\n",
       "      <td>She/Her</td>\n",
       "      <td>1957</td>\n",
       "      <td>Pediatricien</td>\n",
       "      <td>United-Statesian</td>\n",
       "    </tr>\n",
       "    <tr>\n",
       "      <th>1</th>\n",
       "      <td>Alan Turing</td>\n",
       "      <td>He/His</td>\n",
       "      <td>1912</td>\n",
       "      <td>Mathematician</td>\n",
       "      <td>British</td>\n",
       "    </tr>\n",
       "  </tbody>\n",
       "</table>\n",
       "</div>"
      ],
      "text/plain": [
       "            Name Pronouns  Birth     Occupation       Nationality\n",
       "0  Rachel Levine  She/Her   1957   Pediatricien  United-Statesian\n",
       "1    Alan Turing   He/His   1912  Mathematician           British"
      ]
     },
     "execution_count": 54,
     "metadata": {},
     "output_type": "execute_result"
    }
   ],
   "source": [
    "df.head(2)"
   ]
  },
  {
   "cell_type": "markdown",
   "id": "41eb1462",
   "metadata": {},
   "source": [
    "<h3>tail"
   ]
  },
  {
   "cell_type": "code",
   "execution_count": 55,
   "id": "8370d358",
   "metadata": {
    "scrolled": true
   },
   "outputs": [
    {
     "data": {
      "text/html": [
       "<div>\n",
       "<style scoped>\n",
       "    .dataframe tbody tr th:only-of-type {\n",
       "        vertical-align: middle;\n",
       "    }\n",
       "\n",
       "    .dataframe tbody tr th {\n",
       "        vertical-align: top;\n",
       "    }\n",
       "\n",
       "    .dataframe thead th {\n",
       "        text-align: right;\n",
       "    }\n",
       "</style>\n",
       "<table border=\"1\" class=\"dataframe\">\n",
       "  <thead>\n",
       "    <tr style=\"text-align: right;\">\n",
       "      <th></th>\n",
       "      <th>Name</th>\n",
       "      <th>Pronouns</th>\n",
       "      <th>Birth</th>\n",
       "      <th>Occupation</th>\n",
       "      <th>Nationality</th>\n",
       "    </tr>\n",
       "  </thead>\n",
       "  <tbody>\n",
       "    <tr>\n",
       "      <th>2</th>\n",
       "      <td>Lann Homscheidt</td>\n",
       "      <td>They/Their</td>\n",
       "      <td>1965</td>\n",
       "      <td>Linguist</td>\n",
       "      <td>German</td>\n",
       "    </tr>\n",
       "    <tr>\n",
       "      <th>3</th>\n",
       "      <td>Alan Hart</td>\n",
       "      <td>He/His</td>\n",
       "      <td>1890</td>\n",
       "      <td>Radiologist</td>\n",
       "      <td>United-Statesian</td>\n",
       "    </tr>\n",
       "  </tbody>\n",
       "</table>\n",
       "</div>"
      ],
      "text/plain": [
       "              Name    Pronouns  Birth   Occupation       Nationality\n",
       "2  Lann Homscheidt  They/Their   1965     Linguist            German\n",
       "3        Alan Hart      He/His   1890  Radiologist  United-Statesian"
      ]
     },
     "execution_count": 55,
     "metadata": {},
     "output_type": "execute_result"
    }
   ],
   "source": [
    "df.tail(2)"
   ]
  },
  {
   "cell_type": "markdown",
   "id": "82cbdbd4",
   "metadata": {},
   "source": [
    "<h3>loc"
   ]
  },
  {
   "cell_type": "code",
   "execution_count": 60,
   "id": "a49046f8",
   "metadata": {
    "scrolled": false
   },
   "outputs": [
    {
     "data": {
      "text/plain": [
       "Name           Lann Homscheidt\n",
       "Pronouns            They/Their\n",
       "Birth                     1965\n",
       "Occupation            Linguist\n",
       "Nationality             German\n",
       "Name: 2, dtype: object"
      ]
     },
     "execution_count": 60,
     "metadata": {},
     "output_type": "execute_result"
    }
   ],
   "source": [
    "df.loc[2]"
   ]
  },
  {
   "cell_type": "markdown",
   "id": "c7789cdf",
   "metadata": {},
   "source": [
    "<h3>at"
   ]
  },
  {
   "cell_type": "code",
   "execution_count": 62,
   "id": "33c95a5e",
   "metadata": {
    "scrolled": true
   },
   "outputs": [
    {
     "data": {
      "text/plain": [
       "'They/Their'"
      ]
     },
     "execution_count": 62,
     "metadata": {},
     "output_type": "execute_result"
    }
   ],
   "source": [
    "df.loc[2].at[\"Pronouns\"]"
   ]
  },
  {
   "cell_type": "markdown",
   "id": "36dfaed5",
   "metadata": {},
   "source": [
    "<h3>at"
   ]
  },
  {
   "cell_type": "code",
   "execution_count": 63,
   "id": "6e35fbdc",
   "metadata": {
    "scrolled": false
   },
   "outputs": [
    {
     "data": {
      "text/plain": [
       "'They/Their'"
      ]
     },
     "execution_count": 63,
     "metadata": {},
     "output_type": "execute_result"
    }
   ],
   "source": [
    "df.at[2,\"Pronouns\"]"
   ]
  },
  {
   "cell_type": "markdown",
   "id": "33c02623",
   "metadata": {},
   "source": [
    "<h3>select_dtypes"
   ]
  },
  {
   "cell_type": "code",
   "execution_count": 65,
   "id": "29e1b09f",
   "metadata": {
    "scrolled": false
   },
   "outputs": [
    {
     "data": {
      "text/html": [
       "<div>\n",
       "<style scoped>\n",
       "    .dataframe tbody tr th:only-of-type {\n",
       "        vertical-align: middle;\n",
       "    }\n",
       "\n",
       "    .dataframe tbody tr th {\n",
       "        vertical-align: top;\n",
       "    }\n",
       "\n",
       "    .dataframe thead th {\n",
       "        text-align: right;\n",
       "    }\n",
       "</style>\n",
       "<table border=\"1\" class=\"dataframe\">\n",
       "  <thead>\n",
       "    <tr style=\"text-align: right;\">\n",
       "      <th></th>\n",
       "      <th>Birth</th>\n",
       "    </tr>\n",
       "  </thead>\n",
       "  <tbody>\n",
       "    <tr>\n",
       "      <th>0</th>\n",
       "      <td>1957</td>\n",
       "    </tr>\n",
       "    <tr>\n",
       "      <th>1</th>\n",
       "      <td>1912</td>\n",
       "    </tr>\n",
       "    <tr>\n",
       "      <th>2</th>\n",
       "      <td>1965</td>\n",
       "    </tr>\n",
       "    <tr>\n",
       "      <th>3</th>\n",
       "      <td>1890</td>\n",
       "    </tr>\n",
       "  </tbody>\n",
       "</table>\n",
       "</div>"
      ],
      "text/plain": [
       "   Birth\n",
       "0   1957\n",
       "1   1912\n",
       "2   1965\n",
       "3   1890"
      ]
     },
     "execution_count": 65,
     "metadata": {},
     "output_type": "execute_result"
    }
   ],
   "source": [
    "df.select_dtypes(include=int)"
   ]
  },
  {
   "cell_type": "markdown",
   "id": "c943b9ce",
   "metadata": {},
   "source": [
    "<h3>values"
   ]
  },
  {
   "cell_type": "code",
   "execution_count": 91,
   "id": "76418b49",
   "metadata": {
    "scrolled": true
   },
   "outputs": [
    {
     "data": {
      "text/plain": [
       "array([['Rachel Levine', 'She/Her', 1957, 'Pediatricien',\n",
       "        'United-Statesian'],\n",
       "       ['Alan Turing', 'He/His', 1912, 'Mathematician', 'British'],\n",
       "       ['Lann Homscheidt', 'They/Their', 1965, 'Linguist', 'German'],\n",
       "       ['Alan Hart', 'He/His', 1890, 'Radiologist', 'United-Statesian']],\n",
       "      dtype=object)"
      ]
     },
     "execution_count": 91,
     "metadata": {},
     "output_type": "execute_result"
    }
   ],
   "source": [
    "df.values"
   ]
  },
  {
   "cell_type": "markdown",
   "id": "77bc384c",
   "metadata": {},
   "source": [
    "<h3>to_numpy"
   ]
  },
  {
   "cell_type": "code",
   "execution_count": 66,
   "id": "a7c62a85",
   "metadata": {
    "scrolled": false
   },
   "outputs": [
    {
     "data": {
      "text/plain": [
       "array([['Rachel Levine', 'She/Her', 1957, 'Pediatricien',\n",
       "        'United-Statesian'],\n",
       "       ['Alan Turing', 'He/His', 1912, 'Mathematician', 'British'],\n",
       "       ['Lann Homscheidt', 'They/Their', 1965, 'Linguist', 'German'],\n",
       "       ['Alan Hart', 'He/His', 1890, 'Radiologist', 'United-Statesian']],\n",
       "      dtype=object)"
      ]
     },
     "execution_count": 66,
     "metadata": {},
     "output_type": "execute_result"
    }
   ],
   "source": [
    "df.to_numpy()"
   ]
  },
  {
   "cell_type": "markdown",
   "id": "6593e366",
   "metadata": {},
   "source": [
    "<h3>axes"
   ]
  },
  {
   "cell_type": "code",
   "execution_count": 68,
   "id": "f11d3ec7",
   "metadata": {
    "scrolled": false
   },
   "outputs": [
    {
     "data": {
      "text/plain": [
       "[RangeIndex(start=0, stop=4, step=1),\n",
       " Index(['Name', 'Pronouns', 'Birth', 'Occupation', 'Nationality'], dtype='object')]"
      ]
     },
     "execution_count": 68,
     "metadata": {},
     "output_type": "execute_result"
    }
   ],
   "source": [
    "df.axes"
   ]
  },
  {
   "cell_type": "markdown",
   "id": "de8fac28",
   "metadata": {},
   "source": [
    "<h3>items"
   ]
  },
  {
   "cell_type": "code",
   "execution_count": 94,
   "id": "cdfe90c2",
   "metadata": {
    "scrolled": true
   },
   "outputs": [
    {
     "data": {
      "text/plain": [
       "<bound method DataFrame.items of               Name    Pronouns  Birth     Occupation       Nationality\n",
       "0    Rachel Levine     She/Her   1957   Pediatricien  United-Statesian\n",
       "1      Alan Turing      He/His   1912  Mathematician           British\n",
       "2  Lann Homscheidt  They/Their   1965       Linguist            German\n",
       "3        Alan Hart      He/His   1890    Radiologist  United-Statesian>"
      ]
     },
     "execution_count": 94,
     "metadata": {},
     "output_type": "execute_result"
    }
   ],
   "source": [
    "df.items"
   ]
  },
  {
   "cell_type": "markdown",
   "id": "934c1dd4",
   "metadata": {},
   "source": [
    "<h3>keys"
   ]
  },
  {
   "cell_type": "code",
   "execution_count": 101,
   "id": "7e121532",
   "metadata": {
    "scrolled": true
   },
   "outputs": [
    {
     "data": {
      "text/plain": [
       "<bound method NDFrame.keys of               Name    Pronouns  Birth     Occupation       Nationality\n",
       "0    Rachel Levine     She/Her   1957   Pediatricien  United-Statesian\n",
       "1      Alan Turing      He/His   1912  Mathematician           British\n",
       "2  Lann Homscheidt  They/Their   1965       Linguist            German\n",
       "3        Alan Hart      He/His   1890    Radiologist  United-Statesian>"
      ]
     },
     "execution_count": 101,
     "metadata": {},
     "output_type": "execute_result"
    }
   ],
   "source": [
    "df.keys"
   ]
  },
  {
   "cell_type": "markdown",
   "id": "d0ecef9e",
   "metadata": {},
   "source": [
    "<h3>index"
   ]
  },
  {
   "cell_type": "code",
   "execution_count": 98,
   "id": "ed5de695",
   "metadata": {
    "scrolled": true
   },
   "outputs": [
    {
     "data": {
      "text/plain": [
       "RangeIndex(start=0, stop=4, step=1)"
      ]
     },
     "execution_count": 98,
     "metadata": {},
     "output_type": "execute_result"
    }
   ],
   "source": [
    "df.index"
   ]
  },
  {
   "cell_type": "markdown",
   "id": "7c7108d6",
   "metadata": {},
   "source": [
    "<h3>columns"
   ]
  },
  {
   "cell_type": "code",
   "execution_count": 99,
   "id": "b0014fa7",
   "metadata": {
    "scrolled": true
   },
   "outputs": [
    {
     "data": {
      "text/plain": [
       "Index(['Name', 'Pronouns', 'Birth', 'Occupation', 'Nationality'], dtype='object')"
      ]
     },
     "execution_count": 99,
     "metadata": {},
     "output_type": "execute_result"
    }
   ],
   "source": [
    "df.columns"
   ]
  },
  {
   "cell_type": "markdown",
   "id": "85f5f94d",
   "metadata": {},
   "source": [
    "<h3>keys()"
   ]
  },
  {
   "cell_type": "code",
   "execution_count": 102,
   "id": "4501bccc",
   "metadata": {
    "scrolled": true
   },
   "outputs": [
    {
     "data": {
      "text/plain": [
       "Index(['Name', 'Pronouns', 'Birth', 'Occupation', 'Nationality'], dtype='object')"
      ]
     },
     "execution_count": 102,
     "metadata": {},
     "output_type": "execute_result"
    }
   ],
   "source": [
    "df.keys()"
   ]
  },
  {
   "cell_type": "markdown",
   "id": "d3021bed",
   "metadata": {},
   "source": [
    "<h3>ndim"
   ]
  },
  {
   "cell_type": "code",
   "execution_count": 77,
   "id": "5706e1df",
   "metadata": {
    "scrolled": false
   },
   "outputs": [
    {
     "data": {
      "text/plain": [
       "2"
      ]
     },
     "execution_count": 77,
     "metadata": {},
     "output_type": "execute_result"
    }
   ],
   "source": [
    "df.ndim"
   ]
  },
  {
   "cell_type": "markdown",
   "id": "d8f29143",
   "metadata": {},
   "source": [
    "<h3>shape"
   ]
  },
  {
   "cell_type": "code",
   "execution_count": 80,
   "id": "bdc07bc8",
   "metadata": {
    "scrolled": false
   },
   "outputs": [
    {
     "data": {
      "text/plain": [
       "(4, 5)"
      ]
     },
     "execution_count": 80,
     "metadata": {},
     "output_type": "execute_result"
    }
   ],
   "source": [
    "df.shape"
   ]
  },
  {
   "cell_type": "markdown",
   "id": "06a8f08b",
   "metadata": {},
   "source": [
    "<h3>empty"
   ]
  },
  {
   "cell_type": "code",
   "execution_count": 85,
   "id": "f09d0047",
   "metadata": {
    "scrolled": false
   },
   "outputs": [
    {
     "data": {
      "text/plain": [
       "False"
      ]
     },
     "execution_count": 85,
     "metadata": {},
     "output_type": "execute_result"
    }
   ],
   "source": [
    "df.empty"
   ]
  },
  {
   "cell_type": "markdown",
   "id": "72c4d64a",
   "metadata": {},
   "source": [
    "<h3>size"
   ]
  },
  {
   "cell_type": "code",
   "execution_count": 79,
   "id": "29f94be8",
   "metadata": {
    "scrolled": true
   },
   "outputs": [
    {
     "data": {
      "text/plain": [
       "20"
      ]
     },
     "execution_count": 79,
     "metadata": {},
     "output_type": "execute_result"
    }
   ],
   "source": [
    "df.size #5cols*4rows"
   ]
  },
  {
   "cell_type": "markdown",
   "id": "b4f11cf5",
   "metadata": {},
   "source": [
    "<h3>copy"
   ]
  },
  {
   "cell_type": "code",
   "execution_count": 88,
   "id": "2ec9f6df",
   "metadata": {
    "scrolled": false
   },
   "outputs": [
    {
     "data": {
      "text/html": [
       "<div>\n",
       "<style scoped>\n",
       "    .dataframe tbody tr th:only-of-type {\n",
       "        vertical-align: middle;\n",
       "    }\n",
       "\n",
       "    .dataframe tbody tr th {\n",
       "        vertical-align: top;\n",
       "    }\n",
       "\n",
       "    .dataframe thead th {\n",
       "        text-align: right;\n",
       "    }\n",
       "</style>\n",
       "<table border=\"1\" class=\"dataframe\">\n",
       "  <thead>\n",
       "    <tr style=\"text-align: right;\">\n",
       "      <th></th>\n",
       "      <th>Name</th>\n",
       "      <th>Pronouns</th>\n",
       "      <th>Birth</th>\n",
       "      <th>Occupation</th>\n",
       "      <th>Nationality</th>\n",
       "    </tr>\n",
       "  </thead>\n",
       "  <tbody>\n",
       "    <tr>\n",
       "      <th>0</th>\n",
       "      <td>Rachel Levine</td>\n",
       "      <td>She/Her</td>\n",
       "      <td>1957</td>\n",
       "      <td>Pediatricien</td>\n",
       "      <td>United-Statesian</td>\n",
       "    </tr>\n",
       "    <tr>\n",
       "      <th>1</th>\n",
       "      <td>Alan Turing</td>\n",
       "      <td>He/His</td>\n",
       "      <td>1912</td>\n",
       "      <td>Mathematician</td>\n",
       "      <td>British</td>\n",
       "    </tr>\n",
       "    <tr>\n",
       "      <th>2</th>\n",
       "      <td>Lann Homscheidt</td>\n",
       "      <td>They/Their</td>\n",
       "      <td>1965</td>\n",
       "      <td>Linguist</td>\n",
       "      <td>German</td>\n",
       "    </tr>\n",
       "    <tr>\n",
       "      <th>3</th>\n",
       "      <td>Alan Hart</td>\n",
       "      <td>He/His</td>\n",
       "      <td>1890</td>\n",
       "      <td>Radiologist</td>\n",
       "      <td>United-Statesian</td>\n",
       "    </tr>\n",
       "  </tbody>\n",
       "</table>\n",
       "</div>"
      ],
      "text/plain": [
       "              Name    Pronouns  Birth     Occupation       Nationality\n",
       "0    Rachel Levine     She/Her   1957   Pediatricien  United-Statesian\n",
       "1      Alan Turing      He/His   1912  Mathematician           British\n",
       "2  Lann Homscheidt  They/Their   1965       Linguist            German\n",
       "3        Alan Hart      He/His   1890    Radiologist  United-Statesian"
      ]
     },
     "execution_count": 88,
     "metadata": {},
     "output_type": "execute_result"
    }
   ],
   "source": [
    "df.copy()"
   ]
  },
  {
   "cell_type": "markdown",
   "id": "9931d508",
   "metadata": {},
   "source": [
    "<h3>describe"
   ]
  },
  {
   "cell_type": "code",
   "execution_count": 5,
   "id": "e5087590",
   "metadata": {
    "scrolled": true
   },
   "outputs": [
    {
     "data": {
      "text/html": [
       "<div>\n",
       "<style scoped>\n",
       "    .dataframe tbody tr th:only-of-type {\n",
       "        vertical-align: middle;\n",
       "    }\n",
       "\n",
       "    .dataframe tbody tr th {\n",
       "        vertical-align: top;\n",
       "    }\n",
       "\n",
       "    .dataframe thead th {\n",
       "        text-align: right;\n",
       "    }\n",
       "</style>\n",
       "<table border=\"1\" class=\"dataframe\">\n",
       "  <thead>\n",
       "    <tr style=\"text-align: right;\">\n",
       "      <th></th>\n",
       "      <th>Birth</th>\n",
       "    </tr>\n",
       "  </thead>\n",
       "  <tbody>\n",
       "    <tr>\n",
       "      <th>count</th>\n",
       "      <td>4.000000</td>\n",
       "    </tr>\n",
       "    <tr>\n",
       "      <th>mean</th>\n",
       "      <td>1931.000000</td>\n",
       "    </tr>\n",
       "    <tr>\n",
       "      <th>std</th>\n",
       "      <td>35.935127</td>\n",
       "    </tr>\n",
       "    <tr>\n",
       "      <th>min</th>\n",
       "      <td>1890.000000</td>\n",
       "    </tr>\n",
       "    <tr>\n",
       "      <th>25%</th>\n",
       "      <td>1906.500000</td>\n",
       "    </tr>\n",
       "    <tr>\n",
       "      <th>50%</th>\n",
       "      <td>1934.500000</td>\n",
       "    </tr>\n",
       "    <tr>\n",
       "      <th>75%</th>\n",
       "      <td>1959.000000</td>\n",
       "    </tr>\n",
       "    <tr>\n",
       "      <th>max</th>\n",
       "      <td>1965.000000</td>\n",
       "    </tr>\n",
       "  </tbody>\n",
       "</table>\n",
       "</div>"
      ],
      "text/plain": [
       "             Birth\n",
       "count     4.000000\n",
       "mean   1931.000000\n",
       "std      35.935127\n",
       "min    1890.000000\n",
       "25%    1906.500000\n",
       "50%    1934.500000\n",
       "75%    1959.000000\n",
       "max    1965.000000"
      ]
     },
     "execution_count": 5,
     "metadata": {},
     "output_type": "execute_result"
    }
   ],
   "source": [
    "df.describe()"
   ]
  },
  {
   "cell_type": "markdown",
   "id": "0d09b46f",
   "metadata": {},
   "source": [
    "<h3>info"
   ]
  },
  {
   "cell_type": "code",
   "execution_count": 64,
   "id": "a37b1949",
   "metadata": {
    "scrolled": true
   },
   "outputs": [
    {
     "name": "stdout",
     "output_type": "stream",
     "text": [
      "<class 'pandas.core.frame.DataFrame'>\n",
      "RangeIndex: 4 entries, 0 to 3\n",
      "Data columns (total 5 columns):\n",
      " #   Column       Non-Null Count  Dtype \n",
      "---  ------       --------------  ----- \n",
      " 0   Name         4 non-null      object\n",
      " 1   Pronouns     4 non-null      object\n",
      " 2   Birth        4 non-null      int64 \n",
      " 3   Occupation   4 non-null      object\n",
      " 4   Nationality  4 non-null      object\n",
      "dtypes: int64(1), object(4)\n",
      "memory usage: 288.0+ bytes\n"
     ]
    }
   ],
   "source": [
    "df.info()"
   ]
  },
  {
   "cell_type": "markdown",
   "id": "578e3e1c",
   "metadata": {},
   "source": [
    "<h3>memory_usage"
   ]
  },
  {
   "cell_type": "code",
   "execution_count": 83,
   "id": "dd855868",
   "metadata": {
    "scrolled": false
   },
   "outputs": [
    {
     "data": {
      "text/plain": [
       "Index          128\n",
       "Name            32\n",
       "Pronouns        32\n",
       "Birth           32\n",
       "Occupation      32\n",
       "Nationality     32\n",
       "dtype: int64"
      ]
     },
     "execution_count": 83,
     "metadata": {},
     "output_type": "execute_result"
    }
   ],
   "source": [
    "df.memory_usage()"
   ]
  },
  {
   "cell_type": "markdown",
   "id": "47741e56",
   "metadata": {},
   "source": [
    "<h3>count"
   ]
  },
  {
   "cell_type": "code",
   "execution_count": 6,
   "id": "611df017",
   "metadata": {
    "scrolled": false
   },
   "outputs": [
    {
     "data": {
      "text/plain": [
       "Name           4\n",
       "Pronouns       4\n",
       "Birth          4\n",
       "Occupation     4\n",
       "Nationality    4\n",
       "dtype: int64"
      ]
     },
     "execution_count": 6,
     "metadata": {},
     "output_type": "execute_result"
    }
   ],
   "source": [
    "df.count()"
   ]
  },
  {
   "cell_type": "markdown",
   "id": "d44ee880",
   "metadata": {},
   "source": [
    "<h3>syracuse fun"
   ]
  },
  {
   "cell_type": "code",
   "execution_count": 7,
   "id": "f748c288",
   "metadata": {},
   "outputs": [],
   "source": [
    "def term(n):\n",
    "    return 3*n+1 if n%2!=0 else n//2\n",
    "def syracuse(start,n=[]):\n",
    "    if(n==[]):\n",
    "        n = [start]\n",
    "    if(n[-1]==1):\n",
    "        return n\n",
    "    else:\n",
    "        n.append(term(n[-1]))\n",
    "        return syracuse(start,n)"
   ]
  },
  {
   "cell_type": "markdown",
   "id": "6fa26b0c",
   "metadata": {},
   "source": [
    "<h3>Series"
   ]
  },
  {
   "cell_type": "code",
   "execution_count": 8,
   "id": "263e3139",
   "metadata": {
    "scrolled": true
   },
   "outputs": [
    {
     "name": "stdout",
     "output_type": "stream",
     "text": [
      "0     14\n",
      "1      7\n",
      "2     22\n",
      "3     11\n",
      "4     34\n",
      "5     17\n",
      "6     52\n",
      "7     26\n",
      "8     13\n",
      "9     40\n",
      "10    20\n",
      "11    10\n",
      "12     5\n",
      "13    16\n",
      "14     8\n",
      "15     4\n",
      "16     2\n",
      "17     1\n",
      "Name: Syracuse 14, dtype: int64 \n",
      "\n"
     ]
    }
   ],
   "source": [
    "series = pd.Series(syracuse(14),name=\"Syracuse 14\")\n",
    "print(series,\"\\n\")"
   ]
  },
  {
   "cell_type": "markdown",
   "id": "310c279e",
   "metadata": {},
   "source": [
    "<h3>Multidim series"
   ]
  },
  {
   "cell_type": "code",
   "execution_count": 76,
   "id": "ab8ab6e3",
   "metadata": {},
   "outputs": [
    {
     "name": "stdout",
     "output_type": "stream",
     "text": [
      "the ndim of a series is always 1\n",
      "0    [11, 34, 17, 52, 26, 13, 40, 20, 10, 5, 16, 8,...\n",
      "1    [14, 7, 22, 11, 34, 17, 52, 26, 13, 40, 20, 10...\n",
      "2    [15, 46, 23, 70, 35, 106, 53, 160, 80, 40, 20,...\n",
      "Name: Syracuse 11,14,15, dtype: object\n"
     ]
    }
   ],
   "source": [
    "series = pd.Series([syracuse(11),syracuse(14),syracuse(15)],name=\"Syracuse 11,14,15\")\n",
    "print(f\"the ndim of a series is always {series.ndim}\")\n",
    "print(series)"
   ]
  },
  {
   "cell_type": "markdown",
   "id": "d4f5dccd",
   "metadata": {},
   "source": [
    "<h3>Accessing values from multidim series"
   ]
  },
  {
   "cell_type": "code",
   "execution_count": 10,
   "id": "58ba3445",
   "metadata": {},
   "outputs": [
    {
     "name": "stdout",
     "output_type": "stream",
     "text": [
      "23\n"
     ]
    }
   ],
   "source": [
    "print( series[1][2] )"
   ]
  },
  {
   "cell_type": "markdown",
   "id": "6890ea5e",
   "metadata": {},
   "source": [
    "<h3>Get series from column"
   ]
  },
  {
   "cell_type": "code",
   "execution_count": 11,
   "id": "6885b1e9",
   "metadata": {},
   "outputs": [
    {
     "data": {
      "text/plain": [
       "0    1957\n",
       "1    1912\n",
       "2    1965\n",
       "3    1890\n",
       "Name: Birth, dtype: int64"
      ]
     },
     "execution_count": 11,
     "metadata": {},
     "output_type": "execute_result"
    }
   ],
   "source": [
    "df[\"Birth\"]"
   ]
  },
  {
   "cell_type": "markdown",
   "id": "f65b314b",
   "metadata": {},
   "source": [
    "<h3>max"
   ]
  },
  {
   "cell_type": "code",
   "execution_count": 12,
   "id": "52a71ae0",
   "metadata": {},
   "outputs": [
    {
     "data": {
      "text/plain": [
       "1965"
      ]
     },
     "execution_count": 12,
     "metadata": {},
     "output_type": "execute_result"
    }
   ],
   "source": [
    "df[\"Birth\"].max()"
   ]
  },
  {
   "cell_type": "markdown",
   "id": "908a41f3",
   "metadata": {},
   "source": [
    "<h3>min"
   ]
  },
  {
   "cell_type": "code",
   "execution_count": 13,
   "id": "5088e420",
   "metadata": {},
   "outputs": [
    {
     "data": {
      "text/plain": [
       "1890"
      ]
     },
     "execution_count": 13,
     "metadata": {},
     "output_type": "execute_result"
    }
   ],
   "source": [
    "df[\"Birth\"].min()"
   ]
  },
  {
   "cell_type": "markdown",
   "id": "0fab5c05",
   "metadata": {},
   "source": [
    "<h3>count"
   ]
  },
  {
   "cell_type": "code",
   "execution_count": 14,
   "id": "396b00e2",
   "metadata": {
    "scrolled": true
   },
   "outputs": [
    {
     "data": {
      "text/plain": [
       "4"
      ]
     },
     "execution_count": 14,
     "metadata": {},
     "output_type": "execute_result"
    }
   ],
   "source": [
    "df[\"Birth\"].count()"
   ]
  },
  {
   "cell_type": "markdown",
   "id": "ac0a0a80",
   "metadata": {},
   "source": [
    "<h3>array"
   ]
  },
  {
   "cell_type": "code",
   "execution_count": 15,
   "id": "048dbd82",
   "metadata": {
    "scrolled": true
   },
   "outputs": [
    {
     "name": "stdout",
     "output_type": "stream",
     "text": [
      "<PandasArray>\n",
      "[[14, 7, 22, 11, 34, 17, 52, 26, 13, 40, 20, 10, 5, 16, 8, 4, 2, 1], [15, 46, 23, 70, 35, 106, 53, 160, 80, 40, 20, 10, 5, 16, 8, 4, 2, 1]]\n",
      "Length: 2, dtype: object\n"
     ]
    }
   ],
   "source": [
    "array = pd.array([syracuse(14),syracuse(15)])\n",
    "print(array)"
   ]
  },
  {
   "cell_type": "markdown",
   "id": "c9a65bb9",
   "metadata": {},
   "source": [
    "<h3>read_csv"
   ]
  },
  {
   "cell_type": "code",
   "execution_count": 16,
   "id": "a0b04cc5",
   "metadata": {
    "scrolled": false
   },
   "outputs": [
    {
     "data": {
      "text/html": [
       "<div>\n",
       "<style scoped>\n",
       "    .dataframe tbody tr th:only-of-type {\n",
       "        vertical-align: middle;\n",
       "    }\n",
       "\n",
       "    .dataframe tbody tr th {\n",
       "        vertical-align: top;\n",
       "    }\n",
       "\n",
       "    .dataframe thead th {\n",
       "        text-align: right;\n",
       "    }\n",
       "</style>\n",
       "<table border=\"1\" class=\"dataframe\">\n",
       "  <thead>\n",
       "    <tr style=\"text-align: right;\">\n",
       "      <th></th>\n",
       "      <th>Entity</th>\n",
       "      <th>Population 2019</th>\n",
       "      <th>Area (Km²)</th>\n",
       "      <th>Density (P/Km²)</th>\n",
       "      <th>World population share</th>\n",
       "      <th>GDP (trillion $ 2019)</th>\n",
       "    </tr>\n",
       "  </thead>\n",
       "  <tbody>\n",
       "    <tr>\n",
       "      <th>0</th>\n",
       "      <td>China</td>\n",
       "      <td>1433783686</td>\n",
       "      <td>9,388,211</td>\n",
       "      <td>153</td>\n",
       "      <td>18.6</td>\n",
       "      <td>$12.24</td>\n",
       "    </tr>\n",
       "    <tr>\n",
       "      <th>1</th>\n",
       "      <td>E.U</td>\n",
       "      <td>444986729</td>\n",
       "      <td>3997838</td>\n",
       "      <td>111</td>\n",
       "      <td>5.8</td>\n",
       "      <td>17.28</td>\n",
       "    </tr>\n",
       "    <tr>\n",
       "      <th>2</th>\n",
       "      <td>U.S.A</td>\n",
       "      <td>329064917</td>\n",
       "      <td>9147420</td>\n",
       "      <td>36</td>\n",
       "      <td>4.3</td>\n",
       "      <td>19.39</td>\n",
       "    </tr>\n",
       "    <tr>\n",
       "      <th>3</th>\n",
       "      <td>Japan</td>\n",
       "      <td>126860301</td>\n",
       "      <td>364555</td>\n",
       "      <td>348</td>\n",
       "      <td>1.6</td>\n",
       "      <td>4.87</td>\n",
       "    </tr>\n",
       "  </tbody>\n",
       "</table>\n",
       "</div>"
      ],
      "text/plain": [
       "  Entity  Population 2019 Area (Km²)  Density (P/Km²)  World population share  \\\n",
       "0  China       1433783686  9,388,211              153                    18.6   \n",
       "1    E.U        444986729    3997838              111                     5.8   \n",
       "2  U.S.A        329064917    9147420               36                     4.3   \n",
       "3  Japan        126860301     364555              348                     1.6   \n",
       "\n",
       "  GDP (trillion $ 2019)  \n",
       "0                $12.24  \n",
       "1                 17.28  \n",
       "2                 19.39  \n",
       "3                  4.87  "
      ]
     },
     "execution_count": 16,
     "metadata": {},
     "output_type": "execute_result"
    }
   ],
   "source": [
    "df = pd.read_csv(\"population_worldmeters.csv\")\n",
    "df"
   ]
  },
  {
   "cell_type": "markdown",
   "id": "d58b92fb",
   "metadata": {},
   "source": [
    "<h3>to_csv"
   ]
  },
  {
   "cell_type": "code",
   "execution_count": 109,
   "id": "dc1d5412",
   "metadata": {
    "scrolled": true
   },
   "outputs": [],
   "source": [
    "df = pd.DataFrame({\n",
    "    \"Name\": [\"Rachel Levine\",\"Alan Turing\",\"Lann Homscheidt\",\"Alan Hart\"],\n",
    "    \"Pronouns\":[\"She/Her\",\"He/His\",\"They/Their\",\"He/His\"],\n",
    "    \"Birth\":[1957,1912,1965,1890],\n",
    "    \"Occupation\":[\"Pediatricien\",\"Mathematician\",\"Linguist\",\"Radiologist\"],\n",
    "    \"Nationality\":[\"United-Statesian\",\"British\",\"German\",\"United-Statesian\"]\n",
    "})\n",
    "df.to_csv(\"Legends.csv\")"
   ]
  },
  {
   "cell_type": "markdown",
   "id": "4e7f526e",
   "metadata": {},
   "source": [
    "<h3>read_excel"
   ]
  },
  {
   "cell_type": "raw",
   "id": "78da65ae",
   "metadata": {},
   "source": [
    "!pip install openpyxl"
   ]
  },
  {
   "cell_type": "code",
   "execution_count": 17,
   "id": "a2f347f9",
   "metadata": {
    "scrolled": false
   },
   "outputs": [
    {
     "data": {
      "text/html": [
       "<div>\n",
       "<style scoped>\n",
       "    .dataframe tbody tr th:only-of-type {\n",
       "        vertical-align: middle;\n",
       "    }\n",
       "\n",
       "    .dataframe tbody tr th {\n",
       "        vertical-align: top;\n",
       "    }\n",
       "\n",
       "    .dataframe thead th {\n",
       "        text-align: right;\n",
       "    }\n",
       "</style>\n",
       "<table border=\"1\" class=\"dataframe\">\n",
       "  <thead>\n",
       "    <tr style=\"text-align: right;\">\n",
       "      <th></th>\n",
       "      <th>Entity</th>\n",
       "      <th>Population 2019</th>\n",
       "      <th>Area (Km²)</th>\n",
       "      <th>Density (P/Km²)</th>\n",
       "      <th>World population share</th>\n",
       "      <th>GDP (trillion $ 2019)</th>\n",
       "    </tr>\n",
       "  </thead>\n",
       "  <tbody>\n",
       "    <tr>\n",
       "      <th>0</th>\n",
       "      <td>China</td>\n",
       "      <td>1.433784e+09</td>\n",
       "      <td>9388211.0</td>\n",
       "      <td>153.0</td>\n",
       "      <td>18.6</td>\n",
       "      <td>12.24</td>\n",
       "    </tr>\n",
       "    <tr>\n",
       "      <th>1</th>\n",
       "      <td>E.U</td>\n",
       "      <td>4.449867e+08</td>\n",
       "      <td>3997838.0</td>\n",
       "      <td>111.0</td>\n",
       "      <td>5.8</td>\n",
       "      <td>17.28</td>\n",
       "    </tr>\n",
       "    <tr>\n",
       "      <th>2</th>\n",
       "      <td>U.S.A</td>\n",
       "      <td>3.290649e+08</td>\n",
       "      <td>9147420.0</td>\n",
       "      <td>36.0</td>\n",
       "      <td>4.3</td>\n",
       "      <td>19.39</td>\n",
       "    </tr>\n",
       "    <tr>\n",
       "      <th>3</th>\n",
       "      <td>Japan</td>\n",
       "      <td>1.268603e+08</td>\n",
       "      <td>364555.0</td>\n",
       "      <td>348.0</td>\n",
       "      <td>1.6</td>\n",
       "      <td>4.87</td>\n",
       "    </tr>\n",
       "  </tbody>\n",
       "</table>\n",
       "</div>"
      ],
      "text/plain": [
       "  Entity  Population 2019  Area (Km²)  Density (P/Km²)  \\\n",
       "0  China     1.433784e+09   9388211.0            153.0   \n",
       "1    E.U     4.449867e+08   3997838.0            111.0   \n",
       "2  U.S.A     3.290649e+08   9147420.0             36.0   \n",
       "3  Japan     1.268603e+08    364555.0            348.0   \n",
       "\n",
       "   World population share  GDP (trillion $ 2019)  \n",
       "0                    18.6                  12.24  \n",
       "1                     5.8                  17.28  \n",
       "2                     4.3                  19.39  \n",
       "3                     1.6                   4.87  "
      ]
     },
     "execution_count": 17,
     "metadata": {},
     "output_type": "execute_result"
    }
   ],
   "source": [
    "df = pd.read_excel(\"population_worldmeters.xlsx\")\n",
    "df"
   ]
  },
  {
   "cell_type": "markdown",
   "id": "bfde7964",
   "metadata": {},
   "source": [
    "<h3>to_excel"
   ]
  },
  {
   "cell_type": "code",
   "execution_count": 110,
   "id": "6d5c1e00",
   "metadata": {
    "scrolled": true
   },
   "outputs": [],
   "source": [
    "df = pd.DataFrame({\n",
    "    \"Name\": [\"Rachel Levine\",\"Alan Turing\",\"Lann Homscheidt\",\"Alan Hart\"],\n",
    "    \"Pronouns\":[\"She/Her\",\"He/His\",\"They/Their\",\"He/His\"],\n",
    "    \"Birth\":[1957,1912,1965,1890],\n",
    "    \"Occupation\":[\"Pediatricien\",\"Mathematician\",\"Linguist\",\"Radiologist\"],\n",
    "    \"Nationality\":[\"United-Statesian\",\"British\",\"German\",\"United-Statesian\"]\n",
    "})\n",
    "df.to_excel(\"Legends.xlsx\")"
   ]
  },
  {
   "cell_type": "markdown",
   "id": "f50a0eb8",
   "metadata": {},
   "source": [
    "<h3>read_clipboard"
   ]
  },
  {
   "cell_type": "raw",
   "id": "56d98d01",
   "metadata": {},
   "source": [
    "https://docs.google.com/spreadsheets/d/1nbit05NsFZl_hmNkMivDR4dPyaknNNGbJHgOm9oS-wA/edit?usp=sharing"
   ]
  },
  {
   "cell_type": "code",
   "execution_count": 34,
   "id": "e178627c",
   "metadata": {
    "scrolled": false
   },
   "outputs": [
    {
     "data": {
      "text/html": [
       "<div>\n",
       "<style scoped>\n",
       "    .dataframe tbody tr th:only-of-type {\n",
       "        vertical-align: middle;\n",
       "    }\n",
       "\n",
       "    .dataframe tbody tr th {\n",
       "        vertical-align: top;\n",
       "    }\n",
       "\n",
       "    .dataframe thead th {\n",
       "        text-align: right;\n",
       "    }\n",
       "</style>\n",
       "<table border=\"1\" class=\"dataframe\">\n",
       "  <thead>\n",
       "    <tr style=\"text-align: right;\">\n",
       "      <th></th>\n",
       "      <th>Entity</th>\n",
       "      <th>Population 2019</th>\n",
       "      <th>Area (Km²)</th>\n",
       "      <th>Density (P/Km²)</th>\n",
       "      <th>World population share</th>\n",
       "      <th>GDP (trillion $ 2019)</th>\n",
       "    </tr>\n",
       "  </thead>\n",
       "  <tbody>\n",
       "    <tr>\n",
       "      <th>0</th>\n",
       "      <td>China</td>\n",
       "      <td>1433783686</td>\n",
       "      <td>9,388,211</td>\n",
       "      <td>153</td>\n",
       "      <td>18.6</td>\n",
       "      <td>$12.24</td>\n",
       "    </tr>\n",
       "    <tr>\n",
       "      <th>1</th>\n",
       "      <td>E.U</td>\n",
       "      <td>444986729</td>\n",
       "      <td>3997838</td>\n",
       "      <td>111</td>\n",
       "      <td>5.8</td>\n",
       "      <td>17.28</td>\n",
       "    </tr>\n",
       "    <tr>\n",
       "      <th>2</th>\n",
       "      <td>U.S.A</td>\n",
       "      <td>329064917</td>\n",
       "      <td>9147420</td>\n",
       "      <td>36</td>\n",
       "      <td>4.3</td>\n",
       "      <td>19.39</td>\n",
       "    </tr>\n",
       "    <tr>\n",
       "      <th>3</th>\n",
       "      <td>Japan</td>\n",
       "      <td>126860301</td>\n",
       "      <td>364555</td>\n",
       "      <td>348</td>\n",
       "      <td>1.6</td>\n",
       "      <td>4.87</td>\n",
       "    </tr>\n",
       "  </tbody>\n",
       "</table>\n",
       "</div>"
      ],
      "text/plain": [
       "  Entity  Population 2019 Area (Km²)  Density (P/Km²)  World population share  \\\n",
       "0  China       1433783686  9,388,211              153                    18.6   \n",
       "1    E.U        444986729    3997838              111                     5.8   \n",
       "2  U.S.A        329064917    9147420               36                     4.3   \n",
       "3  Japan        126860301     364555              348                     1.6   \n",
       "\n",
       "  GDP (trillion $ 2019)  \n",
       "0                $12.24  \n",
       "1                 17.28  \n",
       "2                 19.39  \n",
       "3                  4.87  "
      ]
     },
     "execution_count": 34,
     "metadata": {},
     "output_type": "execute_result"
    }
   ],
   "source": [
    "df = pd.read_clipboard()\n",
    "df"
   ]
  },
  {
   "cell_type": "markdown",
   "id": "c971bd58",
   "metadata": {},
   "source": [
    "<h3>to_clipboard"
   ]
  },
  {
   "cell_type": "code",
   "execution_count": 111,
   "id": "56c80a58",
   "metadata": {
    "scrolled": true
   },
   "outputs": [],
   "source": [
    "df = pd.DataFrame({\n",
    "    \"Name\": [\"Rachel Levine\",\"Alan Turing\",\"Lann Homscheidt\",\"Alan Hart\"],\n",
    "    \"Pronouns\":[\"She/Her\",\"He/His\",\"They/Their\",\"He/His\"],\n",
    "    \"Birth\":[1957,1912,1965,1890],\n",
    "    \"Occupation\":[\"Pediatricien\",\"Mathematician\",\"Linguist\",\"Radiologist\"],\n",
    "    \"Nationality\":[\"United-Statesian\",\"British\",\"German\",\"United-Statesian\"]\n",
    "})\n",
    "df.to_clipboard()"
   ]
  },
  {
   "cell_type": "markdown",
   "id": "828a0786",
   "metadata": {},
   "source": [
    "<h3>read_xml"
   ]
  },
  {
   "cell_type": "raw",
   "id": "851e0e5c",
   "metadata": {},
   "source": [
    "!pip install lxml"
   ]
  },
  {
   "cell_type": "code",
   "execution_count": 38,
   "id": "f66417cb",
   "metadata": {
    "scrolled": true
   },
   "outputs": [
    {
     "data": {
      "text/html": [
       "<div>\n",
       "<style scoped>\n",
       "    .dataframe tbody tr th:only-of-type {\n",
       "        vertical-align: middle;\n",
       "    }\n",
       "\n",
       "    .dataframe tbody tr th {\n",
       "        vertical-align: top;\n",
       "    }\n",
       "\n",
       "    .dataframe thead th {\n",
       "        text-align: right;\n",
       "    }\n",
       "</style>\n",
       "<table border=\"1\" class=\"dataframe\">\n",
       "  <thead>\n",
       "    <tr style=\"text-align: right;\">\n",
       "      <th></th>\n",
       "      <th>Entity</th>\n",
       "      <th>Population</th>\n",
       "      <th>Area</th>\n",
       "      <th>Density</th>\n",
       "      <th>Worldpopulationshare</th>\n",
       "      <th>GDP</th>\n",
       "    </tr>\n",
       "  </thead>\n",
       "  <tbody>\n",
       "    <tr>\n",
       "      <th>0</th>\n",
       "      <td>China</td>\n",
       "      <td>1433783686</td>\n",
       "      <td>9,388,211</td>\n",
       "      <td>153</td>\n",
       "      <td>18.6</td>\n",
       "      <td>12.24</td>\n",
       "    </tr>\n",
       "    <tr>\n",
       "      <th>1</th>\n",
       "      <td>E.U</td>\n",
       "      <td>444986729</td>\n",
       "      <td>3997838</td>\n",
       "      <td>111</td>\n",
       "      <td>5.8</td>\n",
       "      <td>17.28</td>\n",
       "    </tr>\n",
       "    <tr>\n",
       "      <th>2</th>\n",
       "      <td>U.S.A</td>\n",
       "      <td>329064917</td>\n",
       "      <td>9147420</td>\n",
       "      <td>36</td>\n",
       "      <td>4.3</td>\n",
       "      <td>19.39</td>\n",
       "    </tr>\n",
       "    <tr>\n",
       "      <th>3</th>\n",
       "      <td>Japan</td>\n",
       "      <td>126860301</td>\n",
       "      <td>364555</td>\n",
       "      <td>348</td>\n",
       "      <td>1.6</td>\n",
       "      <td>4.87</td>\n",
       "    </tr>\n",
       "  </tbody>\n",
       "</table>\n",
       "</div>"
      ],
      "text/plain": [
       "  Entity  Population       Area  Density  Worldpopulationshare    GDP\n",
       "0  China  1433783686  9,388,211      153                  18.6  12.24\n",
       "1    E.U   444986729    3997838      111                   5.8  17.28\n",
       "2  U.S.A   329064917    9147420       36                   4.3  19.39\n",
       "3  Japan   126860301     364555      348                   1.6   4.87"
      ]
     },
     "execution_count": 38,
     "metadata": {},
     "output_type": "execute_result"
    }
   ],
   "source": [
    "df = pd.read_xml(\"population_worldmeters.xml\")\n",
    "df"
   ]
  },
  {
   "cell_type": "markdown",
   "id": "7fb60229",
   "metadata": {},
   "source": [
    "<h3>to_xml"
   ]
  },
  {
   "cell_type": "code",
   "execution_count": 112,
   "id": "c29dda0e",
   "metadata": {
    "scrolled": true
   },
   "outputs": [],
   "source": [
    "df = pd.DataFrame({\n",
    "    \"Name\": [\"Rachel Levine\",\"Alan Turing\",\"Lann Homscheidt\",\"Alan Hart\"],\n",
    "    \"Pronouns\":[\"She/Her\",\"He/His\",\"They/Their\",\"He/His\"],\n",
    "    \"Birth\":[1957,1912,1965,1890],\n",
    "    \"Occupation\":[\"Pediatricien\",\"Mathematician\",\"Linguist\",\"Radiologist\"],\n",
    "    \"Nationality\":[\"United-Statesian\",\"British\",\"German\",\"United-Statesian\"]\n",
    "})\n",
    "df.to_xml(\"Legends.xml\")"
   ]
  },
  {
   "cell_type": "markdown",
   "id": "ccab949e",
   "metadata": {},
   "source": [
    "<h3>read_json"
   ]
  },
  {
   "cell_type": "code",
   "execution_count": 44,
   "id": "76aeb0d7",
   "metadata": {
    "scrolled": false
   },
   "outputs": [
    {
     "data": {
      "text/html": [
       "<div>\n",
       "<style scoped>\n",
       "    .dataframe tbody tr th:only-of-type {\n",
       "        vertical-align: middle;\n",
       "    }\n",
       "\n",
       "    .dataframe tbody tr th {\n",
       "        vertical-align: top;\n",
       "    }\n",
       "\n",
       "    .dataframe thead th {\n",
       "        text-align: right;\n",
       "    }\n",
       "</style>\n",
       "<table border=\"1\" class=\"dataframe\">\n",
       "  <thead>\n",
       "    <tr style=\"text-align: right;\">\n",
       "      <th></th>\n",
       "      <th>Entity</th>\n",
       "      <th>Population 2019</th>\n",
       "      <th>Area (Km²)</th>\n",
       "      <th>Density (P/Km²)</th>\n",
       "      <th>World population share</th>\n",
       "      <th>GDP (trillion $ 2019)</th>\n",
       "    </tr>\n",
       "  </thead>\n",
       "  <tbody>\n",
       "    <tr>\n",
       "      <th>0</th>\n",
       "      <td>China</td>\n",
       "      <td>1433783686</td>\n",
       "      <td>9388211</td>\n",
       "      <td>153</td>\n",
       "      <td>18.6</td>\n",
       "      <td>12.24</td>\n",
       "    </tr>\n",
       "    <tr>\n",
       "      <th>1</th>\n",
       "      <td>E.U</td>\n",
       "      <td>444986729</td>\n",
       "      <td>3997838</td>\n",
       "      <td>111</td>\n",
       "      <td>5.8</td>\n",
       "      <td>17.28</td>\n",
       "    </tr>\n",
       "    <tr>\n",
       "      <th>2</th>\n",
       "      <td>U.S.A</td>\n",
       "      <td>329064917</td>\n",
       "      <td>9147420</td>\n",
       "      <td>36</td>\n",
       "      <td>4.3</td>\n",
       "      <td>19.39</td>\n",
       "    </tr>\n",
       "    <tr>\n",
       "      <th>3</th>\n",
       "      <td>Japan</td>\n",
       "      <td>126860301</td>\n",
       "      <td>364555</td>\n",
       "      <td>348</td>\n",
       "      <td>1.6</td>\n",
       "      <td>4.87</td>\n",
       "    </tr>\n",
       "  </tbody>\n",
       "</table>\n",
       "</div>"
      ],
      "text/plain": [
       "  Entity  Population 2019  Area (Km²)  Density (P/Km²)  \\\n",
       "0  China       1433783686     9388211              153   \n",
       "1    E.U        444986729     3997838              111   \n",
       "2  U.S.A        329064917     9147420               36   \n",
       "3  Japan        126860301      364555              348   \n",
       "\n",
       "   World population share  GDP (trillion $ 2019)  \n",
       "0                    18.6                  12.24  \n",
       "1                     5.8                  17.28  \n",
       "2                     4.3                  19.39  \n",
       "3                     1.6                   4.87  "
      ]
     },
     "execution_count": 44,
     "metadata": {},
     "output_type": "execute_result"
    }
   ],
   "source": [
    "df = pd.read_json(\"population_worldmeters.json\")\n",
    "df"
   ]
  },
  {
   "cell_type": "markdown",
   "id": "e58cc48c",
   "metadata": {},
   "source": [
    "<h3>to_json"
   ]
  },
  {
   "cell_type": "code",
   "execution_count": 113,
   "id": "b60ebad8",
   "metadata": {
    "scrolled": true
   },
   "outputs": [],
   "source": [
    "df = pd.DataFrame({\n",
    "    \"Name\": [\"Rachel Levine\",\"Alan Turing\",\"Lann Homscheidt\",\"Alan Hart\"],\n",
    "    \"Pronouns\":[\"She/Her\",\"He/His\",\"They/Their\",\"He/His\"],\n",
    "    \"Birth\":[1957,1912,1965,1890],\n",
    "    \"Occupation\":[\"Pediatricien\",\"Mathematician\",\"Linguist\",\"Radiologist\"],\n",
    "    \"Nationality\":[\"United-Statesian\",\"British\",\"German\",\"United-Statesian\"]\n",
    "})\n",
    "df.to_json(\"Legends.json\")"
   ]
  },
  {
   "cell_type": "markdown",
   "id": "20deeb0c",
   "metadata": {},
   "source": [
    "<h3>read_html"
   ]
  },
  {
   "cell_type": "code",
   "execution_count": 114,
   "id": "01fcd6a0",
   "metadata": {
    "scrolled": false
   },
   "outputs": [
    {
     "data": {
      "text/html": [
       "<div>\n",
       "<style scoped>\n",
       "    .dataframe tbody tr th:only-of-type {\n",
       "        vertical-align: middle;\n",
       "    }\n",
       "\n",
       "    .dataframe tbody tr th {\n",
       "        vertical-align: top;\n",
       "    }\n",
       "\n",
       "    .dataframe thead th {\n",
       "        text-align: right;\n",
       "    }\n",
       "</style>\n",
       "<table border=\"1\" class=\"dataframe\">\n",
       "  <thead>\n",
       "    <tr style=\"text-align: right;\">\n",
       "      <th></th>\n",
       "      <th>Rank</th>\n",
       "      <th>Country or dependent territory</th>\n",
       "      <th>Region</th>\n",
       "      <th>Population</th>\n",
       "      <th>% of world</th>\n",
       "      <th>Date</th>\n",
       "      <th>Source (official or from the United Nations)</th>\n",
       "      <th>Notes</th>\n",
       "    </tr>\n",
       "  </thead>\n",
       "  <tbody>\n",
       "    <tr>\n",
       "      <th>0</th>\n",
       "      <td>–</td>\n",
       "      <td>NaN</td>\n",
       "      <td>World</td>\n",
       "      <td>7916847000</td>\n",
       "      <td>NaN</td>\n",
       "      <td>18 Dec 2021</td>\n",
       "      <td>UN projection[2]</td>\n",
       "      <td>NaN</td>\n",
       "    </tr>\n",
       "    <tr>\n",
       "      <th>1</th>\n",
       "      <td>1</td>\n",
       "      <td>China</td>\n",
       "      <td>Asia</td>\n",
       "      <td>1411778724</td>\n",
       "      <td>NaN</td>\n",
       "      <td>1 Nov 2020</td>\n",
       "      <td>2020 census result[3]</td>\n",
       "      <td>The census figure refers to mainland China, ex...</td>\n",
       "    </tr>\n",
       "    <tr>\n",
       "      <th>2</th>\n",
       "      <td>2</td>\n",
       "      <td>India</td>\n",
       "      <td>Asia</td>\n",
       "      <td>1385698883</td>\n",
       "      <td>NaN</td>\n",
       "      <td>18 Dec 2021</td>\n",
       "      <td>National population clock[4]</td>\n",
       "      <td>The figure includes the population of India-ad...</td>\n",
       "    </tr>\n",
       "    <tr>\n",
       "      <th>3</th>\n",
       "      <td>3</td>\n",
       "      <td>United States</td>\n",
       "      <td>Americas</td>\n",
       "      <td>332898208</td>\n",
       "      <td>NaN</td>\n",
       "      <td>18 Dec 2021</td>\n",
       "      <td>National population clock[5]</td>\n",
       "      <td>Includes the 50 states and the District of Col...</td>\n",
       "    </tr>\n",
       "    <tr>\n",
       "      <th>4</th>\n",
       "      <td>4</td>\n",
       "      <td>Indonesia</td>\n",
       "      <td>Asia</td>\n",
       "      <td>271350000</td>\n",
       "      <td>NaN</td>\n",
       "      <td>31 Dec 2020</td>\n",
       "      <td>National annual estimate[6]</td>\n",
       "      <td>NaN</td>\n",
       "    </tr>\n",
       "    <tr>\n",
       "      <th>...</th>\n",
       "      <td>...</td>\n",
       "      <td>...</td>\n",
       "      <td>...</td>\n",
       "      <td>...</td>\n",
       "      <td>...</td>\n",
       "      <td>...</td>\n",
       "      <td>...</td>\n",
       "      <td>...</td>\n",
       "    </tr>\n",
       "    <tr>\n",
       "      <th>237</th>\n",
       "      <td>–</td>\n",
       "      <td>Niue (New Zealand)</td>\n",
       "      <td>Oceania</td>\n",
       "      <td>1549</td>\n",
       "      <td>NaN</td>\n",
       "      <td>1 Jul 2021</td>\n",
       "      <td>National annual projection[91]</td>\n",
       "      <td>NaN</td>\n",
       "    </tr>\n",
       "    <tr>\n",
       "      <th>238</th>\n",
       "      <td>–</td>\n",
       "      <td>Tokelau (New Zealand)</td>\n",
       "      <td>Oceania</td>\n",
       "      <td>1501</td>\n",
       "      <td>NaN</td>\n",
       "      <td>1 Jul 2021</td>\n",
       "      <td>National annual projection[91]</td>\n",
       "      <td>NaN</td>\n",
       "    </tr>\n",
       "    <tr>\n",
       "      <th>239</th>\n",
       "      <td>195</td>\n",
       "      <td>Vatican City</td>\n",
       "      <td>Europe</td>\n",
       "      <td>825</td>\n",
       "      <td>NaN</td>\n",
       "      <td>1 Feb 2019</td>\n",
       "      <td>Monthly national estimate[190]</td>\n",
       "      <td>The total population of 825 consisted of 453 r...</td>\n",
       "    </tr>\n",
       "    <tr>\n",
       "      <th>240</th>\n",
       "      <td>–</td>\n",
       "      <td>Cocos (Keeling) Islands (Australia)</td>\n",
       "      <td>Oceania</td>\n",
       "      <td>573</td>\n",
       "      <td>NaN</td>\n",
       "      <td>30 Jun 2020</td>\n",
       "      <td>National annual estimate[189]</td>\n",
       "      <td>NaN</td>\n",
       "    </tr>\n",
       "    <tr>\n",
       "      <th>241</th>\n",
       "      <td>–</td>\n",
       "      <td>Pitcairn Islands (United Kingdom)</td>\n",
       "      <td>Oceania</td>\n",
       "      <td>40</td>\n",
       "      <td>NaN</td>\n",
       "      <td>1 Jan 2021</td>\n",
       "      <td>National annual estimate[191]</td>\n",
       "      <td>NaN</td>\n",
       "    </tr>\n",
       "  </tbody>\n",
       "</table>\n",
       "<p>242 rows × 8 columns</p>\n",
       "</div>"
      ],
      "text/plain": [
       "    Rank       Country or dependent territory    Region  Population  \\\n",
       "0      –                                  NaN     World  7916847000   \n",
       "1      1                                China      Asia  1411778724   \n",
       "2      2                                India      Asia  1385698883   \n",
       "3      3                        United States  Americas   332898208   \n",
       "4      4                            Indonesia      Asia   271350000   \n",
       "..   ...                                  ...       ...         ...   \n",
       "237    –                   Niue (New Zealand)   Oceania        1549   \n",
       "238    –                Tokelau (New Zealand)   Oceania        1501   \n",
       "239  195                         Vatican City    Europe         825   \n",
       "240    –  Cocos (Keeling) Islands (Australia)   Oceania         573   \n",
       "241    –    Pitcairn Islands (United Kingdom)   Oceania          40   \n",
       "\n",
       "     % of world         Date Source (official or from the United Nations)  \\\n",
       "0           NaN  18 Dec 2021                             UN projection[2]   \n",
       "1           NaN   1 Nov 2020                        2020 census result[3]   \n",
       "2           NaN  18 Dec 2021                 National population clock[4]   \n",
       "3           NaN  18 Dec 2021                 National population clock[5]   \n",
       "4           NaN  31 Dec 2020                  National annual estimate[6]   \n",
       "..          ...          ...                                          ...   \n",
       "237         NaN   1 Jul 2021               National annual projection[91]   \n",
       "238         NaN   1 Jul 2021               National annual projection[91]   \n",
       "239         NaN   1 Feb 2019               Monthly national estimate[190]   \n",
       "240         NaN  30 Jun 2020                National annual estimate[189]   \n",
       "241         NaN   1 Jan 2021                National annual estimate[191]   \n",
       "\n",
       "                                                 Notes  \n",
       "0                                                  NaN  \n",
       "1    The census figure refers to mainland China, ex...  \n",
       "2    The figure includes the population of India-ad...  \n",
       "3    Includes the 50 states and the District of Col...  \n",
       "4                                                  NaN  \n",
       "..                                                 ...  \n",
       "237                                                NaN  \n",
       "238                                                NaN  \n",
       "239  The total population of 825 consisted of 453 r...  \n",
       "240                                                NaN  \n",
       "241                                                NaN  \n",
       "\n",
       "[242 rows x 8 columns]"
      ]
     },
     "execution_count": 114,
     "metadata": {},
     "output_type": "execute_result"
    }
   ],
   "source": [
    "df = pd.read_html(\"https://en.wikipedia.org/wiki/List_of_countries_and_dependencies_by_population\")\n",
    "df[0]"
   ]
  },
  {
   "cell_type": "markdown",
   "id": "7015c195",
   "metadata": {},
   "source": [
    "<h3>to_html"
   ]
  },
  {
   "cell_type": "code",
   "execution_count": 115,
   "id": "755112fe",
   "metadata": {
    "scrolled": true
   },
   "outputs": [],
   "source": [
    "df = pd.DataFrame({\n",
    "    \"Name\": [\"Rachel Levine\",\"Alan Turing\",\"Lann Homscheidt\",\"Alan Hart\"],\n",
    "    \"Pronouns\":[\"She/Her\",\"He/His\",\"They/Their\",\"He/His\"],\n",
    "    \"Birth\":[1957,1912,1965,1890],\n",
    "    \"Occupation\":[\"Pediatricien\",\"Mathematician\",\"Linguist\",\"Radiologist\"],\n",
    "    \"Nationality\":[\"United-Statesian\",\"British\",\"German\",\"United-Statesian\"]\n",
    "})\n",
    "df.to_html(\"Legends.html\")"
   ]
  },
  {
   "cell_type": "markdown",
   "id": "edf68334",
   "metadata": {},
   "source": [
    "<h3>read_sql"
   ]
  },
  {
   "cell_type": "code",
   "execution_count": 116,
   "id": "51b9f823",
   "metadata": {},
   "outputs": [],
   "source": [
    "import sqlite3 as sql"
   ]
  },
  {
   "cell_type": "code",
   "execution_count": null,
   "id": "76d15cb5",
   "metadata": {},
   "outputs": [],
   "source": [
    "\n",
    "df = pd.read_sql(\"\")"
   ]
  },
  {
   "cell_type": "markdown",
   "id": "66d2cc28",
   "metadata": {},
   "source": [
    "<h3>sort_values"
   ]
  },
  {
   "cell_type": "code",
   "execution_count": null,
   "id": "24fdbe5c",
   "metadata": {},
   "outputs": [],
   "source": [
    "sorted_df = df.sort_values(\"Density (P/Km²)\")\n",
    "sorted_df"
   ]
  },
  {
   "cell_type": "markdown",
   "id": "4978670d",
   "metadata": {},
   "source": [
    "<h3>sort_index"
   ]
  },
  {
   "cell_type": "code",
   "execution_count": null,
   "id": "c167a842",
   "metadata": {},
   "outputs": [],
   "source": [
    "sorted_df.sort_index()"
   ]
  },
  {
   "cell_type": "markdown",
   "id": "524e4051",
   "metadata": {},
   "source": [
    "<h3>append"
   ]
  },
  {
   "cell_type": "code",
   "execution_count": null,
   "id": "9df403f7",
   "metadata": {},
   "outputs": [],
   "source": [
    "other = pd.DataFrame({\n",
    "    \"Entity\":{4:\"Iceland\"},\n",
    "    \"Population 2019\":{4:360_563},\n",
    "    \"Area (Km²)\":{4:103000},\n",
    "    \"Density (P/Km²)\":{4:3},\n",
    "    \"World population share\":{4:0},\n",
    "    \"GDP (trillion $ 2019)\":{4:0.02484}\n",
    "})\n",
    "\n",
    "newdf = df.append(other,True)\n",
    "newdf"
   ]
  },
  {
   "cell_type": "markdown",
   "id": "e5785de1",
   "metadata": {},
   "source": [
    "<h3>append for later use"
   ]
  },
  {
   "cell_type": "code",
   "execution_count": null,
   "id": "3f0db967",
   "metadata": {},
   "outputs": [],
   "source": [
    "newdf = df.append(sorted_df)\n",
    "newdf"
   ]
  },
  {
   "cell_type": "markdown",
   "id": "ec688bc4",
   "metadata": {},
   "source": [
    "<h3>align"
   ]
  },
  {
   "cell_type": "code",
   "execution_count": null,
   "id": "edd254d4",
   "metadata": {},
   "outputs": [],
   "source": [
    "df.align(df)"
   ]
  },
  {
   "cell_type": "markdown",
   "id": "3b48f63a",
   "metadata": {},
   "source": [
    "<h3>add"
   ]
  },
  {
   "cell_type": "code",
   "execution_count": null,
   "id": "adbcc20c",
   "metadata": {},
   "outputs": [],
   "source": [
    "newdf.add(df)"
   ]
  },
  {
   "cell_type": "markdown",
   "id": "54687a29",
   "metadata": {},
   "source": [
    "<h3>+"
   ]
  },
  {
   "cell_type": "code",
   "execution_count": null,
   "id": "95771db1",
   "metadata": {},
   "outputs": [],
   "source": [
    "newdf+df"
   ]
  },
  {
   "cell_type": "code",
   "execution_count": null,
   "id": "45a9a8f3",
   "metadata": {},
   "outputs": [],
   "source": []
  }
 ],
 "metadata": {
  "kernelspec": {
   "display_name": "Python 3 (ipykernel)",
   "language": "python",
   "name": "python3"
  },
  "language_info": {
   "codemirror_mode": {
    "name": "ipython",
    "version": 3
   },
   "file_extension": ".py",
   "mimetype": "text/x-python",
   "name": "python",
   "nbconvert_exporter": "python",
   "pygments_lexer": "ipython3",
   "version": "3.10.0"
  }
 },
 "nbformat": 4,
 "nbformat_minor": 5
}
